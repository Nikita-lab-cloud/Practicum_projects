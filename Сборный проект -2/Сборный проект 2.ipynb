{
 "cells": [
  {
   "cell_type": "markdown",
   "id": "24eca62d",
   "metadata": {},
   "source": [
    "# Описание проекта\n",
    "\n",
    "Заказчик этого исследования — большая телекоммуникационная компания, которая оказывает услуги на территории всего СНГ. Перед компанией стоит задача определить текущий уровень потребительской лояльности, или NPS (от англ. Net Promoter Score), среди клиентов из России. \n",
    "Чтобы определить уровень лояльности, клиентам задавали классический вопрос: «Оцените по шкале от 1 до 10 вероятность того, что вы порекомендуете компанию друзьям и знакомым».\n",
    "Компания провела опрос и попросила вас подготовить дашборд с его итогами. Большую базу данных для такой задачи разворачивать не стали и выгрузили данные в SQLite. \n",
    "Чтобы оценить результаты опроса, оценки обычно делят на три группы:\n",
    "9-10 баллов — «cторонники» (англ. promoters);\n",
    "7-8 баллов — «нейтралы» (англ. passives);\n",
    "0-6 баллов — «критики» (англ. detractors).\n",
    "Итоговое значение NPS рассчитывается по формуле: % «сторонников» - % «критиков».\n",
    "Таким образом, значение этого показателя варьируется от -100% (когда все клиенты «критики») до 100% (когда все клиенты лояльны к сервису). Но это крайние случаи, которые редко встретишь на практике. \n",
    "Интерпретируя результаты NPS-опросов, следует также помнить, что само значение мало о чём говорит. Однако исследования показывают, что клиенты-сторонники полезны любому бизнесу. Они чаще других повторно совершают покупки, активнее тестируют обновления и приводят в сервис своих друзей и знакомых. Поэтому NPS остаётся одной из важнейших метрик бизнеса.\n",
    "\n",
    "# Описание данных \n",
    "\n",
    "\n",
    "- user_id - Идентификатор клиента\n",
    "- lt_day - Количество дней «жизни» клиента\n",
    "- is_new - Поле хранит информацию о том, является ли клиент новым\n",
    "- age - Возраст\n",
    "- gender_segment - Пол \n",
    "- os_name - Тип операционной системы\n",
    "- cpe_type_name - Тип устройства\n",
    "- country - Страна проживания\n",
    "- city - Город проживания\n",
    "- age_segment - Возрастной сегмент\n",
    "- traffic_segment - Сегмент по объёму потребляемого трафика\n",
    "- lifetime_segment - Сегмент по количеству дней «жизни»\n",
    "- nps_score - Оценка клиента в NPS-опросе\n",
    "- nps_group - Поле хранит информацию о том, к какой группе относится оценка клиента в опросе\n",
    "\n",
    "# Вопросы исследования\n",
    "\n",
    "- Как распределены участники опроса по возрасту и полу? Каких пользователей больше: новых или старых? Пользователи из каких городов активнее участвовали в опросе?\n",
    "- Какие группы пользователей наиболее лояльны к сервису? Какие менее?\n",
    "- Какой общий NPS среди всех опрошенных?\n",
    "- Как можно описать клиентов, которые относятся к группе cторонников (англ. promoters)?\n",
    "\n",
    "# Структура исследования\n",
    "\n",
    "- Загрузка баз данных\n",
    "- Предпроспорт имеющихся баз данных\n",
    "- Предобработка данных и объединение\n",
    "- Презентация Tableau"
   ]
  },
  {
   "cell_type": "markdown",
   "id": "fd769dda",
   "metadata": {},
   "source": [
    "## Загрузка баз данных"
   ]
  },
  {
   "cell_type": "code",
   "execution_count": 1,
   "id": "15f7ddc3",
   "metadata": {},
   "outputs": [],
   "source": [
    "import os\n",
    "import pandas as pd\n",
    "import numpy as np\n",
    "\n",
    "from sqlalchemy import create_engine"
   ]
  },
  {
   "cell_type": "code",
   "execution_count": 2,
   "id": "0017f8e7",
   "metadata": {},
   "outputs": [],
   "source": [
    "path_to_db_local = 'telecomm_csi.db'\n",
    "path_to_db_platform = '/datasets/telecomm_csi.db'\n",
    "path_to_db = None\n",
    "\n",
    "if os.path.exists(path_to_db_local):\n",
    "    path_to_db = path_to_db_local\n",
    "elif os.path.exists(path_to_db_platform):\n",
    "    path_to_db = path_to_db_platform\n",
    "else:\n",
    "    raise Exception('Файл с базой данных SQLite не найден!')\n",
    "\n",
    "if path_to_db:\n",
    "    engine = create_engine(f'sqlite:///{path_to_db}', echo=False)"
   ]
  },
  {
   "cell_type": "markdown",
   "id": "b9a17faa",
   "metadata": {},
   "source": [
    "## Предпросмотр баз данных"
   ]
  },
  {
   "cell_type": "code",
   "execution_count": 3,
   "id": "84ebad43",
   "metadata": {},
   "outputs": [
    {
     "data": {
      "text/html": [
       "<div>\n",
       "<style scoped>\n",
       "    .dataframe tbody tr th:only-of-type {\n",
       "        vertical-align: middle;\n",
       "    }\n",
       "\n",
       "    .dataframe tbody tr th {\n",
       "        vertical-align: top;\n",
       "    }\n",
       "\n",
       "    .dataframe thead th {\n",
       "        text-align: right;\n",
       "    }\n",
       "</style>\n",
       "<table border=\"1\" class=\"dataframe\">\n",
       "  <thead>\n",
       "    <tr style=\"text-align: right;\">\n",
       "      <th></th>\n",
       "      <th>user_id</th>\n",
       "      <th>lt_day</th>\n",
       "      <th>age</th>\n",
       "      <th>gender_segment</th>\n",
       "      <th>os_name</th>\n",
       "      <th>cpe_type_name</th>\n",
       "      <th>location_id</th>\n",
       "      <th>age_gr_id</th>\n",
       "      <th>tr_gr_id</th>\n",
       "      <th>lt_gr_id</th>\n",
       "      <th>nps_score</th>\n",
       "    </tr>\n",
       "  </thead>\n",
       "  <tbody>\n",
       "    <tr>\n",
       "      <th>0</th>\n",
       "      <td>A001A2</td>\n",
       "      <td>2320</td>\n",
       "      <td>45.0</td>\n",
       "      <td>1.0</td>\n",
       "      <td>ANDROID</td>\n",
       "      <td>SMARTPHONE</td>\n",
       "      <td>55</td>\n",
       "      <td>5</td>\n",
       "      <td>5</td>\n",
       "      <td>8</td>\n",
       "      <td>10</td>\n",
       "    </tr>\n",
       "    <tr>\n",
       "      <th>1</th>\n",
       "      <td>A001WF</td>\n",
       "      <td>2344</td>\n",
       "      <td>53.0</td>\n",
       "      <td>0.0</td>\n",
       "      <td>ANDROID</td>\n",
       "      <td>SMARTPHONE</td>\n",
       "      <td>21</td>\n",
       "      <td>5</td>\n",
       "      <td>5</td>\n",
       "      <td>8</td>\n",
       "      <td>10</td>\n",
       "    </tr>\n",
       "    <tr>\n",
       "      <th>2</th>\n",
       "      <td>A003Q7</td>\n",
       "      <td>467</td>\n",
       "      <td>57.0</td>\n",
       "      <td>0.0</td>\n",
       "      <td>ANDROID</td>\n",
       "      <td>SMARTPHONE</td>\n",
       "      <td>28</td>\n",
       "      <td>6</td>\n",
       "      <td>9</td>\n",
       "      <td>6</td>\n",
       "      <td>10</td>\n",
       "    </tr>\n",
       "    <tr>\n",
       "      <th>3</th>\n",
       "      <td>A004TB</td>\n",
       "      <td>4190</td>\n",
       "      <td>44.0</td>\n",
       "      <td>1.0</td>\n",
       "      <td>IOS</td>\n",
       "      <td>SMARTPHONE</td>\n",
       "      <td>38</td>\n",
       "      <td>4</td>\n",
       "      <td>4</td>\n",
       "      <td>8</td>\n",
       "      <td>10</td>\n",
       "    </tr>\n",
       "    <tr>\n",
       "      <th>4</th>\n",
       "      <td>A004XT</td>\n",
       "      <td>1163</td>\n",
       "      <td>24.0</td>\n",
       "      <td>0.0</td>\n",
       "      <td>ANDROID</td>\n",
       "      <td>SMARTPHONE</td>\n",
       "      <td>39</td>\n",
       "      <td>2</td>\n",
       "      <td>6</td>\n",
       "      <td>8</td>\n",
       "      <td>10</td>\n",
       "    </tr>\n",
       "    <tr>\n",
       "      <th>...</th>\n",
       "      <td>...</td>\n",
       "      <td>...</td>\n",
       "      <td>...</td>\n",
       "      <td>...</td>\n",
       "      <td>...</td>\n",
       "      <td>...</td>\n",
       "      <td>...</td>\n",
       "      <td>...</td>\n",
       "      <td>...</td>\n",
       "      <td>...</td>\n",
       "      <td>...</td>\n",
       "    </tr>\n",
       "    <tr>\n",
       "      <th>502488</th>\n",
       "      <td>ZZZKLD</td>\n",
       "      <td>1249</td>\n",
       "      <td>54.0</td>\n",
       "      <td>1.0</td>\n",
       "      <td>ANDROID</td>\n",
       "      <td>SMARTPHONE</td>\n",
       "      <td>28</td>\n",
       "      <td>5</td>\n",
       "      <td>5</td>\n",
       "      <td>8</td>\n",
       "      <td>5</td>\n",
       "    </tr>\n",
       "    <tr>\n",
       "      <th>502489</th>\n",
       "      <td>ZZZLWY</td>\n",
       "      <td>129</td>\n",
       "      <td>31.0</td>\n",
       "      <td>0.0</td>\n",
       "      <td>ANDROID</td>\n",
       "      <td>SMARTPHONE</td>\n",
       "      <td>28</td>\n",
       "      <td>3</td>\n",
       "      <td>5</td>\n",
       "      <td>4</td>\n",
       "      <td>8</td>\n",
       "    </tr>\n",
       "    <tr>\n",
       "      <th>502490</th>\n",
       "      <td>ZZZQ5F</td>\n",
       "      <td>522</td>\n",
       "      <td>36.0</td>\n",
       "      <td>0.0</td>\n",
       "      <td>ANDROID</td>\n",
       "      <td>SMARTPHONE</td>\n",
       "      <td>47</td>\n",
       "      <td>4</td>\n",
       "      <td>10</td>\n",
       "      <td>6</td>\n",
       "      <td>10</td>\n",
       "    </tr>\n",
       "    <tr>\n",
       "      <th>502491</th>\n",
       "      <td>ZZZQ8E</td>\n",
       "      <td>2936</td>\n",
       "      <td>37.0</td>\n",
       "      <td>1.0</td>\n",
       "      <td>ANDROID</td>\n",
       "      <td>SMARTPHONE</td>\n",
       "      <td>53</td>\n",
       "      <td>4</td>\n",
       "      <td>18</td>\n",
       "      <td>8</td>\n",
       "      <td>9</td>\n",
       "    </tr>\n",
       "    <tr>\n",
       "      <th>502492</th>\n",
       "      <td>ZZZYH0</td>\n",
       "      <td>2471</td>\n",
       "      <td>37.0</td>\n",
       "      <td>0.0</td>\n",
       "      <td>IOS</td>\n",
       "      <td>SMARTPHONE</td>\n",
       "      <td>40</td>\n",
       "      <td>4</td>\n",
       "      <td>7</td>\n",
       "      <td>8</td>\n",
       "      <td>2</td>\n",
       "    </tr>\n",
       "  </tbody>\n",
       "</table>\n",
       "<p>502493 rows × 11 columns</p>\n",
       "</div>"
      ],
      "text/plain": [
       "       user_id  lt_day   age  gender_segment  os_name cpe_type_name  \\\n",
       "0       A001A2    2320  45.0             1.0  ANDROID    SMARTPHONE   \n",
       "1       A001WF    2344  53.0             0.0  ANDROID    SMARTPHONE   \n",
       "2       A003Q7     467  57.0             0.0  ANDROID    SMARTPHONE   \n",
       "3       A004TB    4190  44.0             1.0      IOS    SMARTPHONE   \n",
       "4       A004XT    1163  24.0             0.0  ANDROID    SMARTPHONE   \n",
       "...        ...     ...   ...             ...      ...           ...   \n",
       "502488  ZZZKLD    1249  54.0             1.0  ANDROID    SMARTPHONE   \n",
       "502489  ZZZLWY     129  31.0             0.0  ANDROID    SMARTPHONE   \n",
       "502490  ZZZQ5F     522  36.0             0.0  ANDROID    SMARTPHONE   \n",
       "502491  ZZZQ8E    2936  37.0             1.0  ANDROID    SMARTPHONE   \n",
       "502492  ZZZYH0    2471  37.0             0.0      IOS    SMARTPHONE   \n",
       "\n",
       "        location_id  age_gr_id  tr_gr_id  lt_gr_id  nps_score  \n",
       "0                55          5         5         8         10  \n",
       "1                21          5         5         8         10  \n",
       "2                28          6         9         6         10  \n",
       "3                38          4         4         8         10  \n",
       "4                39          2         6         8         10  \n",
       "...             ...        ...       ...       ...        ...  \n",
       "502488           28          5         5         8          5  \n",
       "502489           28          3         5         4          8  \n",
       "502490           47          4        10         6         10  \n",
       "502491           53          4        18         8          9  \n",
       "502492           40          4         7         8          2  \n",
       "\n",
       "[502493 rows x 11 columns]"
      ]
     },
     "execution_count": 3,
     "metadata": {},
     "output_type": "execute_result"
    }
   ],
   "source": [
    "query = \"\"\"\n",
    "SELECT * \n",
    "FROM user;\n",
    "\"\"\"\n",
    "view = pd.read_sql(query, engine)\n",
    "view"
   ]
  },
  {
   "cell_type": "code",
   "execution_count": 4,
   "id": "53c6cbd6",
   "metadata": {},
   "outputs": [
    {
     "data": {
      "text/html": [
       "<div>\n",
       "<style scoped>\n",
       "    .dataframe tbody tr th:only-of-type {\n",
       "        vertical-align: middle;\n",
       "    }\n",
       "\n",
       "    .dataframe tbody tr th {\n",
       "        vertical-align: top;\n",
       "    }\n",
       "\n",
       "    .dataframe thead th {\n",
       "        text-align: right;\n",
       "    }\n",
       "</style>\n",
       "<table border=\"1\" class=\"dataframe\">\n",
       "  <thead>\n",
       "    <tr style=\"text-align: right;\">\n",
       "      <th></th>\n",
       "      <th>location_id</th>\n",
       "      <th>city</th>\n",
       "      <th>country</th>\n",
       "    </tr>\n",
       "  </thead>\n",
       "  <tbody>\n",
       "    <tr>\n",
       "      <th>0</th>\n",
       "      <td>1</td>\n",
       "      <td>Архангельск</td>\n",
       "      <td>Россия</td>\n",
       "    </tr>\n",
       "    <tr>\n",
       "      <th>1</th>\n",
       "      <td>2</td>\n",
       "      <td>Астрахань</td>\n",
       "      <td>Россия</td>\n",
       "    </tr>\n",
       "    <tr>\n",
       "      <th>2</th>\n",
       "      <td>3</td>\n",
       "      <td>Балашиха</td>\n",
       "      <td>Россия</td>\n",
       "    </tr>\n",
       "    <tr>\n",
       "      <th>3</th>\n",
       "      <td>4</td>\n",
       "      <td>Барнаул</td>\n",
       "      <td>Россия</td>\n",
       "    </tr>\n",
       "    <tr>\n",
       "      <th>4</th>\n",
       "      <td>5</td>\n",
       "      <td>Белгород</td>\n",
       "      <td>Россия</td>\n",
       "    </tr>\n",
       "    <tr>\n",
       "      <th>...</th>\n",
       "      <td>...</td>\n",
       "      <td>...</td>\n",
       "      <td>...</td>\n",
       "    </tr>\n",
       "    <tr>\n",
       "      <th>57</th>\n",
       "      <td>58</td>\n",
       "      <td>Челябинск</td>\n",
       "      <td>Россия</td>\n",
       "    </tr>\n",
       "    <tr>\n",
       "      <th>58</th>\n",
       "      <td>59</td>\n",
       "      <td>Череповец</td>\n",
       "      <td>Россия</td>\n",
       "    </tr>\n",
       "    <tr>\n",
       "      <th>59</th>\n",
       "      <td>60</td>\n",
       "      <td>Чита</td>\n",
       "      <td>Россия</td>\n",
       "    </tr>\n",
       "    <tr>\n",
       "      <th>60</th>\n",
       "      <td>61</td>\n",
       "      <td>Якутск</td>\n",
       "      <td>Россия</td>\n",
       "    </tr>\n",
       "    <tr>\n",
       "      <th>61</th>\n",
       "      <td>62</td>\n",
       "      <td>Ярославль</td>\n",
       "      <td>Россия</td>\n",
       "    </tr>\n",
       "  </tbody>\n",
       "</table>\n",
       "<p>62 rows × 3 columns</p>\n",
       "</div>"
      ],
      "text/plain": [
       "    location_id         city country\n",
       "0             1  Архангельск  Россия\n",
       "1             2    Астрахань  Россия\n",
       "2             3     Балашиха  Россия\n",
       "3             4      Барнаул  Россия\n",
       "4             5     Белгород  Россия\n",
       "..          ...          ...     ...\n",
       "57           58    Челябинск  Россия\n",
       "58           59    Череповец  Россия\n",
       "59           60         Чита  Россия\n",
       "60           61       Якутск  Россия\n",
       "61           62    Ярославль  Россия\n",
       "\n",
       "[62 rows x 3 columns]"
      ]
     },
     "execution_count": 4,
     "metadata": {},
     "output_type": "execute_result"
    }
   ],
   "source": [
    "query = \"\"\"\n",
    "        SELECT * \n",
    "        FROM location;\n",
    "        \"\"\"\n",
    "view = pd.read_sql(query, engine)\n",
    "view"
   ]
  },
  {
   "cell_type": "code",
   "execution_count": 5,
   "id": "3f6ed074",
   "metadata": {},
   "outputs": [
    {
     "name": "stdout",
     "output_type": "stream",
     "text": [
      "Архангельск\n",
      "Астрахань\n",
      "Балашиха\n",
      "Барнаул\n",
      "Белгород\n",
      "Брянск\n",
      "Владивосток\n",
      "Владимир\n",
      "Волгоград\n",
      "Волжский\n",
      "Воронеж\n",
      "Грозный\n",
      "Екатеринбург\n",
      "Иваново\n",
      "Ижевск\n",
      "Иркутск\n",
      "Казань\n",
      "Калининград\n",
      "Калуга\n",
      "Кемерово\n",
      "Киров\n",
      "Краснодар\n",
      "Красноярск\n",
      "Курск\n",
      "Липецк\n",
      "Магнитогорск\n",
      "Махачкала\n",
      "Москва\n",
      "НабережныеЧелны\n",
      "НижнийНовгород\n",
      "НижнийТагил\n",
      "Новокузнецк\n",
      "Новосибирск\n",
      "Омск\n",
      "Оренбург\n",
      "Пенза\n",
      "Пермь\n",
      "РостовнаДону\n",
      "Рязань\n",
      "Самара\n",
      "СанктПетербург\n",
      "Саранск\n",
      "Саратов\n",
      "Смоленск\n",
      "Сочи\n",
      "Ставрополь\n",
      "Сургут\n",
      "Тверь\n",
      "Тольятти\n",
      "Томск\n",
      "Тула\n",
      "Тюмень\n",
      "УланУдэ\n",
      "Ульяновск\n",
      "Уфа\n",
      "Хабаровск\n",
      "Чебоксары\n",
      "Челябинск\n",
      "Череповец\n",
      "Чита\n",
      "Якутск\n",
      "Ярославль\n"
     ]
    }
   ],
   "source": [
    "for i in range(len(view)):\n",
    "    print(view.iloc[i,1])"
   ]
  },
  {
   "cell_type": "markdown",
   "id": "6de54210",
   "metadata": {},
   "source": [
    "**Промежуточный вывод:** В названиях некоторых городов видны ошибки/опечатки при написании. "
   ]
  },
  {
   "cell_type": "code",
   "execution_count": 6,
   "id": "62103479",
   "metadata": {},
   "outputs": [
    {
     "data": {
      "text/html": [
       "<div>\n",
       "<style scoped>\n",
       "    .dataframe tbody tr th:only-of-type {\n",
       "        vertical-align: middle;\n",
       "    }\n",
       "\n",
       "    .dataframe tbody tr th {\n",
       "        vertical-align: top;\n",
       "    }\n",
       "\n",
       "    .dataframe thead th {\n",
       "        text-align: right;\n",
       "    }\n",
       "</style>\n",
       "<table border=\"1\" class=\"dataframe\">\n",
       "  <thead>\n",
       "    <tr style=\"text-align: right;\">\n",
       "      <th></th>\n",
       "      <th>age_segment</th>\n",
       "    </tr>\n",
       "  </thead>\n",
       "  <tbody>\n",
       "    <tr>\n",
       "      <th>0</th>\n",
       "      <td>до 16</td>\n",
       "    </tr>\n",
       "    <tr>\n",
       "      <th>1</th>\n",
       "      <td>16-24</td>\n",
       "    </tr>\n",
       "    <tr>\n",
       "      <th>2</th>\n",
       "      <td>25-34</td>\n",
       "    </tr>\n",
       "    <tr>\n",
       "      <th>3</th>\n",
       "      <td>35-44</td>\n",
       "    </tr>\n",
       "    <tr>\n",
       "      <th>4</th>\n",
       "      <td>45-54</td>\n",
       "    </tr>\n",
       "    <tr>\n",
       "      <th>5</th>\n",
       "      <td>55-64</td>\n",
       "    </tr>\n",
       "    <tr>\n",
       "      <th>6</th>\n",
       "      <td>66 +</td>\n",
       "    </tr>\n",
       "    <tr>\n",
       "      <th>7</th>\n",
       "      <td>n/a</td>\n",
       "    </tr>\n",
       "  </tbody>\n",
       "</table>\n",
       "</div>"
      ],
      "text/plain": [
       "  age_segment\n",
       "0       до 16\n",
       "1       16-24\n",
       "2       25-34\n",
       "3       35-44\n",
       "4       45-54\n",
       "5       55-64\n",
       "6        66 +\n",
       "7         n/a"
      ]
     },
     "execution_count": 6,
     "metadata": {},
     "output_type": "execute_result"
    }
   ],
   "source": [
    "query = \"\"\"\n",
    "        SELECT SUBSTR(title, 3) AS age_segment\n",
    "        FROM age_segment;\n",
    "        \"\"\"\n",
    "view = pd.read_sql(query, engine)\n",
    "view"
   ]
  },
  {
   "cell_type": "code",
   "execution_count": 7,
   "id": "7b20f0a5",
   "metadata": {},
   "outputs": [
    {
     "data": {
      "text/html": [
       "<div>\n",
       "<style scoped>\n",
       "    .dataframe tbody tr th:only-of-type {\n",
       "        vertical-align: middle;\n",
       "    }\n",
       "\n",
       "    .dataframe tbody tr th {\n",
       "        vertical-align: top;\n",
       "    }\n",
       "\n",
       "    .dataframe thead th {\n",
       "        text-align: right;\n",
       "    }\n",
       "</style>\n",
       "<table border=\"1\" class=\"dataframe\">\n",
       "  <thead>\n",
       "    <tr style=\"text-align: right;\">\n",
       "      <th></th>\n",
       "      <th>lt_gr_id</th>\n",
       "      <th>bucket_min</th>\n",
       "      <th>bucket_max</th>\n",
       "      <th>title</th>\n",
       "    </tr>\n",
       "  </thead>\n",
       "  <tbody>\n",
       "    <tr>\n",
       "      <th>0</th>\n",
       "      <td>1</td>\n",
       "      <td>1.0</td>\n",
       "      <td>1.0</td>\n",
       "      <td>01 1</td>\n",
       "    </tr>\n",
       "    <tr>\n",
       "      <th>1</th>\n",
       "      <td>2</td>\n",
       "      <td>2.0</td>\n",
       "      <td>2.0</td>\n",
       "      <td>02 2</td>\n",
       "    </tr>\n",
       "    <tr>\n",
       "      <th>2</th>\n",
       "      <td>3</td>\n",
       "      <td>3.0</td>\n",
       "      <td>3.0</td>\n",
       "      <td>03 3</td>\n",
       "    </tr>\n",
       "    <tr>\n",
       "      <th>3</th>\n",
       "      <td>4</td>\n",
       "      <td>4.0</td>\n",
       "      <td>6.0</td>\n",
       "      <td>04 4-6</td>\n",
       "    </tr>\n",
       "    <tr>\n",
       "      <th>4</th>\n",
       "      <td>5</td>\n",
       "      <td>7.0</td>\n",
       "      <td>12.0</td>\n",
       "      <td>05 7-12</td>\n",
       "    </tr>\n",
       "    <tr>\n",
       "      <th>5</th>\n",
       "      <td>6</td>\n",
       "      <td>13.0</td>\n",
       "      <td>24.0</td>\n",
       "      <td>06 13-24</td>\n",
       "    </tr>\n",
       "    <tr>\n",
       "      <th>6</th>\n",
       "      <td>7</td>\n",
       "      <td>25.0</td>\n",
       "      <td>36.0</td>\n",
       "      <td>07 25-36</td>\n",
       "    </tr>\n",
       "    <tr>\n",
       "      <th>7</th>\n",
       "      <td>8</td>\n",
       "      <td>36.0</td>\n",
       "      <td>NaN</td>\n",
       "      <td>08 36+</td>\n",
       "    </tr>\n",
       "  </tbody>\n",
       "</table>\n",
       "</div>"
      ],
      "text/plain": [
       "   lt_gr_id  bucket_min  bucket_max     title\n",
       "0         1         1.0         1.0      01 1\n",
       "1         2         2.0         2.0      02 2\n",
       "2         3         3.0         3.0      03 3\n",
       "3         4         4.0         6.0    04 4-6\n",
       "4         5         7.0        12.0   05 7-12\n",
       "5         6        13.0        24.0  06 13-24\n",
       "6         7        25.0        36.0  07 25-36\n",
       "7         8        36.0         NaN    08 36+"
      ]
     },
     "execution_count": 7,
     "metadata": {},
     "output_type": "execute_result"
    }
   ],
   "source": [
    "query = \"\"\"\n",
    "        SELECT * \n",
    "        FROM lifetime_segment;\n",
    "        \"\"\"\n",
    "view = pd.read_sql(query, engine)\n",
    "view"
   ]
  },
  {
   "cell_type": "markdown",
   "id": "9443936b",
   "metadata": {},
   "source": [
    "**Вывод:** в представленных базах данных есть ошибки в написании некоторых параметров. Они будут исправлены в ходе дальнейшей работы. "
   ]
  },
  {
   "cell_type": "markdown",
   "id": "bb8415a2",
   "metadata": {},
   "source": [
    "## Объединение баз данных и предобработка данных"
   ]
  },
  {
   "cell_type": "markdown",
   "id": "638b4e3b",
   "metadata": {},
   "source": [
    "Составим запрос, в котором исправим замеченые на предпросмотре ошибки. Также будут сформированы категориальные значения для более удобной работы в дальнейшем. "
   ]
  },
  {
   "cell_type": "code",
   "execution_count": 8,
   "id": "e71d77af",
   "metadata": {},
   "outputs": [],
   "source": [
    "query = \"\"\"\n",
    "SELECT user_id,\n",
    "       lt_day,\n",
    "       CASE\n",
    "           WHEN lt_day <= 365 THEN 'Новый'\n",
    "           WHEN lt_day >= 365 THEN 'Старый'\n",
    "       END AS is_new, \n",
    "       age,\n",
    "       CASE\n",
    "           WHEN gender_segment = 0 THEN 'Мужчина'\n",
    "           WHEN gender_segment = 1 THEN 'Женщина'\n",
    "           ELSE 'неопределён'\n",
    "       END AS gender_segment,\n",
    "       os_name,\n",
    "       cpe_type_name,\n",
    "       loc.country,\n",
    "       CASE\n",
    "               WHEN loc.city = 'НабережныеЧелны' THEN 'Набережные Челны'\n",
    "               WHEN loc.city = 'НижнийНовгород' THEN 'Нижний Новгород'\n",
    "               WHEN loc.city = 'НижнийТагил' THEN 'Нижний Тагил'\n",
    "               WHEN loc.city = 'РостовнаДону' THEN 'Ростов-на-Дону'\n",
    "               WHEN loc.city = 'СанктПетербург' THEN 'Санкт-Петербург'\n",
    "               WHEN loc.city = 'УланУдэ' THEN 'Улан-Удэ'\n",
    "               ELSE loc.city \n",
    "       END AS city,\n",
    "       SUBSTR(age_segment.title, 4) AS age_segment,\n",
    "       SUBSTR(traffic_segment.title, 4) AS traffic_segment,\n",
    "       SUBSTR(lifetime_segment.title, 4) AS lifetime_segment,\n",
    "       nps_score,\n",
    "       CASE\n",
    "           WHEN nps_score >= 9 THEN 'сторонники'\n",
    "           WHEN nps_score > 6 AND nps_score < 9 THEN 'нейтралы'\n",
    "           WHEN nps_score <= 6 THEN 'критики'\n",
    "       END AS nps_group\n",
    "       \n",
    "FROM user\n",
    "\n",
    "INNER JOIN location AS loc ON user.location_id=loc.location_id\n",
    "INNER JOIN age_segment ON user.age_gr_id = age_segment.age_gr_id\n",
    "INNER JOIN lifetime_segment ON user.lt_gr_id = lifetime_segment.lt_gr_id\n",
    "INNER JOIN traffic_segment ON user.tr_gr_id = traffic_segment.tr_gr_id\n",
    "\"\"\""
   ]
  },
  {
   "cell_type": "code",
   "execution_count": 9,
   "id": "3965faf2",
   "metadata": {},
   "outputs": [
    {
     "data": {
      "text/html": [
       "<div>\n",
       "<style scoped>\n",
       "    .dataframe tbody tr th:only-of-type {\n",
       "        vertical-align: middle;\n",
       "    }\n",
       "\n",
       "    .dataframe tbody tr th {\n",
       "        vertical-align: top;\n",
       "    }\n",
       "\n",
       "    .dataframe thead th {\n",
       "        text-align: right;\n",
       "    }\n",
       "</style>\n",
       "<table border=\"1\" class=\"dataframe\">\n",
       "  <thead>\n",
       "    <tr style=\"text-align: right;\">\n",
       "      <th></th>\n",
       "      <th>user_id</th>\n",
       "      <th>lt_day</th>\n",
       "      <th>is_new</th>\n",
       "      <th>age</th>\n",
       "      <th>gender_segment</th>\n",
       "      <th>os_name</th>\n",
       "      <th>cpe_type_name</th>\n",
       "      <th>country</th>\n",
       "      <th>city</th>\n",
       "      <th>age_segment</th>\n",
       "      <th>traffic_segment</th>\n",
       "      <th>lifetime_segment</th>\n",
       "      <th>nps_score</th>\n",
       "      <th>nps_group</th>\n",
       "    </tr>\n",
       "  </thead>\n",
       "  <tbody>\n",
       "    <tr>\n",
       "      <th>0</th>\n",
       "      <td>A001A2</td>\n",
       "      <td>2320</td>\n",
       "      <td>Старый</td>\n",
       "      <td>45.0</td>\n",
       "      <td>Женщина</td>\n",
       "      <td>ANDROID</td>\n",
       "      <td>SMARTPHONE</td>\n",
       "      <td>Россия</td>\n",
       "      <td>Уфа</td>\n",
       "      <td>45-54</td>\n",
       "      <td>1-5</td>\n",
       "      <td>36+</td>\n",
       "      <td>10</td>\n",
       "      <td>сторонники</td>\n",
       "    </tr>\n",
       "    <tr>\n",
       "      <th>1</th>\n",
       "      <td>A001WF</td>\n",
       "      <td>2344</td>\n",
       "      <td>Старый</td>\n",
       "      <td>53.0</td>\n",
       "      <td>Мужчина</td>\n",
       "      <td>ANDROID</td>\n",
       "      <td>SMARTPHONE</td>\n",
       "      <td>Россия</td>\n",
       "      <td>Киров</td>\n",
       "      <td>45-54</td>\n",
       "      <td>1-5</td>\n",
       "      <td>36+</td>\n",
       "      <td>10</td>\n",
       "      <td>сторонники</td>\n",
       "    </tr>\n",
       "    <tr>\n",
       "      <th>2</th>\n",
       "      <td>A003Q7</td>\n",
       "      <td>467</td>\n",
       "      <td>Старый</td>\n",
       "      <td>57.0</td>\n",
       "      <td>Мужчина</td>\n",
       "      <td>ANDROID</td>\n",
       "      <td>SMARTPHONE</td>\n",
       "      <td>Россия</td>\n",
       "      <td>Москва</td>\n",
       "      <td>55-64</td>\n",
       "      <td>20-25</td>\n",
       "      <td>13-24</td>\n",
       "      <td>10</td>\n",
       "      <td>сторонники</td>\n",
       "    </tr>\n",
       "    <tr>\n",
       "      <th>3</th>\n",
       "      <td>A004TB</td>\n",
       "      <td>4190</td>\n",
       "      <td>Старый</td>\n",
       "      <td>44.0</td>\n",
       "      <td>Женщина</td>\n",
       "      <td>IOS</td>\n",
       "      <td>SMARTPHONE</td>\n",
       "      <td>Россия</td>\n",
       "      <td>Ростов-на-Дону</td>\n",
       "      <td>35-44</td>\n",
       "      <td>0.1-1</td>\n",
       "      <td>36+</td>\n",
       "      <td>10</td>\n",
       "      <td>сторонники</td>\n",
       "    </tr>\n",
       "    <tr>\n",
       "      <th>4</th>\n",
       "      <td>A004XT</td>\n",
       "      <td>1163</td>\n",
       "      <td>Старый</td>\n",
       "      <td>24.0</td>\n",
       "      <td>Мужчина</td>\n",
       "      <td>ANDROID</td>\n",
       "      <td>SMARTPHONE</td>\n",
       "      <td>Россия</td>\n",
       "      <td>Рязань</td>\n",
       "      <td>16-24</td>\n",
       "      <td>5-10</td>\n",
       "      <td>36+</td>\n",
       "      <td>10</td>\n",
       "      <td>сторонники</td>\n",
       "    </tr>\n",
       "    <tr>\n",
       "      <th>5</th>\n",
       "      <td>A005O0</td>\n",
       "      <td>5501</td>\n",
       "      <td>Старый</td>\n",
       "      <td>42.0</td>\n",
       "      <td>Женщина</td>\n",
       "      <td>ANDROID</td>\n",
       "      <td>SMARTPHONE</td>\n",
       "      <td>Россия</td>\n",
       "      <td>Омск</td>\n",
       "      <td>35-44</td>\n",
       "      <td>5-10</td>\n",
       "      <td>36+</td>\n",
       "      <td>6</td>\n",
       "      <td>критики</td>\n",
       "    </tr>\n",
       "    <tr>\n",
       "      <th>6</th>\n",
       "      <td>A0061R</td>\n",
       "      <td>1236</td>\n",
       "      <td>Старый</td>\n",
       "      <td>45.0</td>\n",
       "      <td>Мужчина</td>\n",
       "      <td>ANDROID</td>\n",
       "      <td>SMARTPHONE</td>\n",
       "      <td>Россия</td>\n",
       "      <td>Уфа</td>\n",
       "      <td>45-54</td>\n",
       "      <td>10-15</td>\n",
       "      <td>36+</td>\n",
       "      <td>10</td>\n",
       "      <td>сторонники</td>\n",
       "    </tr>\n",
       "    <tr>\n",
       "      <th>7</th>\n",
       "      <td>A009KS</td>\n",
       "      <td>313</td>\n",
       "      <td>Новый</td>\n",
       "      <td>35.0</td>\n",
       "      <td>Мужчина</td>\n",
       "      <td>ANDROID</td>\n",
       "      <td>SMARTPHONE</td>\n",
       "      <td>Россия</td>\n",
       "      <td>Москва</td>\n",
       "      <td>35-44</td>\n",
       "      <td>45-50</td>\n",
       "      <td>7-12</td>\n",
       "      <td>10</td>\n",
       "      <td>сторонники</td>\n",
       "    </tr>\n",
       "    <tr>\n",
       "      <th>8</th>\n",
       "      <td>A00AES</td>\n",
       "      <td>3238</td>\n",
       "      <td>Старый</td>\n",
       "      <td>36.0</td>\n",
       "      <td>Женщина</td>\n",
       "      <td>ANDROID</td>\n",
       "      <td>SMARTPHONE</td>\n",
       "      <td>Россия</td>\n",
       "      <td>Санкт-Петербург</td>\n",
       "      <td>35-44</td>\n",
       "      <td>1-5</td>\n",
       "      <td>36+</td>\n",
       "      <td>10</td>\n",
       "      <td>сторонники</td>\n",
       "    </tr>\n",
       "    <tr>\n",
       "      <th>9</th>\n",
       "      <td>A00F70</td>\n",
       "      <td>4479</td>\n",
       "      <td>Старый</td>\n",
       "      <td>54.0</td>\n",
       "      <td>Женщина</td>\n",
       "      <td>ANDROID</td>\n",
       "      <td>SMARTPHONE</td>\n",
       "      <td>Россия</td>\n",
       "      <td>Волгоград</td>\n",
       "      <td>45-54</td>\n",
       "      <td>15-20</td>\n",
       "      <td>36+</td>\n",
       "      <td>9</td>\n",
       "      <td>сторонники</td>\n",
       "    </tr>\n",
       "    <tr>\n",
       "      <th>10</th>\n",
       "      <td>A00HL5</td>\n",
       "      <td>5297</td>\n",
       "      <td>Старый</td>\n",
       "      <td>39.0</td>\n",
       "      <td>Мужчина</td>\n",
       "      <td>ANDROID</td>\n",
       "      <td>SMARTPHONE</td>\n",
       "      <td>Россия</td>\n",
       "      <td>Тольятти</td>\n",
       "      <td>35-44</td>\n",
       "      <td>25-30</td>\n",
       "      <td>36+</td>\n",
       "      <td>10</td>\n",
       "      <td>сторонники</td>\n",
       "    </tr>\n",
       "    <tr>\n",
       "      <th>11</th>\n",
       "      <td>A00NDN</td>\n",
       "      <td>1374</td>\n",
       "      <td>Старый</td>\n",
       "      <td>21.0</td>\n",
       "      <td>Мужчина</td>\n",
       "      <td>ANDROID</td>\n",
       "      <td>SMARTPHONE</td>\n",
       "      <td>Россия</td>\n",
       "      <td>Рязань</td>\n",
       "      <td>16-24</td>\n",
       "      <td>10-15</td>\n",
       "      <td>36+</td>\n",
       "      <td>2</td>\n",
       "      <td>критики</td>\n",
       "    </tr>\n",
       "    <tr>\n",
       "      <th>12</th>\n",
       "      <td>A00P46</td>\n",
       "      <td>179</td>\n",
       "      <td>Новый</td>\n",
       "      <td>27.0</td>\n",
       "      <td>Мужчина</td>\n",
       "      <td>ANDROID</td>\n",
       "      <td>SMARTPHONE</td>\n",
       "      <td>Россия</td>\n",
       "      <td>Казань</td>\n",
       "      <td>25-34</td>\n",
       "      <td>45-50</td>\n",
       "      <td>4-6</td>\n",
       "      <td>10</td>\n",
       "      <td>сторонники</td>\n",
       "    </tr>\n",
       "    <tr>\n",
       "      <th>13</th>\n",
       "      <td>A00SA7</td>\n",
       "      <td>667</td>\n",
       "      <td>Старый</td>\n",
       "      <td>60.0</td>\n",
       "      <td>Мужчина</td>\n",
       "      <td>ANDROID</td>\n",
       "      <td>TABLET</td>\n",
       "      <td>Россия</td>\n",
       "      <td>Казань</td>\n",
       "      <td>55-64</td>\n",
       "      <td>5-10</td>\n",
       "      <td>13-24</td>\n",
       "      <td>5</td>\n",
       "      <td>критики</td>\n",
       "    </tr>\n",
       "    <tr>\n",
       "      <th>14</th>\n",
       "      <td>A00U8A</td>\n",
       "      <td>2908</td>\n",
       "      <td>Старый</td>\n",
       "      <td>44.0</td>\n",
       "      <td>Женщина</td>\n",
       "      <td>ANDROID</td>\n",
       "      <td>SMARTPHONE</td>\n",
       "      <td>Россия</td>\n",
       "      <td>Санкт-Петербург</td>\n",
       "      <td>35-44</td>\n",
       "      <td>5-10</td>\n",
       "      <td>36+</td>\n",
       "      <td>10</td>\n",
       "      <td>сторонники</td>\n",
       "    </tr>\n",
       "    <tr>\n",
       "      <th>15</th>\n",
       "      <td>A0116Q</td>\n",
       "      <td>2517</td>\n",
       "      <td>Старый</td>\n",
       "      <td>34.0</td>\n",
       "      <td>Мужчина</td>\n",
       "      <td>ANDROID</td>\n",
       "      <td>SMARTPHONE</td>\n",
       "      <td>Россия</td>\n",
       "      <td>Самара</td>\n",
       "      <td>25-34</td>\n",
       "      <td>15-20</td>\n",
       "      <td>36+</td>\n",
       "      <td>10</td>\n",
       "      <td>сторонники</td>\n",
       "    </tr>\n",
       "    <tr>\n",
       "      <th>16</th>\n",
       "      <td>A015CX</td>\n",
       "      <td>4073</td>\n",
       "      <td>Старый</td>\n",
       "      <td>47.0</td>\n",
       "      <td>Мужчина</td>\n",
       "      <td>ANDROID</td>\n",
       "      <td>SMARTPHONE</td>\n",
       "      <td>Россия</td>\n",
       "      <td>Самара</td>\n",
       "      <td>45-54</td>\n",
       "      <td>40-45</td>\n",
       "      <td>36+</td>\n",
       "      <td>9</td>\n",
       "      <td>сторонники</td>\n",
       "    </tr>\n",
       "    <tr>\n",
       "      <th>17</th>\n",
       "      <td>A017L3</td>\n",
       "      <td>372</td>\n",
       "      <td>Старый</td>\n",
       "      <td>37.0</td>\n",
       "      <td>Мужчина</td>\n",
       "      <td>IOS</td>\n",
       "      <td>SMARTPHONE</td>\n",
       "      <td>Россия</td>\n",
       "      <td>Красноярск</td>\n",
       "      <td>35-44</td>\n",
       "      <td>5-10</td>\n",
       "      <td>13-24</td>\n",
       "      <td>10</td>\n",
       "      <td>сторонники</td>\n",
       "    </tr>\n",
       "    <tr>\n",
       "      <th>18</th>\n",
       "      <td>A017QF</td>\n",
       "      <td>6155</td>\n",
       "      <td>Старый</td>\n",
       "      <td>42.0</td>\n",
       "      <td>Женщина</td>\n",
       "      <td>ANDROID</td>\n",
       "      <td>SMARTPHONE</td>\n",
       "      <td>Россия</td>\n",
       "      <td>Екатеринбург</td>\n",
       "      <td>35-44</td>\n",
       "      <td>5-10</td>\n",
       "      <td>36+</td>\n",
       "      <td>8</td>\n",
       "      <td>нейтралы</td>\n",
       "    </tr>\n",
       "    <tr>\n",
       "      <th>19</th>\n",
       "      <td>A018WZ</td>\n",
       "      <td>709</td>\n",
       "      <td>Старый</td>\n",
       "      <td>43.0</td>\n",
       "      <td>Мужчина</td>\n",
       "      <td>ANDROID</td>\n",
       "      <td>SMARTPHONE</td>\n",
       "      <td>Россия</td>\n",
       "      <td>Калуга</td>\n",
       "      <td>35-44</td>\n",
       "      <td>20-25</td>\n",
       "      <td>13-24</td>\n",
       "      <td>10</td>\n",
       "      <td>сторонники</td>\n",
       "    </tr>\n",
       "  </tbody>\n",
       "</table>\n",
       "</div>"
      ],
      "text/plain": [
       "   user_id  lt_day  is_new   age gender_segment  os_name cpe_type_name  \\\n",
       "0   A001A2    2320  Старый  45.0        Женщина  ANDROID    SMARTPHONE   \n",
       "1   A001WF    2344  Старый  53.0        Мужчина  ANDROID    SMARTPHONE   \n",
       "2   A003Q7     467  Старый  57.0        Мужчина  ANDROID    SMARTPHONE   \n",
       "3   A004TB    4190  Старый  44.0        Женщина      IOS    SMARTPHONE   \n",
       "4   A004XT    1163  Старый  24.0        Мужчина  ANDROID    SMARTPHONE   \n",
       "5   A005O0    5501  Старый  42.0        Женщина  ANDROID    SMARTPHONE   \n",
       "6   A0061R    1236  Старый  45.0        Мужчина  ANDROID    SMARTPHONE   \n",
       "7   A009KS     313   Новый  35.0        Мужчина  ANDROID    SMARTPHONE   \n",
       "8   A00AES    3238  Старый  36.0        Женщина  ANDROID    SMARTPHONE   \n",
       "9   A00F70    4479  Старый  54.0        Женщина  ANDROID    SMARTPHONE   \n",
       "10  A00HL5    5297  Старый  39.0        Мужчина  ANDROID    SMARTPHONE   \n",
       "11  A00NDN    1374  Старый  21.0        Мужчина  ANDROID    SMARTPHONE   \n",
       "12  A00P46     179   Новый  27.0        Мужчина  ANDROID    SMARTPHONE   \n",
       "13  A00SA7     667  Старый  60.0        Мужчина  ANDROID        TABLET   \n",
       "14  A00U8A    2908  Старый  44.0        Женщина  ANDROID    SMARTPHONE   \n",
       "15  A0116Q    2517  Старый  34.0        Мужчина  ANDROID    SMARTPHONE   \n",
       "16  A015CX    4073  Старый  47.0        Мужчина  ANDROID    SMARTPHONE   \n",
       "17  A017L3     372  Старый  37.0        Мужчина      IOS    SMARTPHONE   \n",
       "18  A017QF    6155  Старый  42.0        Женщина  ANDROID    SMARTPHONE   \n",
       "19  A018WZ     709  Старый  43.0        Мужчина  ANDROID    SMARTPHONE   \n",
       "\n",
       "   country             city age_segment traffic_segment lifetime_segment  \\\n",
       "0   Россия              Уфа       45-54             1-5              36+   \n",
       "1   Россия            Киров       45-54             1-5              36+   \n",
       "2   Россия           Москва       55-64           20-25            13-24   \n",
       "3   Россия   Ростов-на-Дону       35-44           0.1-1              36+   \n",
       "4   Россия           Рязань       16-24            5-10              36+   \n",
       "5   Россия             Омск       35-44            5-10              36+   \n",
       "6   Россия              Уфа       45-54           10-15              36+   \n",
       "7   Россия           Москва       35-44           45-50             7-12   \n",
       "8   Россия  Санкт-Петербург       35-44             1-5              36+   \n",
       "9   Россия        Волгоград       45-54           15-20              36+   \n",
       "10  Россия         Тольятти       35-44           25-30              36+   \n",
       "11  Россия           Рязань       16-24           10-15              36+   \n",
       "12  Россия           Казань       25-34           45-50              4-6   \n",
       "13  Россия           Казань       55-64            5-10            13-24   \n",
       "14  Россия  Санкт-Петербург       35-44            5-10              36+   \n",
       "15  Россия           Самара       25-34           15-20              36+   \n",
       "16  Россия           Самара       45-54           40-45              36+   \n",
       "17  Россия       Красноярск       35-44            5-10            13-24   \n",
       "18  Россия     Екатеринбург       35-44            5-10              36+   \n",
       "19  Россия           Калуга       35-44           20-25            13-24   \n",
       "\n",
       "    nps_score   nps_group  \n",
       "0          10  сторонники  \n",
       "1          10  сторонники  \n",
       "2          10  сторонники  \n",
       "3          10  сторонники  \n",
       "4          10  сторонники  \n",
       "5           6     критики  \n",
       "6          10  сторонники  \n",
       "7          10  сторонники  \n",
       "8          10  сторонники  \n",
       "9           9  сторонники  \n",
       "10         10  сторонники  \n",
       "11          2     критики  \n",
       "12         10  сторонники  \n",
       "13          5     критики  \n",
       "14         10  сторонники  \n",
       "15         10  сторонники  \n",
       "16          9  сторонники  \n",
       "17         10  сторонники  \n",
       "18          8    нейтралы  \n",
       "19         10  сторонники  "
      ]
     },
     "execution_count": 9,
     "metadata": {},
     "output_type": "execute_result"
    }
   ],
   "source": [
    "df = pd.read_sql(query, engine)\n",
    "df.head(20)"
   ]
  },
  {
   "cell_type": "code",
   "execution_count": 10,
   "id": "9db04858",
   "metadata": {},
   "outputs": [],
   "source": [
    "df.to_csv('telecomm_csi_tableau.csv', index=False)"
   ]
  },
  {
   "cell_type": "markdown",
   "id": "b6fbf750",
   "metadata": {},
   "source": [
    "**Вывод:** базы данных объеденены, исправлены значения, добавлены категориальные параметры. "
   ]
  },
  {
   "cell_type": "markdown",
   "id": "50817d0b",
   "metadata": {},
   "source": [
    "## Презентация Tableau"
   ]
  },
  {
   "cell_type": "markdown",
   "id": "53dbe1cf",
   "metadata": {},
   "source": [
    "Ссылка на презентацию: https://public.tableau.com/views/NPSTelecom_17283040037230/TELECOMNPSPRESENTATION?:language=en-US&:sid=&:redirect=auth&:display_count=n&:origin=viz_share_link"
   ]
  }
 ],
 "metadata": {
  "ExecuteTimeLog": [
   {
    "duration": 7,
    "start_time": "2024-10-02T11:17:06.549Z"
   },
   {
    "duration": 592,
    "start_time": "2024-10-02T11:17:12.095Z"
   },
   {
    "duration": 81,
    "start_time": "2024-10-02T11:17:12.690Z"
   },
   {
    "duration": 3,
    "start_time": "2024-10-02T11:17:12.772Z"
   },
   {
    "duration": 606,
    "start_time": "2024-10-02T11:17:12.777Z"
   },
   {
    "duration": 101,
    "start_time": "2024-10-02T11:17:13.385Z"
   },
   {
    "duration": 3,
    "start_time": "2024-10-02T11:17:31.854Z"
   },
   {
    "duration": 587,
    "start_time": "2024-10-02T11:17:51.713Z"
   },
   {
    "duration": 594,
    "start_time": "2024-10-02T11:18:08.200Z"
   },
   {
    "duration": 524,
    "start_time": "2024-10-03T09:55:05.673Z"
   },
   {
    "duration": 79,
    "start_time": "2024-10-03T09:55:06.199Z"
   },
   {
    "duration": 587,
    "start_time": "2024-10-03T09:55:06.280Z"
   },
   {
    "duration": 567,
    "start_time": "2024-10-03T09:55:06.869Z"
   },
   {
    "duration": 46,
    "start_time": "2024-10-03T09:55:07.438Z"
   },
   {
    "duration": 3589,
    "start_time": "2024-10-03T09:56:41.603Z"
   },
   {
    "duration": 555,
    "start_time": "2024-10-03T10:44:10.309Z"
   },
   {
    "duration": 560,
    "start_time": "2024-10-03T10:44:22.046Z"
   },
   {
    "duration": 561,
    "start_time": "2024-10-03T10:47:27.357Z"
   },
   {
    "duration": 561,
    "start_time": "2024-10-03T10:47:34.632Z"
   },
   {
    "duration": 557,
    "start_time": "2024-10-03T10:48:23.092Z"
   },
   {
    "duration": 566,
    "start_time": "2024-10-03T10:48:30.116Z"
   },
   {
    "duration": 13,
    "start_time": "2024-10-03T10:49:00.989Z"
   },
   {
    "duration": 560,
    "start_time": "2024-10-03T10:49:02.775Z"
   },
   {
    "duration": 556,
    "start_time": "2024-10-03T10:50:44.560Z"
   },
   {
    "duration": 552,
    "start_time": "2024-10-03T10:52:23.140Z"
   },
   {
    "duration": 548,
    "start_time": "2024-10-03T10:52:51.459Z"
   },
   {
    "duration": 558,
    "start_time": "2024-10-03T10:54:28.895Z"
   },
   {
    "duration": 555,
    "start_time": "2024-10-03T10:54:57.284Z"
   },
   {
    "duration": 548,
    "start_time": "2024-10-03T10:56:28.628Z"
   },
   {
    "duration": 549,
    "start_time": "2024-10-03T10:56:35.627Z"
   },
   {
    "duration": 561,
    "start_time": "2024-10-03T10:58:14.392Z"
   },
   {
    "duration": 556,
    "start_time": "2024-10-03T10:58:31.310Z"
   },
   {
    "duration": 554,
    "start_time": "2024-10-03T10:58:41.767Z"
   },
   {
    "duration": 4,
    "start_time": "2024-10-03T11:03:19.250Z"
   },
   {
    "duration": 694,
    "start_time": "2024-10-03T11:03:20.749Z"
   },
   {
    "duration": 4,
    "start_time": "2024-10-03T11:03:53.331Z"
   },
   {
    "duration": 5362,
    "start_time": "2024-10-03T11:03:53.921Z"
   },
   {
    "duration": 550,
    "start_time": "2024-10-04T06:29:44.733Z"
   },
   {
    "duration": 76,
    "start_time": "2024-10-04T06:29:45.285Z"
   },
   {
    "duration": 3613,
    "start_time": "2024-10-04T06:29:45.362Z"
   },
   {
    "duration": 553,
    "start_time": "2024-10-04T06:29:48.976Z"
   },
   {
    "duration": 9,
    "start_time": "2024-10-04T06:29:49.531Z"
   },
   {
    "duration": 564,
    "start_time": "2024-10-04T06:29:49.541Z"
   },
   {
    "duration": 534,
    "start_time": "2024-10-04T06:29:50.107Z"
   },
   {
    "duration": 4,
    "start_time": "2024-10-04T06:29:50.643Z"
   },
   {
    "duration": 5872,
    "start_time": "2024-10-04T06:29:50.649Z"
   },
   {
    "duration": 4599,
    "start_time": "2024-10-04T06:29:56.523Z"
   },
   {
    "duration": 546,
    "start_time": "2024-10-04T13:27:07.694Z"
   },
   {
    "duration": 72,
    "start_time": "2024-10-04T13:27:08.242Z"
   },
   {
    "duration": 4028,
    "start_time": "2024-10-04T13:27:08.315Z"
   },
   {
    "duration": 419,
    "start_time": "2024-10-04T13:27:12.345Z"
   },
   {
    "duration": 13,
    "start_time": "2024-10-04T13:27:12.766Z"
   },
   {
    "duration": 393,
    "start_time": "2024-10-04T13:27:12.781Z"
   },
   {
    "duration": 417,
    "start_time": "2024-10-04T13:27:13.175Z"
   },
   {
    "duration": 3,
    "start_time": "2024-10-04T13:27:13.594Z"
   },
   {
    "duration": 5319,
    "start_time": "2024-10-04T13:27:13.599Z"
   },
   {
    "duration": 4420,
    "start_time": "2024-10-04T13:27:18.920Z"
   },
   {
    "duration": 3,
    "start_time": "2024-10-04T14:14:09.658Z"
   },
   {
    "duration": 5588,
    "start_time": "2024-10-04T14:14:10.522Z"
   },
   {
    "duration": 5463,
    "start_time": "2024-10-04T14:15:26.662Z"
   },
   {
    "duration": 3,
    "start_time": "2024-10-04T14:30:46.281Z"
   },
   {
    "duration": 5795,
    "start_time": "2024-10-04T14:30:50.286Z"
   },
   {
    "duration": 3,
    "start_time": "2024-10-04T14:36:04.932Z"
   },
   {
    "duration": 554,
    "start_time": "2024-10-04T14:36:05.722Z"
   },
   {
    "duration": 4,
    "start_time": "2024-10-04T14:36:31.372Z"
   },
   {
    "duration": 298,
    "start_time": "2024-10-04T14:36:31.987Z"
   },
   {
    "duration": 4,
    "start_time": "2024-10-04T14:36:51.749Z"
   },
   {
    "duration": 481,
    "start_time": "2024-10-04T14:36:53.553Z"
   },
   {
    "duration": 3,
    "start_time": "2024-10-04T14:37:22.268Z"
   },
   {
    "duration": 575,
    "start_time": "2024-10-04T14:38:57.445Z"
   },
   {
    "duration": 62,
    "start_time": "2024-10-04T14:38:58.022Z"
   },
   {
    "duration": 3571,
    "start_time": "2024-10-04T14:38:58.085Z"
   },
   {
    "duration": 428,
    "start_time": "2024-10-04T14:39:01.657Z"
   },
   {
    "duration": 13,
    "start_time": "2024-10-04T14:39:02.088Z"
   },
   {
    "duration": 424,
    "start_time": "2024-10-04T14:39:02.103Z"
   },
   {
    "duration": 445,
    "start_time": "2024-10-04T14:39:02.529Z"
   },
   {
    "duration": 3,
    "start_time": "2024-10-04T14:39:02.976Z"
   },
   {
    "duration": 5745,
    "start_time": "2024-10-04T14:39:02.981Z"
   },
   {
    "duration": 4564,
    "start_time": "2024-10-04T14:39:08.728Z"
   },
   {
    "duration": 3,
    "start_time": "2024-10-04T14:40:44.532Z"
   },
   {
    "duration": 558,
    "start_time": "2024-10-04T14:40:48.249Z"
   },
   {
    "duration": 3,
    "start_time": "2024-10-04T14:41:27.386Z"
   },
   {
    "duration": 487,
    "start_time": "2024-10-04T14:41:27.992Z"
   },
   {
    "duration": 4,
    "start_time": "2024-10-04T14:42:09.825Z"
   },
   {
    "duration": 482,
    "start_time": "2024-10-04T14:42:10.384Z"
   },
   {
    "duration": 4,
    "start_time": "2024-10-04T14:44:41.181Z"
   },
   {
    "duration": 493,
    "start_time": "2024-10-04T14:44:41.565Z"
   },
   {
    "duration": 3,
    "start_time": "2024-10-04T15:14:22.550Z"
   },
   {
    "duration": 487,
    "start_time": "2024-10-04T15:14:23.631Z"
   },
   {
    "duration": 509,
    "start_time": "2024-10-04T15:14:33.730Z"
   },
   {
    "duration": 53,
    "start_time": "2024-10-04T15:14:34.241Z"
   },
   {
    "duration": 3384,
    "start_time": "2024-10-04T15:14:34.295Z"
   },
   {
    "duration": 421,
    "start_time": "2024-10-04T15:14:37.680Z"
   },
   {
    "duration": 12,
    "start_time": "2024-10-04T15:14:38.103Z"
   },
   {
    "duration": 398,
    "start_time": "2024-10-04T15:14:38.116Z"
   },
   {
    "duration": 421,
    "start_time": "2024-10-04T15:14:38.516Z"
   },
   {
    "duration": 4,
    "start_time": "2024-10-04T15:14:38.938Z"
   },
   {
    "duration": 525,
    "start_time": "2024-10-04T15:14:38.943Z"
   },
   {
    "duration": 0,
    "start_time": "2024-10-04T15:14:39.470Z"
   },
   {
    "duration": 4,
    "start_time": "2024-10-04T15:14:55.245Z"
   },
   {
    "duration": 5190,
    "start_time": "2024-10-04T15:14:55.680Z"
   },
   {
    "duration": 3,
    "start_time": "2024-10-04T15:19:23.260Z"
   },
   {
    "duration": 5428,
    "start_time": "2024-10-04T15:19:24.207Z"
   },
   {
    "duration": 4,
    "start_time": "2024-10-04T15:22:15.321Z"
   },
   {
    "duration": 479,
    "start_time": "2024-10-04T15:22:16.490Z"
   },
   {
    "duration": 3,
    "start_time": "2024-10-04T15:25:59.310Z"
   },
   {
    "duration": 287,
    "start_time": "2024-10-04T15:25:59.782Z"
   },
   {
    "duration": 3,
    "start_time": "2024-10-04T15:26:15.738Z"
   },
   {
    "duration": 483,
    "start_time": "2024-10-04T15:26:16.154Z"
   },
   {
    "duration": 4,
    "start_time": "2024-10-04T15:43:09.848Z"
   },
   {
    "duration": 3820,
    "start_time": "2024-10-04T15:43:10.710Z"
   },
   {
    "duration": 502,
    "start_time": "2024-10-04T15:44:15.598Z"
   },
   {
    "duration": 58,
    "start_time": "2024-10-04T15:44:16.102Z"
   },
   {
    "duration": 3361,
    "start_time": "2024-10-04T15:44:16.162Z"
   },
   {
    "duration": 423,
    "start_time": "2024-10-04T15:44:19.524Z"
   },
   {
    "duration": 10,
    "start_time": "2024-10-04T15:44:19.949Z"
   },
   {
    "duration": 405,
    "start_time": "2024-10-04T15:44:19.960Z"
   },
   {
    "duration": 421,
    "start_time": "2024-10-04T15:44:20.367Z"
   },
   {
    "duration": 3,
    "start_time": "2024-10-04T15:44:20.790Z"
   },
   {
    "duration": 3711,
    "start_time": "2024-10-04T15:44:20.795Z"
   },
   {
    "duration": 2845,
    "start_time": "2024-10-04T15:44:24.508Z"
   },
   {
    "duration": 4,
    "start_time": "2024-10-04T16:07:24.062Z"
   },
   {
    "duration": 552,
    "start_time": "2024-10-04T16:07:25.681Z"
   },
   {
    "duration": 3,
    "start_time": "2024-10-04T16:08:24.667Z"
   },
   {
    "duration": 5831,
    "start_time": "2024-10-04T16:08:25.231Z"
   },
   {
    "duration": 3,
    "start_time": "2024-10-04T16:25:12.609Z"
   },
   {
    "duration": 5324,
    "start_time": "2024-10-04T16:25:13.196Z"
   },
   {
    "duration": 494,
    "start_time": "2024-10-05T06:07:12.619Z"
   },
   {
    "duration": 78,
    "start_time": "2024-10-05T06:07:13.115Z"
   },
   {
    "duration": 3754,
    "start_time": "2024-10-05T06:07:13.194Z"
   },
   {
    "duration": 577,
    "start_time": "2024-10-05T06:07:16.950Z"
   },
   {
    "duration": 10,
    "start_time": "2024-10-05T06:07:17.530Z"
   },
   {
    "duration": 577,
    "start_time": "2024-10-05T06:07:17.541Z"
   },
   {
    "duration": 551,
    "start_time": "2024-10-05T06:07:18.119Z"
   },
   {
    "duration": 4,
    "start_time": "2024-10-05T06:07:18.672Z"
   },
   {
    "duration": 5923,
    "start_time": "2024-10-05T06:07:18.678Z"
   },
   {
    "duration": 4508,
    "start_time": "2024-10-05T06:07:24.603Z"
   },
   {
    "duration": 575,
    "start_time": "2024-10-05T06:13:08.295Z"
   },
   {
    "duration": 68,
    "start_time": "2024-10-05T06:13:08.872Z"
   },
   {
    "duration": 3757,
    "start_time": "2024-10-05T06:13:08.942Z"
   },
   {
    "duration": 580,
    "start_time": "2024-10-05T06:13:12.701Z"
   },
   {
    "duration": 10,
    "start_time": "2024-10-05T06:13:13.283Z"
   },
   {
    "duration": 579,
    "start_time": "2024-10-05T06:13:13.295Z"
   },
   {
    "duration": 550,
    "start_time": "2024-10-05T06:13:13.876Z"
   },
   {
    "duration": 5,
    "start_time": "2024-10-05T06:13:14.428Z"
   },
   {
    "duration": 5954,
    "start_time": "2024-10-05T06:13:14.434Z"
   },
   {
    "duration": 4828,
    "start_time": "2024-10-05T06:13:20.390Z"
   },
   {
    "duration": 562,
    "start_time": "2024-10-05T06:14:28.838Z"
   },
   {
    "duration": 71,
    "start_time": "2024-10-05T06:14:29.401Z"
   },
   {
    "duration": 3584,
    "start_time": "2024-10-05T06:14:29.473Z"
   },
   {
    "duration": 574,
    "start_time": "2024-10-05T06:14:33.058Z"
   },
   {
    "duration": 11,
    "start_time": "2024-10-05T06:14:33.634Z"
   },
   {
    "duration": 615,
    "start_time": "2024-10-05T06:14:33.647Z"
   },
   {
    "duration": 553,
    "start_time": "2024-10-05T06:14:34.264Z"
   },
   {
    "duration": 4,
    "start_time": "2024-10-05T06:14:34.819Z"
   },
   {
    "duration": 5902,
    "start_time": "2024-10-05T06:14:34.825Z"
   },
   {
    "duration": 4510,
    "start_time": "2024-10-05T06:14:40.729Z"
   },
   {
    "duration": 535,
    "start_time": "2024-10-05T08:22:29.397Z"
   },
   {
    "duration": 67,
    "start_time": "2024-10-05T08:22:29.934Z"
   },
   {
    "duration": 3713,
    "start_time": "2024-10-05T08:22:30.003Z"
   },
   {
    "duration": 575,
    "start_time": "2024-10-05T08:22:33.718Z"
   },
   {
    "duration": 9,
    "start_time": "2024-10-05T08:22:34.294Z"
   },
   {
    "duration": 609,
    "start_time": "2024-10-05T08:22:34.304Z"
   },
   {
    "duration": 555,
    "start_time": "2024-10-05T08:22:34.914Z"
   },
   {
    "duration": 3,
    "start_time": "2024-10-05T08:22:35.471Z"
   },
   {
    "duration": 5764,
    "start_time": "2024-10-05T08:22:35.476Z"
   },
   {
    "duration": 4533,
    "start_time": "2024-10-05T08:22:41.241Z"
   },
   {
    "duration": 509,
    "start_time": "2024-10-05T11:41:43.693Z"
   },
   {
    "duration": 75,
    "start_time": "2024-10-05T11:41:44.204Z"
   },
   {
    "duration": 3622,
    "start_time": "2024-10-05T11:41:44.283Z"
   },
   {
    "duration": 570,
    "start_time": "2024-10-05T11:41:47.908Z"
   },
   {
    "duration": 9,
    "start_time": "2024-10-05T11:41:48.479Z"
   },
   {
    "duration": 597,
    "start_time": "2024-10-05T11:41:48.489Z"
   },
   {
    "duration": 547,
    "start_time": "2024-10-05T11:41:49.087Z"
   },
   {
    "duration": 3,
    "start_time": "2024-10-05T11:41:49.636Z"
   },
   {
    "duration": 5771,
    "start_time": "2024-10-05T11:41:49.641Z"
   },
   {
    "duration": 4718,
    "start_time": "2024-10-05T11:41:55.414Z"
   },
   {
    "duration": 541,
    "start_time": "2024-10-05T11:44:10.464Z"
   },
   {
    "duration": 70,
    "start_time": "2024-10-05T11:44:11.007Z"
   },
   {
    "duration": 3611,
    "start_time": "2024-10-05T11:44:11.078Z"
   },
   {
    "duration": 572,
    "start_time": "2024-10-05T11:44:14.691Z"
   },
   {
    "duration": 10,
    "start_time": "2024-10-05T11:44:15.265Z"
   },
   {
    "duration": 587,
    "start_time": "2024-10-05T11:44:15.276Z"
   },
   {
    "duration": 552,
    "start_time": "2024-10-05T11:44:15.864Z"
   },
   {
    "duration": 4,
    "start_time": "2024-10-05T11:44:16.417Z"
   },
   {
    "duration": 724,
    "start_time": "2024-10-05T11:44:16.422Z"
   },
   {
    "duration": 0,
    "start_time": "2024-10-05T11:44:17.148Z"
   },
   {
    "duration": 520,
    "start_time": "2024-10-05T11:44:56.061Z"
   },
   {
    "duration": 67,
    "start_time": "2024-10-05T11:44:56.583Z"
   },
   {
    "duration": 3574,
    "start_time": "2024-10-05T11:44:56.652Z"
   },
   {
    "duration": 578,
    "start_time": "2024-10-05T11:45:00.227Z"
   },
   {
    "duration": 10,
    "start_time": "2024-10-05T11:45:00.807Z"
   },
   {
    "duration": 596,
    "start_time": "2024-10-05T11:45:00.819Z"
   },
   {
    "duration": 553,
    "start_time": "2024-10-05T11:45:01.416Z"
   },
   {
    "duration": 3,
    "start_time": "2024-10-05T11:45:01.971Z"
   },
   {
    "duration": 5794,
    "start_time": "2024-10-05T11:45:01.976Z"
   },
   {
    "duration": 4418,
    "start_time": "2024-10-05T11:45:07.772Z"
   },
   {
    "duration": 571,
    "start_time": "2024-10-05T14:56:19.551Z"
   },
   {
    "duration": 569,
    "start_time": "2024-10-05T14:57:02.322Z"
   },
   {
    "duration": 9,
    "start_time": "2024-10-06T16:14:22.242Z"
   },
   {
    "duration": 45,
    "start_time": "2024-10-06T16:14:23.078Z"
   },
   {
    "duration": 523,
    "start_time": "2024-10-06T16:14:29.780Z"
   },
   {
    "duration": 94,
    "start_time": "2024-10-06T16:14:30.306Z"
   },
   {
    "duration": 3780,
    "start_time": "2024-10-06T16:14:30.402Z"
   },
   {
    "duration": 596,
    "start_time": "2024-10-06T16:14:34.184Z"
   },
   {
    "duration": 12,
    "start_time": "2024-10-06T16:14:34.782Z"
   },
   {
    "duration": 615,
    "start_time": "2024-10-06T16:14:34.795Z"
   },
   {
    "duration": 578,
    "start_time": "2024-10-06T16:14:35.412Z"
   },
   {
    "duration": 4,
    "start_time": "2024-10-06T16:14:35.991Z"
   },
   {
    "duration": 474,
    "start_time": "2024-10-06T16:14:35.996Z"
   },
   {
    "duration": 0,
    "start_time": "2024-10-06T16:14:36.473Z"
   },
   {
    "duration": 560,
    "start_time": "2024-10-06T16:16:21.437Z"
   },
   {
    "duration": 70,
    "start_time": "2024-10-06T16:16:21.999Z"
   },
   {
    "duration": 3646,
    "start_time": "2024-10-06T16:16:22.071Z"
   },
   {
    "duration": 599,
    "start_time": "2024-10-06T16:16:25.718Z"
   },
   {
    "duration": 10,
    "start_time": "2024-10-06T16:16:26.319Z"
   },
   {
    "duration": 609,
    "start_time": "2024-10-06T16:16:26.330Z"
   },
   {
    "duration": 572,
    "start_time": "2024-10-06T16:16:26.941Z"
   },
   {
    "duration": 3,
    "start_time": "2024-10-06T16:16:27.515Z"
   },
   {
    "duration": 748,
    "start_time": "2024-10-06T16:16:27.520Z"
   },
   {
    "duration": 0,
    "start_time": "2024-10-06T16:16:28.270Z"
   },
   {
    "duration": 536,
    "start_time": "2024-10-06T16:17:13.163Z"
   },
   {
    "duration": 85,
    "start_time": "2024-10-06T16:17:13.701Z"
   },
   {
    "duration": 3738,
    "start_time": "2024-10-06T16:17:13.788Z"
   },
   {
    "duration": 598,
    "start_time": "2024-10-06T16:17:17.529Z"
   },
   {
    "duration": 14,
    "start_time": "2024-10-06T16:17:18.129Z"
   },
   {
    "duration": 610,
    "start_time": "2024-10-06T16:17:18.145Z"
   },
   {
    "duration": 583,
    "start_time": "2024-10-06T16:17:18.757Z"
   },
   {
    "duration": 4,
    "start_time": "2024-10-06T16:17:19.342Z"
   },
   {
    "duration": 779,
    "start_time": "2024-10-06T16:17:19.347Z"
   },
   {
    "duration": 0,
    "start_time": "2024-10-06T16:17:20.127Z"
   },
   {
    "duration": 534,
    "start_time": "2024-10-06T16:21:33.792Z"
   },
   {
    "duration": 69,
    "start_time": "2024-10-06T16:21:34.328Z"
   },
   {
    "duration": 3646,
    "start_time": "2024-10-06T16:21:34.399Z"
   },
   {
    "duration": 598,
    "start_time": "2024-10-06T16:21:38.047Z"
   },
   {
    "duration": 14,
    "start_time": "2024-10-06T16:21:38.647Z"
   },
   {
    "duration": 606,
    "start_time": "2024-10-06T16:21:38.662Z"
   },
   {
    "duration": 577,
    "start_time": "2024-10-06T16:21:39.270Z"
   },
   {
    "duration": 3,
    "start_time": "2024-10-06T16:21:39.848Z"
   },
   {
    "duration": 451,
    "start_time": "2024-10-06T16:21:39.853Z"
   },
   {
    "duration": 0,
    "start_time": "2024-10-06T16:21:40.306Z"
   },
   {
    "duration": 532,
    "start_time": "2024-10-06T16:22:05.683Z"
   },
   {
    "duration": 234,
    "start_time": "2024-10-06T16:22:06.217Z"
   },
   {
    "duration": 3713,
    "start_time": "2024-10-06T16:22:06.456Z"
   },
   {
    "duration": 592,
    "start_time": "2024-10-06T16:22:10.172Z"
   },
   {
    "duration": 10,
    "start_time": "2024-10-06T16:22:10.766Z"
   },
   {
    "duration": 610,
    "start_time": "2024-10-06T16:22:10.778Z"
   },
   {
    "duration": 579,
    "start_time": "2024-10-06T16:22:11.390Z"
   },
   {
    "duration": 3,
    "start_time": "2024-10-06T16:22:11.971Z"
   },
   {
    "duration": 6164,
    "start_time": "2024-10-06T16:22:11.975Z"
   },
   {
    "duration": 5005,
    "start_time": "2024-10-06T16:22:18.140Z"
   },
   {
    "duration": 545,
    "start_time": "2024-10-06T16:23:10.554Z"
   },
   {
    "duration": 69,
    "start_time": "2024-10-06T16:23:11.101Z"
   },
   {
    "duration": 3637,
    "start_time": "2024-10-06T16:23:11.172Z"
   },
   {
    "duration": 601,
    "start_time": "2024-10-06T16:23:14.810Z"
   },
   {
    "duration": 16,
    "start_time": "2024-10-06T16:23:15.414Z"
   },
   {
    "duration": 608,
    "start_time": "2024-10-06T16:23:15.432Z"
   },
   {
    "duration": 578,
    "start_time": "2024-10-06T16:23:16.041Z"
   },
   {
    "duration": 3,
    "start_time": "2024-10-06T16:23:16.621Z"
   },
   {
    "duration": 6171,
    "start_time": "2024-10-06T16:23:16.626Z"
   },
   {
    "duration": 5081,
    "start_time": "2024-10-06T16:23:22.799Z"
   },
   {
    "duration": 576,
    "start_time": "2024-10-06T16:23:44.024Z"
   },
   {
    "duration": 67,
    "start_time": "2024-10-06T16:23:44.602Z"
   },
   {
    "duration": 3698,
    "start_time": "2024-10-06T16:23:44.671Z"
   },
   {
    "duration": 596,
    "start_time": "2024-10-06T16:23:48.371Z"
   },
   {
    "duration": 11,
    "start_time": "2024-10-06T16:23:48.969Z"
   },
   {
    "duration": 626,
    "start_time": "2024-10-06T16:23:48.982Z"
   },
   {
    "duration": 574,
    "start_time": "2024-10-06T16:23:49.610Z"
   },
   {
    "duration": 4,
    "start_time": "2024-10-06T16:23:50.186Z"
   },
   {
    "duration": 5922,
    "start_time": "2024-10-06T16:23:50.191Z"
   },
   {
    "duration": 5443,
    "start_time": "2024-10-06T16:23:56.114Z"
   },
   {
    "duration": 599,
    "start_time": "2024-10-07T05:45:54.317Z"
   },
   {
    "duration": 78,
    "start_time": "2024-10-07T05:45:54.918Z"
   },
   {
    "duration": 4014,
    "start_time": "2024-10-07T05:45:54.998Z"
   },
   {
    "duration": 550,
    "start_time": "2024-10-07T05:45:59.015Z"
   },
   {
    "duration": 11,
    "start_time": "2024-10-07T05:45:59.567Z"
   },
   {
    "duration": 566,
    "start_time": "2024-10-07T05:45:59.580Z"
   },
   {
    "duration": 530,
    "start_time": "2024-10-07T05:46:00.148Z"
   },
   {
    "duration": 3,
    "start_time": "2024-10-07T05:46:00.680Z"
   },
   {
    "duration": 6030,
    "start_time": "2024-10-07T05:46:00.685Z"
   },
   {
    "duration": 4909,
    "start_time": "2024-10-07T05:46:06.717Z"
   },
   {
    "duration": 634,
    "start_time": "2024-10-07T05:46:38.489Z"
   },
   {
    "duration": 70,
    "start_time": "2024-10-07T05:46:39.125Z"
   },
   {
    "duration": 3737,
    "start_time": "2024-10-07T05:46:39.196Z"
   },
   {
    "duration": 548,
    "start_time": "2024-10-07T05:46:42.935Z"
   },
   {
    "duration": 14,
    "start_time": "2024-10-07T05:46:43.485Z"
   },
   {
    "duration": 559,
    "start_time": "2024-10-07T05:46:43.501Z"
   },
   {
    "duration": 530,
    "start_time": "2024-10-07T05:46:44.061Z"
   },
   {
    "duration": 5,
    "start_time": "2024-10-07T05:46:44.593Z"
   },
   {
    "duration": 5863,
    "start_time": "2024-10-07T05:46:44.600Z"
   },
   {
    "duration": 5011,
    "start_time": "2024-10-07T05:46:50.464Z"
   },
   {
    "duration": 557,
    "start_time": "2024-10-07T08:53:43.980Z"
   },
   {
    "duration": 74,
    "start_time": "2024-10-07T08:53:44.539Z"
   },
   {
    "duration": 3637,
    "start_time": "2024-10-07T08:53:44.615Z"
   },
   {
    "duration": 546,
    "start_time": "2024-10-07T08:53:48.254Z"
   },
   {
    "duration": 15,
    "start_time": "2024-10-07T08:53:48.802Z"
   },
   {
    "duration": 569,
    "start_time": "2024-10-07T08:53:48.819Z"
   },
   {
    "duration": 525,
    "start_time": "2024-10-07T08:53:49.390Z"
   },
   {
    "duration": 3,
    "start_time": "2024-10-07T08:53:49.916Z"
   },
   {
    "duration": 5608,
    "start_time": "2024-10-07T08:53:49.921Z"
   },
   {
    "duration": 4478,
    "start_time": "2024-10-07T08:53:55.530Z"
   },
   {
    "duration": 4545,
    "start_time": "2024-10-07T08:54:51.794Z"
   },
   {
    "duration": 827,
    "start_time": "2024-10-07T20:26:13.065Z"
   },
   {
    "duration": 10,
    "start_time": "2024-10-07T20:26:13.895Z"
   },
   {
    "duration": 6365,
    "start_time": "2024-10-07T20:26:13.907Z"
   },
   {
    "duration": 1151,
    "start_time": "2024-10-07T20:26:20.274Z"
   },
   {
    "duration": 14,
    "start_time": "2024-10-07T20:26:21.445Z"
   },
   {
    "duration": 1121,
    "start_time": "2024-10-07T20:26:21.461Z"
   },
   {
    "duration": 1099,
    "start_time": "2024-10-07T20:26:22.584Z"
   },
   {
    "duration": 4,
    "start_time": "2024-10-07T20:26:23.684Z"
   },
   {
    "duration": 12360,
    "start_time": "2024-10-07T20:26:23.690Z"
   },
   {
    "duration": 9228,
    "start_time": "2024-10-07T20:26:36.052Z"
   },
   {
    "duration": 792,
    "start_time": "2024-10-07T20:35:49.967Z"
   },
   {
    "duration": 6673,
    "start_time": "2024-10-07T21:08:15.210Z"
   },
   {
    "duration": 613,
    "start_time": "2024-10-07T21:16:00.255Z"
   },
   {
    "duration": 14,
    "start_time": "2024-10-07T21:16:00.871Z"
   },
   {
    "duration": 4583,
    "start_time": "2024-10-07T21:16:00.887Z"
   },
   {
    "duration": 1339,
    "start_time": "2024-10-07T21:16:05.472Z"
   },
   {
    "duration": 17,
    "start_time": "2024-10-07T21:16:06.814Z"
   },
   {
    "duration": 1078,
    "start_time": "2024-10-07T21:16:06.833Z"
   },
   {
    "duration": 1256,
    "start_time": "2024-10-07T21:16:07.912Z"
   },
   {
    "duration": 3,
    "start_time": "2024-10-07T21:16:09.170Z"
   },
   {
    "duration": 6481,
    "start_time": "2024-10-07T21:16:09.174Z"
   },
   {
    "duration": 5296,
    "start_time": "2024-10-07T21:16:15.661Z"
   },
   {
    "duration": 8,
    "start_time": "2024-10-08T05:13:29.051Z"
   },
   {
    "duration": 520,
    "start_time": "2024-10-08T05:13:37.155Z"
   },
   {
    "duration": 78,
    "start_time": "2024-10-08T05:13:37.677Z"
   },
   {
    "duration": 4493,
    "start_time": "2024-10-08T05:13:37.756Z"
   },
   {
    "duration": 699,
    "start_time": "2024-10-08T05:13:42.250Z"
   },
   {
    "duration": 11,
    "start_time": "2024-10-08T05:13:42.951Z"
   },
   {
    "duration": 791,
    "start_time": "2024-10-08T05:13:42.963Z"
   },
   {
    "duration": 697,
    "start_time": "2024-10-08T05:13:43.756Z"
   },
   {
    "duration": 3,
    "start_time": "2024-10-08T05:13:44.454Z"
   },
   {
    "duration": 5715,
    "start_time": "2024-10-08T05:13:44.459Z"
   },
   {
    "duration": 4266,
    "start_time": "2024-10-08T05:13:50.176Z"
   },
   {
    "duration": 524,
    "start_time": "2024-10-08T05:16:23.412Z"
   },
   {
    "duration": 60,
    "start_time": "2024-10-08T05:16:23.938Z"
   },
   {
    "duration": 3669,
    "start_time": "2024-10-08T05:16:24.000Z"
   },
   {
    "duration": 699,
    "start_time": "2024-10-08T05:16:27.671Z"
   },
   {
    "duration": 9,
    "start_time": "2024-10-08T05:16:28.373Z"
   },
   {
    "duration": 697,
    "start_time": "2024-10-08T05:16:28.384Z"
   },
   {
    "duration": 695,
    "start_time": "2024-10-08T05:16:29.082Z"
   },
   {
    "duration": 3,
    "start_time": "2024-10-08T05:16:29.779Z"
   },
   {
    "duration": 5783,
    "start_time": "2024-10-08T05:16:29.784Z"
   },
   {
    "duration": 4471,
    "start_time": "2024-10-08T05:16:35.568Z"
   },
   {
    "duration": 489,
    "start_time": "2024-10-08T09:56:40.346Z"
   },
   {
    "duration": 9,
    "start_time": "2024-10-08T09:56:40.837Z"
   },
   {
    "duration": 4412,
    "start_time": "2024-10-08T09:56:40.847Z"
   },
   {
    "duration": 1140,
    "start_time": "2024-10-08T09:56:45.260Z"
   },
   {
    "duration": 9,
    "start_time": "2024-10-08T09:56:46.401Z"
   },
   {
    "duration": 1130,
    "start_time": "2024-10-08T09:56:46.412Z"
   },
   {
    "duration": 2325,
    "start_time": "2024-10-08T09:56:47.543Z"
   },
   {
    "duration": 3,
    "start_time": "2024-10-08T09:56:49.869Z"
   },
   {
    "duration": 5566,
    "start_time": "2024-10-08T09:56:49.873Z"
   },
   {
    "duration": 3927,
    "start_time": "2024-10-08T09:56:55.440Z"
   },
   {
    "duration": 5422,
    "start_time": "2024-10-08T09:57:43.587Z"
   },
   {
    "duration": 504,
    "start_time": "2024-10-08T10:01:07.068Z"
   },
   {
    "duration": 9,
    "start_time": "2024-10-08T10:01:07.574Z"
   },
   {
    "duration": 3766,
    "start_time": "2024-10-08T10:01:07.585Z"
   },
   {
    "duration": 2152,
    "start_time": "2024-10-08T10:01:11.353Z"
   },
   {
    "duration": 10,
    "start_time": "2024-10-08T10:01:13.507Z"
   },
   {
    "duration": 1227,
    "start_time": "2024-10-08T10:01:13.518Z"
   },
   {
    "duration": 1125,
    "start_time": "2024-10-08T10:01:14.746Z"
   },
   {
    "duration": 3,
    "start_time": "2024-10-08T10:01:15.873Z"
   },
   {
    "duration": 5438,
    "start_time": "2024-10-08T10:01:15.878Z"
   },
   {
    "duration": 4105,
    "start_time": "2024-10-08T10:01:21.318Z"
   }
  ],
  "kernelspec": {
   "display_name": "Python 3 (ipykernel)",
   "language": "python",
   "name": "python3"
  },
  "language_info": {
   "codemirror_mode": {
    "name": "ipython",
    "version": 3
   },
   "file_extension": ".py",
   "mimetype": "text/x-python",
   "name": "python",
   "nbconvert_exporter": "python",
   "pygments_lexer": "ipython3",
   "version": "3.9.5"
  },
  "toc": {
   "base_numbering": 1,
   "nav_menu": {},
   "number_sections": true,
   "sideBar": true,
   "skip_h1_title": true,
   "title_cell": "Table of Contents",
   "title_sidebar": "Contents",
   "toc_cell": false,
   "toc_position": {},
   "toc_section_display": true,
   "toc_window_display": false
  }
 },
 "nbformat": 4,
 "nbformat_minor": 5
}
