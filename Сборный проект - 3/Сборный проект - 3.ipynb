{
 "cells": [
  {
   "cell_type": "markdown",
   "metadata": {},
   "source": [
    "Сборный проект\n",
    "Самое время вспомнить знания, полученные в курсе, и решить ещё один аналитический кейс.\n",
    "Описание проекта\n",
    "Вы работаете в интернет-магазине «Стримчик», который продаёт по всему миру компьютерные игры. Из открытых источников доступны исторические данные о продажах игр, оценки пользователей и экспертов, жанры и платформы (например, Xbox или PlayStation). Вам нужно выявить определяющие успешность игры закономерности. Это позволит сделать ставку на потенциально популярный продукт и спланировать рекламные кампании.\n",
    "Перед вами данные до 2016 года. Представим, что сейчас декабрь 2016 г., и вы планируете кампанию на 2017-й. Нужно отработать принцип работы с данными. Неважно, прогнозируете ли вы продажи на 2017 год по данным 2016-го или же 2027-й — по данным 2026 года.\n",
    "В наборе данных попадается аббревиатура ESRB (Entertainment Software Rating Board) — это ассоциация, определяющая возрастной рейтинг компьютерных игр. ESRB оценивает игровой контент и присваивает ему подходящую возрастную категорию, например, «Для взрослых», «Для детей младшего возраста» или «Для подростков».\n",
    " типа markdown. Примените форматирование и заголовки.\n",
    "\n",
    "Описание данных\n",
    "- Name — название игры\n",
    "- Platform — платформа\n",
    "- Year_of_Release — год выпуска\n",
    "- Genre — жанр игры\n",
    "- NA_sales — продажи в Северной Америке (миллионы проданных копий)\n",
    "- EU_sales — продажи в Европе (миллионы проданных копий)\n",
    "- JP_sales — продажи в Японии (миллионы проданных копий)\n",
    "- Other_sales — продажи в других странах (миллионы проданных копий)\n",
    "- Critic_Score — оценка критиков (максимум 100)\n",
    "- User_Score — оценка пользователей (максимум 10)\n",
    "- Rating — рейтинг от организации ESRB (англ. Entertainment Software Rating Board). Эта ассоциация определяет рейтинг компьютерных игр и присваивает им подходящую возрастную категорию."
   ]
  },
  {
   "cell_type": "markdown",
   "metadata": {},
   "source": [
    "## Загрузка данных:"
   ]
  },
  {
   "cell_type": "code",
   "execution_count": 1,
   "metadata": {},
   "outputs": [],
   "source": [
    "import pandas  as pd\n",
    "import matplotlib.pyplot as plt\n",
    "import numpy as np\n",
    "import seaborn as sns\n",
    "import math\n",
    "from scipy import stats as st\n",
    "from scipy.stats import ttest_ind\n",
    "\n",
    "\n",
    "pd.set_option('display.max_columns', None)\n",
    "pd.options.display.max_colwidth = 80    \n",
    "pd.set_option('display.float_format', '{:,.2f}'.format)\n",
    "sns.set(rc={'figure.figsize':(15,10)})"
   ]
  },
  {
   "cell_type": "code",
   "execution_count": 2,
   "metadata": {},
   "outputs": [
    {
     "data": {
      "text/html": [
       "<div>\n",
       "<style scoped>\n",
       "    .dataframe tbody tr th:only-of-type {\n",
       "        vertical-align: middle;\n",
       "    }\n",
       "\n",
       "    .dataframe tbody tr th {\n",
       "        vertical-align: top;\n",
       "    }\n",
       "\n",
       "    .dataframe thead th {\n",
       "        text-align: right;\n",
       "    }\n",
       "</style>\n",
       "<table border=\"1\" class=\"dataframe\">\n",
       "  <thead>\n",
       "    <tr style=\"text-align: right;\">\n",
       "      <th></th>\n",
       "      <th>Name</th>\n",
       "      <th>Platform</th>\n",
       "      <th>Year_of_Release</th>\n",
       "      <th>Genre</th>\n",
       "      <th>NA_sales</th>\n",
       "      <th>EU_sales</th>\n",
       "      <th>JP_sales</th>\n",
       "      <th>Other_sales</th>\n",
       "      <th>Critic_Score</th>\n",
       "      <th>User_Score</th>\n",
       "      <th>Rating</th>\n",
       "    </tr>\n",
       "  </thead>\n",
       "  <tbody>\n",
       "    <tr>\n",
       "      <th>0</th>\n",
       "      <td>Wii Sports</td>\n",
       "      <td>Wii</td>\n",
       "      <td>2,006.00</td>\n",
       "      <td>Sports</td>\n",
       "      <td>41.36</td>\n",
       "      <td>28.96</td>\n",
       "      <td>3.77</td>\n",
       "      <td>8.45</td>\n",
       "      <td>76.00</td>\n",
       "      <td>8</td>\n",
       "      <td>E</td>\n",
       "    </tr>\n",
       "    <tr>\n",
       "      <th>1</th>\n",
       "      <td>Super Mario Bros.</td>\n",
       "      <td>NES</td>\n",
       "      <td>1,985.00</td>\n",
       "      <td>Platform</td>\n",
       "      <td>29.08</td>\n",
       "      <td>3.58</td>\n",
       "      <td>6.81</td>\n",
       "      <td>0.77</td>\n",
       "      <td>NaN</td>\n",
       "      <td>NaN</td>\n",
       "      <td>NaN</td>\n",
       "    </tr>\n",
       "    <tr>\n",
       "      <th>2</th>\n",
       "      <td>Mario Kart Wii</td>\n",
       "      <td>Wii</td>\n",
       "      <td>2,008.00</td>\n",
       "      <td>Racing</td>\n",
       "      <td>15.68</td>\n",
       "      <td>12.76</td>\n",
       "      <td>3.79</td>\n",
       "      <td>3.29</td>\n",
       "      <td>82.00</td>\n",
       "      <td>8.3</td>\n",
       "      <td>E</td>\n",
       "    </tr>\n",
       "    <tr>\n",
       "      <th>3</th>\n",
       "      <td>Wii Sports Resort</td>\n",
       "      <td>Wii</td>\n",
       "      <td>2,009.00</td>\n",
       "      <td>Sports</td>\n",
       "      <td>15.61</td>\n",
       "      <td>10.93</td>\n",
       "      <td>3.28</td>\n",
       "      <td>2.95</td>\n",
       "      <td>80.00</td>\n",
       "      <td>8</td>\n",
       "      <td>E</td>\n",
       "    </tr>\n",
       "    <tr>\n",
       "      <th>4</th>\n",
       "      <td>Pokemon Red/Pokemon Blue</td>\n",
       "      <td>GB</td>\n",
       "      <td>1,996.00</td>\n",
       "      <td>Role-Playing</td>\n",
       "      <td>11.27</td>\n",
       "      <td>8.89</td>\n",
       "      <td>10.22</td>\n",
       "      <td>1.00</td>\n",
       "      <td>NaN</td>\n",
       "      <td>NaN</td>\n",
       "      <td>NaN</td>\n",
       "    </tr>\n",
       "    <tr>\n",
       "      <th>...</th>\n",
       "      <td>...</td>\n",
       "      <td>...</td>\n",
       "      <td>...</td>\n",
       "      <td>...</td>\n",
       "      <td>...</td>\n",
       "      <td>...</td>\n",
       "      <td>...</td>\n",
       "      <td>...</td>\n",
       "      <td>...</td>\n",
       "      <td>...</td>\n",
       "      <td>...</td>\n",
       "    </tr>\n",
       "    <tr>\n",
       "      <th>16710</th>\n",
       "      <td>Samurai Warriors: Sanada Maru</td>\n",
       "      <td>PS3</td>\n",
       "      <td>2,016.00</td>\n",
       "      <td>Action</td>\n",
       "      <td>0.00</td>\n",
       "      <td>0.00</td>\n",
       "      <td>0.01</td>\n",
       "      <td>0.00</td>\n",
       "      <td>NaN</td>\n",
       "      <td>NaN</td>\n",
       "      <td>NaN</td>\n",
       "    </tr>\n",
       "    <tr>\n",
       "      <th>16711</th>\n",
       "      <td>LMA Manager 2007</td>\n",
       "      <td>X360</td>\n",
       "      <td>2,006.00</td>\n",
       "      <td>Sports</td>\n",
       "      <td>0.00</td>\n",
       "      <td>0.01</td>\n",
       "      <td>0.00</td>\n",
       "      <td>0.00</td>\n",
       "      <td>NaN</td>\n",
       "      <td>NaN</td>\n",
       "      <td>NaN</td>\n",
       "    </tr>\n",
       "    <tr>\n",
       "      <th>16712</th>\n",
       "      <td>Haitaka no Psychedelica</td>\n",
       "      <td>PSV</td>\n",
       "      <td>2,016.00</td>\n",
       "      <td>Adventure</td>\n",
       "      <td>0.00</td>\n",
       "      <td>0.00</td>\n",
       "      <td>0.01</td>\n",
       "      <td>0.00</td>\n",
       "      <td>NaN</td>\n",
       "      <td>NaN</td>\n",
       "      <td>NaN</td>\n",
       "    </tr>\n",
       "    <tr>\n",
       "      <th>16713</th>\n",
       "      <td>Spirits &amp; Spells</td>\n",
       "      <td>GBA</td>\n",
       "      <td>2,003.00</td>\n",
       "      <td>Platform</td>\n",
       "      <td>0.01</td>\n",
       "      <td>0.00</td>\n",
       "      <td>0.00</td>\n",
       "      <td>0.00</td>\n",
       "      <td>NaN</td>\n",
       "      <td>NaN</td>\n",
       "      <td>NaN</td>\n",
       "    </tr>\n",
       "    <tr>\n",
       "      <th>16714</th>\n",
       "      <td>Winning Post 8 2016</td>\n",
       "      <td>PSV</td>\n",
       "      <td>2,016.00</td>\n",
       "      <td>Simulation</td>\n",
       "      <td>0.00</td>\n",
       "      <td>0.00</td>\n",
       "      <td>0.01</td>\n",
       "      <td>0.00</td>\n",
       "      <td>NaN</td>\n",
       "      <td>NaN</td>\n",
       "      <td>NaN</td>\n",
       "    </tr>\n",
       "  </tbody>\n",
       "</table>\n",
       "<p>16715 rows × 11 columns</p>\n",
       "</div>"
      ],
      "text/plain": [
       "                                Name Platform  Year_of_Release         Genre  \\\n",
       "0                         Wii Sports      Wii         2,006.00        Sports   \n",
       "1                  Super Mario Bros.      NES         1,985.00      Platform   \n",
       "2                     Mario Kart Wii      Wii         2,008.00        Racing   \n",
       "3                  Wii Sports Resort      Wii         2,009.00        Sports   \n",
       "4           Pokemon Red/Pokemon Blue       GB         1,996.00  Role-Playing   \n",
       "...                              ...      ...              ...           ...   \n",
       "16710  Samurai Warriors: Sanada Maru      PS3         2,016.00        Action   \n",
       "16711               LMA Manager 2007     X360         2,006.00        Sports   \n",
       "16712        Haitaka no Psychedelica      PSV         2,016.00     Adventure   \n",
       "16713               Spirits & Spells      GBA         2,003.00      Platform   \n",
       "16714            Winning Post 8 2016      PSV         2,016.00    Simulation   \n",
       "\n",
       "       NA_sales  EU_sales  JP_sales  Other_sales  Critic_Score User_Score  \\\n",
       "0         41.36     28.96      3.77         8.45         76.00          8   \n",
       "1         29.08      3.58      6.81         0.77           NaN        NaN   \n",
       "2         15.68     12.76      3.79         3.29         82.00        8.3   \n",
       "3         15.61     10.93      3.28         2.95         80.00          8   \n",
       "4         11.27      8.89     10.22         1.00           NaN        NaN   \n",
       "...         ...       ...       ...          ...           ...        ...   \n",
       "16710      0.00      0.00      0.01         0.00           NaN        NaN   \n",
       "16711      0.00      0.01      0.00         0.00           NaN        NaN   \n",
       "16712      0.00      0.00      0.01         0.00           NaN        NaN   \n",
       "16713      0.01      0.00      0.00         0.00           NaN        NaN   \n",
       "16714      0.00      0.00      0.01         0.00           NaN        NaN   \n",
       "\n",
       "      Rating  \n",
       "0          E  \n",
       "1        NaN  \n",
       "2          E  \n",
       "3          E  \n",
       "4        NaN  \n",
       "...      ...  \n",
       "16710    NaN  \n",
       "16711    NaN  \n",
       "16712    NaN  \n",
       "16713    NaN  \n",
       "16714    NaN  \n",
       "\n",
       "[16715 rows x 11 columns]"
      ]
     },
     "execution_count": 2,
     "metadata": {},
     "output_type": "execute_result"
    }
   ],
   "source": [
    "df = pd.read_csv('/datasets/games.csv')\n",
    "df"
   ]
  },
  {
   "cell_type": "code",
   "execution_count": 3,
   "metadata": {},
   "outputs": [
    {
     "name": "stdout",
     "output_type": "stream",
     "text": [
      "<class 'pandas.core.frame.DataFrame'>\n",
      "RangeIndex: 16715 entries, 0 to 16714\n",
      "Data columns (total 11 columns):\n",
      " #   Column           Non-Null Count  Dtype  \n",
      "---  ------           --------------  -----  \n",
      " 0   Name             16713 non-null  object \n",
      " 1   Platform         16715 non-null  object \n",
      " 2   Year_of_Release  16446 non-null  float64\n",
      " 3   Genre            16713 non-null  object \n",
      " 4   NA_sales         16715 non-null  float64\n",
      " 5   EU_sales         16715 non-null  float64\n",
      " 6   JP_sales         16715 non-null  float64\n",
      " 7   Other_sales      16715 non-null  float64\n",
      " 8   Critic_Score     8137 non-null   float64\n",
      " 9   User_Score       10014 non-null  object \n",
      " 10  Rating           9949 non-null   object \n",
      "dtypes: float64(6), object(5)\n",
      "memory usage: 1.4+ MB\n"
     ]
    }
   ],
   "source": [
    "df.info()"
   ]
  },
  {
   "cell_type": "markdown",
   "metadata": {},
   "source": [
    "**Вывод:** загрузили данные, информация о датасете говорит, что в данных есть проблемы. "
   ]
  },
  {
   "cell_type": "markdown",
   "metadata": {},
   "source": [
    "## Предобработка данных"
   ]
  },
  {
   "cell_type": "code",
   "execution_count": 4,
   "metadata": {},
   "outputs": [
    {
     "data": {
      "text/html": [
       "<div>\n",
       "<style scoped>\n",
       "    .dataframe tbody tr th:only-of-type {\n",
       "        vertical-align: middle;\n",
       "    }\n",
       "\n",
       "    .dataframe tbody tr th {\n",
       "        vertical-align: top;\n",
       "    }\n",
       "\n",
       "    .dataframe thead th {\n",
       "        text-align: right;\n",
       "    }\n",
       "</style>\n",
       "<table border=\"1\" class=\"dataframe\">\n",
       "  <thead>\n",
       "    <tr style=\"text-align: right;\">\n",
       "      <th></th>\n",
       "      <th>name</th>\n",
       "      <th>platform</th>\n",
       "      <th>year_of_release</th>\n",
       "      <th>genre</th>\n",
       "      <th>na_sales</th>\n",
       "      <th>eu_sales</th>\n",
       "      <th>jp_sales</th>\n",
       "      <th>other_sales</th>\n",
       "      <th>critic_score</th>\n",
       "      <th>user_score</th>\n",
       "      <th>rating</th>\n",
       "    </tr>\n",
       "  </thead>\n",
       "  <tbody>\n",
       "    <tr>\n",
       "      <th>0</th>\n",
       "      <td>Wii Sports</td>\n",
       "      <td>Wii</td>\n",
       "      <td>2,006.00</td>\n",
       "      <td>Sports</td>\n",
       "      <td>41.36</td>\n",
       "      <td>28.96</td>\n",
       "      <td>3.77</td>\n",
       "      <td>8.45</td>\n",
       "      <td>76.00</td>\n",
       "      <td>8</td>\n",
       "      <td>E</td>\n",
       "    </tr>\n",
       "    <tr>\n",
       "      <th>1</th>\n",
       "      <td>Super Mario Bros.</td>\n",
       "      <td>NES</td>\n",
       "      <td>1,985.00</td>\n",
       "      <td>Platform</td>\n",
       "      <td>29.08</td>\n",
       "      <td>3.58</td>\n",
       "      <td>6.81</td>\n",
       "      <td>0.77</td>\n",
       "      <td>NaN</td>\n",
       "      <td>NaN</td>\n",
       "      <td>NaN</td>\n",
       "    </tr>\n",
       "    <tr>\n",
       "      <th>2</th>\n",
       "      <td>Mario Kart Wii</td>\n",
       "      <td>Wii</td>\n",
       "      <td>2,008.00</td>\n",
       "      <td>Racing</td>\n",
       "      <td>15.68</td>\n",
       "      <td>12.76</td>\n",
       "      <td>3.79</td>\n",
       "      <td>3.29</td>\n",
       "      <td>82.00</td>\n",
       "      <td>8.3</td>\n",
       "      <td>E</td>\n",
       "    </tr>\n",
       "  </tbody>\n",
       "</table>\n",
       "</div>"
      ],
      "text/plain": [
       "                name platform  year_of_release     genre  na_sales  eu_sales  \\\n",
       "0         Wii Sports      Wii         2,006.00    Sports     41.36     28.96   \n",
       "1  Super Mario Bros.      NES         1,985.00  Platform     29.08      3.58   \n",
       "2     Mario Kart Wii      Wii         2,008.00    Racing     15.68     12.76   \n",
       "\n",
       "   jp_sales  other_sales  critic_score user_score rating  \n",
       "0      3.77         8.45         76.00          8      E  \n",
       "1      6.81         0.77           NaN        NaN    NaN  \n",
       "2      3.79         3.29         82.00        8.3      E  "
      ]
     },
     "execution_count": 4,
     "metadata": {},
     "output_type": "execute_result"
    }
   ],
   "source": [
    "df.columns = df.columns.str.lower()\n",
    "df.head(3)"
   ]
  },
  {
   "cell_type": "markdown",
   "metadata": {},
   "source": [
    "### Поиск дубликатов"
   ]
  },
  {
   "cell_type": "markdown",
   "metadata": {},
   "source": [
    "Поиск явных дубликатов"
   ]
  },
  {
   "cell_type": "code",
   "execution_count": 5,
   "metadata": {},
   "outputs": [
    {
     "data": {
      "text/plain": [
       "0"
      ]
     },
     "execution_count": 5,
     "metadata": {},
     "output_type": "execute_result"
    }
   ],
   "source": [
    "df.duplicated().sum()"
   ]
  },
  {
   "cell_type": "markdown",
   "metadata": {},
   "source": [
    "Поищем неявные дубликаты, опираяся на название игры и платформу выхода. "
   ]
  },
  {
   "cell_type": "code",
   "execution_count": 6,
   "metadata": {},
   "outputs": [
    {
     "name": "stdout",
     "output_type": "stream",
     "text": [
      "name               4\n",
      "platform           5\n",
      "year_of_release    4\n",
      "genre              4\n",
      "na_sales           5\n",
      "eu_sales           5\n",
      "jp_sales           5\n",
      "other_sales        5\n",
      "critic_score       4\n",
      "user_score         4\n",
      "rating             4\n",
      "dtype: int64\n"
     ]
    }
   ],
   "source": [
    "print(df[df.duplicated(['name', 'platform'])].count())"
   ]
  },
  {
   "cell_type": "code",
   "execution_count": 7,
   "metadata": {},
   "outputs": [],
   "source": [
    "df = df.drop_duplicates(['name', 'platform'])"
   ]
  },
  {
   "cell_type": "code",
   "execution_count": 8,
   "metadata": {},
   "outputs": [
    {
     "name": "stdout",
     "output_type": "stream",
     "text": [
      "name               0\n",
      "platform           0\n",
      "year_of_release    0\n",
      "genre              0\n",
      "na_sales           0\n",
      "eu_sales           0\n",
      "jp_sales           0\n",
      "other_sales        0\n",
      "critic_score       0\n",
      "user_score         0\n",
      "rating             0\n",
      "dtype: int64\n"
     ]
    }
   ],
   "source": [
    "print(df[df.duplicated(['name', 'platform'])].count())"
   ]
  },
  {
   "cell_type": "code",
   "execution_count": 9,
   "metadata": {},
   "outputs": [
    {
     "data": {
      "text/plain": [
       "16710"
      ]
     },
     "execution_count": 9,
     "metadata": {},
     "output_type": "execute_result"
    }
   ],
   "source": [
    "len(df)"
   ]
  },
  {
   "cell_type": "markdown",
   "metadata": {},
   "source": [
    "**Промежуточный вывод:** явные дубликаты не обнаружены, удалены неявные дубликаты. "
   ]
  },
  {
   "cell_type": "markdown",
   "metadata": {},
   "source": [
    "### Обработка пропусков"
   ]
  },
  {
   "cell_type": "code",
   "execution_count": 10,
   "metadata": {},
   "outputs": [
    {
     "data": {
      "text/plain": [
       "name                  1\n",
       "platform              0\n",
       "year_of_release     268\n",
       "genre                 1\n",
       "na_sales              0\n",
       "eu_sales              0\n",
       "jp_sales              0\n",
       "other_sales           0\n",
       "critic_score       8577\n",
       "user_score         6700\n",
       "rating             6765\n",
       "dtype: int64"
      ]
     },
     "execution_count": 10,
     "metadata": {},
     "output_type": "execute_result"
    }
   ],
   "source": [
    "df.isna().sum()"
   ]
  },
  {
   "cell_type": "markdown",
   "metadata": {},
   "source": [
    "Посмотрим на процентное соотношения пропусков ко всему датасету: "
   ]
  },
  {
   "cell_type": "code",
   "execution_count": 11,
   "metadata": {},
   "outputs": [
    {
     "data": {
      "text/plain": [
       "name              0.00\n",
       "platform          0.00\n",
       "year_of_release   0.02\n",
       "genre             0.00\n",
       "na_sales          0.00\n",
       "eu_sales          0.00\n",
       "jp_sales          0.00\n",
       "other_sales       0.00\n",
       "critic_score      0.51\n",
       "user_score        0.40\n",
       "rating            0.40\n",
       "dtype: float64"
      ]
     },
     "execution_count": 11,
     "metadata": {},
     "output_type": "execute_result"
    }
   ],
   "source": [
    "df.isna().sum()/len(df)"
   ]
  },
  {
   "cell_type": "code",
   "execution_count": 12,
   "metadata": {},
   "outputs": [
    {
     "data": {
      "text/plain": [
       "0.9997008674842955"
      ]
     },
     "execution_count": 12,
     "metadata": {},
     "output_type": "execute_result"
    }
   ],
   "source": [
    "len(df)/16715"
   ]
  },
  {
   "cell_type": "markdown",
   "metadata": {},
   "source": [
    "Исходя из полученных соотношений можем удалить данные с пропусками в годе выхода и наименовании, тк процент выборки низок, и это не скажется на полученных результатах. Отметим, что данные пропуски нельзя заменить в ручную. Сохранили 98.3% изначальной выборки. "
   ]
  },
  {
   "cell_type": "code",
   "execution_count": 13,
   "metadata": {},
   "outputs": [],
   "source": [
    "df = df.dropna(subset=['year_of_release'])\n",
    "df = df.dropna(subset=['name'])"
   ]
  },
  {
   "cell_type": "code",
   "execution_count": 14,
   "metadata": {},
   "outputs": [
    {
     "data": {
      "text/plain": [
       "name                  0\n",
       "platform              0\n",
       "year_of_release       0\n",
       "genre                 0\n",
       "na_sales              0\n",
       "eu_sales              0\n",
       "jp_sales              0\n",
       "other_sales           0\n",
       "critic_score       8461\n",
       "user_score         6605\n",
       "rating             6676\n",
       "dtype: int64"
      ]
     },
     "execution_count": 14,
     "metadata": {},
     "output_type": "execute_result"
    }
   ],
   "source": [
    "df.isna().sum()"
   ]
  },
  {
   "cell_type": "markdown",
   "metadata": {},
   "source": [
    "**Пропуски в оценках критиков и пользователей:**"
   ]
  },
  {
   "cell_type": "code",
   "execution_count": 15,
   "metadata": {},
   "outputs": [
    {
     "data": {
      "text/plain": [
       "array(['8', nan, '8.3', '8.5', '6.6', '8.4', '8.6', '7.7', '6.3', '7.4',\n",
       "       '8.2', '9', '7.9', '8.1', '8.7', '7.1', '3.4', '5.3', '4.8', '3.2',\n",
       "       '8.9', '6.4', '7.8', '7.5', '2.6', '7.2', '9.2', '7', '7.3', '4.3',\n",
       "       '7.6', '5.7', '5', '9.1', '6.5', 'tbd', '8.8', '6.9', '9.4', '6.8',\n",
       "       '6.1', '6.7', '5.4', '4', '4.9', '4.5', '9.3', '6.2', '4.2', '6',\n",
       "       '3.7', '4.1', '5.8', '5.6', '5.5', '4.4', '4.6', '5.9', '3.9',\n",
       "       '3.1', '2.9', '5.2', '3.3', '4.7', '5.1', '3.5', '2.5', '1.9', '3',\n",
       "       '2.7', '2.2', '2', '9.5', '2.1', '3.6', '2.8', '1.8', '3.8', '0',\n",
       "       '1.6', '9.6', '2.4', '1.7', '1.1', '0.3', '1.5', '0.7', '1.2',\n",
       "       '2.3', '0.5', '1.3', '0.2', '0.6', '1.4', '0.9', '1', '9.7'],\n",
       "      dtype=object)"
      ]
     },
     "execution_count": 15,
     "metadata": {},
     "output_type": "execute_result"
    }
   ],
   "source": [
    "df['user_score'].unique()"
   ]
  },
  {
   "cell_type": "code",
   "execution_count": 16,
   "metadata": {},
   "outputs": [
    {
     "data": {
      "text/plain": [
       "tbd    2376\n",
       "7.8     322\n",
       "8       285\n",
       "8.2     276\n",
       "8.3     252\n",
       "       ... \n",
       "0.5       2\n",
       "2.3       2\n",
       "0.2       2\n",
       "0         1\n",
       "9.7       1\n",
       "Name: user_score, Length: 96, dtype: int64"
      ]
     },
     "execution_count": 16,
     "metadata": {},
     "output_type": "execute_result"
    }
   ],
   "source": [
    "df['user_score'].value_counts()"
   ]
  },
  {
   "cell_type": "markdown",
   "metadata": {},
   "source": [
    "Заметим, что помимо пропусков в данных есть значение tbd, что также обозначает пропуск. Всего среди пользовательских оценок есть одна оценка 0 - такое маловероятно, чтобы оценка была 0, это - очевидный аутлайер. Прировняем все пропуски, а также значения tbd, в данном параметре к 0. "
   ]
  },
  {
   "cell_type": "code",
   "execution_count": 17,
   "metadata": {},
   "outputs": [],
   "source": [
    "df.loc[df['user_score'] == 'tbd', 'user_score'] = 0\n",
    "df['user_score'] = df['user_score'].fillna(0)"
   ]
  },
  {
   "cell_type": "code",
   "execution_count": 18,
   "metadata": {},
   "outputs": [
    {
     "data": {
      "text/plain": [
       "array([76., nan, 82., 80., 89., 58., 87., 91., 61., 97., 95., 77., 88.,\n",
       "       83., 94., 93., 85., 86., 98., 96., 90., 84., 73., 74., 78., 92.,\n",
       "       71., 72., 68., 62., 49., 67., 81., 66., 56., 79., 70., 59., 64.,\n",
       "       75., 60., 63., 69., 50., 25., 42., 44., 55., 48., 57., 29., 47.,\n",
       "       65., 54., 20., 53., 37., 38., 33., 52., 30., 32., 43., 45., 51.,\n",
       "       40., 46., 39., 34., 41., 36., 31., 27., 35., 26., 19., 28., 23.,\n",
       "       24., 21., 17., 13.])"
      ]
     },
     "execution_count": 18,
     "metadata": {},
     "output_type": "execute_result"
    }
   ],
   "source": [
    "df['critic_score'].unique()"
   ]
  },
  {
   "cell_type": "code",
   "execution_count": 19,
   "metadata": {},
   "outputs": [
    {
     "data": {
      "text/plain": [
       "70.00    252\n",
       "71.00    248\n",
       "75.00    240\n",
       "80.00    235\n",
       "73.00    234\n",
       "        ... \n",
       "29.00      3\n",
       "20.00      3\n",
       "13.00      1\n",
       "17.00      1\n",
       "21.00      1\n",
       "Name: critic_score, Length: 81, dtype: int64"
      ]
     },
     "execution_count": 19,
     "metadata": {},
     "output_type": "execute_result"
    }
   ],
   "source": [
    "df['critic_score'].value_counts()"
   ]
  },
  {
   "cell_type": "markdown",
   "metadata": {},
   "source": [
    "Аналогично прировняем пропуски в показателе оценки критиков к нулю. "
   ]
  },
  {
   "cell_type": "code",
   "execution_count": 20,
   "metadata": {},
   "outputs": [],
   "source": [
    "df['critic_score'] = df['critic_score'].fillna('0')"
   ]
  },
  {
   "cell_type": "markdown",
   "metadata": {},
   "source": [
    "**Пропуски в оценках рейтинговой комиссии:**"
   ]
  },
  {
   "cell_type": "code",
   "execution_count": 21,
   "metadata": {},
   "outputs": [
    {
     "data": {
      "text/plain": [
       "array(['E', nan, 'M', 'T', 'E10+', 'K-A', 'AO', 'EC', 'RP'], dtype=object)"
      ]
     },
     "execution_count": 21,
     "metadata": {},
     "output_type": "execute_result"
    }
   ],
   "source": [
    "df['rating'].unique()"
   ]
  },
  {
   "cell_type": "code",
   "execution_count": 22,
   "metadata": {},
   "outputs": [
    {
     "data": {
      "text/plain": [
       "E       3920\n",
       "T       2903\n",
       "M       1536\n",
       "E10+    1393\n",
       "EC         8\n",
       "K-A        3\n",
       "RP         1\n",
       "AO         1\n",
       "Name: rating, dtype: int64"
      ]
     },
     "execution_count": 22,
     "metadata": {},
     "output_type": "execute_result"
    }
   ],
   "source": [
    "df['rating'].value_counts()"
   ]
  },
  {
   "cell_type": "markdown",
   "metadata": {},
   "source": [
    "Заменим пропуски на \"неизвестно\"."
   ]
  },
  {
   "cell_type": "code",
   "execution_count": 23,
   "metadata": {},
   "outputs": [],
   "source": [
    "df['rating'] = df['rating'].fillna('неизвестно')"
   ]
  },
  {
   "cell_type": "code",
   "execution_count": 24,
   "metadata": {},
   "outputs": [
    {
     "data": {
      "text/plain": [
       "array(['E', 'неизвестно', 'M', 'T', 'E10+', 'K-A', 'AO', 'EC', 'RP'],\n",
       "      dtype=object)"
      ]
     },
     "execution_count": 24,
     "metadata": {},
     "output_type": "execute_result"
    }
   ],
   "source": [
    "df['rating'].unique()"
   ]
  },
  {
   "cell_type": "code",
   "execution_count": 25,
   "metadata": {},
   "outputs": [
    {
     "data": {
      "text/plain": [
       "name               0\n",
       "platform           0\n",
       "year_of_release    0\n",
       "genre              0\n",
       "na_sales           0\n",
       "eu_sales           0\n",
       "jp_sales           0\n",
       "other_sales        0\n",
       "critic_score       0\n",
       "user_score         0\n",
       "rating             0\n",
       "dtype: int64"
      ]
     },
     "execution_count": 25,
     "metadata": {},
     "output_type": "execute_result"
    }
   ],
   "source": [
    "df.isna().sum()"
   ]
  },
  {
   "cell_type": "markdown",
   "metadata": {},
   "source": [
    "**Промежуточный вывод:** удалены пропуски, не влияющие сильно на выборку. В параметрах, где удалить пропуски невозможно, значения заменены на заглушки. "
   ]
  },
  {
   "cell_type": "markdown",
   "metadata": {},
   "source": [
    "### Изменение типо данных"
   ]
  },
  {
   "cell_type": "code",
   "execution_count": 26,
   "metadata": {},
   "outputs": [
    {
     "name": "stdout",
     "output_type": "stream",
     "text": [
      "<class 'pandas.core.frame.DataFrame'>\n",
      "Int64Index: 16441 entries, 0 to 16714\n",
      "Data columns (total 11 columns):\n",
      " #   Column           Non-Null Count  Dtype  \n",
      "---  ------           --------------  -----  \n",
      " 0   name             16441 non-null  object \n",
      " 1   platform         16441 non-null  object \n",
      " 2   year_of_release  16441 non-null  float64\n",
      " 3   genre            16441 non-null  object \n",
      " 4   na_sales         16441 non-null  float64\n",
      " 5   eu_sales         16441 non-null  float64\n",
      " 6   jp_sales         16441 non-null  float64\n",
      " 7   other_sales      16441 non-null  float64\n",
      " 8   critic_score     16441 non-null  object \n",
      " 9   user_score       16441 non-null  object \n",
      " 10  rating           16441 non-null  object \n",
      "dtypes: float64(5), object(6)\n",
      "memory usage: 1.5+ MB\n"
     ]
    }
   ],
   "source": [
    "df.info()"
   ]
  },
  {
   "cell_type": "code",
   "execution_count": 27,
   "metadata": {},
   "outputs": [],
   "source": [
    "df['year_of_release'] = df['year_of_release'].astype('int')\n",
    "df['critic_score'] = df['critic_score'].astype('int')\n",
    "df['user_score'] = df['user_score'].astype('float')"
   ]
  },
  {
   "cell_type": "code",
   "execution_count": 28,
   "metadata": {},
   "outputs": [],
   "source": [
    "df = df.reset_index(drop=True)"
   ]
  },
  {
   "cell_type": "code",
   "execution_count": 29,
   "metadata": {},
   "outputs": [
    {
     "name": "stdout",
     "output_type": "stream",
     "text": [
      "<class 'pandas.core.frame.DataFrame'>\n",
      "RangeIndex: 16441 entries, 0 to 16440\n",
      "Data columns (total 11 columns):\n",
      " #   Column           Non-Null Count  Dtype  \n",
      "---  ------           --------------  -----  \n",
      " 0   name             16441 non-null  object \n",
      " 1   platform         16441 non-null  object \n",
      " 2   year_of_release  16441 non-null  int64  \n",
      " 3   genre            16441 non-null  object \n",
      " 4   na_sales         16441 non-null  float64\n",
      " 5   eu_sales         16441 non-null  float64\n",
      " 6   jp_sales         16441 non-null  float64\n",
      " 7   other_sales      16441 non-null  float64\n",
      " 8   critic_score     16441 non-null  int64  \n",
      " 9   user_score       16441 non-null  float64\n",
      " 10  rating           16441 non-null  object \n",
      "dtypes: float64(5), int64(2), object(4)\n",
      "memory usage: 1.4+ MB\n"
     ]
    }
   ],
   "source": [
    "df.info()"
   ]
  },
  {
   "cell_type": "markdown",
   "metadata": {},
   "source": [
    "**Промежуточный вывод:** изменены типы данных, где необходимо, обновлены индексы датасета. "
   ]
  },
  {
   "cell_type": "markdown",
   "metadata": {},
   "source": [
    "###  Cуммарные продажи во всех регионах"
   ]
  },
  {
   "cell_type": "code",
   "execution_count": 30,
   "metadata": {},
   "outputs": [],
   "source": [
    "df['total_sales'] = df['na_sales'] + df['eu_sales'] + df['jp_sales'] + df['other_sales']"
   ]
  },
  {
   "cell_type": "code",
   "execution_count": 31,
   "metadata": {},
   "outputs": [
    {
     "data": {
      "text/html": [
       "<div>\n",
       "<style scoped>\n",
       "    .dataframe tbody tr th:only-of-type {\n",
       "        vertical-align: middle;\n",
       "    }\n",
       "\n",
       "    .dataframe tbody tr th {\n",
       "        vertical-align: top;\n",
       "    }\n",
       "\n",
       "    .dataframe thead th {\n",
       "        text-align: right;\n",
       "    }\n",
       "</style>\n",
       "<table border=\"1\" class=\"dataframe\">\n",
       "  <thead>\n",
       "    <tr style=\"text-align: right;\">\n",
       "      <th></th>\n",
       "      <th>name</th>\n",
       "      <th>platform</th>\n",
       "      <th>year_of_release</th>\n",
       "      <th>genre</th>\n",
       "      <th>na_sales</th>\n",
       "      <th>eu_sales</th>\n",
       "      <th>jp_sales</th>\n",
       "      <th>other_sales</th>\n",
       "      <th>critic_score</th>\n",
       "      <th>user_score</th>\n",
       "      <th>rating</th>\n",
       "      <th>total_sales</th>\n",
       "    </tr>\n",
       "  </thead>\n",
       "  <tbody>\n",
       "    <tr>\n",
       "      <th>0</th>\n",
       "      <td>Wii Sports</td>\n",
       "      <td>Wii</td>\n",
       "      <td>2006</td>\n",
       "      <td>Sports</td>\n",
       "      <td>41.36</td>\n",
       "      <td>28.96</td>\n",
       "      <td>3.77</td>\n",
       "      <td>8.45</td>\n",
       "      <td>76</td>\n",
       "      <td>8.00</td>\n",
       "      <td>E</td>\n",
       "      <td>82.54</td>\n",
       "    </tr>\n",
       "    <tr>\n",
       "      <th>1</th>\n",
       "      <td>Super Mario Bros.</td>\n",
       "      <td>NES</td>\n",
       "      <td>1985</td>\n",
       "      <td>Platform</td>\n",
       "      <td>29.08</td>\n",
       "      <td>3.58</td>\n",
       "      <td>6.81</td>\n",
       "      <td>0.77</td>\n",
       "      <td>0</td>\n",
       "      <td>0.00</td>\n",
       "      <td>неизвестно</td>\n",
       "      <td>40.24</td>\n",
       "    </tr>\n",
       "    <tr>\n",
       "      <th>2</th>\n",
       "      <td>Mario Kart Wii</td>\n",
       "      <td>Wii</td>\n",
       "      <td>2008</td>\n",
       "      <td>Racing</td>\n",
       "      <td>15.68</td>\n",
       "      <td>12.76</td>\n",
       "      <td>3.79</td>\n",
       "      <td>3.29</td>\n",
       "      <td>82</td>\n",
       "      <td>8.30</td>\n",
       "      <td>E</td>\n",
       "      <td>35.52</td>\n",
       "    </tr>\n",
       "    <tr>\n",
       "      <th>3</th>\n",
       "      <td>Wii Sports Resort</td>\n",
       "      <td>Wii</td>\n",
       "      <td>2009</td>\n",
       "      <td>Sports</td>\n",
       "      <td>15.61</td>\n",
       "      <td>10.93</td>\n",
       "      <td>3.28</td>\n",
       "      <td>2.95</td>\n",
       "      <td>80</td>\n",
       "      <td>8.00</td>\n",
       "      <td>E</td>\n",
       "      <td>32.77</td>\n",
       "    </tr>\n",
       "    <tr>\n",
       "      <th>4</th>\n",
       "      <td>Pokemon Red/Pokemon Blue</td>\n",
       "      <td>GB</td>\n",
       "      <td>1996</td>\n",
       "      <td>Role-Playing</td>\n",
       "      <td>11.27</td>\n",
       "      <td>8.89</td>\n",
       "      <td>10.22</td>\n",
       "      <td>1.00</td>\n",
       "      <td>0</td>\n",
       "      <td>0.00</td>\n",
       "      <td>неизвестно</td>\n",
       "      <td>31.38</td>\n",
       "    </tr>\n",
       "    <tr>\n",
       "      <th>...</th>\n",
       "      <td>...</td>\n",
       "      <td>...</td>\n",
       "      <td>...</td>\n",
       "      <td>...</td>\n",
       "      <td>...</td>\n",
       "      <td>...</td>\n",
       "      <td>...</td>\n",
       "      <td>...</td>\n",
       "      <td>...</td>\n",
       "      <td>...</td>\n",
       "      <td>...</td>\n",
       "      <td>...</td>\n",
       "    </tr>\n",
       "    <tr>\n",
       "      <th>16436</th>\n",
       "      <td>Samurai Warriors: Sanada Maru</td>\n",
       "      <td>PS3</td>\n",
       "      <td>2016</td>\n",
       "      <td>Action</td>\n",
       "      <td>0.00</td>\n",
       "      <td>0.00</td>\n",
       "      <td>0.01</td>\n",
       "      <td>0.00</td>\n",
       "      <td>0</td>\n",
       "      <td>0.00</td>\n",
       "      <td>неизвестно</td>\n",
       "      <td>0.01</td>\n",
       "    </tr>\n",
       "    <tr>\n",
       "      <th>16437</th>\n",
       "      <td>LMA Manager 2007</td>\n",
       "      <td>X360</td>\n",
       "      <td>2006</td>\n",
       "      <td>Sports</td>\n",
       "      <td>0.00</td>\n",
       "      <td>0.01</td>\n",
       "      <td>0.00</td>\n",
       "      <td>0.00</td>\n",
       "      <td>0</td>\n",
       "      <td>0.00</td>\n",
       "      <td>неизвестно</td>\n",
       "      <td>0.01</td>\n",
       "    </tr>\n",
       "    <tr>\n",
       "      <th>16438</th>\n",
       "      <td>Haitaka no Psychedelica</td>\n",
       "      <td>PSV</td>\n",
       "      <td>2016</td>\n",
       "      <td>Adventure</td>\n",
       "      <td>0.00</td>\n",
       "      <td>0.00</td>\n",
       "      <td>0.01</td>\n",
       "      <td>0.00</td>\n",
       "      <td>0</td>\n",
       "      <td>0.00</td>\n",
       "      <td>неизвестно</td>\n",
       "      <td>0.01</td>\n",
       "    </tr>\n",
       "    <tr>\n",
       "      <th>16439</th>\n",
       "      <td>Spirits &amp; Spells</td>\n",
       "      <td>GBA</td>\n",
       "      <td>2003</td>\n",
       "      <td>Platform</td>\n",
       "      <td>0.01</td>\n",
       "      <td>0.00</td>\n",
       "      <td>0.00</td>\n",
       "      <td>0.00</td>\n",
       "      <td>0</td>\n",
       "      <td>0.00</td>\n",
       "      <td>неизвестно</td>\n",
       "      <td>0.01</td>\n",
       "    </tr>\n",
       "    <tr>\n",
       "      <th>16440</th>\n",
       "      <td>Winning Post 8 2016</td>\n",
       "      <td>PSV</td>\n",
       "      <td>2016</td>\n",
       "      <td>Simulation</td>\n",
       "      <td>0.00</td>\n",
       "      <td>0.00</td>\n",
       "      <td>0.01</td>\n",
       "      <td>0.00</td>\n",
       "      <td>0</td>\n",
       "      <td>0.00</td>\n",
       "      <td>неизвестно</td>\n",
       "      <td>0.01</td>\n",
       "    </tr>\n",
       "  </tbody>\n",
       "</table>\n",
       "<p>16441 rows × 12 columns</p>\n",
       "</div>"
      ],
      "text/plain": [
       "                                name platform  year_of_release         genre  \\\n",
       "0                         Wii Sports      Wii             2006        Sports   \n",
       "1                  Super Mario Bros.      NES             1985      Platform   \n",
       "2                     Mario Kart Wii      Wii             2008        Racing   \n",
       "3                  Wii Sports Resort      Wii             2009        Sports   \n",
       "4           Pokemon Red/Pokemon Blue       GB             1996  Role-Playing   \n",
       "...                              ...      ...              ...           ...   \n",
       "16436  Samurai Warriors: Sanada Maru      PS3             2016        Action   \n",
       "16437               LMA Manager 2007     X360             2006        Sports   \n",
       "16438        Haitaka no Psychedelica      PSV             2016     Adventure   \n",
       "16439               Spirits & Spells      GBA             2003      Platform   \n",
       "16440            Winning Post 8 2016      PSV             2016    Simulation   \n",
       "\n",
       "       na_sales  eu_sales  jp_sales  other_sales  critic_score  user_score  \\\n",
       "0         41.36     28.96      3.77         8.45            76        8.00   \n",
       "1         29.08      3.58      6.81         0.77             0        0.00   \n",
       "2         15.68     12.76      3.79         3.29            82        8.30   \n",
       "3         15.61     10.93      3.28         2.95            80        8.00   \n",
       "4         11.27      8.89     10.22         1.00             0        0.00   \n",
       "...         ...       ...       ...          ...           ...         ...   \n",
       "16436      0.00      0.00      0.01         0.00             0        0.00   \n",
       "16437      0.00      0.01      0.00         0.00             0        0.00   \n",
       "16438      0.00      0.00      0.01         0.00             0        0.00   \n",
       "16439      0.01      0.00      0.00         0.00             0        0.00   \n",
       "16440      0.00      0.00      0.01         0.00             0        0.00   \n",
       "\n",
       "           rating  total_sales  \n",
       "0               E        82.54  \n",
       "1      неизвестно        40.24  \n",
       "2               E        35.52  \n",
       "3               E        32.77  \n",
       "4      неизвестно        31.38  \n",
       "...           ...          ...  \n",
       "16436  неизвестно         0.01  \n",
       "16437  неизвестно         0.01  \n",
       "16438  неизвестно         0.01  \n",
       "16439  неизвестно         0.01  \n",
       "16440  неизвестно         0.01  \n",
       "\n",
       "[16441 rows x 12 columns]"
      ]
     },
     "execution_count": 31,
     "metadata": {},
     "output_type": "execute_result"
    }
   ],
   "source": [
    "df"
   ]
  },
  {
   "cell_type": "markdown",
   "metadata": {},
   "source": [
    "### Вывод:\n",
    "\n",
    "- Явные дубликаты не обнаружены, удалены неявные дубликаты исходя из сопоставления названия игры и платформы выхода\n",
    "- Удалены пропуски, не влияющие сильно на выборку, мешающие определить название и год выхода. В параметрах, где удалить пропуски невозможно, значения заменены на заглушки\n",
    "- Изменены типы данных, где необходимо, обновлены индексы датасета\n",
    "- Сохранено 98.3% изначального датасета\n",
    "- Добавлен столбец с общими продажами"
   ]
  },
  {
   "cell_type": "markdown",
   "metadata": {},
   "source": [
    "## Исследовательский анализ данных"
   ]
  },
  {
   "cell_type": "markdown",
   "metadata": {},
   "source": [
    "### Сколько игр выпускалось в разные годы"
   ]
  },
  {
   "cell_type": "code",
   "execution_count": 32,
   "metadata": {},
   "outputs": [
    {
     "data": {
      "image/png": "[encoded data removed]",
      "text/plain": [
       "<Figure size 1080x720 with 1 Axes>"
      ]
     },
     "metadata": {},
     "output_type": "display_data"
    }
   ],
   "source": [
    "plt.figure(figsize=(15, 10))\n",
    "\n",
    "sns.histplot(\n",
    "    data=df,\n",
    "    x='year_of_release',\n",
    "    kde=True,\n",
    "    bins=125,\n",
    "    color='blue'\n",
    ")\n",
    "\n",
    "plt.title('Распределение игр по годам выпуска')\n",
    "plt.xlabel('Год выпуска')\n",
    "plt.ylabel('Количество игр')\n",
    "plt.grid(axis='y', alpha=1)\n",
    "plt.xticks(rotation=45)\n",
    "\n",
    "plt.show()"
   ]
  },
  {
   "cell_type": "markdown",
   "metadata": {},
   "source": [
    "**Промежуточный вывод:** График показывает, что после 1994 года количество выпускаемых игр начало быстро расти. Также наблюдаем резкий рост после 2001 года и спад после 2011 года."
   ]
  },
  {
   "cell_type": "markdown",
   "metadata": {},
   "source": [
    "### Продажи по платформам"
   ]
  },
  {
   "cell_type": "code",
   "execution_count": 33,
   "metadata": {},
   "outputs": [
    {
     "data": {
      "text/html": [
       "<div>\n",
       "<style scoped>\n",
       "    .dataframe tbody tr th:only-of-type {\n",
       "        vertical-align: middle;\n",
       "    }\n",
       "\n",
       "    .dataframe tbody tr th {\n",
       "        vertical-align: top;\n",
       "    }\n",
       "\n",
       "    .dataframe thead th {\n",
       "        text-align: right;\n",
       "    }\n",
       "</style>\n",
       "<table border=\"1\" class=\"dataframe\">\n",
       "  <thead>\n",
       "    <tr style=\"text-align: right;\">\n",
       "      <th></th>\n",
       "      <th>total_sales</th>\n",
       "    </tr>\n",
       "    <tr>\n",
       "      <th>platform</th>\n",
       "      <th></th>\n",
       "    </tr>\n",
       "  </thead>\n",
       "  <tbody>\n",
       "    <tr>\n",
       "      <th>PS2</th>\n",
       "      <td>1,233.56</td>\n",
       "    </tr>\n",
       "    <tr>\n",
       "      <th>X360</th>\n",
       "      <td>959.99</td>\n",
       "    </tr>\n",
       "    <tr>\n",
       "      <th>PS3</th>\n",
       "      <td>931.33</td>\n",
       "    </tr>\n",
       "    <tr>\n",
       "      <th>Wii</th>\n",
       "      <td>891.18</td>\n",
       "    </tr>\n",
       "    <tr>\n",
       "      <th>DS</th>\n",
       "      <td>802.78</td>\n",
       "    </tr>\n",
       "    <tr>\n",
       "      <th>PS</th>\n",
       "      <td>727.58</td>\n",
       "    </tr>\n",
       "    <tr>\n",
       "      <th>PS4</th>\n",
       "      <td>314.14</td>\n",
       "    </tr>\n",
       "    <tr>\n",
       "      <th>GBA</th>\n",
       "      <td>312.88</td>\n",
       "    </tr>\n",
       "    <tr>\n",
       "      <th>PSP</th>\n",
       "      <td>289.53</td>\n",
       "    </tr>\n",
       "    <tr>\n",
       "      <th>3DS</th>\n",
       "      <td>257.81</td>\n",
       "    </tr>\n",
       "  </tbody>\n",
       "</table>\n",
       "</div>"
      ],
      "text/plain": [
       "          total_sales\n",
       "platform             \n",
       "PS2          1,233.56\n",
       "X360           959.99\n",
       "PS3            931.33\n",
       "Wii            891.18\n",
       "DS             802.78\n",
       "PS             727.58\n",
       "PS4            314.14\n",
       "GBA            312.88\n",
       "PSP            289.53\n",
       "3DS            257.81"
      ]
     },
     "execution_count": 33,
     "metadata": {},
     "output_type": "execute_result"
    }
   ],
   "source": [
    "df.pivot_table(index='platform', values='total_sales', aggfunc='sum').sort_values(by='total_sales', ascending=False)[:10]"
   ]
  },
  {
   "cell_type": "code",
   "execution_count": 34,
   "metadata": {},
   "outputs": [
    {
     "data": {
      "image/png": "[encoded data removed]",
      "text/plain": [
       "<Figure size 864x432 with 1 Axes>"
      ]
     },
     "metadata": {},
     "output_type": "display_data"
    }
   ],
   "source": [
    "top_platforms = df.groupby('platform')['total_sales'].sum().nlargest(10)\n",
    "\n",
    "\n",
    "plt.figure(figsize=(12, 6))\n",
    "sns.barplot(x=top_platforms.index, \n",
    "            y=top_platforms.values,\n",
    "            palette='Set3',\n",
    "            edgecolor='black')\n",
    "\n",
    "plt.title('Суммарные продажи топ-10 платформ')\n",
    "plt.xlabel('Платформа')\n",
    "plt.ylabel('Суммарные продажи')\n",
    "plt.grid(axis='y', linestyle='--', alpha=0.7)\n",
    "plt.show()"
   ]
  },
  {
   "cell_type": "code",
   "execution_count": 35,
   "metadata": {},
   "outputs": [
    {
     "data": {
      "image/png": "[encoded data removed]",
      "text/plain": [
       "<Figure size 1008x504 with 1 Axes>"
      ]
     },
     "metadata": {},
     "output_type": "display_data"
    }
   ],
   "source": [
    "top_platforms = df.groupby('platform')['total_sales'].sum().nlargest(10).index\n",
    "filtered_df = df[df['platform'].isin(top_platforms)]\n",
    "\n",
    "plt.figure(figsize=(14, 7))\n",
    "ax = sns.kdeplot(data=filtered_df, \n",
    "                 x='year_of_release', \n",
    "                 hue='platform', \n",
    "                 fill=True,\n",
    "                 alpha=0.7,\n",
    "                 common_norm=False,\n",
    "                 palette='Set3',\n",
    "                 legend=True)  \n",
    "plt.title('Распределение продаж топ-10 платформ по годам')\n",
    "plt.xlabel('Год выпуска')\n",
    "plt.ylabel('Плотность продаж')\n",
    "plt.grid(axis='y', linestyle='--', alpha=0.5)\n",
    "plt.show()\n"
   ]
  },
  {
   "cell_type": "markdown",
   "metadata": {},
   "source": [
    "**Промежуточный вывод:** Самые популярные платформы по продажам: 'PS2', 'X360', 'PS3', 'Wii', 'DS', 'PS', 'PS4', 'GBA', 'PSP', '3DS'. График распределения продаж по годам показывает, что в среднем платформа живёт 10 лет. Пиковые продажи приходятся на середину периода популярности - 5 лет, затем наблюдается спад продаж. \n",
    "\n",
    "Основываясь на полученных результатах для дальнейшего исследования выберем период с 2006 года, чтобы посмотреть какие платформы на данный момент в конце жизненного цикла, а какие только набирают популярность на конец рассматриваемого периода. "
   ]
  },
  {
   "cell_type": "markdown",
   "metadata": {},
   "source": [
    "### Исследование  актуального периода (2013-1016)"
   ]
  },
  {
   "cell_type": "code",
   "execution_count": 36,
   "metadata": {},
   "outputs": [
    {
     "data": {
      "text/html": [
       "<div>\n",
       "<style scoped>\n",
       "    .dataframe tbody tr th:only-of-type {\n",
       "        vertical-align: middle;\n",
       "    }\n",
       "\n",
       "    .dataframe tbody tr th {\n",
       "        vertical-align: top;\n",
       "    }\n",
       "\n",
       "    .dataframe thead th {\n",
       "        text-align: right;\n",
       "    }\n",
       "</style>\n",
       "<table border=\"1\" class=\"dataframe\">\n",
       "  <thead>\n",
       "    <tr style=\"text-align: right;\">\n",
       "      <th></th>\n",
       "      <th>name</th>\n",
       "      <th>platform</th>\n",
       "      <th>year_of_release</th>\n",
       "      <th>genre</th>\n",
       "      <th>na_sales</th>\n",
       "      <th>eu_sales</th>\n",
       "      <th>jp_sales</th>\n",
       "      <th>other_sales</th>\n",
       "      <th>critic_score</th>\n",
       "      <th>user_score</th>\n",
       "      <th>rating</th>\n",
       "      <th>total_sales</th>\n",
       "    </tr>\n",
       "  </thead>\n",
       "  <tbody>\n",
       "    <tr>\n",
       "      <th>0</th>\n",
       "      <td>Grand Theft Auto V</td>\n",
       "      <td>PS3</td>\n",
       "      <td>2013</td>\n",
       "      <td>Action</td>\n",
       "      <td>7.02</td>\n",
       "      <td>9.09</td>\n",
       "      <td>0.98</td>\n",
       "      <td>3.96</td>\n",
       "      <td>97</td>\n",
       "      <td>8.20</td>\n",
       "      <td>M</td>\n",
       "      <td>21.05</td>\n",
       "    </tr>\n",
       "    <tr>\n",
       "      <th>1</th>\n",
       "      <td>Grand Theft Auto V</td>\n",
       "      <td>X360</td>\n",
       "      <td>2013</td>\n",
       "      <td>Action</td>\n",
       "      <td>9.66</td>\n",
       "      <td>5.14</td>\n",
       "      <td>0.06</td>\n",
       "      <td>1.41</td>\n",
       "      <td>97</td>\n",
       "      <td>8.10</td>\n",
       "      <td>M</td>\n",
       "      <td>16.27</td>\n",
       "    </tr>\n",
       "    <tr>\n",
       "      <th>2</th>\n",
       "      <td>Call of Duty: Black Ops 3</td>\n",
       "      <td>PS4</td>\n",
       "      <td>2015</td>\n",
       "      <td>Shooter</td>\n",
       "      <td>6.03</td>\n",
       "      <td>5.86</td>\n",
       "      <td>0.36</td>\n",
       "      <td>2.38</td>\n",
       "      <td>0</td>\n",
       "      <td>0.00</td>\n",
       "      <td>неизвестно</td>\n",
       "      <td>14.63</td>\n",
       "    </tr>\n",
       "    <tr>\n",
       "      <th>3</th>\n",
       "      <td>Pokemon X/Pokemon Y</td>\n",
       "      <td>3DS</td>\n",
       "      <td>2013</td>\n",
       "      <td>Role-Playing</td>\n",
       "      <td>5.28</td>\n",
       "      <td>4.19</td>\n",
       "      <td>4.35</td>\n",
       "      <td>0.78</td>\n",
       "      <td>0</td>\n",
       "      <td>0.00</td>\n",
       "      <td>неизвестно</td>\n",
       "      <td>14.60</td>\n",
       "    </tr>\n",
       "    <tr>\n",
       "      <th>4</th>\n",
       "      <td>Grand Theft Auto V</td>\n",
       "      <td>PS4</td>\n",
       "      <td>2014</td>\n",
       "      <td>Action</td>\n",
       "      <td>3.96</td>\n",
       "      <td>6.31</td>\n",
       "      <td>0.38</td>\n",
       "      <td>1.97</td>\n",
       "      <td>97</td>\n",
       "      <td>8.30</td>\n",
       "      <td>M</td>\n",
       "      <td>12.62</td>\n",
       "    </tr>\n",
       "  </tbody>\n",
       "</table>\n",
       "</div>"
      ],
      "text/plain": [
       "                        name platform  year_of_release         genre  \\\n",
       "0         Grand Theft Auto V      PS3             2013        Action   \n",
       "1         Grand Theft Auto V     X360             2013        Action   \n",
       "2  Call of Duty: Black Ops 3      PS4             2015       Shooter   \n",
       "3        Pokemon X/Pokemon Y      3DS             2013  Role-Playing   \n",
       "4         Grand Theft Auto V      PS4             2014        Action   \n",
       "\n",
       "   na_sales  eu_sales  jp_sales  other_sales  critic_score  user_score  \\\n",
       "0      7.02      9.09      0.98         3.96            97        8.20   \n",
       "1      9.66      5.14      0.06         1.41            97        8.10   \n",
       "2      6.03      5.86      0.36         2.38             0        0.00   \n",
       "3      5.28      4.19      4.35         0.78             0        0.00   \n",
       "4      3.96      6.31      0.38         1.97            97        8.30   \n",
       "\n",
       "       rating  total_sales  \n",
       "0           M        21.05  \n",
       "1           M        16.27  \n",
       "2  неизвестно        14.63  \n",
       "3  неизвестно        14.60  \n",
       "4           M        12.62  "
      ]
     },
     "execution_count": 36,
     "metadata": {},
     "output_type": "execute_result"
    }
   ],
   "source": [
    "df_sorted  = df[df['year_of_release'] >= 2013].reset_index(drop=True)\n",
    "df_sorted.head()"
   ]
  },
  {
   "cell_type": "code",
   "execution_count": 37,
   "metadata": {},
   "outputs": [
    {
     "data": {
      "image/png": "[encoded data removed]",
      "text/plain": [
       "<Figure size 1008x504 with 1 Axes>"
      ]
     },
     "metadata": {},
     "output_type": "display_data"
    }
   ],
   "source": [
    "platform_counts = df_sorted.groupby('platform')['name'].count().sort_values(ascending=False)\n",
    "\n",
    "top_platforms = platform_counts.nlargest(10).index\n",
    "filtered_df = df_sorted[df_sorted['platform'].isin(top_platforms)]\n",
    "\n",
    "plt.figure(figsize=(14, 7))\n",
    "sns.barplot(x=platform_counts.index, y=platform_counts.values, palette='Set3')\n",
    "plt.title('Количество выпущенных игр по платформам в актуальный период')\n",
    "plt.xlabel('Платформа')\n",
    "plt.ylabel('Количество игр')\n",
    "plt.xticks(rotation=45)\n",
    "plt.grid(axis='y', alpha=0.5)\n",
    "plt.show()"
   ]
  },
  {
   "cell_type": "code",
   "execution_count": 38,
   "metadata": {},
   "outputs": [
    {
     "data": {
      "image/png": "[encoded data removed]",
      "text/plain": [
       "<Figure size 1080x720 with 1 Axes>"
      ]
     },
     "metadata": {},
     "output_type": "display_data"
    }
   ],
   "source": [
    "top_platforms = df_sorted.groupby('platform')['total_sales'].median().nlargest(7).index\n",
    "filtered_df = df_sorted[df_sorted['platform'].isin(top_platforms)]\n",
    "\n",
    "plt.figure(figsize=(15, 10))\n",
    "ax = sns.histplot(data=filtered_df, \n",
    "                 x='year_of_release',\n",
    "                 hue='platform',\n",
    "                 alpha=0.7,\n",
    "                 palette = 'bright',\n",
    "                 multiple='stack',\n",
    "                 legend=True)  \n",
    "plt.title('Распределение продаж топ-10 платформ по годам')\n",
    "plt.xlabel('Год выпуска')\n",
    "plt.ylabel('Плотность продаж')\n",
    "plt.grid(axis='y', linestyle='--', alpha=0.5)\n",
    "plt.xticks(np.arange(2013, 2018, step=1))\n",
    "plt.show();"
   ]
  },
  {
   "cell_type": "markdown",
   "metadata": {},
   "source": [
    "**Промежуточный вывод:** график показывает, что среди топ-10 платформ за рассматриваемый период только PS4 и XOne не находятся в конце своего жизненного цикла, и всё ещё скачкообразно повышают свою популярность. Можно выделить их, как наиболее перпективные платформы. "
   ]
  },
  {
   "cell_type": "code",
   "execution_count": 39,
   "metadata": {
    "scrolled": false
   },
   "outputs": [
    {
     "data": {
      "image/png": "[encoded data removed]",
      "text/plain": [
       "<Figure size 1080x720 with 1 Axes>"
      ]
     },
     "metadata": {},
     "output_type": "display_data"
    }
   ],
   "source": [
    "sns.boxplot(\n",
    "    x='platform', \n",
    "    y='total_sales', \n",
    "    data=filtered_df,\n",
    "    palette='Set3'\n",
    ")\n",
    "plt.title('Глобальные продажи игр по платформам')\n",
    "plt.xlabel('Платформа')\n",
    "plt.ylabel('Глобальные продажи')\n",
    "plt.grid(axis='y', linestyle='--', alpha=0.5)\n",
    "plt.xticks(rotation=45)\n",
    "plt.ylim(0, 2)\n",
    "\n",
    "plt.show()"
   ]
  },
  {
   "cell_type": "markdown",
   "metadata": {},
   "source": [
    "**Промежуточный вывод:** график показывает, что консоли PS4 и XOne созраняют популярность при переходе с PS3 и X360 соответсвенно. Также можем увидеть высокую прибыльность консоли WiiU/Wii.\n",
    "\n",
    "Период 2013-2016 характеризуется переходом на новое поколение консолей\n",
    "Лидеры продаж соответствуют актуальным платформам того времени\n",
    "Разброс продаж уменьшается у новых платформ и увеличивается у старых\n",
    "Этот график подтверждает тенденцию перехода рынка на новое поколение консолей, где PS4 и XOne становятся основными платформами с наибольшим потенциалом продаж. При этом платформы предыдущего поколения все еще показывают значительные продажи, но с большим разбросом результатов.\n",
    "\n",
    "\n"
   ]
  },
  {
   "cell_type": "markdown",
   "metadata": {},
   "source": [
    "### Влияние отзывов пользователей и критиков"
   ]
  },
  {
   "cell_type": "code",
   "execution_count": 40,
   "metadata": {
    "scrolled": false
   },
   "outputs": [
    {
     "data": {
      "image/png": "[encoded data removed]",
      "text/plain": [
       "<Figure size 1008x1008 with 7 Axes>"
      ]
     },
     "metadata": {},
     "output_type": "display_data"
    }
   ],
   "source": [
    "top_platforms = df_sorted['platform'].value_counts().index[:7]\n",
    "\n",
    "filtered_df = df_sorted[df_sorted['platform'].isin(top_platforms)]\n",
    "\n",
    "plt.figure(figsize=(14, 14))\n",
    "\n",
    "for i, platform in enumerate(top_platforms):\n",
    "    plt.subplot(5, 2, i + 1)\n",
    "    \n",
    "    platform_data = filtered_df[filtered_df['platform'] == platform]\n",
    "    \n",
    "    # Создаем диаграмму рассеяния\n",
    "    sns.scatterplot(\n",
    "        x='user_score', \n",
    "        y='total_sales', \n",
    "        data=platform_data,\n",
    "        alpha=0.6,\n",
    "        s=50\n",
    "    )\n",
    "    \n",
    "    # Добавляем линию регрессии\n",
    "    sns.regplot(\n",
    "        x='user_score', \n",
    "        y='total_sales', \n",
    "        data=platform_data,\n",
    "        scatter=False,\n",
    "        color='black',\n",
    "        line_kws={'alpha': 0.5}\n",
    "    )\n",
    "    \n",
    "    # Вычисляем корреляцию\n",
    "    correlation = platform_data['user_score'].corr(platform_data['total_sales'])\n",
    "        \n",
    "    plt.title(f'{platform}: Корр. = {correlation:.2f}')\n",
    "    plt.xlabel('Пользовательский рейтинг')\n",
    "    plt.ylabel('Продажи')\n",
    "    plt.grid(linestyle='--', alpha=0.5)\n",
    "  \n",
    "plt.suptitle('Влияние пользовательских отзывов на продажи (топ-10 платформ)')\n",
    "plt.tight_layout()\n",
    "plt.show()\n"
   ]
  },
  {
   "cell_type": "code",
   "execution_count": 41,
   "metadata": {},
   "outputs": [
    {
     "data": {
      "image/png": "[encoded data removed]",
      "text/plain": [
       "<Figure size 1008x1008 with 7 Axes>"
      ]
     },
     "metadata": {},
     "output_type": "display_data"
    }
   ],
   "source": [
    "top_platforms = df_sorted['platform'].value_counts().index[:7]\n",
    "\n",
    "filtered_df = df_sorted[df_sorted['platform'].isin(top_platforms)]\n",
    "\n",
    "plt.figure(figsize=(14, 14))\n",
    "for i, platform in enumerate(top_platforms):\n",
    "    plt.subplot(5, 2, i + 1)\n",
    "\n",
    "    platform_data = filtered_df[filtered_df['platform'] == platform]\n",
    "    \n",
    "    # Создаем диаграмму рассеяния\n",
    "    sns.scatterplot(\n",
    "        x='critic_score', \n",
    "        y='total_sales', \n",
    "        data=platform_data,\n",
    "        alpha=0.6,\n",
    "        s=50\n",
    "    )\n",
    "    \n",
    "    # Добавляем линию регрессии\n",
    "    sns.regplot(\n",
    "        x='critic_score', \n",
    "        y='total_sales', \n",
    "        data=platform_data,\n",
    "        scatter=False,\n",
    "        color='black',\n",
    "        line_kws={'alpha': 0.5}\n",
    "    )\n",
    "    \n",
    "    # Вычисляем корреляцию\n",
    "    correlation = platform_data['critic_score'].corr(platform_data['total_sales'])\n",
    "    \n",
    "    plt.title(f'{platform}: Корр. = {correlation:.2f}')\n",
    "    plt.xlabel('Рейтинг критиков')\n",
    "    plt.ylabel('Продажи')\n",
    "    plt.grid(linestyle='--', alpha=0.5)\n",
    "  \n",
    "plt.suptitle('Влияние отзывов критиков на продажи (топ-10 платформ)')\n",
    "plt.tight_layout()\n",
    "plt.show()"
   ]
  },
  {
   "cell_type": "code",
   "execution_count": 42,
   "metadata": {},
   "outputs": [
    {
     "data": {
      "image/png": "[encoded data removed]",
      "text/plain": [
       "<Figure size 1080x720 with 2 Axes>"
      ]
     },
     "metadata": {},
     "output_type": "display_data"
    }
   ],
   "source": [
    "\n",
    "# Вычисляем корреляционную матрицу\n",
    "matrix = platform_data[['user_score', 'critic_score', 'total_sales']].corr()\n",
    "    \n",
    "\n",
    "plt.figure(figsize=(15, 10))\n",
    "# Матрица корреляций без диагонали\n",
    "mask = np.triu(np.ones_like(matrix, dtype=bool))\n",
    "# Визуализируем матрицу\n",
    "sns.heatmap(\n",
    "    matrix,\n",
    "    annot=True,\n",
    "    mask=mask,\n",
    "    cmap='coolwarm',\n",
    "    square=True,\n",
    "    fmt='.2f'\n",
    ")\n",
    "    \n",
    "\n",
    "plt.title('Матрица корреляций', fontsize=16)\n",
    "plt.xticks(rotation=0, ha='right')\n",
    "plt.yticks(rotation=0)\n",
    "    \n",
    "plt.show()\n",
    "    \n"
   ]
  },
  {
   "cell_type": "markdown",
   "metadata": {},
   "source": [
    "**Промежуточный вывод:** как показали графики по платформам и матрица корреляции, продажи слабо зависят от оценок пользователей или критиков. Однако оценки критиков, не смотря на низкое значение, почти в 4 раза сильнее влияют на продажи. Это также можно отметить по графикам корреляций для отдельных платформ."
   ]
  },
  {
   "cell_type": "code",
   "execution_count": 43,
   "metadata": {},
   "outputs": [
    {
     "data": {
      "image/png": "[encoded data removed]",
      "text/plain": [
       "<Figure size 1080x1080 with 1 Axes>"
      ]
     },
     "metadata": {},
     "output_type": "display_data"
    }
   ],
   "source": [
    "genre_sales = df_sorted.groupby('genre')['total_sales'].median().sort_values(ascending=False)\n",
    "\n",
    "\n",
    "plt.figure(figsize=(15, 15))\n",
    "sns.barplot(\n",
    "    x=genre_sales.values, \n",
    "    y=genre_sales.index,\n",
    "    palette='viridis'\n",
    ")\n",
    "\n",
    "plt.title('Медианные глобальные продажи по жанрам')\n",
    "plt.xlabel('Объем продаж')\n",
    "plt.ylabel('Жанр')\n",
    "plt.grid(axis='x')\n",
    "\n",
    "for i, v in enumerate(genre_sales.values):\n",
    "    plt.text(v, i, f'{v:.1f}', color='black', va='center')\n",
    "\n",
    "plt.show()"
   ]
  },
  {
   "cell_type": "markdown",
   "metadata": {},
   "source": [
    "**Промежуточный вывод:** самые распространенные жанры - шутеры, с отрывом, и спортивные игры, наименее популярные - приключения и пазлы."
   ]
  },
  {
   "cell_type": "markdown",
   "metadata": {},
   "source": [
    "### Вывод:\n",
    "\n",
    "- После 1994 года количество выпускаемых игр начало быстро расти. Также наблюдаем резкий рост после 2001 года и спад после 2011 года.\n",
    "\n",
    "- Самые популярные платформы по продажам: 'PS2', 'X360', 'PS3', 'Wii', 'DS', 'PS', 'PS4', 'GBA', 'PSP', '3DS'. График распределения продаж по годам показывает, что в среднем платформа живёт 10 лет. Пиковые продажи приходятся на середину периода популярности - 5 лет, затем наблюдается спад продаж.\n",
    "\n",
    "- Среди топ-10 платформ за рассматриваемый период только PS4 и XOne не находятся в конце своего жизненного цикла, и всё ещё скачкообразно повышают своб популярность.\n",
    "\n",
    "- Продажи слабо зависят от оценок пользователей или критиков. Однако, при низких показателях корреляции оценки критиков в 3-4 раза более значимые. \n",
    "\n",
    "- Самые распространенные жанры - шутеры, с отрывом, и спортивные игры, наименее популярные - приключения и пазлы.\n",
    "\n",
    "- Консоли PS4 и XOne созраняют популярность при переходе с PS3 и X360 соответсвенно. Если PS3 и X360 в конце своего жизненного цикла, и пользователи переходят на новые версии консолей.\n",
    "\n",
    "\n",
    "Период 2013-2016 характеризуется переходом на новое поколение консолей\n",
    "Лидеры продаж соответствуют актуальным платформам того времени\n",
    "Разброс продаж уменьшается у новых платформ и увеличивается у старых\n",
    "Этот график подтверждает тенденцию перехода рынка на новое поколение консолей, где PS4 и XOne становятся основными платформами с наибольшим потенциалом продаж. При этом платформы предыдущего поколения все еще показывают значительные продажи, но с большим разбросом результатов.\n",
    "\n"
   ]
  },
  {
   "cell_type": "markdown",
   "metadata": {},
   "source": [
    "## Портрет пользователя каждого региона"
   ]
  },
  {
   "cell_type": "markdown",
   "metadata": {},
   "source": [
    "### Распределение топ-5 платформ и жанров по регионам"
   ]
  },
  {
   "cell_type": "code",
   "execution_count": 44,
   "metadata": {},
   "outputs": [],
   "source": [
    "df_na = df_sorted.groupby('platform')['na_sales'].sum().nlargest(5)\n",
    "df_eu = df_sorted.groupby('platform')['eu_sales'].sum().nlargest(5)\n",
    "df_jp = df_sorted.groupby('platform')['jp_sales'].sum().nlargest(5)"
   ]
  },
  {
   "cell_type": "code",
   "execution_count": 45,
   "metadata": {},
   "outputs": [
    {
     "data": {
      "image/png": "[encoded data removed]",
      "text/plain": [
       "<Figure size 864x576 with 1 Axes>"
      ]
     },
     "metadata": {},
     "output_type": "display_data"
    }
   ],
   "source": [
    "df_region = pd.concat([\n",
    "    df_na.rename('NA'),\n",
    "    df_eu.rename('EU'),\n",
    "    df_jp.rename('JP')\n",
    "], axis=1)\n",
    "\n",
    "# Визуализация\n",
    "ax = df_region.plot(\n",
    "    kind='bar',\n",
    "    color=['blue', 'green', 'red'],\n",
    "    width=0.7,\n",
    "    figsize=(12, 8)\n",
    ")\n",
    "\n",
    "plt.xticks(rotation=0)\n",
    "plt.title('Топ-5 платформ по регионам')\n",
    "plt.xlabel('Платформы')\n",
    "plt.ylabel('Объем продаж')\n",
    "plt.grid(axis='y', alpha=0.5)\n",
    "plt.legend(title='Регионы', bbox_to_anchor=(1, 1), loc='upper left')\n",
    "plt.show()"
   ]
  },
  {
   "cell_type": "code",
   "execution_count": 46,
   "metadata": {},
   "outputs": [
    {
     "data": {
      "image/png": "[encoded data removed]",
      "text/plain": [
       "<Figure size 1080x720 with 1 Axes>"
      ]
     },
     "metadata": {},
     "output_type": "display_data"
    }
   ],
   "source": [
    "df_na = df_sorted.groupby('genre')['na_sales'].sum().nlargest(5)\n",
    "df_eu = df_sorted.groupby('genre')['eu_sales'].sum().nlargest(5)\n",
    "df_jp = df_sorted.groupby('genre')['jp_sales'].sum().nlargest(5)\n",
    "\n",
    "df_region = pd.concat([\n",
    "    df_na.rename('NA'),\n",
    "    df_eu.rename('EU'),\n",
    "    df_jp.rename('JP')\n",
    "], axis=1)\n",
    "\n",
    "# Визуализация\n",
    "ax = df_region.plot(\n",
    "    kind='bar',\n",
    "    color=['blue', 'green', 'red'],\n",
    "    width=0.7,\n",
    "    figsize=(15, 10)\n",
    ")\n",
    "\n",
    "plt.xticks(rotation=0)\n",
    "plt.title('Топ-5 жанров по регионам')\n",
    "plt.xlabel('Платформы')\n",
    "plt.ylabel('Объем продаж')\n",
    "plt.grid(axis='y', alpha=0.5)\n",
    "plt.legend(title='Регионы', bbox_to_anchor=(1, 1), loc='upper left')\n",
    "plt.show()"
   ]
  },
  {
   "cell_type": "markdown",
   "metadata": {},
   "source": [
    "**Промежуточный вывод:** \n",
    "\n",
    "\n",
    "Платформы (топ-5):\n",
    "\n",
    "Северная Америка (NA):\n",
    "- Лидируют консоли Microsoft и Sony (PS4, X360, PS3, XOne, WiiU)\n",
    "\n",
    "Европа (EU):\n",
    "- Схожая картина с NA, но с акцентом на Sony (PS4, PS3)\n",
    "- Меньше представлены Xbox консоли\n",
    "\n",
    "Япония (JP):\n",
    "- Доминирование портативных консолей.\n",
    "- Практически отсутствуют консоли Microsoft\n",
    "\n",
    "Жанры (топ-5):\n",
    "\n",
    "NA и EU:\n",
    "- Преобладают Action, Sports и Shooter\n",
    "\n",
    "JP:\n",
    "- Преобладают Role-Playing игры\n",
    "- Популярные жанры не совпадают с Европой и Америкой.\n",
    "\n",
    "Общий вывод: рынок видеоигр демонстрирует явное разделение на западный (NA/EU) и восточный (JP) сегменты, причем различия проявляются как в предпочтениях по платформам, так и в жанровых предпочтениях. Японские игроки показывают наибольшую специфику в обоих аспектах. Вероятно, данная разница показывает отличия в менталитетах культур. Также можем заметить региональную принадлежность производителя консоли.\n"
   ]
  },
  {
   "cell_type": "markdown",
   "metadata": {},
   "source": [
    "### Влияние рейтинга ESRB на продажи в отдельном регионе"
   ]
  },
  {
   "cell_type": "code",
   "execution_count": 47,
   "metadata": {},
   "outputs": [
    {
     "data": {
      "image/png": "[encoded data removed]",
      "text/plain": [
       "<Figure size 1080x720 with 1 Axes>"
      ]
     },
     "metadata": {},
     "output_type": "display_data"
    }
   ],
   "source": [
    "na_sales = df_sorted[df_sorted['na_sales'] > 0].groupby('rating')['na_sales'].sum()\n",
    "eu_sales = df_sorted[df_sorted['eu_sales'] > 0].groupby('rating')['eu_sales'].sum()\n",
    "jp_sales = df_sorted[df_sorted['jp_sales'] > 0].groupby('rating')['jp_sales'].sum()\n",
    "\n",
    "esrb_df = pd.concat([\n",
    "    na_sales.rename('NA'),\n",
    "    eu_sales.rename('EU'),\n",
    "    jp_sales.rename('JP')\n",
    "], axis=1)\n",
    "\n",
    "# Визуализация\n",
    "ax = esrb_df.plot(\n",
    "    kind='bar',\n",
    "    color=['blue', 'green', 'red'],\n",
    "    width=0.8\n",
    ")\n",
    "plt.xticks(rotation=0)\n",
    "plt.title('Влияние рейтинга ESRB на продажи по регионам')\n",
    "plt.xlabel('Рейтинг ESRB')\n",
    "plt.ylabel('Объем продаж')\n",
    "plt.grid(axis='y', linestyle='--', alpha=0.5)\n",
    "plt.legend(title='Регионы', bbox_to_anchor=(1, 1), loc='upper left')\n",
    "plt.show()"
   ]
  },
  {
   "cell_type": "markdown",
   "metadata": {},
   "source": [
    "**Промежуточный вывод:**\n",
    "\n",
    "- Рейтинг ESRB наиболее существенно влияет на продажи в Северной Америке и Европе\n",
    "- В Японии система ESRB практически не играет роли,вероятно, из-за использования собственной рейтинговой системы\n",
    "- Игры с рейтингом М показывают лучшие продажи в NA и EU\n",
    "- Игры, без указанного рейтинга показывают, что возрастной рейтинг не всегда указывает на величину продаж. "
   ]
  },
  {
   "cell_type": "markdown",
   "metadata": {},
   "source": [
    "### Вывод:\n",
    "\n",
    "Платформы (топ-5):\n",
    "\n",
    "Северная Америка (NA):\n",
    "- Лидируют консоли Microsoft и Sony (PS4, X360, PS3, XOne, WiiU)\n",
    "\n",
    "Европа (EU):\n",
    "- Схожая картина с NA, но с акцентом на Sony (PS4, PS3)\n",
    "- Меньше представлены Xbox консоли\n",
    "\n",
    "Япония (JP):\n",
    "- Доминирование портативных консолей.\n",
    "- Практически отсутствуют консоли Microsoft\n",
    "\n",
    "Жанры (топ-5):\n",
    "\n",
    "NA и EU:\n",
    "- Преобладают Action, Sports и Shooter\n",
    "\n",
    "JP:\n",
    "- Преобладают Role-Playing игры\n",
    "- Популярные жанры не совпадают с Европой и Америкой.\n",
    "\n",
    "Общий вывод: рынок видеоигр демонстрирует явное разделение на западный (NA/EU) и восточный (JP) сегменты, причем различия проявляются как в предпочтениях по платформам, так и в жанровых предпочтениях. Японские игроки показывают наибольшую специфику в обоих аспектах. Вероятно, данная разница показывает отличия в менталитетах культур. Также можем заметить региональную принадлежность производителя консоли.\n",
    "\n",
    "\n",
    "**Влияние рейтинга ESRB:**\n",
    "\n",
    "- Рейтинг ESRB наиболее существенно влияет на продажи в Северной Америке и Европе\n",
    "- В Японии система ESRB практически не играет роли,вероятно, из-за использования собственной рейтинговой системы\n",
    "- Игры с рейтингом М показывают лучшие продажи в NA и EU\n",
    "- Игры, без указанного рейтинга показывают, что возрастной рейтинг не всегда указывает на величину продаж. "
   ]
  },
  {
   "cell_type": "markdown",
   "metadata": {},
   "source": [
    "## Проверка гипотез"
   ]
  },
  {
   "cell_type": "markdown",
   "metadata": {},
   "source": [
    "### Средние пользовательские рейтинги платформ Xbox One и PC"
   ]
  },
  {
   "cell_type": "markdown",
   "metadata": {},
   "source": [
    "- Нулевая гипотеза H0: Средние рейтинги платформ равны\n",
    "- Альтернативная гипотеза H1: Средние рейтинги платформ различаются"
   ]
  },
  {
   "cell_type": "code",
   "execution_count": 48,
   "metadata": {},
   "outputs": [],
   "source": [
    "alpha = 0.05"
   ]
  },
  {
   "cell_type": "code",
   "execution_count": 49,
   "metadata": {},
   "outputs": [],
   "source": [
    "xbox_one_ratings = df_sorted.query('platform == \"XOne\" and user_score > 0')['user_score']\n",
    "pc_ratings = df_sorted.query('platform == \"PC\" and user_score > 0')['user_score']\n",
    "\n",
    "\n",
    "result_xbox_pc = st.ttest_ind(xbox_one_ratings, pc_ratings, equal_var=False, alternative='two-sided')"
   ]
  },
  {
   "cell_type": "code",
   "execution_count": 50,
   "metadata": {},
   "outputs": [
    {
     "name": "stdout",
     "output_type": "stream",
     "text": [
      "Гипотеза 1 (Сравнение Xbox One и PC):\n",
      "p-value: 0.1476\n",
      "Не получилось отвергнуть нулевую гипотезу\n"
     ]
    }
   ],
   "source": [
    "print(f\"Гипотеза 1 (Сравнение Xbox One и PC):\")\n",
    "print(f\"p-value: {result_xbox_pc.pvalue:.4f}\")\n",
    "\n",
    "if result_xbox_pc.pvalue < alpha:\n",
    "    print('Отвергаем нулевую гипотезу')\n",
    "else:\n",
    "    print('Не получилось отвергнуть нулевую гипотезу')"
   ]
  },
  {
   "cell_type": "markdown",
   "metadata": {},
   "source": [
    "**Промежуточный вывод:** Принимаем нулевую гипотезу, при p-value = 0.05: Средние рейтинги платформ равны"
   ]
  },
  {
   "cell_type": "markdown",
   "metadata": {},
   "source": [
    "### Средние пользовательские рейтинги жанров Action (англ. «действие», экшен-игры) и Sports (англ. «спортивные соревнования»)"
   ]
  },
  {
   "cell_type": "markdown",
   "metadata": {},
   "source": [
    "- Нулевая гипотеза H0: Средние рейтинги жанров равны\n",
    "- Альтернативная гипотеза H1: Средние рейтинги жанров различаются"
   ]
  },
  {
   "cell_type": "code",
   "execution_count": 51,
   "metadata": {},
   "outputs": [],
   "source": [
    "action_ratings = df_sorted.query('genre == \"Action\" and user_score > 0')['user_score']\n",
    "sport_ratings = df_sorted.query('genre == \"Sports\" and user_score > 0')['user_score']\n",
    "\n",
    "\n",
    "result_action_sport = st.ttest_ind(action_ratings, sport_ratings, equal_var=False, alternative='two-sided')"
   ]
  },
  {
   "cell_type": "code",
   "execution_count": 52,
   "metadata": {},
   "outputs": [
    {
     "name": "stdout",
     "output_type": "stream",
     "text": [
      "Гипотеза 2 (Сравнение жанров Action и Sports):\n",
      "p-value: 0.0000\n",
      "Отвергаем нулевую гипотезу\n"
     ]
    }
   ],
   "source": [
    "print(f\"Гипотеза 2 (Сравнение жанров Action и Sports):\")\n",
    "print(f\"p-value: {result_action_sport.pvalue:.4f}\")\n",
    "\n",
    "if result_action_sport.pvalue < alpha:\n",
    "    print('Отвергаем нулевую гипотезу')\n",
    "else:\n",
    "    print('Не получилось отвергнуть нулевую гипотезу')"
   ]
  },
  {
   "cell_type": "markdown",
   "metadata": {},
   "source": [
    "**Промежуточный вывод:** отвергаем нулевую гипотезу гипотезу, при p-value = 0.05: Средние рейтинги жанров Action и Sports различаются."
   ]
  },
  {
   "cell_type": "markdown",
   "metadata": {},
   "source": [
    "### Вывод: \n",
    "\n",
    "- Принимаем нулевую гипотезу, при p-value = 0.05: Средние рейтинги платформ  Xbox One и PC равны.\n",
    "- Отвергаем нулевую гипотезу гипотезу, при p-value = 0.05: Средние рейтинги жанров Action и Sports различаются.\n",
    "\n",
    "Для проверки гипотез использован двухвыборочный t-тест Стьюдента для независимых выборок. Выбор обусловлен следующими причинами:\n",
    "\n",
    "- Данные являются независимыми (оценки разных игр на разных платформах/в разных жанрах)\n",
    "- Необходимо сравнить средние значения двух выборок\n"
   ]
  },
  {
   "cell_type": "markdown",
   "metadata": {},
   "source": [
    "## Общие выводы:\n",
    "\n",
    "Информация об исходном датасете говорит, что в данных есть проблемы.\n",
    "\n",
    "**Предобработка данных:**\n",
    "\n",
    "- Явные дубликаты не обнаружены, удалены неявные дубликаты исходя из сопоставления названия игры и платформы выхода\n",
    "- Удалены пропуски, не влияющие сильно на выборку, мешающие определить название и год выхода. В параметрах, где удалить пропуски невозможно, значения заменены на заглушки\n",
    "- Изменены типы данных, где необходимо, обновлены индексы датасета\n",
    "- Сохранено 98.3% изначального датасета\n",
    "- Добавлен столбец с общими продажами\n",
    "\n",
    "**Исследовательский анализ данных:**\n",
    "\n",
    "- После 1994 года количество выпускаемых игр начало быстро расти. Также наблюдаем резкий рост после 2001 года и спад после 2011 года.\n",
    "\n",
    "- Самые популярные платформы по продажам: 'PS2', 'X360', 'PS3', 'Wii', 'DS', 'PS', 'PS4', 'GBA', 'PSP', '3DS'. График распределения продаж по годам показывает, что в среднем платформа живёт 10 лет. Пиковые продажи приходятся на середину периода популярности - 5 лет, затем наблюдается спад продаж.\n",
    "\n",
    "- Среди топ-10 платформ за рассматриваемый период только PS4 и XOne не находятся в конце своего жизненного цикла, и всё ещё скачкообразно повышают своб популярность.\n",
    "\n",
    "- Продажи слабо зависят от оценок пользователей или критиков. Однако, при низких показателях корреляции оценки критиков в 3-4 раза более значимые. \n",
    "\n",
    "- Самые распространенные жанры - шутеры, с отрывом, и спортивные игры, наименее популярные - приключения и пазлы.\n",
    "\n",
    "- Консоли PS4 и XOne созраняют популярность при переходе с PS3 и X360 соответсвенно. Если PS3 и X360 в конце своего жизненного цикла, и пользователи переходят на новые версии консолей.\n",
    "\n",
    "\n",
    "Период 2013-2016 характеризуется переходом на новое поколение консолей\n",
    "Лидеры продаж соответствуют актуальным платформам того времени\n",
    "Разброс продаж уменьшается у новых платформ и увеличивается у старых\n",
    "Этот график подтверждает тенденцию перехода рынка на новое поколение консолей, где PS4 и XOne становятся основными платформами с наибольшим потенциалом продаж. При этом платформы предыдущего поколения все еще показывают значительные продажи, но с большим разбросом результатов.\n",
    "\n",
    "**Портрет пользователя каждого региона:**\n",
    "\n",
    "Платформы (топ-5):\n",
    "\n",
    "Северная Америка (NA):\n",
    "- Лидируют консоли Microsoft и Sony (PS4, X360, PS3, XOne, WiiU)\n",
    "\n",
    "Европа (EU):\n",
    "- Схожая картина с NA, но с акцентом на Sony (PS4, PS3)\n",
    "- Меньше представлены Xbox консоли\n",
    "\n",
    "Япония (JP):\n",
    "- Доминирование портативных консолей.\n",
    "- Практически отсутствуют консоли Microsoft\n",
    "\n",
    "Жанры (топ-5):\n",
    "\n",
    "NA и EU:\n",
    "- Преобладают Action, Sports и Shooter\n",
    "\n",
    "JP:\n",
    "- Преобладают Role-Playing игры\n",
    "- Популярные жанры не совпадают с Европой и Америкой.\n",
    "\n",
    "Общий вывод: рынок видеоигр демонстрирует явное разделение на западный (NA/EU) и восточный (JP) сегменты, причем различия проявляются как в предпочтениях по платформам, так и в жанровых предпочтениях. Японские игроки показывают наибольшую специфику в обоих аспектах. Вероятно, данная разница показывает отличия в менталитетах культур. Также можем заметить региональную принадлежность производителя консоли.\n",
    "\n",
    "\n",
    "**Влияние рейтинга ESRB:**\n",
    "\n",
    "- Рейтинг ESRB наиболее существенно влияет на продажи в Северной Америке и Европе\n",
    "- В Японии система ESRB практически не играет роли,вероятно, из-за использования собственной рейтинговой системы\n",
    "- Игры с рейтингом М показывают лучшие продажи в NA и EU\n",
    "- Игры, без указанного рейтинга показывают, что возрастной рейтинг не всегда указывает на величину продаж. \n",
    "\n",
    "**Проверка гипотез:**\n",
    "\n",
    "- Отвергаем нулевую гипотезу, при p-value = 0.05, принимаем альтернативную: Средние рейтинги платформ  Xbox One и PC различаются.\n",
    "- Отвергаем нулевую гипотезу гипотезу, при p-value = 0.05, принимаем альтернативную: Средние рейтинги жанров Action и Sports различаются.\n",
    "\n",
    "Для проверки гипотез использован двухвыборочный t-тест Стьюдента для независимых выборок. Выбор обусловлен следующими причинами:\n",
    "\n",
    "- Данные являются независимыми (оценки разных игр на разных платформах/в разных жанрах)\n",
    "- Необходимо сравнить средние значения двух выборок\n",
    "\n",
    "**Основные рекомендации:**\n",
    "\n",
    "- Учитывать четкое разделение рынка на западный (NA/EU) и восточный (Япония) сегменты, адаптируя под них отдельные аспекты, так как японские игроки демонстрируют наибольшую специфику в выборе платформ и жанров.\n",
    "- Фокусироваться на популярных платформах PS4 и XOne, учитывая 10-летний жизненный цикл консолей и пик продаж на 5-м году популярности платформы.\n",
    "- Разрабатывать игры с учетом региональных предпочтений: для NA/EU акцент на жанры Action, Sports и Shooter, для Японии - на Role-Playing, при этом использовать соответствующую рейтинговую систему (ESRB для NA/EU, локальную для Японии).\n",
    "- Обратить внимание на жанр Action как самый популярный и стратегии/пазлы как наименее популярные, при этом не фокусироваться на высоких оценках, так как они слабо влияют на продажи."
   ]
  },
  {
   "cell_type": "code",
   "execution_count": null,
   "metadata": {},
   "outputs": [],
   "source": []
  }
 ],
 "metadata": {
  "ExecuteTimeLog": [
   {
    "duration": 1387,
    "start_time": "2025-04-02T09:11:54.468Z"
   },
   {
    "duration": 77,
    "start_time": "2025-04-02T09:12:13.953Z"
   },
   {
    "duration": 4,
    "start_time": "2025-04-02T09:12:45.624Z"
   },
   {
    "duration": 18,
    "start_time": "2025-04-02T09:13:10.426Z"
   },
   {
    "duration": 17,
    "start_time": "2025-04-02T09:13:25.382Z"
   },
   {
    "duration": 36,
    "start_time": "2025-04-02T09:14:45.604Z"
   },
   {
    "duration": 17,
    "start_time": "2025-04-02T09:17:47.066Z"
   },
   {
    "duration": 12,
    "start_time": "2025-04-02T09:17:52.812Z"
   },
   {
    "duration": 11,
    "start_time": "2025-04-02T09:17:56.908Z"
   },
   {
    "duration": 18,
    "start_time": "2025-04-02T09:20:01.771Z"
   },
   {
    "duration": 11,
    "start_time": "2025-04-02T09:21:14.466Z"
   },
   {
    "duration": 9,
    "start_time": "2025-04-02T09:22:26.797Z"
   },
   {
    "duration": 10,
    "start_time": "2025-04-02T09:22:36.076Z"
   },
   {
    "duration": 5,
    "start_time": "2025-04-02T09:22:47.048Z"
   },
   {
    "duration": 104,
    "start_time": "2025-04-02T09:25:09.525Z"
   },
   {
    "duration": 10,
    "start_time": "2025-04-02T09:25:18.581Z"
   },
   {
    "duration": 10,
    "start_time": "2025-04-02T09:27:11.120Z"
   },
   {
    "duration": 10,
    "start_time": "2025-04-02T09:29:45.096Z"
   },
   {
    "duration": 10,
    "start_time": "2025-04-02T09:29:55.237Z"
   },
   {
    "duration": 9,
    "start_time": "2025-04-02T09:37:25.227Z"
   },
   {
    "duration": 5,
    "start_time": "2025-04-02T09:37:29.953Z"
   },
   {
    "duration": 7,
    "start_time": "2025-04-02T09:38:02.032Z"
   },
   {
    "duration": 3,
    "start_time": "2025-04-02T09:39:03.831Z"
   },
   {
    "duration": 6,
    "start_time": "2025-04-02T09:39:59.945Z"
   },
   {
    "duration": 7,
    "start_time": "2025-04-02T09:40:21.067Z"
   },
   {
    "duration": 7,
    "start_time": "2025-04-02T09:43:14.714Z"
   },
   {
    "duration": 10,
    "start_time": "2025-04-02T09:43:43.404Z"
   },
   {
    "duration": 6,
    "start_time": "2025-04-02T09:44:07.766Z"
   },
   {
    "duration": 7,
    "start_time": "2025-04-02T09:44:20.412Z"
   },
   {
    "duration": 6,
    "start_time": "2025-04-02T09:45:39.882Z"
   },
   {
    "duration": 6,
    "start_time": "2025-04-02T09:46:52.883Z"
   },
   {
    "duration": 5,
    "start_time": "2025-04-02T09:47:01.861Z"
   },
   {
    "duration": 7,
    "start_time": "2025-04-02T09:47:10.165Z"
   },
   {
    "duration": 7,
    "start_time": "2025-04-02T09:47:16.537Z"
   },
   {
    "duration": 5,
    "start_time": "2025-04-02T09:48:23.880Z"
   },
   {
    "duration": 6,
    "start_time": "2025-04-02T09:48:35.359Z"
   },
   {
    "duration": 5,
    "start_time": "2025-04-02T09:49:02.979Z"
   },
   {
    "duration": 10,
    "start_time": "2025-04-02T09:49:35.260Z"
   },
   {
    "duration": 16,
    "start_time": "2025-04-02T09:51:11.433Z"
   },
   {
    "duration": 7,
    "start_time": "2025-04-02T09:51:53.279Z"
   },
   {
    "duration": 5,
    "start_time": "2025-04-02T09:54:28.288Z"
   },
   {
    "duration": 14,
    "start_time": "2025-04-02T09:54:38.299Z"
   },
   {
    "duration": 4,
    "start_time": "2025-04-02T09:55:56.020Z"
   },
   {
    "duration": 14,
    "start_time": "2025-04-02T09:55:57.683Z"
   },
   {
    "duration": 4,
    "start_time": "2025-04-02T10:09:54.707Z"
   },
   {
    "duration": 20,
    "start_time": "2025-04-02T10:11:29.864Z"
   },
   {
    "duration": 1030,
    "start_time": "2025-04-02T10:11:36.787Z"
   },
   {
    "duration": 18,
    "start_time": "2025-04-02T10:11:52.343Z"
   },
   {
    "duration": 17,
    "start_time": "2025-04-02T10:12:02.093Z"
   },
   {
    "duration": 19,
    "start_time": "2025-04-02T10:14:58.781Z"
   },
   {
    "duration": 1064,
    "start_time": "2025-04-02T10:15:00.656Z"
   },
   {
    "duration": 4,
    "start_time": "2025-04-02T10:15:07.298Z"
   },
   {
    "duration": 19,
    "start_time": "2025-04-02T10:15:08.986Z"
   },
   {
    "duration": 3,
    "start_time": "2025-04-02T10:17:13.078Z"
   },
   {
    "duration": 22,
    "start_time": "2025-04-02T10:17:14.924Z"
   },
   {
    "duration": 3,
    "start_time": "2025-04-02T10:17:34.365Z"
   },
   {
    "duration": 17,
    "start_time": "2025-04-02T10:17:35.473Z"
   },
   {
    "duration": 4,
    "start_time": "2025-04-02T10:17:48.570Z"
   },
   {
    "duration": 19,
    "start_time": "2025-04-02T10:17:50.041Z"
   },
   {
    "duration": 4,
    "start_time": "2025-04-02T10:18:03.480Z"
   },
   {
    "duration": 17,
    "start_time": "2025-04-02T10:18:05.130Z"
   },
   {
    "duration": 5147,
    "start_time": "2025-04-02T10:18:47.429Z"
   },
   {
    "duration": 3,
    "start_time": "2025-04-02T10:19:53.241Z"
   },
   {
    "duration": 20,
    "start_time": "2025-04-02T10:19:54.115Z"
   },
   {
    "duration": 3,
    "start_time": "2025-04-02T10:20:22.072Z"
   },
   {
    "duration": 4891,
    "start_time": "2025-04-02T10:20:23.659Z"
   },
   {
    "duration": 312,
    "start_time": "2025-04-02T10:21:18.159Z"
   },
   {
    "duration": 314,
    "start_time": "2025-04-02T10:21:31.765Z"
   },
   {
    "duration": 315,
    "start_time": "2025-04-02T10:23:16.580Z"
   },
   {
    "duration": 310,
    "start_time": "2025-04-02T10:23:26.419Z"
   },
   {
    "duration": 623,
    "start_time": "2025-04-02T10:57:34.459Z"
   },
   {
    "duration": 9,
    "start_time": "2025-04-02T11:00:46.402Z"
   },
   {
    "duration": 90,
    "start_time": "2025-04-02T11:01:19.646Z"
   },
   {
    "duration": 9,
    "start_time": "2025-04-02T11:01:29.432Z"
   },
   {
    "duration": 420,
    "start_time": "2025-04-02T11:01:56.560Z"
   },
   {
    "duration": 526,
    "start_time": "2025-04-02T11:02:17.108Z"
   },
   {
    "duration": 10,
    "start_time": "2025-04-02T11:03:47.374Z"
   },
   {
    "duration": 510,
    "start_time": "2025-04-02T11:04:04.837Z"
   },
   {
    "duration": 5,
    "start_time": "2025-04-02T11:04:28.974Z"
   },
   {
    "duration": 1253,
    "start_time": "2025-04-02T11:04:33.101Z"
   },
   {
    "duration": 63,
    "start_time": "2025-04-02T11:04:34.356Z"
   },
   {
    "duration": 16,
    "start_time": "2025-04-02T11:04:34.423Z"
   },
   {
    "duration": 77,
    "start_time": "2025-04-02T11:04:34.441Z"
   },
   {
    "duration": 21,
    "start_time": "2025-04-02T11:04:34.520Z"
   },
   {
    "duration": 14,
    "start_time": "2025-04-02T11:04:34.543Z"
   },
   {
    "duration": 15,
    "start_time": "2025-04-02T11:04:34.559Z"
   },
   {
    "duration": 10,
    "start_time": "2025-04-02T11:04:34.576Z"
   },
   {
    "duration": 21,
    "start_time": "2025-04-02T11:04:34.587Z"
   },
   {
    "duration": 11,
    "start_time": "2025-04-02T11:04:34.609Z"
   },
   {
    "duration": 37,
    "start_time": "2025-04-02T11:04:34.621Z"
   },
   {
    "duration": 5,
    "start_time": "2025-04-02T11:04:34.659Z"
   },
   {
    "duration": 31,
    "start_time": "2025-04-02T11:04:34.668Z"
   },
   {
    "duration": 25,
    "start_time": "2025-04-02T11:04:34.701Z"
   },
   {
    "duration": 24,
    "start_time": "2025-04-02T11:04:34.729Z"
   },
   {
    "duration": 10,
    "start_time": "2025-04-02T11:04:34.755Z"
   },
   {
    "duration": 29,
    "start_time": "2025-04-02T11:04:34.766Z"
   },
   {
    "duration": 6,
    "start_time": "2025-04-02T11:04:34.797Z"
   },
   {
    "duration": 60,
    "start_time": "2025-04-02T11:04:34.804Z"
   },
   {
    "duration": 18,
    "start_time": "2025-04-02T11:04:34.866Z"
   },
   {
    "duration": 6,
    "start_time": "2025-04-02T11:04:34.885Z"
   },
   {
    "duration": 6,
    "start_time": "2025-04-02T11:04:34.893Z"
   },
   {
    "duration": 8,
    "start_time": "2025-04-02T11:04:34.901Z"
   },
   {
    "duration": 19,
    "start_time": "2025-04-02T11:04:34.910Z"
   },
   {
    "duration": 23,
    "start_time": "2025-04-02T11:04:34.930Z"
   },
   {
    "duration": 15,
    "start_time": "2025-04-02T11:04:34.954Z"
   },
   {
    "duration": 7,
    "start_time": "2025-04-02T11:04:34.971Z"
   },
   {
    "duration": 18,
    "start_time": "2025-04-02T11:04:34.980Z"
   },
   {
    "duration": 16,
    "start_time": "2025-04-02T11:04:34.999Z"
   },
   {
    "duration": 11,
    "start_time": "2025-04-02T11:04:35.016Z"
   },
   {
    "duration": 30,
    "start_time": "2025-04-02T11:04:35.029Z"
   },
   {
    "duration": 601,
    "start_time": "2025-04-02T11:04:35.060Z"
   },
   {
    "duration": 18,
    "start_time": "2025-04-02T11:05:48.514Z"
   },
   {
    "duration": 11,
    "start_time": "2025-04-02T11:21:55.510Z"
   },
   {
    "duration": 7,
    "start_time": "2025-04-02T11:22:00.457Z"
   },
   {
    "duration": 195,
    "start_time": "2025-04-02T11:24:55.386Z"
   },
   {
    "duration": 422,
    "start_time": "2025-04-02T11:26:12.969Z"
   },
   {
    "duration": 2127,
    "start_time": "2025-04-02T11:27:51.179Z"
   },
   {
    "duration": 328,
    "start_time": "2025-04-02T11:29:00.121Z"
   },
   {
    "duration": 279,
    "start_time": "2025-04-02T11:29:33.265Z"
   },
   {
    "duration": 1217,
    "start_time": "2025-04-02T11:30:48.448Z"
   },
   {
    "duration": 327,
    "start_time": "2025-04-02T11:31:28.336Z"
   },
   {
    "duration": 1343,
    "start_time": "2025-04-02T11:33:59.148Z"
   },
   {
    "duration": 453,
    "start_time": "2025-04-02T11:35:14.125Z"
   },
   {
    "duration": 436,
    "start_time": "2025-04-02T11:35:45.140Z"
   },
   {
    "duration": 16,
    "start_time": "2025-04-02T11:37:37.672Z"
   },
   {
    "duration": 16,
    "start_time": "2025-04-02T11:37:55.707Z"
   },
   {
    "duration": 1827,
    "start_time": "2025-04-02T11:41:27.449Z"
   },
   {
    "duration": 65,
    "start_time": "2025-04-02T11:42:20.969Z"
   },
   {
    "duration": 81,
    "start_time": "2025-04-02T11:42:36.490Z"
   },
   {
    "duration": 145,
    "start_time": "2025-04-02T11:42:53.648Z"
   },
   {
    "duration": 69,
    "start_time": "2025-04-02T11:43:09.256Z"
   },
   {
    "duration": 25,
    "start_time": "2025-04-02T11:43:54.498Z"
   },
   {
    "duration": 458,
    "start_time": "2025-04-02T11:45:02.900Z"
   },
   {
    "duration": 349,
    "start_time": "2025-04-02T11:45:25.539Z"
   },
   {
    "duration": 207,
    "start_time": "2025-04-02T11:46:19.565Z"
   },
   {
    "duration": 465,
    "start_time": "2025-04-02T11:46:35.658Z"
   },
   {
    "duration": 402,
    "start_time": "2025-04-02T11:47:07.214Z"
   },
   {
    "duration": 573,
    "start_time": "2025-04-02T11:48:17.347Z"
   },
   {
    "duration": 334,
    "start_time": "2025-04-02T11:48:33.744Z"
   },
   {
    "duration": 339,
    "start_time": "2025-04-02T11:49:14.667Z"
   },
   {
    "duration": 334,
    "start_time": "2025-04-02T11:50:08.409Z"
   },
   {
    "duration": 323,
    "start_time": "2025-04-02T11:51:03.045Z"
   },
   {
    "duration": 391,
    "start_time": "2025-04-02T11:51:20.116Z"
   },
   {
    "duration": 4,
    "start_time": "2025-04-02T11:52:08.097Z"
   },
   {
    "duration": 425,
    "start_time": "2025-04-02T11:53:56.080Z"
   },
   {
    "duration": 432,
    "start_time": "2025-04-02T12:04:42.045Z"
   },
   {
    "duration": 586,
    "start_time": "2025-04-02T12:04:58.756Z"
   },
   {
    "duration": 654,
    "start_time": "2025-04-02T12:05:07.408Z"
   },
   {
    "duration": 480,
    "start_time": "2025-04-02T12:05:17.802Z"
   },
   {
    "duration": 435,
    "start_time": "2025-04-02T12:05:26.547Z"
   },
   {
    "duration": 488,
    "start_time": "2025-04-02T12:05:49.938Z"
   },
   {
    "duration": 509,
    "start_time": "2025-04-02T12:05:59.918Z"
   },
   {
    "duration": 449,
    "start_time": "2025-04-02T12:06:05.743Z"
   },
   {
    "duration": 528,
    "start_time": "2025-04-02T12:06:22.247Z"
   },
   {
    "duration": 553,
    "start_time": "2025-04-02T12:06:32.674Z"
   },
   {
    "duration": 664,
    "start_time": "2025-04-02T12:06:39.179Z"
   },
   {
    "duration": 585,
    "start_time": "2025-04-02T12:06:45.325Z"
   },
   {
    "duration": 20,
    "start_time": "2025-04-02T12:21:38.402Z"
   },
   {
    "duration": 26,
    "start_time": "2025-04-02T12:21:47.702Z"
   },
   {
    "duration": 14,
    "start_time": "2025-04-02T12:22:11.266Z"
   },
   {
    "duration": 16,
    "start_time": "2025-04-02T12:22:19.630Z"
   },
   {
    "duration": 15,
    "start_time": "2025-04-02T12:22:46.509Z"
   },
   {
    "duration": 270,
    "start_time": "2025-04-02T12:24:09.050Z"
   },
   {
    "duration": 275,
    "start_time": "2025-04-02T12:24:38.831Z"
   },
   {
    "duration": 273,
    "start_time": "2025-04-02T12:24:57.866Z"
   },
   {
    "duration": 413,
    "start_time": "2025-04-02T12:28:14.914Z"
   },
   {
    "duration": 314,
    "start_time": "2025-04-02T12:29:08.696Z"
   },
   {
    "duration": 350,
    "start_time": "2025-04-02T12:29:18.956Z"
   },
   {
    "duration": 361,
    "start_time": "2025-04-02T12:29:38.563Z"
   },
   {
    "duration": 373,
    "start_time": "2025-04-02T12:29:47.259Z"
   },
   {
    "duration": 508,
    "start_time": "2025-04-02T12:30:04.423Z"
   },
   {
    "duration": 619,
    "start_time": "2025-04-02T13:21:21.065Z"
   },
   {
    "duration": 333,
    "start_time": "2025-04-02T13:22:07.520Z"
   },
   {
    "duration": 330,
    "start_time": "2025-04-02T13:22:34.999Z"
   },
   {
    "duration": 325,
    "start_time": "2025-04-02T13:22:40.523Z"
   },
   {
    "duration": 274,
    "start_time": "2025-04-02T13:58:45.062Z"
   },
   {
    "duration": 3164,
    "start_time": "2025-04-02T13:59:15.949Z"
   },
   {
    "duration": 5,
    "start_time": "2025-04-02T13:59:52.452Z"
   },
   {
    "duration": 3206,
    "start_time": "2025-04-02T13:59:57.579Z"
   },
   {
    "duration": 3203,
    "start_time": "2025-04-02T14:01:20.260Z"
   },
   {
    "duration": 3204,
    "start_time": "2025-04-02T14:01:40.053Z"
   },
   {
    "duration": 3038,
    "start_time": "2025-04-02T14:04:30.004Z"
   },
   {
    "duration": 19,
    "start_time": "2025-04-02T14:05:43.979Z"
   },
   {
    "duration": 3966,
    "start_time": "2025-04-02T14:07:03.380Z"
   },
   {
    "duration": 5,
    "start_time": "2025-04-02T14:08:17.215Z"
   },
   {
    "duration": 9,
    "start_time": "2025-04-02T14:08:22.853Z"
   },
   {
    "duration": 318,
    "start_time": "2025-04-02T14:09:55.631Z"
   },
   {
    "duration": 481,
    "start_time": "2025-04-02T14:11:54.179Z"
   },
   {
    "duration": 271,
    "start_time": "2025-04-02T15:25:29.088Z"
   },
   {
    "duration": 296,
    "start_time": "2025-04-02T15:25:47.549Z"
   },
   {
    "duration": 276,
    "start_time": "2025-04-02T15:31:22.334Z"
   },
   {
    "duration": 278,
    "start_time": "2025-04-02T15:31:28.095Z"
   },
   {
    "duration": 300,
    "start_time": "2025-04-02T15:32:14.425Z"
   },
   {
    "duration": 287,
    "start_time": "2025-04-02T15:32:21.906Z"
   },
   {
    "duration": 313,
    "start_time": "2025-04-02T15:36:23.733Z"
   },
   {
    "duration": 3156,
    "start_time": "2025-04-02T15:37:28.675Z"
   },
   {
    "duration": 2990,
    "start_time": "2025-04-02T15:40:36.045Z"
   },
   {
    "duration": 2980,
    "start_time": "2025-04-02T15:41:11.146Z"
   },
   {
    "duration": 286,
    "start_time": "2025-04-02T15:41:37.035Z"
   },
   {
    "duration": 279,
    "start_time": "2025-04-02T15:41:47.024Z"
   },
   {
    "duration": 431,
    "start_time": "2025-04-02T15:41:56.791Z"
   },
   {
    "duration": 299,
    "start_time": "2025-04-02T15:42:15.928Z"
   },
   {
    "duration": 1216,
    "start_time": "2025-04-02T16:00:37.107Z"
   },
   {
    "duration": 74,
    "start_time": "2025-04-02T16:00:38.325Z"
   },
   {
    "duration": 16,
    "start_time": "2025-04-02T16:00:38.400Z"
   },
   {
    "duration": 12,
    "start_time": "2025-04-02T16:00:38.417Z"
   },
   {
    "duration": 18,
    "start_time": "2025-04-02T16:00:38.433Z"
   },
   {
    "duration": 11,
    "start_time": "2025-04-02T16:00:38.453Z"
   },
   {
    "duration": 40,
    "start_time": "2025-04-02T16:00:38.467Z"
   },
   {
    "duration": 12,
    "start_time": "2025-04-02T16:00:38.508Z"
   },
   {
    "duration": 4,
    "start_time": "2025-04-02T16:00:38.522Z"
   },
   {
    "duration": 11,
    "start_time": "2025-04-02T16:00:38.528Z"
   },
   {
    "duration": 12,
    "start_time": "2025-04-02T16:00:38.541Z"
   },
   {
    "duration": 4,
    "start_time": "2025-04-02T16:00:38.554Z"
   },
   {
    "duration": 10,
    "start_time": "2025-04-02T16:00:38.559Z"
   },
   {
    "duration": 10,
    "start_time": "2025-04-02T16:00:38.606Z"
   },
   {
    "duration": 24,
    "start_time": "2025-04-02T16:00:38.617Z"
   },
   {
    "duration": 21,
    "start_time": "2025-04-02T16:00:38.642Z"
   },
   {
    "duration": 6,
    "start_time": "2025-04-02T16:00:38.665Z"
   },
   {
    "duration": 5,
    "start_time": "2025-04-02T16:00:38.673Z"
   },
   {
    "duration": 7,
    "start_time": "2025-04-02T16:00:38.680Z"
   },
   {
    "duration": 5,
    "start_time": "2025-04-02T16:00:38.689Z"
   },
   {
    "duration": 5,
    "start_time": "2025-04-02T16:00:38.707Z"
   },
   {
    "duration": 8,
    "start_time": "2025-04-02T16:00:38.713Z"
   },
   {
    "duration": 4,
    "start_time": "2025-04-02T16:00:38.722Z"
   },
   {
    "duration": 6,
    "start_time": "2025-04-02T16:00:38.728Z"
   },
   {
    "duration": 10,
    "start_time": "2025-04-02T16:00:38.735Z"
   },
   {
    "duration": 16,
    "start_time": "2025-04-02T16:00:38.747Z"
   },
   {
    "duration": 44,
    "start_time": "2025-04-02T16:00:38.764Z"
   },
   {
    "duration": 4,
    "start_time": "2025-04-02T16:00:38.810Z"
   },
   {
    "duration": 14,
    "start_time": "2025-04-02T16:00:38.815Z"
   },
   {
    "duration": 5,
    "start_time": "2025-04-02T16:00:38.830Z"
   },
   {
    "duration": 20,
    "start_time": "2025-04-02T16:00:38.836Z"
   },
   {
    "duration": 669,
    "start_time": "2025-04-02T16:00:38.858Z"
   },
   {
    "duration": 18,
    "start_time": "2025-04-02T16:00:39.528Z"
   },
   {
    "duration": 217,
    "start_time": "2025-04-02T16:00:39.548Z"
   },
   {
    "duration": 416,
    "start_time": "2025-04-02T16:00:39.767Z"
   },
   {
    "duration": 13,
    "start_time": "2025-04-02T16:00:40.185Z"
   },
   {
    "duration": 116,
    "start_time": "2025-04-02T16:00:40.201Z"
   },
   {
    "duration": 0,
    "start_time": "2025-04-02T16:00:40.319Z"
   },
   {
    "duration": 0,
    "start_time": "2025-04-02T16:00:40.320Z"
   },
   {
    "duration": 0,
    "start_time": "2025-04-02T16:00:40.321Z"
   },
   {
    "duration": 0,
    "start_time": "2025-04-02T16:00:40.322Z"
   },
   {
    "duration": 0,
    "start_time": "2025-04-02T16:00:40.323Z"
   },
   {
    "duration": 0,
    "start_time": "2025-04-02T16:00:40.324Z"
   },
   {
    "duration": 11,
    "start_time": "2025-04-02T16:03:35.156Z"
   },
   {
    "duration": 5,
    "start_time": "2025-04-02T16:03:37.608Z"
   },
   {
    "duration": 267,
    "start_time": "2025-04-02T16:04:51.880Z"
   },
   {
    "duration": 248,
    "start_time": "2025-04-02T16:05:35.276Z"
   },
   {
    "duration": 248,
    "start_time": "2025-04-02T16:05:39.821Z"
   },
   {
    "duration": 19,
    "start_time": "2025-04-02T16:05:59.154Z"
   },
   {
    "duration": 317,
    "start_time": "2025-04-02T16:06:30.546Z"
   },
   {
    "duration": 246,
    "start_time": "2025-04-02T16:06:38.031Z"
   },
   {
    "duration": 243,
    "start_time": "2025-04-02T16:07:04.736Z"
   },
   {
    "duration": 240,
    "start_time": "2025-04-02T16:07:20.572Z"
   },
   {
    "duration": 233,
    "start_time": "2025-04-02T16:08:08.805Z"
   },
   {
    "duration": 243,
    "start_time": "2025-04-02T16:08:11.328Z"
   },
   {
    "duration": 245,
    "start_time": "2025-04-02T16:08:45.429Z"
   },
   {
    "duration": 2947,
    "start_time": "2025-04-02T16:11:11.214Z"
   },
   {
    "duration": 1208,
    "start_time": "2025-04-02T16:11:19.032Z"
   },
   {
    "duration": 64,
    "start_time": "2025-04-02T16:11:20.242Z"
   },
   {
    "duration": 15,
    "start_time": "2025-04-02T16:11:20.308Z"
   },
   {
    "duration": 12,
    "start_time": "2025-04-02T16:11:20.325Z"
   },
   {
    "duration": 22,
    "start_time": "2025-04-02T16:11:20.338Z"
   },
   {
    "duration": 79,
    "start_time": "2025-04-02T16:11:20.362Z"
   },
   {
    "duration": 23,
    "start_time": "2025-04-02T16:11:20.443Z"
   },
   {
    "duration": 10,
    "start_time": "2025-04-02T16:11:20.468Z"
   },
   {
    "duration": 4,
    "start_time": "2025-04-02T16:11:20.480Z"
   },
   {
    "duration": 28,
    "start_time": "2025-04-02T16:11:20.487Z"
   },
   {
    "duration": 11,
    "start_time": "2025-04-02T16:11:20.516Z"
   },
   {
    "duration": 5,
    "start_time": "2025-04-02T16:11:20.529Z"
   },
   {
    "duration": 17,
    "start_time": "2025-04-02T16:11:20.535Z"
   },
   {
    "duration": 9,
    "start_time": "2025-04-02T16:11:20.553Z"
   },
   {
    "duration": 6,
    "start_time": "2025-04-02T16:11:20.564Z"
   },
   {
    "duration": 39,
    "start_time": "2025-04-02T16:11:20.571Z"
   },
   {
    "duration": 13,
    "start_time": "2025-04-02T16:11:20.612Z"
   },
   {
    "duration": 6,
    "start_time": "2025-04-02T16:11:20.626Z"
   },
   {
    "duration": 10,
    "start_time": "2025-04-02T16:11:20.633Z"
   },
   {
    "duration": 6,
    "start_time": "2025-04-02T16:11:20.644Z"
   },
   {
    "duration": 8,
    "start_time": "2025-04-02T16:11:20.652Z"
   },
   {
    "duration": 98,
    "start_time": "2025-04-02T16:11:20.661Z"
   },
   {
    "duration": 6,
    "start_time": "2025-04-02T16:11:20.761Z"
   },
   {
    "duration": 6,
    "start_time": "2025-04-02T16:11:20.768Z"
   },
   {
    "duration": 11,
    "start_time": "2025-04-02T16:11:20.775Z"
   },
   {
    "duration": 35,
    "start_time": "2025-04-02T16:11:20.787Z"
   },
   {
    "duration": 9,
    "start_time": "2025-04-02T16:11:20.823Z"
   },
   {
    "duration": 4,
    "start_time": "2025-04-02T16:11:20.835Z"
   },
   {
    "duration": 34,
    "start_time": "2025-04-02T16:11:20.840Z"
   },
   {
    "duration": 5,
    "start_time": "2025-04-02T16:11:20.875Z"
   },
   {
    "duration": 32,
    "start_time": "2025-04-02T16:11:20.881Z"
   },
   {
    "duration": 695,
    "start_time": "2025-04-02T16:11:20.915Z"
   },
   {
    "duration": 16,
    "start_time": "2025-04-02T16:11:21.611Z"
   },
   {
    "duration": 216,
    "start_time": "2025-04-02T16:11:21.629Z"
   },
   {
    "duration": 413,
    "start_time": "2025-04-02T16:11:21.846Z"
   },
   {
    "duration": 14,
    "start_time": "2025-04-02T16:11:22.261Z"
   },
   {
    "duration": 146,
    "start_time": "2025-04-02T16:11:22.277Z"
   },
   {
    "duration": 0,
    "start_time": "2025-04-02T16:11:22.424Z"
   },
   {
    "duration": 0,
    "start_time": "2025-04-02T16:11:22.426Z"
   },
   {
    "duration": 0,
    "start_time": "2025-04-02T16:11:22.427Z"
   },
   {
    "duration": 0,
    "start_time": "2025-04-02T16:11:22.428Z"
   },
   {
    "duration": 0,
    "start_time": "2025-04-02T16:11:22.429Z"
   },
   {
    "duration": 0,
    "start_time": "2025-04-02T16:11:22.430Z"
   },
   {
    "duration": 0,
    "start_time": "2025-04-02T16:11:22.432Z"
   },
   {
    "duration": 0,
    "start_time": "2025-04-02T16:11:22.433Z"
   },
   {
    "duration": 0,
    "start_time": "2025-04-02T16:11:22.434Z"
   },
   {
    "duration": 277,
    "start_time": "2025-04-02T16:11:54.558Z"
   },
   {
    "duration": 387,
    "start_time": "2025-04-02T16:12:06.439Z"
   },
   {
    "duration": 335,
    "start_time": "2025-04-02T16:12:12.820Z"
   },
   {
    "duration": 1202,
    "start_time": "2025-04-02T16:12:55.152Z"
   },
   {
    "duration": 62,
    "start_time": "2025-04-02T16:12:56.356Z"
   },
   {
    "duration": 14,
    "start_time": "2025-04-02T16:12:56.420Z"
   },
   {
    "duration": 23,
    "start_time": "2025-04-02T16:12:56.436Z"
   },
   {
    "duration": 20,
    "start_time": "2025-04-02T16:12:56.461Z"
   },
   {
    "duration": 10,
    "start_time": "2025-04-02T16:12:56.482Z"
   },
   {
    "duration": 8,
    "start_time": "2025-04-02T16:12:56.507Z"
   },
   {
    "duration": 9,
    "start_time": "2025-04-02T16:12:56.517Z"
   },
   {
    "duration": 4,
    "start_time": "2025-04-02T16:12:56.528Z"
   },
   {
    "duration": 25,
    "start_time": "2025-04-02T16:12:56.534Z"
   },
   {
    "duration": 15,
    "start_time": "2025-04-02T16:12:56.561Z"
   },
   {
    "duration": 4,
    "start_time": "2025-04-02T16:12:56.578Z"
   },
   {
    "duration": 30,
    "start_time": "2025-04-02T16:12:56.584Z"
   },
   {
    "duration": 9,
    "start_time": "2025-04-02T16:12:56.617Z"
   },
   {
    "duration": 6,
    "start_time": "2025-04-02T16:12:56.627Z"
   },
   {
    "duration": 11,
    "start_time": "2025-04-02T16:12:56.635Z"
   },
   {
    "duration": 11,
    "start_time": "2025-04-02T16:12:56.647Z"
   },
   {
    "duration": 6,
    "start_time": "2025-04-02T16:12:56.659Z"
   },
   {
    "duration": 16,
    "start_time": "2025-04-02T16:12:56.667Z"
   },
   {
    "duration": 23,
    "start_time": "2025-04-02T16:12:56.684Z"
   },
   {
    "duration": 10,
    "start_time": "2025-04-02T16:12:56.708Z"
   },
   {
    "duration": 12,
    "start_time": "2025-04-02T16:12:56.720Z"
   },
   {
    "duration": 8,
    "start_time": "2025-04-02T16:12:56.734Z"
   },
   {
    "duration": 17,
    "start_time": "2025-04-02T16:12:56.743Z"
   },
   {
    "duration": 13,
    "start_time": "2025-04-02T16:12:56.761Z"
   },
   {
    "duration": 15,
    "start_time": "2025-04-02T16:12:56.775Z"
   },
   {
    "duration": 20,
    "start_time": "2025-04-02T16:12:56.792Z"
   },
   {
    "duration": 5,
    "start_time": "2025-04-02T16:12:56.813Z"
   },
   {
    "duration": 16,
    "start_time": "2025-04-02T16:12:56.820Z"
   },
   {
    "duration": 4,
    "start_time": "2025-04-02T16:12:56.837Z"
   },
   {
    "duration": 30,
    "start_time": "2025-04-02T16:12:56.843Z"
   },
   {
    "duration": 667,
    "start_time": "2025-04-02T16:12:56.874Z"
   },
   {
    "duration": 17,
    "start_time": "2025-04-02T16:12:57.543Z"
   },
   {
    "duration": 230,
    "start_time": "2025-04-02T16:12:57.561Z"
   },
   {
    "duration": 435,
    "start_time": "2025-04-02T16:12:57.792Z"
   },
   {
    "duration": 14,
    "start_time": "2025-04-02T16:12:58.229Z"
   },
   {
    "duration": 389,
    "start_time": "2025-04-02T16:12:58.245Z"
   },
   {
    "duration": 405,
    "start_time": "2025-04-02T16:12:58.636Z"
   },
   {
    "duration": 347,
    "start_time": "2025-04-02T16:12:59.043Z"
   },
   {
    "duration": 3041,
    "start_time": "2025-04-02T16:12:59.406Z"
   },
   {
    "duration": 2863,
    "start_time": "2025-04-02T16:13:02.452Z"
   },
   {
    "duration": 332,
    "start_time": "2025-04-02T16:13:05.316Z"
   },
   {
    "duration": 274,
    "start_time": "2025-04-02T16:13:05.650Z"
   },
   {
    "duration": 9,
    "start_time": "2025-04-02T16:13:05.926Z"
   },
   {
    "duration": 257,
    "start_time": "2025-04-02T16:13:05.936Z"
   },
   {
    "duration": 377,
    "start_time": "2025-04-02T16:13:06.195Z"
   },
   {
    "duration": 349,
    "start_time": "2025-04-02T16:13:50.544Z"
   },
   {
    "duration": 13,
    "start_time": "2025-04-02T16:18:16.632Z"
   },
   {
    "duration": 250,
    "start_time": "2025-04-02T16:18:20.494Z"
   },
   {
    "duration": 281,
    "start_time": "2025-04-02T16:20:56.160Z"
   },
   {
    "duration": 240,
    "start_time": "2025-04-02T16:21:31.626Z"
   },
   {
    "duration": 307,
    "start_time": "2025-04-02T16:21:43.472Z"
   },
   {
    "duration": 263,
    "start_time": "2025-04-02T16:26:43.278Z"
   },
   {
    "duration": 255,
    "start_time": "2025-04-02T16:26:51.796Z"
   },
   {
    "duration": 245,
    "start_time": "2025-04-02T16:27:02.796Z"
   },
   {
    "duration": 286,
    "start_time": "2025-04-02T16:28:14.346Z"
   },
   {
    "duration": 258,
    "start_time": "2025-04-02T16:28:21.273Z"
   },
   {
    "duration": 352,
    "start_time": "2025-04-02T16:28:27.181Z"
   },
   {
    "duration": 253,
    "start_time": "2025-04-02T16:28:44.796Z"
   },
   {
    "duration": 259,
    "start_time": "2025-04-02T16:28:49.477Z"
   },
   {
    "duration": 12,
    "start_time": "2025-04-02T16:28:59.364Z"
   },
   {
    "duration": 245,
    "start_time": "2025-04-02T16:29:01.046Z"
   },
   {
    "duration": 258,
    "start_time": "2025-04-02T16:29:10.983Z"
   },
   {
    "duration": 1322,
    "start_time": "2025-04-02T16:29:17.204Z"
   },
   {
    "duration": 77,
    "start_time": "2025-04-02T16:29:18.528Z"
   },
   {
    "duration": 18,
    "start_time": "2025-04-02T16:29:18.607Z"
   },
   {
    "duration": 13,
    "start_time": "2025-04-02T16:29:18.629Z"
   },
   {
    "duration": 19,
    "start_time": "2025-04-02T16:29:18.645Z"
   },
   {
    "duration": 44,
    "start_time": "2025-04-02T16:29:18.667Z"
   },
   {
    "duration": 9,
    "start_time": "2025-04-02T16:29:18.713Z"
   },
   {
    "duration": 15,
    "start_time": "2025-04-02T16:29:18.724Z"
   },
   {
    "duration": 9,
    "start_time": "2025-04-02T16:29:18.741Z"
   },
   {
    "duration": 10,
    "start_time": "2025-04-02T16:29:18.755Z"
   },
   {
    "duration": 88,
    "start_time": "2025-04-02T16:29:18.767Z"
   },
   {
    "duration": 4,
    "start_time": "2025-04-02T16:29:18.857Z"
   },
   {
    "duration": 12,
    "start_time": "2025-04-02T16:29:18.863Z"
   },
   {
    "duration": 10,
    "start_time": "2025-04-02T16:29:18.877Z"
   },
   {
    "duration": 6,
    "start_time": "2025-04-02T16:29:18.888Z"
   },
   {
    "duration": 10,
    "start_time": "2025-04-02T16:29:18.896Z"
   },
   {
    "duration": 9,
    "start_time": "2025-04-02T16:29:18.908Z"
   },
   {
    "duration": 9,
    "start_time": "2025-04-02T16:29:18.919Z"
   },
   {
    "duration": 7,
    "start_time": "2025-04-02T16:29:18.930Z"
   },
   {
    "duration": 7,
    "start_time": "2025-04-02T16:29:18.939Z"
   },
   {
    "duration": 6,
    "start_time": "2025-04-02T16:29:18.947Z"
   },
   {
    "duration": 11,
    "start_time": "2025-04-02T16:29:18.955Z"
   },
   {
    "duration": 40,
    "start_time": "2025-04-02T16:29:18.968Z"
   },
   {
    "duration": 6,
    "start_time": "2025-04-02T16:29:19.010Z"
   },
   {
    "duration": 14,
    "start_time": "2025-04-02T16:29:19.018Z"
   },
   {
    "duration": 23,
    "start_time": "2025-04-02T16:29:19.035Z"
   },
   {
    "duration": 8,
    "start_time": "2025-04-02T16:29:19.060Z"
   },
   {
    "duration": 37,
    "start_time": "2025-04-02T16:29:19.072Z"
   },
   {
    "duration": 34,
    "start_time": "2025-04-02T16:29:19.111Z"
   },
   {
    "duration": 5,
    "start_time": "2025-04-02T16:29:19.148Z"
   },
   {
    "duration": 19,
    "start_time": "2025-04-02T16:29:19.155Z"
   },
   {
    "duration": 680,
    "start_time": "2025-04-02T16:29:19.175Z"
   },
   {
    "duration": 17,
    "start_time": "2025-04-02T16:29:19.856Z"
   },
   {
    "duration": 240,
    "start_time": "2025-04-02T16:29:19.874Z"
   },
   {
    "duration": 479,
    "start_time": "2025-04-02T16:29:20.116Z"
   },
   {
    "duration": 17,
    "start_time": "2025-04-02T16:29:20.597Z"
   },
   {
    "duration": 316,
    "start_time": "2025-04-02T16:29:20.616Z"
   },
   {
    "duration": 453,
    "start_time": "2025-04-02T16:29:20.934Z"
   },
   {
    "duration": 375,
    "start_time": "2025-04-02T16:29:21.389Z"
   },
   {
    "duration": 3484,
    "start_time": "2025-04-02T16:29:21.765Z"
   },
   {
    "duration": 3163,
    "start_time": "2025-04-02T16:29:25.250Z"
   },
   {
    "duration": 349,
    "start_time": "2025-04-02T16:29:28.414Z"
   },
   {
    "duration": 304,
    "start_time": "2025-04-02T16:29:28.765Z"
   },
   {
    "duration": 11,
    "start_time": "2025-04-02T16:29:29.072Z"
   },
   {
    "duration": 275,
    "start_time": "2025-04-02T16:29:29.085Z"
   },
   {
    "duration": 398,
    "start_time": "2025-04-02T16:29:29.362Z"
   },
   {
    "duration": 250,
    "start_time": "2025-04-02T16:30:54.818Z"
   },
   {
    "duration": 113,
    "start_time": "2025-04-02T16:42:04.188Z"
   },
   {
    "duration": 426,
    "start_time": "2025-04-02T16:42:51.041Z"
   },
   {
    "duration": 33,
    "start_time": "2025-04-02T16:44:28.251Z"
   },
   {
    "duration": 350,
    "start_time": "2025-04-02T16:45:06.331Z"
   },
   {
    "duration": 279,
    "start_time": "2025-04-02T16:45:24.103Z"
   },
   {
    "duration": 257,
    "start_time": "2025-04-02T16:45:53.738Z"
   },
   {
    "duration": 258,
    "start_time": "2025-04-02T16:46:35.752Z"
   },
   {
    "duration": 257,
    "start_time": "2025-04-02T16:51:50.886Z"
   },
   {
    "duration": 273,
    "start_time": "2025-04-02T16:51:58.089Z"
   },
   {
    "duration": 374,
    "start_time": "2025-04-02T16:52:04.465Z"
   },
   {
    "duration": 259,
    "start_time": "2025-04-02T16:52:26.328Z"
   },
   {
    "duration": 269,
    "start_time": "2025-04-02T16:56:03.519Z"
   },
   {
    "duration": 18,
    "start_time": "2025-04-02T17:09:06.219Z"
   },
   {
    "duration": 257,
    "start_time": "2025-04-02T17:11:08.014Z"
   },
   {
    "duration": 258,
    "start_time": "2025-04-02T17:12:11.630Z"
   },
   {
    "duration": 9,
    "start_time": "2025-04-02T17:12:25.892Z"
   },
   {
    "duration": 1288,
    "start_time": "2025-04-02T17:12:56.696Z"
   },
   {
    "duration": 67,
    "start_time": "2025-04-02T17:12:57.986Z"
   },
   {
    "duration": 16,
    "start_time": "2025-04-02T17:12:58.055Z"
   },
   {
    "duration": 13,
    "start_time": "2025-04-02T17:12:58.073Z"
   },
   {
    "duration": 36,
    "start_time": "2025-04-02T17:12:58.088Z"
   },
   {
    "duration": 11,
    "start_time": "2025-04-02T17:12:58.126Z"
   },
   {
    "duration": 8,
    "start_time": "2025-04-02T17:12:58.139Z"
   },
   {
    "duration": 9,
    "start_time": "2025-04-02T17:12:58.149Z"
   },
   {
    "duration": 4,
    "start_time": "2025-04-02T17:12:58.160Z"
   },
   {
    "duration": 45,
    "start_time": "2025-04-02T17:12:58.166Z"
   },
   {
    "duration": 11,
    "start_time": "2025-04-02T17:12:58.213Z"
   },
   {
    "duration": 3,
    "start_time": "2025-04-02T17:12:58.226Z"
   },
   {
    "duration": 10,
    "start_time": "2025-04-02T17:12:58.231Z"
   },
   {
    "duration": 10,
    "start_time": "2025-04-02T17:12:58.243Z"
   },
   {
    "duration": 6,
    "start_time": "2025-04-02T17:12:58.254Z"
   },
   {
    "duration": 46,
    "start_time": "2025-04-02T17:12:58.261Z"
   },
   {
    "duration": 7,
    "start_time": "2025-04-02T17:12:58.309Z"
   },
   {
    "duration": 5,
    "start_time": "2025-04-02T17:12:58.318Z"
   },
   {
    "duration": 19,
    "start_time": "2025-04-02T17:12:58.326Z"
   },
   {
    "duration": 7,
    "start_time": "2025-04-02T17:12:58.347Z"
   },
   {
    "duration": 8,
    "start_time": "2025-04-02T17:12:58.355Z"
   },
   {
    "duration": 9,
    "start_time": "2025-04-02T17:12:58.364Z"
   },
   {
    "duration": 32,
    "start_time": "2025-04-02T17:12:58.375Z"
   },
   {
    "duration": 7,
    "start_time": "2025-04-02T17:12:58.408Z"
   },
   {
    "duration": 14,
    "start_time": "2025-04-02T17:12:58.417Z"
   },
   {
    "duration": 17,
    "start_time": "2025-04-02T17:12:58.432Z"
   },
   {
    "duration": 9,
    "start_time": "2025-04-02T17:12:58.451Z"
   },
   {
    "duration": 5,
    "start_time": "2025-04-02T17:12:58.464Z"
   },
   {
    "duration": 47,
    "start_time": "2025-04-02T17:12:58.471Z"
   },
   {
    "duration": 5,
    "start_time": "2025-04-02T17:12:58.520Z"
   },
   {
    "duration": 20,
    "start_time": "2025-04-02T17:12:58.526Z"
   },
   {
    "duration": 715,
    "start_time": "2025-04-02T17:12:58.547Z"
   },
   {
    "duration": 16,
    "start_time": "2025-04-02T17:12:59.264Z"
   },
   {
    "duration": 250,
    "start_time": "2025-04-02T17:12:59.282Z"
   },
   {
    "duration": 493,
    "start_time": "2025-04-02T17:12:59.534Z"
   },
   {
    "duration": 15,
    "start_time": "2025-04-02T17:13:00.029Z"
   },
   {
    "duration": 306,
    "start_time": "2025-04-02T17:13:00.046Z"
   },
   {
    "duration": 411,
    "start_time": "2025-04-02T17:13:00.354Z"
   },
   {
    "duration": 337,
    "start_time": "2025-04-02T17:13:00.766Z"
   },
   {
    "duration": 3196,
    "start_time": "2025-04-02T17:13:01.106Z"
   },
   {
    "duration": 3034,
    "start_time": "2025-04-02T17:13:04.306Z"
   },
   {
    "duration": 331,
    "start_time": "2025-04-02T17:13:07.342Z"
   },
   {
    "duration": 317,
    "start_time": "2025-04-02T17:13:07.674Z"
   },
   {
    "duration": 18,
    "start_time": "2025-04-02T17:13:07.993Z"
   },
   {
    "duration": 257,
    "start_time": "2025-04-02T17:13:08.012Z"
   },
   {
    "duration": 362,
    "start_time": "2025-04-02T17:13:08.271Z"
   },
   {
    "duration": 280,
    "start_time": "2025-04-02T17:13:08.635Z"
   },
   {
    "duration": 8,
    "start_time": "2025-04-02T17:13:08.916Z"
   },
   {
    "duration": 71,
    "start_time": "2025-04-02T17:13:08.926Z"
   },
   {
    "duration": 110,
    "start_time": "2025-04-02T17:17:19.825Z"
   },
   {
    "duration": 24,
    "start_time": "2025-04-02T17:17:25.283Z"
   },
   {
    "duration": 20,
    "start_time": "2025-04-02T17:17:53.095Z"
   },
   {
    "duration": 28,
    "start_time": "2025-04-02T17:18:44.066Z"
   },
   {
    "duration": 2,
    "start_time": "2025-04-02T17:19:18.365Z"
   },
   {
    "duration": 21,
    "start_time": "2025-04-02T17:19:19.221Z"
   },
   {
    "duration": 13,
    "start_time": "2025-04-02T17:19:30.854Z"
   },
   {
    "duration": 11,
    "start_time": "2025-04-02T17:20:42.014Z"
   },
   {
    "duration": 4,
    "start_time": "2025-04-02T17:20:44.636Z"
   },
   {
    "duration": 5,
    "start_time": "2025-04-02T17:21:05.553Z"
   },
   {
    "duration": 4,
    "start_time": "2025-04-02T17:22:05.255Z"
   },
   {
    "duration": 12,
    "start_time": "2025-04-02T17:23:28.251Z"
   },
   {
    "duration": 4,
    "start_time": "2025-04-02T17:23:29.620Z"
   },
   {
    "duration": 4,
    "start_time": "2025-04-02T17:29:35.363Z"
   },
   {
    "duration": 15,
    "start_time": "2025-04-02T17:29:44.657Z"
   },
   {
    "duration": 4,
    "start_time": "2025-04-02T17:29:45.260Z"
   },
   {
    "duration": 12,
    "start_time": "2025-04-02T17:31:13.209Z"
   },
   {
    "duration": 4,
    "start_time": "2025-04-02T17:31:13.831Z"
   },
   {
    "duration": 4,
    "start_time": "2025-04-02T17:31:32.779Z"
   },
   {
    "duration": 4,
    "start_time": "2025-04-02T17:31:51.480Z"
   },
   {
    "duration": 1208,
    "start_time": "2025-04-02T17:54:12.519Z"
   },
   {
    "duration": 73,
    "start_time": "2025-04-02T17:54:13.729Z"
   },
   {
    "duration": 20,
    "start_time": "2025-04-02T17:54:13.804Z"
   },
   {
    "duration": 28,
    "start_time": "2025-04-02T17:54:13.827Z"
   },
   {
    "duration": 36,
    "start_time": "2025-04-02T17:54:13.856Z"
   },
   {
    "duration": 10,
    "start_time": "2025-04-02T17:54:13.894Z"
   },
   {
    "duration": 7,
    "start_time": "2025-04-02T17:54:13.906Z"
   },
   {
    "duration": 9,
    "start_time": "2025-04-02T17:54:13.915Z"
   },
   {
    "duration": 4,
    "start_time": "2025-04-02T17:54:13.925Z"
   },
   {
    "duration": 10,
    "start_time": "2025-04-02T17:54:13.932Z"
   },
   {
    "duration": 10,
    "start_time": "2025-04-02T17:54:13.944Z"
   },
   {
    "duration": 4,
    "start_time": "2025-04-02T17:54:13.956Z"
   },
   {
    "duration": 47,
    "start_time": "2025-04-02T17:54:13.961Z"
   },
   {
    "duration": 11,
    "start_time": "2025-04-02T17:54:14.010Z"
   },
   {
    "duration": 7,
    "start_time": "2025-04-02T17:54:14.024Z"
   },
   {
    "duration": 10,
    "start_time": "2025-04-02T17:54:14.033Z"
   },
   {
    "duration": 15,
    "start_time": "2025-04-02T17:54:14.045Z"
   },
   {
    "duration": 5,
    "start_time": "2025-04-02T17:54:14.062Z"
   },
   {
    "duration": 5,
    "start_time": "2025-04-02T17:54:14.069Z"
   },
   {
    "duration": 35,
    "start_time": "2025-04-02T17:54:14.076Z"
   },
   {
    "duration": 7,
    "start_time": "2025-04-02T17:54:14.112Z"
   },
   {
    "duration": 11,
    "start_time": "2025-04-02T17:54:14.121Z"
   },
   {
    "duration": 9,
    "start_time": "2025-04-02T17:54:14.134Z"
   },
   {
    "duration": 11,
    "start_time": "2025-04-02T17:54:14.145Z"
   },
   {
    "duration": 21,
    "start_time": "2025-04-02T17:54:14.158Z"
   },
   {
    "duration": 33,
    "start_time": "2025-04-02T17:54:14.181Z"
   },
   {
    "duration": 9,
    "start_time": "2025-04-02T17:54:14.215Z"
   },
   {
    "duration": 4,
    "start_time": "2025-04-02T17:54:14.227Z"
   },
   {
    "duration": 15,
    "start_time": "2025-04-02T17:54:14.232Z"
   },
   {
    "duration": 4,
    "start_time": "2025-04-02T17:54:14.249Z"
   },
   {
    "duration": 19,
    "start_time": "2025-04-02T17:54:14.254Z"
   },
   {
    "duration": 713,
    "start_time": "2025-04-02T17:54:14.274Z"
   },
   {
    "duration": 20,
    "start_time": "2025-04-02T17:54:14.989Z"
   },
   {
    "duration": 221,
    "start_time": "2025-04-02T17:54:15.011Z"
   },
   {
    "duration": 421,
    "start_time": "2025-04-02T17:54:15.234Z"
   },
   {
    "duration": 15,
    "start_time": "2025-04-02T17:54:15.657Z"
   },
   {
    "duration": 279,
    "start_time": "2025-04-02T17:54:15.674Z"
   },
   {
    "duration": 431,
    "start_time": "2025-04-02T17:54:15.955Z"
   },
   {
    "duration": 339,
    "start_time": "2025-04-02T17:54:16.388Z"
   },
   {
    "duration": 3059,
    "start_time": "2025-04-02T17:54:16.729Z"
   },
   {
    "duration": 3707,
    "start_time": "2025-04-02T17:54:19.789Z"
   },
   {
    "duration": 355,
    "start_time": "2025-04-02T17:54:23.497Z"
   },
   {
    "duration": 324,
    "start_time": "2025-04-02T17:54:23.853Z"
   },
   {
    "duration": 10,
    "start_time": "2025-04-02T17:54:24.179Z"
   },
   {
    "duration": 286,
    "start_time": "2025-04-02T17:54:24.191Z"
   },
   {
    "duration": 360,
    "start_time": "2025-04-02T17:54:24.479Z"
   },
   {
    "duration": 267,
    "start_time": "2025-04-02T17:54:24.842Z"
   },
   {
    "duration": 3,
    "start_time": "2025-04-02T17:54:25.111Z"
   },
   {
    "duration": 68,
    "start_time": "2025-04-02T17:54:25.116Z"
   },
   {
    "duration": 4,
    "start_time": "2025-04-02T17:54:25.186Z"
   },
   {
    "duration": 9,
    "start_time": "2025-04-02T17:54:25.191Z"
   },
   {
    "duration": 12,
    "start_time": "2025-04-02T17:54:25.202Z"
   },
   {
    "duration": 265,
    "start_time": "2025-04-02T17:56:07.691Z"
   },
   {
    "duration": 1184,
    "start_time": "2025-04-02T17:57:59.369Z"
   },
   {
    "duration": 72,
    "start_time": "2025-04-02T17:58:00.555Z"
   },
   {
    "duration": 17,
    "start_time": "2025-04-02T17:58:00.629Z"
   },
   {
    "duration": 75,
    "start_time": "2025-04-02T17:58:00.648Z"
   },
   {
    "duration": 35,
    "start_time": "2025-04-02T17:58:00.725Z"
   },
   {
    "duration": 11,
    "start_time": "2025-04-02T17:58:00.762Z"
   },
   {
    "duration": 85,
    "start_time": "2025-04-02T17:58:00.774Z"
   },
   {
    "duration": 10,
    "start_time": "2025-04-02T17:58:00.860Z"
   },
   {
    "duration": 4,
    "start_time": "2025-04-02T17:58:00.872Z"
   },
   {
    "duration": 10,
    "start_time": "2025-04-02T17:58:00.878Z"
   },
   {
    "duration": 12,
    "start_time": "2025-04-02T17:58:00.890Z"
   },
   {
    "duration": 3,
    "start_time": "2025-04-02T17:58:00.904Z"
   },
   {
    "duration": 29,
    "start_time": "2025-04-02T17:58:00.909Z"
   },
   {
    "duration": 15,
    "start_time": "2025-04-02T17:58:00.940Z"
   },
   {
    "duration": 6,
    "start_time": "2025-04-02T17:58:00.957Z"
   },
   {
    "duration": 10,
    "start_time": "2025-04-02T17:58:00.964Z"
   },
   {
    "duration": 7,
    "start_time": "2025-04-02T17:58:00.975Z"
   },
   {
    "duration": 5,
    "start_time": "2025-04-02T17:58:00.983Z"
   },
   {
    "duration": 6,
    "start_time": "2025-04-02T17:58:01.010Z"
   },
   {
    "duration": 14,
    "start_time": "2025-04-02T17:58:01.017Z"
   },
   {
    "duration": 22,
    "start_time": "2025-04-02T17:58:01.033Z"
   },
   {
    "duration": 24,
    "start_time": "2025-04-02T17:58:01.057Z"
   },
   {
    "duration": 6,
    "start_time": "2025-04-02T17:58:01.082Z"
   },
   {
    "duration": 5,
    "start_time": "2025-04-02T17:58:01.089Z"
   },
   {
    "duration": 11,
    "start_time": "2025-04-02T17:58:01.096Z"
   },
   {
    "duration": 99,
    "start_time": "2025-04-02T17:58:01.108Z"
   },
   {
    "duration": 8,
    "start_time": "2025-04-02T17:58:01.209Z"
   },
   {
    "duration": 10,
    "start_time": "2025-04-02T17:58:01.220Z"
   },
   {
    "duration": 28,
    "start_time": "2025-04-02T17:58:01.231Z"
   },
   {
    "duration": 5,
    "start_time": "2025-04-02T17:58:01.261Z"
   },
   {
    "duration": 23,
    "start_time": "2025-04-02T17:58:01.267Z"
   },
   {
    "duration": 648,
    "start_time": "2025-04-02T17:58:01.292Z"
   },
   {
    "duration": 16,
    "start_time": "2025-04-02T17:58:01.942Z"
   },
   {
    "duration": 222,
    "start_time": "2025-04-02T17:58:01.959Z"
   },
   {
    "duration": 429,
    "start_time": "2025-04-02T17:58:02.182Z"
   },
   {
    "duration": 14,
    "start_time": "2025-04-02T17:58:02.613Z"
   },
   {
    "duration": 374,
    "start_time": "2025-04-02T17:58:02.629Z"
   },
   {
    "duration": 385,
    "start_time": "2025-04-02T17:58:03.004Z"
   },
   {
    "duration": 331,
    "start_time": "2025-04-02T17:58:03.391Z"
   },
   {
    "duration": 3120,
    "start_time": "2025-04-02T17:58:03.723Z"
   },
   {
    "duration": 2991,
    "start_time": "2025-04-02T17:58:06.845Z"
   },
   {
    "duration": 336,
    "start_time": "2025-04-02T17:58:09.838Z"
   },
   {
    "duration": 287,
    "start_time": "2025-04-02T17:58:10.176Z"
   },
   {
    "duration": 9,
    "start_time": "2025-04-02T17:58:10.465Z"
   },
   {
    "duration": 272,
    "start_time": "2025-04-02T17:58:10.476Z"
   },
   {
    "duration": 386,
    "start_time": "2025-04-02T17:58:10.750Z"
   },
   {
    "duration": 267,
    "start_time": "2025-04-02T17:58:11.138Z"
   },
   {
    "duration": 3,
    "start_time": "2025-04-02T17:58:11.407Z"
   },
   {
    "duration": 15,
    "start_time": "2025-04-02T17:58:11.411Z"
   },
   {
    "duration": 4,
    "start_time": "2025-04-02T17:58:11.427Z"
   },
   {
    "duration": 10,
    "start_time": "2025-04-02T17:58:11.433Z"
   },
   {
    "duration": 4,
    "start_time": "2025-04-02T17:58:11.445Z"
   },
   {
    "duration": 3193,
    "start_time": "2025-04-02T18:04:57.025Z"
   },
   {
    "duration": 1210,
    "start_time": "2025-04-02T18:05:07.717Z"
   },
   {
    "duration": 62,
    "start_time": "2025-04-02T18:05:08.929Z"
   },
   {
    "duration": 15,
    "start_time": "2025-04-02T18:05:08.993Z"
   },
   {
    "duration": 12,
    "start_time": "2025-04-02T18:05:09.010Z"
   },
   {
    "duration": 18,
    "start_time": "2025-04-02T18:05:09.024Z"
   },
   {
    "duration": 11,
    "start_time": "2025-04-02T18:05:09.044Z"
   },
   {
    "duration": 8,
    "start_time": "2025-04-02T18:05:09.057Z"
   },
   {
    "duration": 44,
    "start_time": "2025-04-02T18:05:09.067Z"
   },
   {
    "duration": 5,
    "start_time": "2025-04-02T18:05:09.113Z"
   },
   {
    "duration": 11,
    "start_time": "2025-04-02T18:05:09.121Z"
   },
   {
    "duration": 12,
    "start_time": "2025-04-02T18:05:09.134Z"
   },
   {
    "duration": 77,
    "start_time": "2025-04-02T18:05:09.147Z"
   },
   {
    "duration": 20,
    "start_time": "2025-04-02T18:05:09.226Z"
   },
   {
    "duration": 11,
    "start_time": "2025-04-02T18:05:09.247Z"
   },
   {
    "duration": 6,
    "start_time": "2025-04-02T18:05:09.260Z"
   },
   {
    "duration": 8,
    "start_time": "2025-04-02T18:05:09.268Z"
   },
   {
    "duration": 7,
    "start_time": "2025-04-02T18:05:09.278Z"
   },
   {
    "duration": 22,
    "start_time": "2025-04-02T18:05:09.287Z"
   },
   {
    "duration": 7,
    "start_time": "2025-04-02T18:05:09.312Z"
   },
   {
    "duration": 6,
    "start_time": "2025-04-02T18:05:09.320Z"
   },
   {
    "duration": 5,
    "start_time": "2025-04-02T18:05:09.328Z"
   },
   {
    "duration": 8,
    "start_time": "2025-04-02T18:05:09.335Z"
   },
   {
    "duration": 6,
    "start_time": "2025-04-02T18:05:09.344Z"
   },
   {
    "duration": 6,
    "start_time": "2025-04-02T18:05:09.352Z"
   },
   {
    "duration": 56,
    "start_time": "2025-04-02T18:05:09.360Z"
   },
   {
    "duration": 15,
    "start_time": "2025-04-02T18:05:09.419Z"
   },
   {
    "duration": 9,
    "start_time": "2025-04-02T18:05:09.437Z"
   },
   {
    "duration": 4,
    "start_time": "2025-04-02T18:05:09.450Z"
   },
   {
    "duration": 14,
    "start_time": "2025-04-02T18:05:09.455Z"
   },
   {
    "duration": 37,
    "start_time": "2025-04-02T18:05:09.470Z"
   },
   {
    "duration": 73,
    "start_time": "2025-04-02T18:05:09.509Z"
   },
   {
    "duration": 658,
    "start_time": "2025-04-02T18:05:09.583Z"
   },
   {
    "duration": 16,
    "start_time": "2025-04-02T18:05:10.243Z"
   },
   {
    "duration": 249,
    "start_time": "2025-04-02T18:05:10.261Z"
   },
   {
    "duration": 439,
    "start_time": "2025-04-02T18:05:10.512Z"
   },
   {
    "duration": 14,
    "start_time": "2025-04-02T18:05:10.953Z"
   },
   {
    "duration": 275,
    "start_time": "2025-04-02T18:05:10.969Z"
   },
   {
    "duration": 408,
    "start_time": "2025-04-02T18:05:11.245Z"
   },
   {
    "duration": 341,
    "start_time": "2025-04-02T18:05:11.655Z"
   },
   {
    "duration": 3216,
    "start_time": "2025-04-02T18:05:11.997Z"
   },
   {
    "duration": 3022,
    "start_time": "2025-04-02T18:05:15.214Z"
   },
   {
    "duration": 321,
    "start_time": "2025-04-02T18:05:18.238Z"
   },
   {
    "duration": 280,
    "start_time": "2025-04-02T18:05:18.561Z"
   },
   {
    "duration": 10,
    "start_time": "2025-04-02T18:05:18.843Z"
   },
   {
    "duration": 255,
    "start_time": "2025-04-02T18:05:18.854Z"
   },
   {
    "duration": 358,
    "start_time": "2025-04-02T18:05:19.112Z"
   },
   {
    "duration": 267,
    "start_time": "2025-04-02T18:05:19.472Z"
   },
   {
    "duration": 3,
    "start_time": "2025-04-02T18:05:19.740Z"
   },
   {
    "duration": 29,
    "start_time": "2025-04-02T18:05:19.744Z"
   },
   {
    "duration": 4,
    "start_time": "2025-04-02T18:05:19.775Z"
   },
   {
    "duration": 12,
    "start_time": "2025-04-02T18:05:19.780Z"
   },
   {
    "duration": 4,
    "start_time": "2025-04-02T18:05:19.793Z"
   },
   {
    "duration": 521,
    "start_time": "2025-04-02T18:18:02.502Z"
   },
   {
    "duration": 448,
    "start_time": "2025-04-02T18:18:50.072Z"
   },
   {
    "duration": 403,
    "start_time": "2025-04-02T18:19:09.736Z"
   },
   {
    "duration": 630,
    "start_time": "2025-04-02T18:19:28.600Z"
   },
   {
    "duration": 1183,
    "start_time": "2025-04-02T18:20:04.558Z"
   },
   {
    "duration": 64,
    "start_time": "2025-04-02T18:20:05.743Z"
   },
   {
    "duration": 18,
    "start_time": "2025-04-02T18:20:05.809Z"
   },
   {
    "duration": 11,
    "start_time": "2025-04-02T18:20:05.830Z"
   },
   {
    "duration": 33,
    "start_time": "2025-04-02T18:20:05.843Z"
   },
   {
    "duration": 10,
    "start_time": "2025-04-02T18:20:05.878Z"
   },
   {
    "duration": 22,
    "start_time": "2025-04-02T18:20:05.889Z"
   },
   {
    "duration": 14,
    "start_time": "2025-04-02T18:20:05.912Z"
   },
   {
    "duration": 18,
    "start_time": "2025-04-02T18:20:05.928Z"
   },
   {
    "duration": 9,
    "start_time": "2025-04-02T18:20:05.949Z"
   },
   {
    "duration": 20,
    "start_time": "2025-04-02T18:20:05.960Z"
   },
   {
    "duration": 11,
    "start_time": "2025-04-02T18:20:05.981Z"
   },
   {
    "duration": 18,
    "start_time": "2025-04-02T18:20:05.993Z"
   },
   {
    "duration": 11,
    "start_time": "2025-04-02T18:20:06.013Z"
   },
   {
    "duration": 21,
    "start_time": "2025-04-02T18:20:06.026Z"
   },
   {
    "duration": 11,
    "start_time": "2025-04-02T18:20:06.048Z"
   },
   {
    "duration": 9,
    "start_time": "2025-04-02T18:20:06.060Z"
   },
   {
    "duration": 6,
    "start_time": "2025-04-02T18:20:06.070Z"
   },
   {
    "duration": 8,
    "start_time": "2025-04-02T18:20:06.077Z"
   },
   {
    "duration": 22,
    "start_time": "2025-04-02T18:20:06.086Z"
   },
   {
    "duration": 5,
    "start_time": "2025-04-02T18:20:06.110Z"
   },
   {
    "duration": 49,
    "start_time": "2025-04-02T18:20:06.116Z"
   },
   {
    "duration": 6,
    "start_time": "2025-04-02T18:20:06.167Z"
   },
   {
    "duration": 5,
    "start_time": "2025-04-02T18:20:06.175Z"
   },
   {
    "duration": 11,
    "start_time": "2025-04-02T18:20:06.181Z"
   },
   {
    "duration": 26,
    "start_time": "2025-04-02T18:20:06.193Z"
   },
   {
    "duration": 16,
    "start_time": "2025-04-02T18:20:06.221Z"
   },
   {
    "duration": 11,
    "start_time": "2025-04-02T18:20:06.243Z"
   },
   {
    "duration": 25,
    "start_time": "2025-04-02T18:20:06.257Z"
   },
   {
    "duration": 6,
    "start_time": "2025-04-02T18:20:06.284Z"
   },
   {
    "duration": 33,
    "start_time": "2025-04-02T18:20:06.292Z"
   },
   {
    "duration": 700,
    "start_time": "2025-04-02T18:20:06.327Z"
   },
   {
    "duration": 17,
    "start_time": "2025-04-02T18:20:07.029Z"
   },
   {
    "duration": 228,
    "start_time": "2025-04-02T18:20:07.048Z"
   },
   {
    "duration": 429,
    "start_time": "2025-04-02T18:20:07.278Z"
   },
   {
    "duration": 19,
    "start_time": "2025-04-02T18:20:07.709Z"
   },
   {
    "duration": 317,
    "start_time": "2025-04-02T18:20:07.730Z"
   },
   {
    "duration": 408,
    "start_time": "2025-04-02T18:20:08.048Z"
   },
   {
    "duration": 329,
    "start_time": "2025-04-02T18:20:08.459Z"
   },
   {
    "duration": 3118,
    "start_time": "2025-04-02T18:20:08.789Z"
   },
   {
    "duration": 3066,
    "start_time": "2025-04-02T18:20:11.909Z"
   },
   {
    "duration": 375,
    "start_time": "2025-04-02T18:20:14.976Z"
   },
   {
    "duration": 304,
    "start_time": "2025-04-02T18:20:15.352Z"
   },
   {
    "duration": 9,
    "start_time": "2025-04-02T18:20:15.658Z"
   },
   {
    "duration": 280,
    "start_time": "2025-04-02T18:20:15.669Z"
   },
   {
    "duration": 400,
    "start_time": "2025-04-02T18:20:15.951Z"
   },
   {
    "duration": 269,
    "start_time": "2025-04-02T18:20:16.352Z"
   },
   {
    "duration": 3,
    "start_time": "2025-04-02T18:20:16.623Z"
   },
   {
    "duration": 13,
    "start_time": "2025-04-02T18:20:16.627Z"
   },
   {
    "duration": 3,
    "start_time": "2025-04-02T18:20:16.642Z"
   },
   {
    "duration": 14,
    "start_time": "2025-04-02T18:20:16.647Z"
   },
   {
    "duration": 5,
    "start_time": "2025-04-02T18:20:16.662Z"
   },
   {
    "duration": 1176,
    "start_time": "2025-04-02T20:40:38.298Z"
   },
   {
    "duration": 61,
    "start_time": "2025-04-02T20:40:39.479Z"
   },
   {
    "duration": 25,
    "start_time": "2025-04-02T20:40:39.542Z"
   },
   {
    "duration": 11,
    "start_time": "2025-04-02T20:40:39.568Z"
   },
   {
    "duration": 22,
    "start_time": "2025-04-02T20:40:39.581Z"
   },
   {
    "duration": 10,
    "start_time": "2025-04-02T20:40:39.604Z"
   },
   {
    "duration": 21,
    "start_time": "2025-04-02T20:40:39.615Z"
   },
   {
    "duration": 16,
    "start_time": "2025-04-02T20:40:39.638Z"
   },
   {
    "duration": 14,
    "start_time": "2025-04-02T20:40:39.655Z"
   },
   {
    "duration": 9,
    "start_time": "2025-04-02T20:40:39.670Z"
   },
   {
    "duration": 11,
    "start_time": "2025-04-02T20:40:39.681Z"
   },
   {
    "duration": 3,
    "start_time": "2025-04-02T20:40:39.693Z"
   },
   {
    "duration": 9,
    "start_time": "2025-04-02T20:40:39.698Z"
   },
   {
    "duration": 8,
    "start_time": "2025-04-02T20:40:39.710Z"
   },
   {
    "duration": 36,
    "start_time": "2025-04-02T20:40:39.720Z"
   },
   {
    "duration": 11,
    "start_time": "2025-04-02T20:40:39.759Z"
   },
   {
    "duration": 8,
    "start_time": "2025-04-02T20:40:39.772Z"
   },
   {
    "duration": 5,
    "start_time": "2025-04-02T20:40:39.782Z"
   },
   {
    "duration": 16,
    "start_time": "2025-04-02T20:40:39.789Z"
   },
   {
    "duration": 6,
    "start_time": "2025-04-02T20:40:39.807Z"
   },
   {
    "duration": 4,
    "start_time": "2025-04-02T20:40:39.814Z"
   },
   {
    "duration": 6,
    "start_time": "2025-04-02T20:40:39.820Z"
   },
   {
    "duration": 31,
    "start_time": "2025-04-02T20:40:39.827Z"
   },
   {
    "duration": 8,
    "start_time": "2025-04-02T20:40:39.866Z"
   },
   {
    "duration": 11,
    "start_time": "2025-04-02T20:40:39.875Z"
   },
   {
    "duration": 14,
    "start_time": "2025-04-02T20:40:39.888Z"
   },
   {
    "duration": 7,
    "start_time": "2025-04-02T20:40:39.904Z"
   },
   {
    "duration": 3,
    "start_time": "2025-04-02T20:40:39.913Z"
   },
   {
    "duration": 49,
    "start_time": "2025-04-02T20:40:39.918Z"
   },
   {
    "duration": 5,
    "start_time": "2025-04-02T20:40:39.969Z"
   },
   {
    "duration": 19,
    "start_time": "2025-04-02T20:40:39.976Z"
   },
   {
    "duration": 684,
    "start_time": "2025-04-02T20:40:39.997Z"
   },
   {
    "duration": 15,
    "start_time": "2025-04-02T20:40:40.683Z"
   },
   {
    "duration": 238,
    "start_time": "2025-04-02T20:40:40.699Z"
   },
   {
    "duration": 403,
    "start_time": "2025-04-02T20:40:40.939Z"
   },
   {
    "duration": 25,
    "start_time": "2025-04-02T20:40:41.344Z"
   },
   {
    "duration": 299,
    "start_time": "2025-04-02T20:40:41.371Z"
   },
   {
    "duration": 397,
    "start_time": "2025-04-02T20:40:41.672Z"
   },
   {
    "duration": 329,
    "start_time": "2025-04-02T20:40:42.071Z"
   },
   {
    "duration": 3012,
    "start_time": "2025-04-02T20:40:42.402Z"
   },
   {
    "duration": 2927,
    "start_time": "2025-04-02T20:40:45.418Z"
   },
   {
    "duration": 347,
    "start_time": "2025-04-02T20:40:48.347Z"
   },
   {
    "duration": 283,
    "start_time": "2025-04-02T20:40:48.696Z"
   },
   {
    "duration": 9,
    "start_time": "2025-04-02T20:40:48.980Z"
   },
   {
    "duration": 257,
    "start_time": "2025-04-02T20:40:48.991Z"
   },
   {
    "duration": 376,
    "start_time": "2025-04-02T20:40:49.249Z"
   },
   {
    "duration": 262,
    "start_time": "2025-04-02T20:40:49.627Z"
   },
   {
    "duration": 2,
    "start_time": "2025-04-02T20:40:49.891Z"
   },
   {
    "duration": 17,
    "start_time": "2025-04-02T20:40:49.895Z"
   },
   {
    "duration": 4,
    "start_time": "2025-04-02T20:40:49.914Z"
   },
   {
    "duration": 10,
    "start_time": "2025-04-02T20:40:49.919Z"
   },
   {
    "duration": 3,
    "start_time": "2025-04-02T20:40:49.931Z"
   },
   {
    "duration": 62,
    "start_time": "2025-04-02T20:43:23.601Z"
   },
   {
    "duration": 10,
    "start_time": "2025-04-02T20:43:27.642Z"
   },
   {
    "duration": 14,
    "start_time": "2025-04-02T20:43:38.582Z"
   },
   {
    "duration": 1202,
    "start_time": "2025-04-02T20:43:46.076Z"
   },
   {
    "duration": 60,
    "start_time": "2025-04-02T20:43:47.280Z"
   },
   {
    "duration": 23,
    "start_time": "2025-04-02T20:43:47.342Z"
   },
   {
    "duration": 23,
    "start_time": "2025-04-02T20:43:47.367Z"
   },
   {
    "duration": 49,
    "start_time": "2025-04-02T20:43:47.391Z"
   },
   {
    "duration": 11,
    "start_time": "2025-04-02T20:43:47.442Z"
   },
   {
    "duration": 20,
    "start_time": "2025-04-02T20:43:47.457Z"
   },
   {
    "duration": 8,
    "start_time": "2025-04-02T20:43:47.478Z"
   },
   {
    "duration": 9,
    "start_time": "2025-04-02T20:43:47.487Z"
   },
   {
    "duration": 4,
    "start_time": "2025-04-02T20:43:47.498Z"
   },
   {
    "duration": 9,
    "start_time": "2025-04-02T20:43:47.503Z"
   },
   {
    "duration": 16,
    "start_time": "2025-04-02T20:43:47.513Z"
   },
   {
    "duration": 13,
    "start_time": "2025-04-02T20:43:47.557Z"
   },
   {
    "duration": 10,
    "start_time": "2025-04-02T20:43:47.572Z"
   },
   {
    "duration": 9,
    "start_time": "2025-04-02T20:43:47.583Z"
   },
   {
    "duration": 6,
    "start_time": "2025-04-02T20:43:47.593Z"
   },
   {
    "duration": 17,
    "start_time": "2025-04-02T20:43:47.600Z"
   },
   {
    "duration": 6,
    "start_time": "2025-04-02T20:43:47.618Z"
   },
   {
    "duration": 10,
    "start_time": "2025-04-02T20:43:47.626Z"
   },
   {
    "duration": 24,
    "start_time": "2025-04-02T20:43:47.637Z"
   },
   {
    "duration": 9,
    "start_time": "2025-04-02T20:43:47.663Z"
   },
   {
    "duration": 5,
    "start_time": "2025-04-02T20:43:47.673Z"
   },
   {
    "duration": 9,
    "start_time": "2025-04-02T20:43:47.679Z"
   },
   {
    "duration": 5,
    "start_time": "2025-04-02T20:43:47.689Z"
   },
   {
    "duration": 4,
    "start_time": "2025-04-02T20:43:47.696Z"
   },
   {
    "duration": 10,
    "start_time": "2025-04-02T20:43:47.701Z"
   },
   {
    "duration": 44,
    "start_time": "2025-04-02T20:43:47.712Z"
   },
   {
    "duration": 9,
    "start_time": "2025-04-02T20:43:47.761Z"
   },
   {
    "duration": 11,
    "start_time": "2025-04-02T20:43:47.772Z"
   },
   {
    "duration": 14,
    "start_time": "2025-04-02T20:43:47.784Z"
   },
   {
    "duration": 4,
    "start_time": "2025-04-02T20:43:47.799Z"
   },
   {
    "duration": 23,
    "start_time": "2025-04-02T20:43:47.804Z"
   },
   {
    "duration": 638,
    "start_time": "2025-04-02T20:43:47.829Z"
   },
   {
    "duration": 16,
    "start_time": "2025-04-02T20:43:48.471Z"
   },
   {
    "duration": 209,
    "start_time": "2025-04-02T20:43:48.489Z"
   },
   {
    "duration": 477,
    "start_time": "2025-04-02T20:43:48.699Z"
   },
   {
    "duration": 14,
    "start_time": "2025-04-02T20:43:49.177Z"
   },
   {
    "duration": 680,
    "start_time": "2025-04-02T20:43:49.192Z"
   },
   {
    "duration": 793,
    "start_time": "2025-04-02T20:43:49.874Z"
   },
   {
    "duration": 338,
    "start_time": "2025-04-02T20:43:50.669Z"
   },
   {
    "duration": 2995,
    "start_time": "2025-04-02T20:43:51.009Z"
   },
   {
    "duration": 2876,
    "start_time": "2025-04-02T20:43:54.005Z"
   },
   {
    "duration": 330,
    "start_time": "2025-04-02T20:43:56.883Z"
   },
   {
    "duration": 308,
    "start_time": "2025-04-02T20:43:57.215Z"
   },
   {
    "duration": 9,
    "start_time": "2025-04-02T20:43:57.524Z"
   },
   {
    "duration": 269,
    "start_time": "2025-04-02T20:43:57.534Z"
   },
   {
    "duration": 366,
    "start_time": "2025-04-02T20:43:57.804Z"
   },
   {
    "duration": 247,
    "start_time": "2025-04-02T20:43:58.172Z"
   },
   {
    "duration": 3,
    "start_time": "2025-04-02T20:43:58.421Z"
   },
   {
    "duration": 11,
    "start_time": "2025-04-02T20:43:58.425Z"
   },
   {
    "duration": 24,
    "start_time": "2025-04-02T20:43:58.437Z"
   },
   {
    "duration": 15,
    "start_time": "2025-04-02T20:43:58.463Z"
   },
   {
    "duration": 4,
    "start_time": "2025-04-02T20:43:58.480Z"
   },
   {
    "duration": 12,
    "start_time": "2025-04-02T20:44:40.922Z"
   },
   {
    "duration": 4,
    "start_time": "2025-04-02T20:44:45.588Z"
   },
   {
    "duration": 63,
    "start_time": "2025-04-02T20:44:45.916Z"
   },
   {
    "duration": 24,
    "start_time": "2025-04-02T20:44:46.248Z"
   },
   {
    "duration": 11,
    "start_time": "2025-04-02T20:44:46.935Z"
   },
   {
    "duration": 16,
    "start_time": "2025-04-02T20:44:49.623Z"
   },
   {
    "duration": 11,
    "start_time": "2025-04-02T20:44:51.368Z"
   },
   {
    "duration": 18,
    "start_time": "2025-04-02T20:44:52.163Z"
   },
   {
    "duration": 5,
    "start_time": "2025-04-02T20:46:58.384Z"
   },
   {
    "duration": 1094,
    "start_time": "2025-04-02T21:12:58.031Z"
   },
   {
    "duration": 58,
    "start_time": "2025-04-02T21:12:59.127Z"
   },
   {
    "duration": 14,
    "start_time": "2025-04-02T21:12:59.187Z"
   },
   {
    "duration": 10,
    "start_time": "2025-04-02T21:12:59.207Z"
   },
   {
    "duration": 16,
    "start_time": "2025-04-02T21:12:59.218Z"
   },
   {
    "duration": 9,
    "start_time": "2025-04-02T21:12:59.236Z"
   },
   {
    "duration": 8,
    "start_time": "2025-04-02T21:12:59.246Z"
   },
   {
    "duration": 80,
    "start_time": "2025-04-02T21:12:59.255Z"
   },
   {
    "duration": 3,
    "start_time": "2025-04-02T21:12:59.337Z"
   },
   {
    "duration": 8,
    "start_time": "2025-04-02T21:12:59.343Z"
   },
   {
    "duration": 17,
    "start_time": "2025-04-02T21:12:59.353Z"
   },
   {
    "duration": 4,
    "start_time": "2025-04-02T21:12:59.372Z"
   },
   {
    "duration": 25,
    "start_time": "2025-04-02T21:12:59.377Z"
   },
   {
    "duration": 8,
    "start_time": "2025-04-02T21:12:59.404Z"
   },
   {
    "duration": 84,
    "start_time": "2025-04-02T21:12:59.414Z"
   },
   {
    "duration": 11,
    "start_time": "2025-04-02T21:12:59.499Z"
   },
   {
    "duration": 6,
    "start_time": "2025-04-02T21:12:59.512Z"
   },
   {
    "duration": 6,
    "start_time": "2025-04-02T21:12:59.519Z"
   },
   {
    "duration": 15,
    "start_time": "2025-04-02T21:12:59.526Z"
   },
   {
    "duration": 6,
    "start_time": "2025-04-02T21:12:59.542Z"
   },
   {
    "duration": 6,
    "start_time": "2025-04-02T21:12:59.549Z"
   },
   {
    "duration": 21,
    "start_time": "2025-04-02T21:12:59.556Z"
   },
   {
    "duration": 4,
    "start_time": "2025-04-02T21:12:59.579Z"
   },
   {
    "duration": 5,
    "start_time": "2025-04-02T21:12:59.584Z"
   },
   {
    "duration": 22,
    "start_time": "2025-04-02T21:12:59.591Z"
   },
   {
    "duration": 14,
    "start_time": "2025-04-02T21:12:59.614Z"
   },
   {
    "duration": 8,
    "start_time": "2025-04-02T21:12:59.629Z"
   },
   {
    "duration": 3,
    "start_time": "2025-04-02T21:12:59.640Z"
   },
   {
    "duration": 13,
    "start_time": "2025-04-02T21:12:59.644Z"
   },
   {
    "duration": 4,
    "start_time": "2025-04-02T21:12:59.659Z"
   },
   {
    "duration": 54,
    "start_time": "2025-04-02T21:12:59.665Z"
   },
   {
    "duration": 573,
    "start_time": "2025-04-02T21:12:59.720Z"
   },
   {
    "duration": 19,
    "start_time": "2025-04-02T21:13:00.295Z"
   },
   {
    "duration": 195,
    "start_time": "2025-04-02T21:13:00.316Z"
   },
   {
    "duration": 379,
    "start_time": "2025-04-02T21:13:00.512Z"
   },
   {
    "duration": 13,
    "start_time": "2025-04-02T21:13:00.893Z"
   },
   {
    "duration": 217,
    "start_time": "2025-04-02T21:13:00.908Z"
   },
   {
    "duration": 332,
    "start_time": "2025-04-02T21:13:01.127Z"
   },
   {
    "duration": 295,
    "start_time": "2025-04-02T21:13:01.461Z"
   },
   {
    "duration": 2633,
    "start_time": "2025-04-02T21:13:01.757Z"
   },
   {
    "duration": 2461,
    "start_time": "2025-04-02T21:13:04.392Z"
   },
   {
    "duration": 345,
    "start_time": "2025-04-02T21:13:06.855Z"
   },
   {
    "duration": 264,
    "start_time": "2025-04-02T21:13:07.202Z"
   },
   {
    "duration": 8,
    "start_time": "2025-04-02T21:13:07.467Z"
   },
   {
    "duration": 249,
    "start_time": "2025-04-02T21:13:07.476Z"
   },
   {
    "duration": 349,
    "start_time": "2025-04-02T21:13:07.727Z"
   },
   {
    "duration": 222,
    "start_time": "2025-04-02T21:13:08.078Z"
   },
   {
    "duration": 3,
    "start_time": "2025-04-02T21:13:08.306Z"
   },
   {
    "duration": 8,
    "start_time": "2025-04-02T21:13:08.310Z"
   },
   {
    "duration": 13,
    "start_time": "2025-04-02T21:13:08.320Z"
   },
   {
    "duration": 12,
    "start_time": "2025-04-02T21:13:08.335Z"
   },
   {
    "duration": 4,
    "start_time": "2025-04-02T21:13:08.349Z"
   },
   {
    "duration": 725,
    "start_time": "2025-04-02T21:13:53.303Z"
   },
   {
    "duration": 806,
    "start_time": "2025-04-02T21:14:14.820Z"
   },
   {
    "duration": 815,
    "start_time": "2025-04-02T21:14:40.007Z"
   },
   {
    "duration": 75,
    "start_time": "2025-04-02T21:15:42.026Z"
   },
   {
    "duration": 699,
    "start_time": "2025-04-02T21:15:49.344Z"
   },
   {
    "duration": 117,
    "start_time": "2025-04-02T21:16:09.635Z"
   },
   {
    "duration": 835,
    "start_time": "2025-04-02T21:16:12.529Z"
   },
   {
    "duration": 27,
    "start_time": "2025-04-02T21:16:21.807Z"
   },
   {
    "duration": 759,
    "start_time": "2025-04-02T21:16:25.905Z"
   },
   {
    "duration": 28,
    "start_time": "2025-04-02T21:16:30.738Z"
   },
   {
    "duration": 716,
    "start_time": "2025-04-02T21:16:33.307Z"
   },
   {
    "duration": 279,
    "start_time": "2025-04-02T21:16:53.267Z"
   },
   {
    "duration": 180,
    "start_time": "2025-04-02T21:17:07.442Z"
   },
   {
    "duration": 209,
    "start_time": "2025-04-02T21:17:16.298Z"
   },
   {
    "duration": 195,
    "start_time": "2025-04-02T21:17:34.799Z"
   },
   {
    "duration": 15,
    "start_time": "2025-04-02T21:17:46.716Z"
   },
   {
    "duration": 15,
    "start_time": "2025-04-02T21:17:53.665Z"
   },
   {
    "duration": 620,
    "start_time": "2025-04-02T21:18:42.860Z"
   },
   {
    "duration": 730,
    "start_time": "2025-04-02T21:19:00.209Z"
   },
   {
    "duration": 617,
    "start_time": "2025-04-02T21:19:15.336Z"
   },
   {
    "duration": 689,
    "start_time": "2025-04-02T21:19:25.940Z"
   },
   {
    "duration": 778,
    "start_time": "2025-04-02T21:20:13.756Z"
   },
   {
    "duration": 181,
    "start_time": "2025-04-02T21:20:22.577Z"
   },
   {
    "duration": 902,
    "start_time": "2025-04-02T21:20:55.290Z"
   },
   {
    "duration": 319,
    "start_time": "2025-04-02T21:21:05.060Z"
   },
   {
    "duration": 335,
    "start_time": "2025-04-02T21:21:32.884Z"
   },
   {
    "duration": 331,
    "start_time": "2025-04-02T21:21:56.636Z"
   },
   {
    "duration": 319,
    "start_time": "2025-04-02T21:22:12.401Z"
   },
   {
    "duration": 299,
    "start_time": "2025-04-02T21:22:28.593Z"
   },
   {
    "duration": 722,
    "start_time": "2025-04-02T21:26:35.716Z"
   },
   {
    "duration": 242,
    "start_time": "2025-04-02T21:33:05.076Z"
   },
   {
    "duration": 86,
    "start_time": "2025-04-02T21:33:40.058Z"
   },
   {
    "duration": 380,
    "start_time": "2025-04-02T21:33:48.911Z"
   },
   {
    "duration": 257,
    "start_time": "2025-04-02T21:35:01.967Z"
   },
   {
    "duration": 159,
    "start_time": "2025-04-02T21:35:23.013Z"
   },
   {
    "duration": 187,
    "start_time": "2025-04-02T21:35:31.478Z"
   },
   {
    "duration": 190,
    "start_time": "2025-04-02T21:35:58.946Z"
   },
   {
    "duration": 1787,
    "start_time": "2025-04-02T21:37:00.155Z"
   },
   {
    "duration": 1817,
    "start_time": "2025-04-02T21:37:18.263Z"
   },
   {
    "duration": 393,
    "start_time": "2025-04-02T21:37:26.630Z"
   },
   {
    "duration": 261,
    "start_time": "2025-04-02T21:38:24.920Z"
   },
   {
    "duration": 225,
    "start_time": "2025-04-02T21:39:29.229Z"
   },
   {
    "duration": 310,
    "start_time": "2025-04-02T21:43:44.529Z"
   },
   {
    "duration": 246,
    "start_time": "2025-04-02T21:43:50.122Z"
   },
   {
    "duration": 321,
    "start_time": "2025-04-02T21:43:57.712Z"
   },
   {
    "duration": 313,
    "start_time": "2025-04-02T21:44:25.045Z"
   },
   {
    "duration": 286,
    "start_time": "2025-04-02T21:44:41.899Z"
   },
   {
    "duration": 266,
    "start_time": "2025-04-02T21:44:48.348Z"
   },
   {
    "duration": 68,
    "start_time": "2025-04-02T21:48:01.597Z"
   },
   {
    "duration": 951,
    "start_time": "2025-04-02T21:48:05.591Z"
   },
   {
    "duration": 985,
    "start_time": "2025-04-02T21:48:24.443Z"
   },
   {
    "duration": 899,
    "start_time": "2025-04-02T21:48:35.830Z"
   },
   {
    "duration": 889,
    "start_time": "2025-04-02T21:48:48.055Z"
   },
   {
    "duration": 848,
    "start_time": "2025-04-02T21:49:17.687Z"
   },
   {
    "duration": 442,
    "start_time": "2025-04-02T21:51:54.253Z"
   },
   {
    "duration": 880,
    "start_time": "2025-04-02T21:52:28.731Z"
   },
   {
    "duration": 890,
    "start_time": "2025-04-02T21:54:14.489Z"
   },
   {
    "duration": 874,
    "start_time": "2025-04-02T21:54:48.350Z"
   },
   {
    "duration": 1015,
    "start_time": "2025-04-02T21:55:30.562Z"
   },
   {
    "duration": 294,
    "start_time": "2025-04-02T21:56:42.733Z"
   },
   {
    "duration": 221,
    "start_time": "2025-04-02T21:57:30.209Z"
   },
   {
    "duration": 482,
    "start_time": "2025-04-02T21:57:42.958Z"
   },
   {
    "duration": 468,
    "start_time": "2025-04-02T21:58:48.694Z"
   },
   {
    "duration": 10,
    "start_time": "2025-04-02T22:08:23.001Z"
   },
   {
    "duration": 3,
    "start_time": "2025-04-02T22:08:25.851Z"
   },
   {
    "duration": 10,
    "start_time": "2025-04-02T22:08:30.388Z"
   },
   {
    "duration": 4,
    "start_time": "2025-04-02T22:08:31.143Z"
   },
   {
    "duration": 1084,
    "start_time": "2025-04-02T22:24:20.459Z"
   },
   {
    "duration": 59,
    "start_time": "2025-04-02T22:24:21.545Z"
   },
   {
    "duration": 14,
    "start_time": "2025-04-02T22:24:21.605Z"
   },
   {
    "duration": 10,
    "start_time": "2025-04-02T22:24:21.621Z"
   },
   {
    "duration": 20,
    "start_time": "2025-04-02T22:24:21.632Z"
   },
   {
    "duration": 77,
    "start_time": "2025-04-02T22:24:21.653Z"
   },
   {
    "duration": 9,
    "start_time": "2025-04-02T22:24:21.732Z"
   },
   {
    "duration": 12,
    "start_time": "2025-04-02T22:24:21.742Z"
   },
   {
    "duration": 4,
    "start_time": "2025-04-02T22:24:21.755Z"
   },
   {
    "duration": 10,
    "start_time": "2025-04-02T22:24:21.761Z"
   },
   {
    "duration": 10,
    "start_time": "2025-04-02T22:24:21.772Z"
   },
   {
    "duration": 3,
    "start_time": "2025-04-02T22:24:21.784Z"
   },
   {
    "duration": 25,
    "start_time": "2025-04-02T22:24:21.788Z"
   },
   {
    "duration": 10,
    "start_time": "2025-04-02T22:24:21.815Z"
   },
   {
    "duration": 12,
    "start_time": "2025-04-02T22:24:21.826Z"
   },
   {
    "duration": 10,
    "start_time": "2025-04-02T22:24:21.839Z"
   },
   {
    "duration": 6,
    "start_time": "2025-04-02T22:24:21.851Z"
   },
   {
    "duration": 4,
    "start_time": "2025-04-02T22:24:21.859Z"
   },
   {
    "duration": 5,
    "start_time": "2025-04-02T22:24:21.864Z"
   },
   {
    "duration": 37,
    "start_time": "2025-04-02T22:24:21.871Z"
   },
   {
    "duration": 5,
    "start_time": "2025-04-02T22:24:21.910Z"
   },
   {
    "duration": 12,
    "start_time": "2025-04-02T22:24:21.917Z"
   },
   {
    "duration": 5,
    "start_time": "2025-04-02T22:24:21.930Z"
   },
   {
    "duration": 5,
    "start_time": "2025-04-02T22:24:21.936Z"
   },
   {
    "duration": 10,
    "start_time": "2025-04-02T22:24:21.942Z"
   },
   {
    "duration": 15,
    "start_time": "2025-04-02T22:24:21.953Z"
   },
   {
    "duration": 8,
    "start_time": "2025-04-02T22:24:21.969Z"
   },
   {
    "duration": 86,
    "start_time": "2025-04-02T22:24:21.980Z"
   },
   {
    "duration": 14,
    "start_time": "2025-04-02T22:24:22.067Z"
   },
   {
    "duration": 4,
    "start_time": "2025-04-02T22:24:22.083Z"
   },
   {
    "duration": 18,
    "start_time": "2025-04-02T22:24:22.089Z"
   },
   {
    "duration": 746,
    "start_time": "2025-04-02T22:24:22.109Z"
   },
   {
    "duration": 14,
    "start_time": "2025-04-02T22:24:22.857Z"
   },
   {
    "duration": 255,
    "start_time": "2025-04-02T22:24:22.873Z"
   },
   {
    "duration": 418,
    "start_time": "2025-04-02T22:24:23.129Z"
   },
   {
    "duration": 13,
    "start_time": "2025-04-02T22:24:23.549Z"
   },
   {
    "duration": 247,
    "start_time": "2025-04-02T22:24:23.563Z"
   },
   {
    "duration": 476,
    "start_time": "2025-04-02T22:24:23.812Z"
   },
   {
    "duration": 249,
    "start_time": "2025-04-02T22:24:24.289Z"
   },
   {
    "duration": 1958,
    "start_time": "2025-04-02T22:24:24.539Z"
   },
   {
    "duration": 1728,
    "start_time": "2025-04-02T22:24:26.506Z"
   },
   {
    "duration": 288,
    "start_time": "2025-04-02T22:24:28.236Z"
   },
   {
    "duration": 281,
    "start_time": "2025-04-02T22:24:28.526Z"
   },
   {
    "duration": 9,
    "start_time": "2025-04-02T22:24:28.808Z"
   },
   {
    "duration": 236,
    "start_time": "2025-04-02T22:24:28.819Z"
   },
   {
    "duration": 251,
    "start_time": "2025-04-02T22:24:29.057Z"
   },
   {
    "duration": 225,
    "start_time": "2025-04-02T22:24:29.310Z"
   },
   {
    "duration": 3,
    "start_time": "2025-04-02T22:24:29.536Z"
   },
   {
    "duration": 76,
    "start_time": "2025-04-02T22:24:29.541Z"
   },
   {
    "duration": 5,
    "start_time": "2025-04-02T22:24:29.619Z"
   },
   {
    "duration": 107,
    "start_time": "2025-04-02T22:24:29.626Z"
   },
   {
    "duration": 6,
    "start_time": "2025-04-02T22:24:29.734Z"
   },
   {
    "duration": 1314,
    "start_time": "2025-04-03T17:51:28.029Z"
   },
   {
    "duration": 69,
    "start_time": "2025-04-03T17:51:29.345Z"
   },
   {
    "duration": 14,
    "start_time": "2025-04-03T17:51:29.415Z"
   },
   {
    "duration": 11,
    "start_time": "2025-04-03T17:51:29.430Z"
   },
   {
    "duration": 16,
    "start_time": "2025-04-03T17:51:29.442Z"
   },
   {
    "duration": 81,
    "start_time": "2025-04-03T17:51:29.459Z"
   },
   {
    "duration": 8,
    "start_time": "2025-04-03T17:51:29.542Z"
   },
   {
    "duration": 10,
    "start_time": "2025-04-03T17:51:29.551Z"
   },
   {
    "duration": 7,
    "start_time": "2025-04-03T17:51:29.562Z"
   },
   {
    "duration": 10,
    "start_time": "2025-04-03T17:51:29.571Z"
   },
   {
    "duration": 16,
    "start_time": "2025-04-03T17:51:29.582Z"
   },
   {
    "duration": 3,
    "start_time": "2025-04-03T17:51:29.600Z"
   },
   {
    "duration": 35,
    "start_time": "2025-04-03T17:51:29.604Z"
   },
   {
    "duration": 9,
    "start_time": "2025-04-03T17:51:29.642Z"
   },
   {
    "duration": 6,
    "start_time": "2025-04-03T17:51:29.652Z"
   },
   {
    "duration": 7,
    "start_time": "2025-04-03T17:51:29.659Z"
   },
   {
    "duration": 5,
    "start_time": "2025-04-03T17:51:29.667Z"
   },
   {
    "duration": 4,
    "start_time": "2025-04-03T17:51:29.674Z"
   },
   {
    "duration": 5,
    "start_time": "2025-04-03T17:51:29.680Z"
   },
   {
    "duration": 5,
    "start_time": "2025-04-03T17:51:29.686Z"
   },
   {
    "duration": 5,
    "start_time": "2025-04-03T17:51:29.692Z"
   },
   {
    "duration": 6,
    "start_time": "2025-04-03T17:51:29.735Z"
   },
   {
    "duration": 6,
    "start_time": "2025-04-03T17:51:29.742Z"
   },
   {
    "duration": 5,
    "start_time": "2025-04-03T17:51:29.749Z"
   },
   {
    "duration": 9,
    "start_time": "2025-04-03T17:51:29.755Z"
   },
   {
    "duration": 12,
    "start_time": "2025-04-03T17:51:29.765Z"
   },
   {
    "duration": 6,
    "start_time": "2025-04-03T17:51:29.779Z"
   },
   {
    "duration": 3,
    "start_time": "2025-04-03T17:51:29.786Z"
   },
   {
    "duration": 48,
    "start_time": "2025-04-03T17:51:29.791Z"
   },
   {
    "duration": 4,
    "start_time": "2025-04-03T17:51:29.841Z"
   },
   {
    "duration": 17,
    "start_time": "2025-04-03T17:51:29.846Z"
   },
   {
    "duration": 636,
    "start_time": "2025-04-03T17:51:29.865Z"
   },
   {
    "duration": 14,
    "start_time": "2025-04-03T17:51:30.503Z"
   },
   {
    "duration": 209,
    "start_time": "2025-04-03T17:51:30.518Z"
   },
   {
    "duration": 392,
    "start_time": "2025-04-03T17:51:30.728Z"
   },
   {
    "duration": 12,
    "start_time": "2025-04-03T17:51:31.122Z"
   },
   {
    "duration": 207,
    "start_time": "2025-04-03T17:51:31.135Z"
   },
   {
    "duration": 459,
    "start_time": "2025-04-03T17:51:31.343Z"
   },
   {
    "duration": 247,
    "start_time": "2025-04-03T17:51:31.803Z"
   },
   {
    "duration": 1828,
    "start_time": "2025-04-03T17:51:32.052Z"
   },
   {
    "duration": 2390,
    "start_time": "2025-04-03T17:51:33.883Z"
   },
   {
    "duration": 295,
    "start_time": "2025-04-03T17:51:36.274Z"
   },
   {
    "duration": 312,
    "start_time": "2025-04-03T17:51:36.572Z"
   },
   {
    "duration": 8,
    "start_time": "2025-04-03T17:51:36.886Z"
   },
   {
    "duration": 234,
    "start_time": "2025-04-03T17:51:36.896Z"
   },
   {
    "duration": 236,
    "start_time": "2025-04-03T17:51:37.134Z"
   },
   {
    "duration": 224,
    "start_time": "2025-04-03T17:51:37.372Z"
   },
   {
    "duration": 3,
    "start_time": "2025-04-03T17:51:37.597Z"
   },
   {
    "duration": 13,
    "start_time": "2025-04-03T17:51:37.601Z"
   },
   {
    "duration": 7,
    "start_time": "2025-04-03T17:51:37.615Z"
   },
   {
    "duration": 129,
    "start_time": "2025-04-03T17:51:37.623Z"
   },
   {
    "duration": 4,
    "start_time": "2025-04-03T17:51:37.753Z"
   },
   {
    "duration": 250,
    "start_time": "2025-04-03T17:56:30.283Z"
   },
   {
    "duration": 16,
    "start_time": "2025-04-03T18:02:30.838Z"
   },
   {
    "duration": 9,
    "start_time": "2025-04-03T18:04:07.617Z"
   },
   {
    "duration": 3,
    "start_time": "2025-04-03T18:04:08.338Z"
   },
   {
    "duration": 9,
    "start_time": "2025-04-03T18:04:16.345Z"
   },
   {
    "duration": 4,
    "start_time": "2025-04-03T18:04:17.136Z"
   },
   {
    "duration": 91,
    "start_time": "2025-04-03T18:04:24.413Z"
   },
   {
    "duration": 19,
    "start_time": "2025-04-03T18:04:56.130Z"
   },
   {
    "duration": 17,
    "start_time": "2025-04-03T18:05:26.063Z"
   },
   {
    "duration": 6,
    "start_time": "2025-04-03T18:05:49.476Z"
   },
   {
    "duration": 1266,
    "start_time": "2025-05-23T07:39:40.302Z"
   },
   {
    "duration": 80,
    "start_time": "2025-05-23T07:39:41.569Z"
   },
   {
    "duration": 18,
    "start_time": "2025-05-23T07:39:41.651Z"
   },
   {
    "duration": 27,
    "start_time": "2025-05-23T07:39:41.671Z"
   },
   {
    "duration": 28,
    "start_time": "2025-05-23T07:39:41.700Z"
   },
   {
    "duration": 15,
    "start_time": "2025-05-23T07:39:41.730Z"
   },
   {
    "duration": 9,
    "start_time": "2025-05-23T07:39:41.746Z"
   },
   {
    "duration": 12,
    "start_time": "2025-05-23T07:39:41.757Z"
   },
   {
    "duration": 5,
    "start_time": "2025-05-23T07:39:41.771Z"
   },
   {
    "duration": 15,
    "start_time": "2025-05-23T07:39:41.779Z"
   },
   {
    "duration": 12,
    "start_time": "2025-05-23T07:39:41.795Z"
   },
   {
    "duration": 4,
    "start_time": "2025-05-23T07:39:41.839Z"
   },
   {
    "duration": 26,
    "start_time": "2025-05-23T07:39:41.845Z"
   },
   {
    "duration": 20,
    "start_time": "2025-05-23T07:39:41.872Z"
   },
   {
    "duration": 5,
    "start_time": "2025-05-23T07:39:41.893Z"
   },
   {
    "duration": 11,
    "start_time": "2025-05-23T07:39:41.899Z"
   },
   {
    "duration": 12,
    "start_time": "2025-05-23T07:39:41.911Z"
   },
   {
    "duration": 5,
    "start_time": "2025-05-23T07:39:41.925Z"
   },
   {
    "duration": 5,
    "start_time": "2025-05-23T07:39:41.939Z"
   },
   {
    "duration": 7,
    "start_time": "2025-05-23T07:39:41.945Z"
   },
   {
    "duration": 9,
    "start_time": "2025-05-23T07:39:41.953Z"
   },
   {
    "duration": 7,
    "start_time": "2025-05-23T07:39:41.963Z"
   },
   {
    "duration": 15,
    "start_time": "2025-05-23T07:39:41.971Z"
   },
   {
    "duration": 19,
    "start_time": "2025-05-23T07:39:41.987Z"
   },
   {
    "duration": 36,
    "start_time": "2025-05-23T07:39:42.007Z"
   },
   {
    "duration": 17,
    "start_time": "2025-05-23T07:39:42.045Z"
   },
   {
    "duration": 11,
    "start_time": "2025-05-23T07:39:42.063Z"
   },
   {
    "duration": 3,
    "start_time": "2025-05-23T07:39:42.077Z"
   },
   {
    "duration": 16,
    "start_time": "2025-05-23T07:39:42.081Z"
   },
   {
    "duration": 5,
    "start_time": "2025-05-23T07:39:42.098Z"
   },
   {
    "duration": 46,
    "start_time": "2025-05-23T07:39:42.104Z"
   },
   {
    "duration": 599,
    "start_time": "2025-05-23T07:39:42.152Z"
   },
   {
    "duration": 16,
    "start_time": "2025-05-23T07:39:42.752Z"
   },
   {
    "duration": 213,
    "start_time": "2025-05-23T07:39:42.769Z"
   },
   {
    "duration": 396,
    "start_time": "2025-05-23T07:39:42.983Z"
   },
   {
    "duration": 13,
    "start_time": "2025-05-23T07:39:43.381Z"
   },
   {
    "duration": 243,
    "start_time": "2025-05-23T07:39:43.396Z"
   },
   {
    "duration": 503,
    "start_time": "2025-05-23T07:39:43.640Z"
   },
   {
    "duration": 276,
    "start_time": "2025-05-23T07:39:44.145Z"
   },
   {
    "duration": 2006,
    "start_time": "2025-05-23T07:39:44.423Z"
   },
   {
    "duration": 1849,
    "start_time": "2025-05-23T07:39:46.430Z"
   },
   {
    "duration": 300,
    "start_time": "2025-05-23T07:39:48.281Z"
   },
   {
    "duration": 275,
    "start_time": "2025-05-23T07:39:48.583Z"
   },
   {
    "duration": 7,
    "start_time": "2025-05-23T07:39:48.859Z"
   },
   {
    "duration": 246,
    "start_time": "2025-05-23T07:39:48.868Z"
   },
   {
    "duration": 244,
    "start_time": "2025-05-23T07:39:49.116Z"
   },
   {
    "duration": 235,
    "start_time": "2025-05-23T07:39:49.361Z"
   },
   {
    "duration": 2,
    "start_time": "2025-05-23T07:39:49.598Z"
   },
   {
    "duration": 23,
    "start_time": "2025-05-23T07:39:49.601Z"
   },
   {
    "duration": 5,
    "start_time": "2025-05-23T07:39:49.625Z"
   },
   {
    "duration": 125,
    "start_time": "2025-05-23T07:39:49.632Z"
   },
   {
    "duration": 45,
    "start_time": "2025-05-23T07:39:49.759Z"
   }
  ],
  "kernelspec": {
   "display_name": "Python 3 (ipykernel)",
   "language": "python",
   "name": "python3"
  },
  "language_info": {
   "codemirror_mode": {
    "name": "ipython",
    "version": 3
   },
   "file_extension": ".py",
   "mimetype": "text/x-python",
   "name": "python",
   "nbconvert_exporter": "python",
   "pygments_lexer": "ipython3",
   "version": "3.9.5"
  },
  "toc": {
   "base_numbering": 1,
   "nav_menu": {},
   "number_sections": true,
   "sideBar": true,
   "skip_h1_title": true,
   "title_cell": "Table of Contents",
   "title_sidebar": "Contents",
   "toc_cell": false,
   "toc_position": {
    "height": "calc(100% - 180px)",
    "left": "10px",
    "top": "150px",
    "width": "328.525px"
   },
   "toc_section_display": true,
   "toc_window_display": true
  }
 },
 "nbformat": 4,
 "nbformat_minor": 2
}
