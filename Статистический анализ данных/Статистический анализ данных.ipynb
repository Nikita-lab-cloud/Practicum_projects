{
 "cells": [
  {
   "cell_type": "markdown",
   "id": "f13afb1a",
   "metadata": {},
   "source": [
    "# Описание проекта:\n",
    "\n",
    "Проанализируем данные GoFast популярного сервиса аренды самокатов и проверим некоторые гипотезы, которые могут помочь бизнесу вырасти.\n",
    "Чтобы совершать поездки по городу, пользователи сервиса GoFast пользуются мобильным приложением. Сервисом можно пользоваться:\n",
    "без подписки\n",
    "абонентская плата отсутствует\n",
    "\n",
    "стоимость одной минуты поездки — 8 рублей;\n",
    "стоимость старта (начала поездки) — 50 рублей;\n",
    "с подпиской Ultra:\n",
    "абонентская плата — 199 рублей в месяц;\n",
    "стоимость одной минуты поездки — 6 рублей;\n",
    "стоимость старта — бесплатно.\n",
    "\n",
    "**Описание данных:**\n",
    "В основных данных есть информация о пользователях, их поездках и подписках.\n",
    "\n",
    "Пользователи — users_go.csv\n",
    "user_id\t- уникальный идентификатор пользователя\n",
    "name -имя пользователя\n",
    "age - возраст\n",
    "city - город\n",
    "subscription_type - тип подписки (free, ultra)\n",
    "\n",
    "Поездки — rides_go.csv:\n",
    "user_id\t- уникальный идентификатор пользователя\n",
    "distance - расстояние, которое пользователь проехал в текущей сессии (в метрах)\n",
    "duration - продолжительность сессии (в минутах) — время с того момента, как пользователь нажал кнопку «Начать поездку» до момента, как он нажал кнопку «Завершить поездку»\n",
    "date - дата совершения поездки\n",
    "\n",
    "Подписки — subscriptions_go.csv:\n",
    "subscription_type - тип подписки\n",
    "minute_price - стоимость одной минуты поездки по данной подписке\n",
    "start_ride_price - стоимость начала поездки\n",
    "subscription_fee - стоимость ежемесячного платежа\n",
    "\n",
    "**Структура проекта:**\n",
    "\n",
    "- Выгрузка данных\n",
    "- Предобработка данных\n",
    "- Исследовательский анализ данных\n",
    "- Объединение данных\n",
    "- Подсчет выручки\n",
    "- Проверка гипотез\n",
    "- Задачи на распределение\n",
    "- Общие выводы"
   ]
  },
  {
   "cell_type": "code",
   "execution_count": 1,
   "id": "935a8aaf",
   "metadata": {},
   "outputs": [],
   "source": [
    "import pandas as pd\n",
    "import matplotlib.pyplot as plt\n",
    "import numpy as np\n",
    "import seaborn as sns\n",
    "\n",
    "from scipy import stats as st\n",
    "from scipy.stats import binom, norm"
   ]
  },
  {
   "cell_type": "code",
   "execution_count": 2,
   "id": "ad2a98ab",
   "metadata": {},
   "outputs": [],
   "source": [
    "sns.set_style(\"darkgrid\", {\"grid.color\": \".6\", \"grid.linestyle\": \":\"})\n",
    "sns.set_palette(\"husl\")"
   ]
  },
  {
   "cell_type": "markdown",
   "id": "c42cbe00",
   "metadata": {},
   "source": [
    "#### Загрузка данных"
   ]
  },
  {
   "cell_type": "code",
   "execution_count": 3,
   "id": "eff9f206",
   "metadata": {
    "scrolled": true
   },
   "outputs": [
    {
     "name": "stdout",
     "output_type": "stream",
     "text": [
      "   user_id        name  age            city subscription_type\n",
      "0        1        Кира   22          Тюмень             ultra\n",
      "1        2   Станислав   31            Омск             ultra\n",
      "2        3     Алексей   20          Москва             ultra\n",
      "3        4  Константин   26  Ростов-на-Дону             ultra\n",
      "4        5       Адель   28            Омск             ultra\n",
      "   user_id     distance   duration        date\n",
      "0        1  4409.919140  25.599769  2021-01-01\n",
      "1        1  2617.592153  15.816871  2021-01-18\n",
      "2        1   754.159807   6.232113  2021-04-20\n",
      "3        1  2694.783254  18.511000  2021-08-11\n",
      "4        1  4028.687306  26.265803  2021-08-28\n",
      "  subscription_type  minute_price  start_ride_price  subscription_fee\n",
      "0              free             8                50                 0\n",
      "1             ultra             6                 0               199\n"
     ]
    }
   ],
   "source": [
    "users_go = pd.read_csv('/datasets/users_go.csv')\n",
    "print(users_go.head())\n",
    "rides_go = pd.read_csv('/datasets/rides_go.csv')\n",
    "print(rides_go.head())\n",
    "subscriptions_go = pd.read_csv('/datasets/subscriptions_go.csv')\n",
    "print(subscriptions_go.head())"
   ]
  },
  {
   "cell_type": "code",
   "execution_count": 4,
   "id": "aec83173",
   "metadata": {},
   "outputs": [
    {
     "data": {
      "text/html": [
       "<div>\n",
       "<style scoped>\n",
       "    .dataframe tbody tr th:only-of-type {\n",
       "        vertical-align: middle;\n",
       "    }\n",
       "\n",
       "    .dataframe tbody tr th {\n",
       "        vertical-align: top;\n",
       "    }\n",
       "\n",
       "    .dataframe thead th {\n",
       "        text-align: right;\n",
       "    }\n",
       "</style>\n",
       "<table border=\"1\" class=\"dataframe\">\n",
       "  <thead>\n",
       "    <tr style=\"text-align: right;\">\n",
       "      <th></th>\n",
       "      <th>user_id</th>\n",
       "      <th>name</th>\n",
       "      <th>age</th>\n",
       "      <th>city</th>\n",
       "      <th>subscription_type</th>\n",
       "    </tr>\n",
       "  </thead>\n",
       "  <tbody>\n",
       "    <tr>\n",
       "      <th>0</th>\n",
       "      <td>1</td>\n",
       "      <td>Кира</td>\n",
       "      <td>22</td>\n",
       "      <td>Тюмень</td>\n",
       "      <td>ultra</td>\n",
       "    </tr>\n",
       "    <tr>\n",
       "      <th>1</th>\n",
       "      <td>2</td>\n",
       "      <td>Станислав</td>\n",
       "      <td>31</td>\n",
       "      <td>Омск</td>\n",
       "      <td>ultra</td>\n",
       "    </tr>\n",
       "    <tr>\n",
       "      <th>2</th>\n",
       "      <td>3</td>\n",
       "      <td>Алексей</td>\n",
       "      <td>20</td>\n",
       "      <td>Москва</td>\n",
       "      <td>ultra</td>\n",
       "    </tr>\n",
       "    <tr>\n",
       "      <th>3</th>\n",
       "      <td>4</td>\n",
       "      <td>Константин</td>\n",
       "      <td>26</td>\n",
       "      <td>Ростов-на-Дону</td>\n",
       "      <td>ultra</td>\n",
       "    </tr>\n",
       "    <tr>\n",
       "      <th>4</th>\n",
       "      <td>5</td>\n",
       "      <td>Адель</td>\n",
       "      <td>28</td>\n",
       "      <td>Омск</td>\n",
       "      <td>ultra</td>\n",
       "    </tr>\n",
       "  </tbody>\n",
       "</table>\n",
       "</div>"
      ],
      "text/plain": [
       "   user_id        name  age            city subscription_type\n",
       "0        1        Кира   22          Тюмень             ultra\n",
       "1        2   Станислав   31            Омск             ultra\n",
       "2        3     Алексей   20          Москва             ultra\n",
       "3        4  Константин   26  Ростов-на-Дону             ultra\n",
       "4        5       Адель   28            Омск             ultra"
      ]
     },
     "metadata": {},
     "output_type": "display_data"
    },
    {
     "data": {
      "text/html": [
       "<div>\n",
       "<style scoped>\n",
       "    .dataframe tbody tr th:only-of-type {\n",
       "        vertical-align: middle;\n",
       "    }\n",
       "\n",
       "    .dataframe tbody tr th {\n",
       "        vertical-align: top;\n",
       "    }\n",
       "\n",
       "    .dataframe thead th {\n",
       "        text-align: right;\n",
       "    }\n",
       "</style>\n",
       "<table border=\"1\" class=\"dataframe\">\n",
       "  <thead>\n",
       "    <tr style=\"text-align: right;\">\n",
       "      <th></th>\n",
       "      <th>user_id</th>\n",
       "      <th>distance</th>\n",
       "      <th>duration</th>\n",
       "      <th>date</th>\n",
       "    </tr>\n",
       "  </thead>\n",
       "  <tbody>\n",
       "    <tr>\n",
       "      <th>0</th>\n",
       "      <td>1</td>\n",
       "      <td>4409.919140</td>\n",
       "      <td>25.599769</td>\n",
       "      <td>2021-01-01</td>\n",
       "    </tr>\n",
       "    <tr>\n",
       "      <th>1</th>\n",
       "      <td>1</td>\n",
       "      <td>2617.592153</td>\n",
       "      <td>15.816871</td>\n",
       "      <td>2021-01-18</td>\n",
       "    </tr>\n",
       "    <tr>\n",
       "      <th>2</th>\n",
       "      <td>1</td>\n",
       "      <td>754.159807</td>\n",
       "      <td>6.232113</td>\n",
       "      <td>2021-04-20</td>\n",
       "    </tr>\n",
       "    <tr>\n",
       "      <th>3</th>\n",
       "      <td>1</td>\n",
       "      <td>2694.783254</td>\n",
       "      <td>18.511000</td>\n",
       "      <td>2021-08-11</td>\n",
       "    </tr>\n",
       "    <tr>\n",
       "      <th>4</th>\n",
       "      <td>1</td>\n",
       "      <td>4028.687306</td>\n",
       "      <td>26.265803</td>\n",
       "      <td>2021-08-28</td>\n",
       "    </tr>\n",
       "  </tbody>\n",
       "</table>\n",
       "</div>"
      ],
      "text/plain": [
       "   user_id     distance   duration        date\n",
       "0        1  4409.919140  25.599769  2021-01-01\n",
       "1        1  2617.592153  15.816871  2021-01-18\n",
       "2        1   754.159807   6.232113  2021-04-20\n",
       "3        1  2694.783254  18.511000  2021-08-11\n",
       "4        1  4028.687306  26.265803  2021-08-28"
      ]
     },
     "execution_count": 4,
     "metadata": {},
     "output_type": "execute_result"
    }
   ],
   "source": [
    "\n",
    "display(users_go.head())\n",
    "rides_go.head()"
   ]
  },
  {
   "cell_type": "code",
   "execution_count": 5,
   "id": "4f66790f",
   "metadata": {},
   "outputs": [
    {
     "name": "stdout",
     "output_type": "stream",
     "text": [
      "<class 'pandas.core.frame.DataFrame'>\n",
      "RangeIndex: 1565 entries, 0 to 1564\n",
      "Data columns (total 5 columns):\n",
      " #   Column             Non-Null Count  Dtype \n",
      "---  ------             --------------  ----- \n",
      " 0   user_id            1565 non-null   int64 \n",
      " 1   name               1565 non-null   object\n",
      " 2   age                1565 non-null   int64 \n",
      " 3   city               1565 non-null   object\n",
      " 4   subscription_type  1565 non-null   object\n",
      "dtypes: int64(2), object(3)\n",
      "memory usage: 61.3+ KB\n",
      "None\n"
     ]
    }
   ],
   "source": [
    "print(users_go.info())"
   ]
  },
  {
   "cell_type": "code",
   "execution_count": 6,
   "id": "9e23df18",
   "metadata": {},
   "outputs": [
    {
     "name": "stdout",
     "output_type": "stream",
     "text": [
      "<class 'pandas.core.frame.DataFrame'>\n",
      "RangeIndex: 18068 entries, 0 to 18067\n",
      "Data columns (total 4 columns):\n",
      " #   Column    Non-Null Count  Dtype  \n",
      "---  ------    --------------  -----  \n",
      " 0   user_id   18068 non-null  int64  \n",
      " 1   distance  18068 non-null  float64\n",
      " 2   duration  18068 non-null  float64\n",
      " 3   date      18068 non-null  object \n",
      "dtypes: float64(2), int64(1), object(1)\n",
      "memory usage: 564.8+ KB\n",
      "None\n"
     ]
    }
   ],
   "source": [
    "print(rides_go.info())"
   ]
  },
  {
   "cell_type": "code",
   "execution_count": 7,
   "id": "00867c98",
   "metadata": {
    "scrolled": true
   },
   "outputs": [
    {
     "name": "stdout",
     "output_type": "stream",
     "text": [
      "<class 'pandas.core.frame.DataFrame'>\n",
      "RangeIndex: 2 entries, 0 to 1\n",
      "Data columns (total 4 columns):\n",
      " #   Column             Non-Null Count  Dtype \n",
      "---  ------             --------------  ----- \n",
      " 0   subscription_type  2 non-null      object\n",
      " 1   minute_price       2 non-null      int64 \n",
      " 2   start_ride_price   2 non-null      int64 \n",
      " 3   subscription_fee   2 non-null      int64 \n",
      "dtypes: int64(3), object(1)\n",
      "memory usage: 192.0+ bytes\n",
      "None\n"
     ]
    }
   ],
   "source": [
    "print(subscriptions_go.info())"
   ]
  },
  {
   "cell_type": "code",
   "execution_count": 8,
   "id": "393350ce",
   "metadata": {
    "scrolled": false
   },
   "outputs": [
    {
     "data": {
      "image/png": "[encoded data removed]",
      "text/plain": [
       "<Figure size 432x288 with 1 Axes>"
      ]
     },
     "metadata": {},
     "output_type": "display_data"
    },
    {
     "data": {
      "image/png": "[encoded data removed]",
      "text/plain": [
       "<Figure size 432x288 with 1 Axes>"
      ]
     },
     "metadata": {},
     "output_type": "display_data"
    },
    {
     "data": {
      "image/png": "[encoded data removed]",
      "text/plain": [
       "<Figure size 432x288 with 1 Axes>"
      ]
     },
     "metadata": {},
     "output_type": "display_data"
    }
   ],
   "source": [
    "def plot_graphs(df1, df2):\n",
    "    # Функция для построения графиков числовых показателей\n",
    "\n",
    "    figures = []\n",
    " \n",
    "    for column in ['age', 'distance', 'duration']:\n",
    "        plt.figure()\n",
    "        hist_data = df1[column] if column in df1 else df2[column]\n",
    "        if hist_data is not None:\n",
    "            plt.hist(hist_data, bins=100)\n",
    "            plt.title(column) \n",
    "            plt.xlabel(f'{column}')\n",
    "            plt.ylabel('Количество')\n",
    "            figures.append([column, hist_data])\n",
    "\n",
    "    plt.show()\n",
    "    return \n",
    "\n",
    "plot_graphs(rides_go, users_go)"
   ]
  },
  {
   "cell_type": "markdown",
   "id": "77094d82",
   "metadata": {},
   "source": [
    "**Вывод:** в данных нет пропусков. Потребуется скорретировать тип данных в некоторых столбцах датафреймов, а также проверить данные на дубликаты. "
   ]
  },
  {
   "cell_type": "markdown",
   "id": "e95ebca7",
   "metadata": {},
   "source": [
    "#### Предобработка данных"
   ]
  },
  {
   "cell_type": "markdown",
   "id": "08b8054c",
   "metadata": {},
   "source": [
    "**2.1 Приведение к формату даты:**"
   ]
  },
  {
   "cell_type": "code",
   "execution_count": 9,
   "id": "f754d2b9",
   "metadata": {},
   "outputs": [],
   "source": [
    "rides_go['date'] = pd.to_datetime(rides_go['date'], format='%Y-%m-%d')\n",
    "rides_go['month'] = rides_go['date'].dt.month"
   ]
  },
  {
   "cell_type": "markdown",
   "id": "42fa3029",
   "metadata": {},
   "source": [
    "**2.2 Удаление дубликатов:**"
   ]
  },
  {
   "cell_type": "code",
   "execution_count": 10,
   "id": "9f1a1b36",
   "metadata": {},
   "outputs": [
    {
     "name": "stdout",
     "output_type": "stream",
     "text": [
      "Количество явных дубликатов среди пользователей =  31\n",
      "Количество явных дубликатов в датафрейме поездок =  0\n"
     ]
    }
   ],
   "source": [
    "print('Количество явных дубликатов среди пользователей = ', users_go.duplicated().sum())\n",
    "print('Количество явных дубликатов в датафрейме поездок = ', rides_go.duplicated().sum())"
   ]
  },
  {
   "cell_type": "code",
   "execution_count": 11,
   "id": "df090071",
   "metadata": {},
   "outputs": [],
   "source": [
    "users_go = users_go.drop_duplicates(keep='first')       "
   ]
  },
  {
   "cell_type": "code",
   "execution_count": 12,
   "id": "16b595f6",
   "metadata": {},
   "outputs": [
    {
     "name": "stdout",
     "output_type": "stream",
     "text": [
      "Количество явных дубликатов среди пользователей =  0\n"
     ]
    }
   ],
   "source": [
    "print('Количество явных дубликатов среди пользователей = ', users_go.duplicated().sum())"
   ]
  },
  {
   "cell_type": "markdown",
   "id": "d048fc5e",
   "metadata": {},
   "source": [
    "Явные дубликаты удалены."
   ]
  },
  {
   "cell_type": "markdown",
   "id": "5691f3fd",
   "metadata": {},
   "source": [
    "Проверка пользоватлей на неявные дубликаты по id (датафрейм users_go):"
   ]
  },
  {
   "cell_type": "code",
   "execution_count": 13,
   "id": "d11f4a38",
   "metadata": {},
   "outputs": [
    {
     "data": {
      "text/plain": [
       "1       1\n",
       "1020    1\n",
       "1029    1\n",
       "1028    1\n",
       "1027    1\n",
       "       ..\n",
       "510     1\n",
       "509     1\n",
       "508     1\n",
       "507     1\n",
       "1534    1\n",
       "Name: user_id, Length: 1534, dtype: int64"
      ]
     },
     "execution_count": 13,
     "metadata": {},
     "output_type": "execute_result"
    }
   ],
   "source": [
    "users_go['user_id'].value_counts(ascending=False)"
   ]
  },
  {
   "cell_type": "markdown",
   "id": "c72b61eb",
   "metadata": {},
   "source": [
    "Неявные дубликаты не обнаружены."
   ]
  },
  {
   "cell_type": "markdown",
   "id": "9109503b",
   "metadata": {},
   "source": [
    "По другим параметрам датафремов проверка не требуется, они могут дублироваться."
   ]
  },
  {
   "cell_type": "markdown",
   "id": "688fd570",
   "metadata": {},
   "source": [
    "**Вывод:** провели предобработку данных, удалили явные дубликаты и изменили тип данных в параметре даты. "
   ]
  },
  {
   "cell_type": "code",
   "execution_count": 14,
   "id": "328aab7d",
   "metadata": {},
   "outputs": [
    {
     "data": {
      "text/plain": [
       "0    4409.919140\n",
       "1    2617.592153\n",
       "2     754.159807\n",
       "Name: distance, dtype: float64"
      ]
     },
     "metadata": {},
     "output_type": "display_data"
    },
    {
     "data": {
      "text/plain": [
       "0    4409.92\n",
       "1    2617.59\n",
       "2     754.16\n",
       "Name: distance, dtype: float64"
      ]
     },
     "execution_count": 14,
     "metadata": {},
     "output_type": "execute_result"
    }
   ],
   "source": [
    "# Комментарий ревьюера\n",
    "temp = rides_go.copy() # Создаем копию, что бы не изменять текущий датасет\n",
    "display(temp['distance'].head(3))\n",
    "# Округление расстояния\n",
    "temp['distance'] = temp['distance'].round(2)\n",
    "temp['distance'].head(3)"
   ]
  },
  {
   "cell_type": "markdown",
   "id": "212593c7",
   "metadata": {},
   "source": [
    "#### Исследовательский анализ данных"
   ]
  },
  {
   "cell_type": "markdown",
   "id": "380feefa",
   "metadata": {},
   "source": [
    "#####  Частота встречаемости городов"
   ]
  },
  {
   "cell_type": "code",
   "execution_count": 15,
   "id": "a3fea930",
   "metadata": {
    "scrolled": false
   },
   "outputs": [
    {
     "data": {
      "image/png": "[encoded data removed]",
      "text/plain": [
       "<Figure size 1440x504 with 1 Axes>"
      ]
     },
     "metadata": {},
     "output_type": "display_data"
    },
    {
     "name": "stdout",
     "output_type": "stream",
     "text": [
      "Количество пользователей по городам: \n"
     ]
    },
    {
     "data": {
      "text/html": [
       "<div>\n",
       "<style scoped>\n",
       "    .dataframe tbody tr th:only-of-type {\n",
       "        vertical-align: middle;\n",
       "    }\n",
       "\n",
       "    .dataframe tbody tr th {\n",
       "        vertical-align: top;\n",
       "    }\n",
       "\n",
       "    .dataframe thead th {\n",
       "        text-align: right;\n",
       "    }\n",
       "</style>\n",
       "<table border=\"1\" class=\"dataframe\">\n",
       "  <thead>\n",
       "    <tr style=\"text-align: right;\">\n",
       "      <th></th>\n",
       "      <th>user_id</th>\n",
       "    </tr>\n",
       "    <tr>\n",
       "      <th>city</th>\n",
       "      <th></th>\n",
       "    </tr>\n",
       "  </thead>\n",
       "  <tbody>\n",
       "    <tr>\n",
       "      <th>Пятигорск</th>\n",
       "      <td>219</td>\n",
       "    </tr>\n",
       "    <tr>\n",
       "      <th>Екатеринбург</th>\n",
       "      <td>204</td>\n",
       "    </tr>\n",
       "    <tr>\n",
       "      <th>Ростов-на-Дону</th>\n",
       "      <td>198</td>\n",
       "    </tr>\n",
       "    <tr>\n",
       "      <th>Краснодар</th>\n",
       "      <td>193</td>\n",
       "    </tr>\n",
       "    <tr>\n",
       "      <th>Сочи</th>\n",
       "      <td>189</td>\n",
       "    </tr>\n",
       "    <tr>\n",
       "      <th>Омск</th>\n",
       "      <td>183</td>\n",
       "    </tr>\n",
       "    <tr>\n",
       "      <th>Тюмень</th>\n",
       "      <td>180</td>\n",
       "    </tr>\n",
       "    <tr>\n",
       "      <th>Москва</th>\n",
       "      <td>168</td>\n",
       "    </tr>\n",
       "  </tbody>\n",
       "</table>\n",
       "</div>"
      ],
      "text/plain": [
       "                user_id\n",
       "city                   \n",
       "Пятигорск           219\n",
       "Екатеринбург        204\n",
       "Ростов-на-Дону      198\n",
       "Краснодар           193\n",
       "Сочи                189\n",
       "Омск                183\n",
       "Тюмень              180\n",
       "Москва              168"
      ]
     },
     "execution_count": 15,
     "metadata": {},
     "output_type": "execute_result"
    }
   ],
   "source": [
    "city = users_go.groupby('city')['user_id'].count().reset_index().sort_values('user_id', ascending=False)\n",
    "\n",
    "plt.figure(figsize=(20, 7))\n",
    "sns.barplot(data=city, x='user_id', y='city') \n",
    "plt.title('Количество пользователей по городам')\n",
    "plt.ylabel('Наименование города')\n",
    "plt.xlabel('Количество пользователей')\n",
    "plt.xticks(rotation = 60)\n",
    "plt.show()\n",
    "\n",
    "print('Количество пользователей по городам: ') \n",
    "users_go.pivot_table(index='city', values='user_id', aggfunc='count').sort_values(by='user_id', ascending=False)"
   ]
  },
  {
   "cell_type": "markdown",
   "id": "3bf1251a",
   "metadata": {},
   "source": [
    "**Промежуточный вывод:**  чаще всего встречался Пятигорск - 219 раз, реже всего Москва - 168 раз. Москва на последнем месте возможно из-за того, что ввиду больших расстояний в городе, чаще бывает более удобно добраться на другом транспорте, напрмер, метро. Также стоит отметить, что большинство городов находятся на юге страны, где сезон проката может быть дольше. "
   ]
  },
  {
   "cell_type": "code",
   "execution_count": 16,
   "id": "772335f8",
   "metadata": {},
   "outputs": [
    {
     "data": {
      "image/png": "[encoded data removed]",
      "text/plain": [
       "<Figure size 1080x360 with 1 Axes>"
      ]
     },
     "metadata": {},
     "output_type": "display_data"
    }
   ],
   "source": [
    "# Комментарий ревьюера\n",
    "import seaborn as sns\n",
    "import matplotlib.pyplot as plt\n",
    "import pandas as pd\n",
    "\n",
    "# Создаем копию датасета, чтобы не работать с исходным\n",
    "tmp = users_go.copy()\n",
    "\n",
    "# Построение горизонтальной диаграммы с использованием seaborn\n",
    "plt.figure(figsize=(15, 5))\n",
    "ax = sns.countplot(y='city', data=tmp, order=tmp['city'].value_counts(ascending=True).index)\n",
    "\n",
    "# Добавление значений рядом со столбцами\n",
    "for p in ax.patches:\n",
    "    width = p.get_width()\n",
    "    ax.annotate(f'{int(width)}',\n",
    "                (width, p.get_y() + p.get_height() / 2.),\n",
    "                ha='left', va='center',\n",
    "                xytext=(5, 0),\n",
    "                textcoords='offset points')\n",
    "\n",
    "# Добавление меток осей и заголовка\n",
    "plt.xlabel('Количество пользователей')\n",
    "plt.ylabel('Город')\n",
    "plt.title('График частоты встречаемости городов')\n",
    "\n",
    "# Отображение графика\n",
    "plt.show()"
   ]
  },
  {
   "cell_type": "markdown",
   "id": "919773de",
   "metadata": {},
   "source": [
    "##### Соотношение пользователей с подпиской и без подписки"
   ]
  },
  {
   "cell_type": "code",
   "execution_count": 17,
   "id": "377249a3",
   "metadata": {},
   "outputs": [
    {
     "name": "stdout",
     "output_type": "stream",
     "text": [
      "Количество пользователей по типу подписки:\n",
      "  тип подписки  количество id пользователей\n",
      "0         free                          835\n",
      "1        ultra                          699\n"
     ]
    },
    {
     "data": {
      "image/png": "[encoded data removed]",
      "text/plain": [
       "<Figure size 720x720 with 1 Axes>"
      ]
     },
     "metadata": {},
     "output_type": "display_data"
    }
   ],
   "source": [
    "user_count = users_go.pivot_table(index='subscription_type', values='user_id', aggfunc='count').reset_index()\n",
    "print(\"Количество пользователей по типу подписки:\")\n",
    "user_count.columns = ['тип подписки', 'количество id пользователей']\n",
    "print(user_count)\n",
    "\n",
    "users_go['subscription_type'].value_counts().plot(\n",
    "    kind = 'pie', \n",
    "    y = user_count['тип подписки'].value_counts(), \n",
    "    autopct = '%1.0f%%', \n",
    "    figsize=(10,10),\n",
    "    title = 'Процентное соотношение пользователей в зависимости от тарифа');\n",
    "\n",
    "plt.ylabel('')\n",
    "plt.show()"
   ]
  },
  {
   "cell_type": "markdown",
   "id": "8325117c",
   "metadata": {},
   "source": [
    "**Промежуточный вывод:** платных подписчиков меньше - 46%, чем бесплатных - 54%"
   ]
  },
  {
   "cell_type": "markdown",
   "id": "614a27c6",
   "metadata": {},
   "source": [
    "##### Возраст пользователей"
   ]
  },
  {
   "cell_type": "code",
   "execution_count": 18,
   "id": "5a1422e2",
   "metadata": {
    "scrolled": false
   },
   "outputs": [
    {
     "data": {
      "image/png": "[encoded data removed]",
      "text/plain": [
       "<Figure size 1440x504 with 1 Axes>"
      ]
     },
     "metadata": {},
     "output_type": "display_data"
    }
   ],
   "source": [
    "age = users_go.pivot_table(index='age', values='user_id', aggfunc='count').reset_index()\n",
    "age.columns = ['возраст', 'количество пользователей']\n",
    "\n",
    "plt.figure(figsize=(20, 7))\n",
    "sns.barplot(data=age, x='возраст', y='количество пользователей') \n",
    "plt.title('Распеределение количества пользователей по возрастам')\n",
    "plt.ylabel('Количество пользоателей')\n",
    "plt.xlabel('Возраст')\n",
    "plt.show()\n"
   ]
  },
  {
   "cell_type": "code",
   "execution_count": 19,
   "id": "ee9988df",
   "metadata": {},
   "outputs": [
    {
     "data": {
      "text/plain": [
       "count    1534.000000\n",
       "mean       24.903520\n",
       "std         4.572367\n",
       "min        12.000000\n",
       "25%        22.000000\n",
       "50%        25.000000\n",
       "75%        28.000000\n",
       "max        43.000000\n",
       "Name: age, dtype: float64"
      ]
     },
     "execution_count": 19,
     "metadata": {},
     "output_type": "execute_result"
    }
   ],
   "source": [
    "users_go['age'].describe()"
   ]
  },
  {
   "cell_type": "markdown",
   "id": "a6cbb4b7",
   "metadata": {},
   "source": [
    "**Промежуточный вывод:** В основном прокатом самокатов пользуются клиенты от 21 до 28 лет. Среднее значение возраста пользователей практически совпадает с медианой - почти 25 лет. "
   ]
  },
  {
   "cell_type": "markdown",
   "id": "d1ab3236",
   "metadata": {},
   "source": [
    "##### Расстояние, которое пользователь преодолел за одну поездку"
   ]
  },
  {
   "cell_type": "code",
   "execution_count": 20,
   "id": "ba7cfb23",
   "metadata": {},
   "outputs": [
    {
     "data": {
      "text/plain": [
       "count    18068.000000\n",
       "mean      3070.659976\n",
       "std       1116.831209\n",
       "min          0.855683\n",
       "25%       2543.226360\n",
       "50%       3133.609994\n",
       "75%       3776.222735\n",
       "max       7211.007745\n",
       "Name: distance, dtype: float64"
      ]
     },
     "execution_count": 20,
     "metadata": {},
     "output_type": "execute_result"
    }
   ],
   "source": [
    "rides_go['distance'].describe()"
   ]
  },
  {
   "cell_type": "code",
   "execution_count": 21,
   "id": "9defd93a",
   "metadata": {},
   "outputs": [
    {
     "data": {
      "image/png": "[encoded data removed]",
      "text/plain": [
       "<Figure size 1440x504 with 1 Axes>"
      ]
     },
     "metadata": {},
     "output_type": "display_data"
    }
   ],
   "source": [
    "plt.figure(figsize=(20, 7))\n",
    "plt.hist(rides_go['distance'], bins=100, range=(1,7220))\n",
    "plt.title('Количество поездок в зависимости от расстояния поездки')\n",
    "plt.xlabel('Расстояние в метрах')\n",
    "plt.ylabel('Количество поездок')\n",
    "plt.show()"
   ]
  },
  {
   "cell_type": "markdown",
   "id": "4b847f53",
   "metadata": {},
   "source": [
    "**Промежуточный вывод:** растояние одной поездки в среднем 3-3.2км. Однако, можем наблюдать небольшой пик на растоянии 600-700м. "
   ]
  },
  {
   "cell_type": "markdown",
   "id": "dbcad69d",
   "metadata": {},
   "source": [
    "##### Продолжительность поездок"
   ]
  },
  {
   "cell_type": "code",
   "execution_count": 22,
   "id": "ab714eb8",
   "metadata": {},
   "outputs": [
    {
     "data": {
      "text/plain": [
       "count    18068.000000\n",
       "mean        17.805011\n",
       "std          6.091051\n",
       "min          0.500000\n",
       "25%         13.597563\n",
       "50%         17.678395\n",
       "75%         21.724800\n",
       "max         40.823963\n",
       "Name: duration, dtype: float64"
      ]
     },
     "execution_count": 22,
     "metadata": {},
     "output_type": "execute_result"
    }
   ],
   "source": [
    "rides_go['duration'].describe()"
   ]
  },
  {
   "cell_type": "code",
   "execution_count": 23,
   "id": "ec97d4ca",
   "metadata": {},
   "outputs": [
    {
     "data": {
      "image/png": "[encoded data removed]",
      "text/plain": [
       "<Figure size 1440x504 with 1 Axes>"
      ]
     },
     "metadata": {},
     "output_type": "display_data"
    }
   ],
   "source": [
    "plt.figure(figsize=(20, 7))\n",
    "plt.hist(rides_go['duration'], bins=50, range=(1,41))\n",
    "plt.title('Количество поездок в зависимости от продолжительности')\n",
    "plt.xlabel('Продолжительность поездки(мин)')\n",
    "plt.ylabel('Количество поездок')\n",
    "plt.show()"
   ]
  },
  {
   "cell_type": "markdown",
   "id": "0af9ae7a",
   "metadata": {},
   "source": [
    "**Промежуточный вывод:** в среднем поездка длится 17-19 минут. "
   ]
  },
  {
   "cell_type": "markdown",
   "id": "577f09dd",
   "metadata": {},
   "source": [
    "##### Вывод"
   ]
  },
  {
   "cell_type": "markdown",
   "id": "5c9170dc",
   "metadata": {},
   "source": [
    "- Чаще всего встречался Пятигорск - 219 раз, реже всего Москва - 168 раз. Москва на последнем месте возможно из-за того, что ввиду больших расстояний в городе, чаще бывает более удобно добраться на другом транспорте, напрмер, метро.\n",
    "- Большинство городов находятся на юге страны, где сезон проката может быть дольше.\n",
    "- Платных подписчиков меньше - 46%, чем бесплатных - 54%.\n",
    "- В основном прокатом самокатов пользуются клиенты от 21 до 28 лет. Среднее значение возраста пользователей практически совпадает с медианой - почти 25 лет. \n",
    "- Растояние одной поездки в среднем 3-3.2км. Однако, можем наблюдать небольшой пик на растоянии 600-700м.\n",
    "- В среднем поездка длится 17-19 минут. "
   ]
  },
  {
   "cell_type": "markdown",
   "id": "4ef51331",
   "metadata": {},
   "source": [
    "#### Объединение данных"
   ]
  },
  {
   "cell_type": "markdown",
   "id": "6f411cae",
   "metadata": {},
   "source": [
    "##### Объединение данные о пользователях, поездках и подписках"
   ]
  },
  {
   "cell_type": "code",
   "execution_count": 24,
   "id": "6bf288b5",
   "metadata": {},
   "outputs": [],
   "source": [
    "df = pd.merge(users_go, subscriptions_go, on='subscription_type')\n",
    "df = pd.merge(rides_go, df, on='user_id')"
   ]
  },
  {
   "cell_type": "code",
   "execution_count": 25,
   "id": "67b28e4b",
   "metadata": {},
   "outputs": [
    {
     "name": "stdout",
     "output_type": "stream",
     "text": [
      "<class 'pandas.core.frame.DataFrame'>\n",
      "Int64Index: 18068 entries, 0 to 18067\n",
      "Data columns (total 12 columns):\n",
      " #   Column             Non-Null Count  Dtype         \n",
      "---  ------             --------------  -----         \n",
      " 0   user_id            18068 non-null  int64         \n",
      " 1   distance           18068 non-null  float64       \n",
      " 2   duration           18068 non-null  float64       \n",
      " 3   date               18068 non-null  datetime64[ns]\n",
      " 4   month              18068 non-null  int64         \n",
      " 5   name               18068 non-null  object        \n",
      " 6   age                18068 non-null  int64         \n",
      " 7   city               18068 non-null  object        \n",
      " 8   subscription_type  18068 non-null  object        \n",
      " 9   minute_price       18068 non-null  int64         \n",
      " 10  start_ride_price   18068 non-null  int64         \n",
      " 11  subscription_fee   18068 non-null  int64         \n",
      "dtypes: datetime64[ns](1), float64(2), int64(6), object(3)\n",
      "memory usage: 1.8+ MB\n"
     ]
    }
   ],
   "source": [
    "df.info()"
   ]
  },
  {
   "cell_type": "code",
   "execution_count": 26,
   "id": "9afe6676",
   "metadata": {},
   "outputs": [
    {
     "data": {
      "text/html": [
       "<div>\n",
       "<style scoped>\n",
       "    .dataframe tbody tr th:only-of-type {\n",
       "        vertical-align: middle;\n",
       "    }\n",
       "\n",
       "    .dataframe tbody tr th {\n",
       "        vertical-align: top;\n",
       "    }\n",
       "\n",
       "    .dataframe thead th {\n",
       "        text-align: right;\n",
       "    }\n",
       "</style>\n",
       "<table border=\"1\" class=\"dataframe\">\n",
       "  <thead>\n",
       "    <tr style=\"text-align: right;\">\n",
       "      <th></th>\n",
       "      <th>user_id</th>\n",
       "      <th>distance</th>\n",
       "      <th>duration</th>\n",
       "      <th>date</th>\n",
       "      <th>month</th>\n",
       "      <th>name</th>\n",
       "      <th>age</th>\n",
       "      <th>city</th>\n",
       "      <th>subscription_type</th>\n",
       "      <th>minute_price</th>\n",
       "      <th>start_ride_price</th>\n",
       "      <th>subscription_fee</th>\n",
       "    </tr>\n",
       "  </thead>\n",
       "  <tbody>\n",
       "    <tr>\n",
       "      <th>0</th>\n",
       "      <td>1</td>\n",
       "      <td>4409.919140</td>\n",
       "      <td>25.599769</td>\n",
       "      <td>2021-01-01</td>\n",
       "      <td>1</td>\n",
       "      <td>Кира</td>\n",
       "      <td>22</td>\n",
       "      <td>Тюмень</td>\n",
       "      <td>ultra</td>\n",
       "      <td>6</td>\n",
       "      <td>0</td>\n",
       "      <td>199</td>\n",
       "    </tr>\n",
       "    <tr>\n",
       "      <th>1</th>\n",
       "      <td>1</td>\n",
       "      <td>2617.592153</td>\n",
       "      <td>15.816871</td>\n",
       "      <td>2021-01-18</td>\n",
       "      <td>1</td>\n",
       "      <td>Кира</td>\n",
       "      <td>22</td>\n",
       "      <td>Тюмень</td>\n",
       "      <td>ultra</td>\n",
       "      <td>6</td>\n",
       "      <td>0</td>\n",
       "      <td>199</td>\n",
       "    </tr>\n",
       "    <tr>\n",
       "      <th>2</th>\n",
       "      <td>1</td>\n",
       "      <td>754.159807</td>\n",
       "      <td>6.232113</td>\n",
       "      <td>2021-04-20</td>\n",
       "      <td>4</td>\n",
       "      <td>Кира</td>\n",
       "      <td>22</td>\n",
       "      <td>Тюмень</td>\n",
       "      <td>ultra</td>\n",
       "      <td>6</td>\n",
       "      <td>0</td>\n",
       "      <td>199</td>\n",
       "    </tr>\n",
       "    <tr>\n",
       "      <th>3</th>\n",
       "      <td>1</td>\n",
       "      <td>2694.783254</td>\n",
       "      <td>18.511000</td>\n",
       "      <td>2021-08-11</td>\n",
       "      <td>8</td>\n",
       "      <td>Кира</td>\n",
       "      <td>22</td>\n",
       "      <td>Тюмень</td>\n",
       "      <td>ultra</td>\n",
       "      <td>6</td>\n",
       "      <td>0</td>\n",
       "      <td>199</td>\n",
       "    </tr>\n",
       "    <tr>\n",
       "      <th>4</th>\n",
       "      <td>1</td>\n",
       "      <td>4028.687306</td>\n",
       "      <td>26.265803</td>\n",
       "      <td>2021-08-28</td>\n",
       "      <td>8</td>\n",
       "      <td>Кира</td>\n",
       "      <td>22</td>\n",
       "      <td>Тюмень</td>\n",
       "      <td>ultra</td>\n",
       "      <td>6</td>\n",
       "      <td>0</td>\n",
       "      <td>199</td>\n",
       "    </tr>\n",
       "    <tr>\n",
       "      <th>5</th>\n",
       "      <td>1</td>\n",
       "      <td>2770.890808</td>\n",
       "      <td>16.650138</td>\n",
       "      <td>2021-10-09</td>\n",
       "      <td>10</td>\n",
       "      <td>Кира</td>\n",
       "      <td>22</td>\n",
       "      <td>Тюмень</td>\n",
       "      <td>ultra</td>\n",
       "      <td>6</td>\n",
       "      <td>0</td>\n",
       "      <td>199</td>\n",
       "    </tr>\n",
       "    <tr>\n",
       "      <th>6</th>\n",
       "      <td>1</td>\n",
       "      <td>3039.020292</td>\n",
       "      <td>14.927879</td>\n",
       "      <td>2021-10-19</td>\n",
       "      <td>10</td>\n",
       "      <td>Кира</td>\n",
       "      <td>22</td>\n",
       "      <td>Тюмень</td>\n",
       "      <td>ultra</td>\n",
       "      <td>6</td>\n",
       "      <td>0</td>\n",
       "      <td>199</td>\n",
       "    </tr>\n",
       "    <tr>\n",
       "      <th>7</th>\n",
       "      <td>1</td>\n",
       "      <td>2842.118050</td>\n",
       "      <td>23.117468</td>\n",
       "      <td>2021-11-06</td>\n",
       "      <td>11</td>\n",
       "      <td>Кира</td>\n",
       "      <td>22</td>\n",
       "      <td>Тюмень</td>\n",
       "      <td>ultra</td>\n",
       "      <td>6</td>\n",
       "      <td>0</td>\n",
       "      <td>199</td>\n",
       "    </tr>\n",
       "    <tr>\n",
       "      <th>8</th>\n",
       "      <td>1</td>\n",
       "      <td>3412.690668</td>\n",
       "      <td>15.238072</td>\n",
       "      <td>2021-11-14</td>\n",
       "      <td>11</td>\n",
       "      <td>Кира</td>\n",
       "      <td>22</td>\n",
       "      <td>Тюмень</td>\n",
       "      <td>ultra</td>\n",
       "      <td>6</td>\n",
       "      <td>0</td>\n",
       "      <td>199</td>\n",
       "    </tr>\n",
       "    <tr>\n",
       "      <th>9</th>\n",
       "      <td>1</td>\n",
       "      <td>748.690645</td>\n",
       "      <td>15.041884</td>\n",
       "      <td>2021-11-22</td>\n",
       "      <td>11</td>\n",
       "      <td>Кира</td>\n",
       "      <td>22</td>\n",
       "      <td>Тюмень</td>\n",
       "      <td>ultra</td>\n",
       "      <td>6</td>\n",
       "      <td>0</td>\n",
       "      <td>199</td>\n",
       "    </tr>\n",
       "    <tr>\n",
       "      <th>10</th>\n",
       "      <td>1</td>\n",
       "      <td>4031.020195</td>\n",
       "      <td>17.674448</td>\n",
       "      <td>2021-12-14</td>\n",
       "      <td>12</td>\n",
       "      <td>Кира</td>\n",
       "      <td>22</td>\n",
       "      <td>Тюмень</td>\n",
       "      <td>ultra</td>\n",
       "      <td>6</td>\n",
       "      <td>0</td>\n",
       "      <td>199</td>\n",
       "    </tr>\n",
       "    <tr>\n",
       "      <th>11</th>\n",
       "      <td>1</td>\n",
       "      <td>2720.609748</td>\n",
       "      <td>9.529463</td>\n",
       "      <td>2021-12-22</td>\n",
       "      <td>12</td>\n",
       "      <td>Кира</td>\n",
       "      <td>22</td>\n",
       "      <td>Тюмень</td>\n",
       "      <td>ultra</td>\n",
       "      <td>6</td>\n",
       "      <td>0</td>\n",
       "      <td>199</td>\n",
       "    </tr>\n",
       "    <tr>\n",
       "      <th>12</th>\n",
       "      <td>2</td>\n",
       "      <td>3105.086678</td>\n",
       "      <td>24.307514</td>\n",
       "      <td>2021-03-15</td>\n",
       "      <td>3</td>\n",
       "      <td>Станислав</td>\n",
       "      <td>31</td>\n",
       "      <td>Омск</td>\n",
       "      <td>ultra</td>\n",
       "      <td>6</td>\n",
       "      <td>0</td>\n",
       "      <td>199</td>\n",
       "    </tr>\n",
       "    <tr>\n",
       "      <th>13</th>\n",
       "      <td>2</td>\n",
       "      <td>3053.519401</td>\n",
       "      <td>11.543256</td>\n",
       "      <td>2021-03-18</td>\n",
       "      <td>3</td>\n",
       "      <td>Станислав</td>\n",
       "      <td>31</td>\n",
       "      <td>Омск</td>\n",
       "      <td>ultra</td>\n",
       "      <td>6</td>\n",
       "      <td>0</td>\n",
       "      <td>199</td>\n",
       "    </tr>\n",
       "    <tr>\n",
       "      <th>14</th>\n",
       "      <td>2</td>\n",
       "      <td>4029.116927</td>\n",
       "      <td>25.109188</td>\n",
       "      <td>2021-03-23</td>\n",
       "      <td>3</td>\n",
       "      <td>Станислав</td>\n",
       "      <td>31</td>\n",
       "      <td>Омск</td>\n",
       "      <td>ultra</td>\n",
       "      <td>6</td>\n",
       "      <td>0</td>\n",
       "      <td>199</td>\n",
       "    </tr>\n",
       "    <tr>\n",
       "      <th>15</th>\n",
       "      <td>2</td>\n",
       "      <td>2805.786329</td>\n",
       "      <td>20.652145</td>\n",
       "      <td>2021-04-08</td>\n",
       "      <td>4</td>\n",
       "      <td>Станислав</td>\n",
       "      <td>31</td>\n",
       "      <td>Омск</td>\n",
       "      <td>ultra</td>\n",
       "      <td>6</td>\n",
       "      <td>0</td>\n",
       "      <td>199</td>\n",
       "    </tr>\n",
       "    <tr>\n",
       "      <th>16</th>\n",
       "      <td>2</td>\n",
       "      <td>3358.595495</td>\n",
       "      <td>18.396489</td>\n",
       "      <td>2021-04-13</td>\n",
       "      <td>4</td>\n",
       "      <td>Станислав</td>\n",
       "      <td>31</td>\n",
       "      <td>Омск</td>\n",
       "      <td>ultra</td>\n",
       "      <td>6</td>\n",
       "      <td>0</td>\n",
       "      <td>199</td>\n",
       "    </tr>\n",
       "    <tr>\n",
       "      <th>17</th>\n",
       "      <td>2</td>\n",
       "      <td>3255.338202</td>\n",
       "      <td>13.851127</td>\n",
       "      <td>2021-06-20</td>\n",
       "      <td>6</td>\n",
       "      <td>Станислав</td>\n",
       "      <td>31</td>\n",
       "      <td>Омск</td>\n",
       "      <td>ultra</td>\n",
       "      <td>6</td>\n",
       "      <td>0</td>\n",
       "      <td>199</td>\n",
       "    </tr>\n",
       "    <tr>\n",
       "      <th>18</th>\n",
       "      <td>2</td>\n",
       "      <td>3942.817648</td>\n",
       "      <td>20.142725</td>\n",
       "      <td>2021-07-02</td>\n",
       "      <td>7</td>\n",
       "      <td>Станислав</td>\n",
       "      <td>31</td>\n",
       "      <td>Омск</td>\n",
       "      <td>ultra</td>\n",
       "      <td>6</td>\n",
       "      <td>0</td>\n",
       "      <td>199</td>\n",
       "    </tr>\n",
       "    <tr>\n",
       "      <th>19</th>\n",
       "      <td>2</td>\n",
       "      <td>2837.905316</td>\n",
       "      <td>26.027432</td>\n",
       "      <td>2021-07-18</td>\n",
       "      <td>7</td>\n",
       "      <td>Станислав</td>\n",
       "      <td>31</td>\n",
       "      <td>Омск</td>\n",
       "      <td>ultra</td>\n",
       "      <td>6</td>\n",
       "      <td>0</td>\n",
       "      <td>199</td>\n",
       "    </tr>\n",
       "    <tr>\n",
       "      <th>20</th>\n",
       "      <td>2</td>\n",
       "      <td>923.007439</td>\n",
       "      <td>6.914760</td>\n",
       "      <td>2021-08-03</td>\n",
       "      <td>8</td>\n",
       "      <td>Станислав</td>\n",
       "      <td>31</td>\n",
       "      <td>Омск</td>\n",
       "      <td>ultra</td>\n",
       "      <td>6</td>\n",
       "      <td>0</td>\n",
       "      <td>199</td>\n",
       "    </tr>\n",
       "    <tr>\n",
       "      <th>21</th>\n",
       "      <td>2</td>\n",
       "      <td>2824.636598</td>\n",
       "      <td>18.779128</td>\n",
       "      <td>2021-10-27</td>\n",
       "      <td>10</td>\n",
       "      <td>Станислав</td>\n",
       "      <td>31</td>\n",
       "      <td>Омск</td>\n",
       "      <td>ultra</td>\n",
       "      <td>6</td>\n",
       "      <td>0</td>\n",
       "      <td>199</td>\n",
       "    </tr>\n",
       "    <tr>\n",
       "      <th>22</th>\n",
       "      <td>2</td>\n",
       "      <td>3828.248580</td>\n",
       "      <td>11.920514</td>\n",
       "      <td>2021-12-18</td>\n",
       "      <td>12</td>\n",
       "      <td>Станислав</td>\n",
       "      <td>31</td>\n",
       "      <td>Омск</td>\n",
       "      <td>ultra</td>\n",
       "      <td>6</td>\n",
       "      <td>0</td>\n",
       "      <td>199</td>\n",
       "    </tr>\n",
       "    <tr>\n",
       "      <th>23</th>\n",
       "      <td>3</td>\n",
       "      <td>3061.777147</td>\n",
       "      <td>12.654443</td>\n",
       "      <td>2021-01-31</td>\n",
       "      <td>1</td>\n",
       "      <td>Алексей</td>\n",
       "      <td>20</td>\n",
       "      <td>Москва</td>\n",
       "      <td>ultra</td>\n",
       "      <td>6</td>\n",
       "      <td>0</td>\n",
       "      <td>199</td>\n",
       "    </tr>\n",
       "    <tr>\n",
       "      <th>24</th>\n",
       "      <td>3</td>\n",
       "      <td>2560.495330</td>\n",
       "      <td>16.534984</td>\n",
       "      <td>2021-02-24</td>\n",
       "      <td>2</td>\n",
       "      <td>Алексей</td>\n",
       "      <td>20</td>\n",
       "      <td>Москва</td>\n",
       "      <td>ultra</td>\n",
       "      <td>6</td>\n",
       "      <td>0</td>\n",
       "      <td>199</td>\n",
       "    </tr>\n",
       "  </tbody>\n",
       "</table>\n",
       "</div>"
      ],
      "text/plain": [
       "    user_id     distance   duration       date  month       name  age    city  \\\n",
       "0         1  4409.919140  25.599769 2021-01-01      1       Кира   22  Тюмень   \n",
       "1         1  2617.592153  15.816871 2021-01-18      1       Кира   22  Тюмень   \n",
       "2         1   754.159807   6.232113 2021-04-20      4       Кира   22  Тюмень   \n",
       "3         1  2694.783254  18.511000 2021-08-11      8       Кира   22  Тюмень   \n",
       "4         1  4028.687306  26.265803 2021-08-28      8       Кира   22  Тюмень   \n",
       "5         1  2770.890808  16.650138 2021-10-09     10       Кира   22  Тюмень   \n",
       "6         1  3039.020292  14.927879 2021-10-19     10       Кира   22  Тюмень   \n",
       "7         1  2842.118050  23.117468 2021-11-06     11       Кира   22  Тюмень   \n",
       "8         1  3412.690668  15.238072 2021-11-14     11       Кира   22  Тюмень   \n",
       "9         1   748.690645  15.041884 2021-11-22     11       Кира   22  Тюмень   \n",
       "10        1  4031.020195  17.674448 2021-12-14     12       Кира   22  Тюмень   \n",
       "11        1  2720.609748   9.529463 2021-12-22     12       Кира   22  Тюмень   \n",
       "12        2  3105.086678  24.307514 2021-03-15      3  Станислав   31    Омск   \n",
       "13        2  3053.519401  11.543256 2021-03-18      3  Станислав   31    Омск   \n",
       "14        2  4029.116927  25.109188 2021-03-23      3  Станислав   31    Омск   \n",
       "15        2  2805.786329  20.652145 2021-04-08      4  Станислав   31    Омск   \n",
       "16        2  3358.595495  18.396489 2021-04-13      4  Станислав   31    Омск   \n",
       "17        2  3255.338202  13.851127 2021-06-20      6  Станислав   31    Омск   \n",
       "18        2  3942.817648  20.142725 2021-07-02      7  Станислав   31    Омск   \n",
       "19        2  2837.905316  26.027432 2021-07-18      7  Станислав   31    Омск   \n",
       "20        2   923.007439   6.914760 2021-08-03      8  Станислав   31    Омск   \n",
       "21        2  2824.636598  18.779128 2021-10-27     10  Станислав   31    Омск   \n",
       "22        2  3828.248580  11.920514 2021-12-18     12  Станислав   31    Омск   \n",
       "23        3  3061.777147  12.654443 2021-01-31      1    Алексей   20  Москва   \n",
       "24        3  2560.495330  16.534984 2021-02-24      2    Алексей   20  Москва   \n",
       "\n",
       "   subscription_type  minute_price  start_ride_price  subscription_fee  \n",
       "0              ultra             6                 0               199  \n",
       "1              ultra             6                 0               199  \n",
       "2              ultra             6                 0               199  \n",
       "3              ultra             6                 0               199  \n",
       "4              ultra             6                 0               199  \n",
       "5              ultra             6                 0               199  \n",
       "6              ultra             6                 0               199  \n",
       "7              ultra             6                 0               199  \n",
       "8              ultra             6                 0               199  \n",
       "9              ultra             6                 0               199  \n",
       "10             ultra             6                 0               199  \n",
       "11             ultra             6                 0               199  \n",
       "12             ultra             6                 0               199  \n",
       "13             ultra             6                 0               199  \n",
       "14             ultra             6                 0               199  \n",
       "15             ultra             6                 0               199  \n",
       "16             ultra             6                 0               199  \n",
       "17             ultra             6                 0               199  \n",
       "18             ultra             6                 0               199  \n",
       "19             ultra             6                 0               199  \n",
       "20             ultra             6                 0               199  \n",
       "21             ultra             6                 0               199  \n",
       "22             ultra             6                 0               199  \n",
       "23             ultra             6                 0               199  \n",
       "24             ultra             6                 0               199  "
      ]
     },
     "execution_count": 26,
     "metadata": {},
     "output_type": "execute_result"
    }
   ],
   "source": [
    "df.head(25)"
   ]
  },
  {
   "cell_type": "code",
   "execution_count": 27,
   "id": "f7342d71",
   "metadata": {},
   "outputs": [
    {
     "name": "stdout",
     "output_type": "stream",
     "text": [
      "<class 'pandas.core.frame.DataFrame'>\n",
      "Int64Index: 18068 entries, 0 to 18067\n",
      "Data columns (total 12 columns):\n",
      " #   Column             Non-Null Count  Dtype         \n",
      "---  ------             --------------  -----         \n",
      " 0   user_id            18068 non-null  int64         \n",
      " 1   distance           18068 non-null  float64       \n",
      " 2   duration           18068 non-null  float64       \n",
      " 3   date               18068 non-null  datetime64[ns]\n",
      " 4   month              18068 non-null  int64         \n",
      " 5   name               18068 non-null  object        \n",
      " 6   age                18068 non-null  int64         \n",
      " 7   city               18068 non-null  object        \n",
      " 8   subscription_type  18068 non-null  object        \n",
      " 9   minute_price       18068 non-null  int64         \n",
      " 10  start_ride_price   18068 non-null  int64         \n",
      " 11  subscription_fee   18068 non-null  int64         \n",
      "dtypes: datetime64[ns](1), float64(2), int64(6), object(3)\n",
      "memory usage: 1.8+ MB\n"
     ]
    }
   ],
   "source": [
    "df.info()"
   ]
  },
  {
   "cell_type": "markdown",
   "id": "d2089434",
   "metadata": {},
   "source": [
    "**Промежуточный вывод:** все датафреймы объединены. Пропуски не обнаружены."
   ]
  },
  {
   "cell_type": "markdown",
   "id": "432318cf",
   "metadata": {},
   "source": [
    "##### Создание отдельных датафреймов для подписчиков и бесплатных пользователей"
   ]
  },
  {
   "cell_type": "code",
   "execution_count": 28,
   "id": "3e4ca74d",
   "metadata": {
    "scrolled": true
   },
   "outputs": [
    {
     "data": {
      "text/html": [
       "<div>\n",
       "<style scoped>\n",
       "    .dataframe tbody tr th:only-of-type {\n",
       "        vertical-align: middle;\n",
       "    }\n",
       "\n",
       "    .dataframe tbody tr th {\n",
       "        vertical-align: top;\n",
       "    }\n",
       "\n",
       "    .dataframe thead th {\n",
       "        text-align: right;\n",
       "    }\n",
       "</style>\n",
       "<table border=\"1\" class=\"dataframe\">\n",
       "  <thead>\n",
       "    <tr style=\"text-align: right;\">\n",
       "      <th></th>\n",
       "      <th>user_id</th>\n",
       "      <th>distance</th>\n",
       "      <th>duration</th>\n",
       "      <th>date</th>\n",
       "      <th>month</th>\n",
       "      <th>name</th>\n",
       "      <th>age</th>\n",
       "      <th>city</th>\n",
       "      <th>subscription_type</th>\n",
       "      <th>minute_price</th>\n",
       "      <th>start_ride_price</th>\n",
       "      <th>subscription_fee</th>\n",
       "    </tr>\n",
       "  </thead>\n",
       "  <tbody>\n",
       "    <tr>\n",
       "      <th>6500</th>\n",
       "      <td>700</td>\n",
       "      <td>2515.690719</td>\n",
       "      <td>14.944286</td>\n",
       "      <td>2021-01-02</td>\n",
       "      <td>1</td>\n",
       "      <td>Айдар</td>\n",
       "      <td>22</td>\n",
       "      <td>Омск</td>\n",
       "      <td>free</td>\n",
       "      <td>8</td>\n",
       "      <td>50</td>\n",
       "      <td>0</td>\n",
       "    </tr>\n",
       "    <tr>\n",
       "      <th>6501</th>\n",
       "      <td>700</td>\n",
       "      <td>846.932642</td>\n",
       "      <td>16.234663</td>\n",
       "      <td>2021-02-01</td>\n",
       "      <td>2</td>\n",
       "      <td>Айдар</td>\n",
       "      <td>22</td>\n",
       "      <td>Омск</td>\n",
       "      <td>free</td>\n",
       "      <td>8</td>\n",
       "      <td>50</td>\n",
       "      <td>0</td>\n",
       "    </tr>\n",
       "    <tr>\n",
       "      <th>6502</th>\n",
       "      <td>700</td>\n",
       "      <td>4004.434142</td>\n",
       "      <td>20.016628</td>\n",
       "      <td>2021-02-04</td>\n",
       "      <td>2</td>\n",
       "      <td>Айдар</td>\n",
       "      <td>22</td>\n",
       "      <td>Омск</td>\n",
       "      <td>free</td>\n",
       "      <td>8</td>\n",
       "      <td>50</td>\n",
       "      <td>0</td>\n",
       "    </tr>\n",
       "    <tr>\n",
       "      <th>6503</th>\n",
       "      <td>700</td>\n",
       "      <td>1205.911290</td>\n",
       "      <td>9.782872</td>\n",
       "      <td>2021-02-10</td>\n",
       "      <td>2</td>\n",
       "      <td>Айдар</td>\n",
       "      <td>22</td>\n",
       "      <td>Омск</td>\n",
       "      <td>free</td>\n",
       "      <td>8</td>\n",
       "      <td>50</td>\n",
       "      <td>0</td>\n",
       "    </tr>\n",
       "    <tr>\n",
       "      <th>6504</th>\n",
       "      <td>700</td>\n",
       "      <td>3047.379435</td>\n",
       "      <td>17.427673</td>\n",
       "      <td>2021-02-14</td>\n",
       "      <td>2</td>\n",
       "      <td>Айдар</td>\n",
       "      <td>22</td>\n",
       "      <td>Омск</td>\n",
       "      <td>free</td>\n",
       "      <td>8</td>\n",
       "      <td>50</td>\n",
       "      <td>0</td>\n",
       "    </tr>\n",
       "    <tr>\n",
       "      <th>...</th>\n",
       "      <td>...</td>\n",
       "      <td>...</td>\n",
       "      <td>...</td>\n",
       "      <td>...</td>\n",
       "      <td>...</td>\n",
       "      <td>...</td>\n",
       "      <td>...</td>\n",
       "      <td>...</td>\n",
       "      <td>...</td>\n",
       "      <td>...</td>\n",
       "      <td>...</td>\n",
       "      <td>...</td>\n",
       "    </tr>\n",
       "    <tr>\n",
       "      <th>18063</th>\n",
       "      <td>1534</td>\n",
       "      <td>3781.098080</td>\n",
       "      <td>19.822962</td>\n",
       "      <td>2021-11-04</td>\n",
       "      <td>11</td>\n",
       "      <td>Альберт</td>\n",
       "      <td>25</td>\n",
       "      <td>Краснодар</td>\n",
       "      <td>free</td>\n",
       "      <td>8</td>\n",
       "      <td>50</td>\n",
       "      <td>0</td>\n",
       "    </tr>\n",
       "    <tr>\n",
       "      <th>18064</th>\n",
       "      <td>1534</td>\n",
       "      <td>2840.423057</td>\n",
       "      <td>21.409799</td>\n",
       "      <td>2021-11-16</td>\n",
       "      <td>11</td>\n",
       "      <td>Альберт</td>\n",
       "      <td>25</td>\n",
       "      <td>Краснодар</td>\n",
       "      <td>free</td>\n",
       "      <td>8</td>\n",
       "      <td>50</td>\n",
       "      <td>0</td>\n",
       "    </tr>\n",
       "    <tr>\n",
       "      <th>18065</th>\n",
       "      <td>1534</td>\n",
       "      <td>3826.185507</td>\n",
       "      <td>18.435051</td>\n",
       "      <td>2021-11-18</td>\n",
       "      <td>11</td>\n",
       "      <td>Альберт</td>\n",
       "      <td>25</td>\n",
       "      <td>Краснодар</td>\n",
       "      <td>free</td>\n",
       "      <td>8</td>\n",
       "      <td>50</td>\n",
       "      <td>0</td>\n",
       "    </tr>\n",
       "    <tr>\n",
       "      <th>18066</th>\n",
       "      <td>1534</td>\n",
       "      <td>2902.308661</td>\n",
       "      <td>16.674362</td>\n",
       "      <td>2021-11-27</td>\n",
       "      <td>11</td>\n",
       "      <td>Альберт</td>\n",
       "      <td>25</td>\n",
       "      <td>Краснодар</td>\n",
       "      <td>free</td>\n",
       "      <td>8</td>\n",
       "      <td>50</td>\n",
       "      <td>0</td>\n",
       "    </tr>\n",
       "    <tr>\n",
       "      <th>18067</th>\n",
       "      <td>1534</td>\n",
       "      <td>2371.711192</td>\n",
       "      <td>15.893917</td>\n",
       "      <td>2021-12-29</td>\n",
       "      <td>12</td>\n",
       "      <td>Альберт</td>\n",
       "      <td>25</td>\n",
       "      <td>Краснодар</td>\n",
       "      <td>free</td>\n",
       "      <td>8</td>\n",
       "      <td>50</td>\n",
       "      <td>0</td>\n",
       "    </tr>\n",
       "  </tbody>\n",
       "</table>\n",
       "<p>11568 rows × 12 columns</p>\n",
       "</div>"
      ],
      "text/plain": [
       "       user_id     distance   duration       date  month     name  age  \\\n",
       "6500       700  2515.690719  14.944286 2021-01-02      1    Айдар   22   \n",
       "6501       700   846.932642  16.234663 2021-02-01      2    Айдар   22   \n",
       "6502       700  4004.434142  20.016628 2021-02-04      2    Айдар   22   \n",
       "6503       700  1205.911290   9.782872 2021-02-10      2    Айдар   22   \n",
       "6504       700  3047.379435  17.427673 2021-02-14      2    Айдар   22   \n",
       "...        ...          ...        ...        ...    ...      ...  ...   \n",
       "18063     1534  3781.098080  19.822962 2021-11-04     11  Альберт   25   \n",
       "18064     1534  2840.423057  21.409799 2021-11-16     11  Альберт   25   \n",
       "18065     1534  3826.185507  18.435051 2021-11-18     11  Альберт   25   \n",
       "18066     1534  2902.308661  16.674362 2021-11-27     11  Альберт   25   \n",
       "18067     1534  2371.711192  15.893917 2021-12-29     12  Альберт   25   \n",
       "\n",
       "            city subscription_type  minute_price  start_ride_price  \\\n",
       "6500        Омск              free             8                50   \n",
       "6501        Омск              free             8                50   \n",
       "6502        Омск              free             8                50   \n",
       "6503        Омск              free             8                50   \n",
       "6504        Омск              free             8                50   \n",
       "...          ...               ...           ...               ...   \n",
       "18063  Краснодар              free             8                50   \n",
       "18064  Краснодар              free             8                50   \n",
       "18065  Краснодар              free             8                50   \n",
       "18066  Краснодар              free             8                50   \n",
       "18067  Краснодар              free             8                50   \n",
       "\n",
       "       subscription_fee  \n",
       "6500                  0  \n",
       "6501                  0  \n",
       "6502                  0  \n",
       "6503                  0  \n",
       "6504                  0  \n",
       "...                 ...  \n",
       "18063                 0  \n",
       "18064                 0  \n",
       "18065                 0  \n",
       "18066                 0  \n",
       "18067                 0  \n",
       "\n",
       "[11568 rows x 12 columns]"
      ]
     },
     "execution_count": 28,
     "metadata": {},
     "output_type": "execute_result"
    }
   ],
   "source": [
    "free = df.query('subscription_type == \"free\"')\n",
    "free"
   ]
  },
  {
   "cell_type": "code",
   "execution_count": 29,
   "id": "2447514d",
   "metadata": {
    "scrolled": true
   },
   "outputs": [
    {
     "data": {
      "text/html": [
       "<div>\n",
       "<style scoped>\n",
       "    .dataframe tbody tr th:only-of-type {\n",
       "        vertical-align: middle;\n",
       "    }\n",
       "\n",
       "    .dataframe tbody tr th {\n",
       "        vertical-align: top;\n",
       "    }\n",
       "\n",
       "    .dataframe thead th {\n",
       "        text-align: right;\n",
       "    }\n",
       "</style>\n",
       "<table border=\"1\" class=\"dataframe\">\n",
       "  <thead>\n",
       "    <tr style=\"text-align: right;\">\n",
       "      <th></th>\n",
       "      <th>user_id</th>\n",
       "      <th>distance</th>\n",
       "      <th>duration</th>\n",
       "      <th>date</th>\n",
       "      <th>month</th>\n",
       "      <th>name</th>\n",
       "      <th>age</th>\n",
       "      <th>city</th>\n",
       "      <th>subscription_type</th>\n",
       "      <th>minute_price</th>\n",
       "      <th>start_ride_price</th>\n",
       "      <th>subscription_fee</th>\n",
       "    </tr>\n",
       "  </thead>\n",
       "  <tbody>\n",
       "    <tr>\n",
       "      <th>0</th>\n",
       "      <td>1</td>\n",
       "      <td>4409.919140</td>\n",
       "      <td>25.599769</td>\n",
       "      <td>2021-01-01</td>\n",
       "      <td>1</td>\n",
       "      <td>Кира</td>\n",
       "      <td>22</td>\n",
       "      <td>Тюмень</td>\n",
       "      <td>ultra</td>\n",
       "      <td>6</td>\n",
       "      <td>0</td>\n",
       "      <td>199</td>\n",
       "    </tr>\n",
       "    <tr>\n",
       "      <th>1</th>\n",
       "      <td>1</td>\n",
       "      <td>2617.592153</td>\n",
       "      <td>15.816871</td>\n",
       "      <td>2021-01-18</td>\n",
       "      <td>1</td>\n",
       "      <td>Кира</td>\n",
       "      <td>22</td>\n",
       "      <td>Тюмень</td>\n",
       "      <td>ultra</td>\n",
       "      <td>6</td>\n",
       "      <td>0</td>\n",
       "      <td>199</td>\n",
       "    </tr>\n",
       "    <tr>\n",
       "      <th>2</th>\n",
       "      <td>1</td>\n",
       "      <td>754.159807</td>\n",
       "      <td>6.232113</td>\n",
       "      <td>2021-04-20</td>\n",
       "      <td>4</td>\n",
       "      <td>Кира</td>\n",
       "      <td>22</td>\n",
       "      <td>Тюмень</td>\n",
       "      <td>ultra</td>\n",
       "      <td>6</td>\n",
       "      <td>0</td>\n",
       "      <td>199</td>\n",
       "    </tr>\n",
       "    <tr>\n",
       "      <th>3</th>\n",
       "      <td>1</td>\n",
       "      <td>2694.783254</td>\n",
       "      <td>18.511000</td>\n",
       "      <td>2021-08-11</td>\n",
       "      <td>8</td>\n",
       "      <td>Кира</td>\n",
       "      <td>22</td>\n",
       "      <td>Тюмень</td>\n",
       "      <td>ultra</td>\n",
       "      <td>6</td>\n",
       "      <td>0</td>\n",
       "      <td>199</td>\n",
       "    </tr>\n",
       "    <tr>\n",
       "      <th>4</th>\n",
       "      <td>1</td>\n",
       "      <td>4028.687306</td>\n",
       "      <td>26.265803</td>\n",
       "      <td>2021-08-28</td>\n",
       "      <td>8</td>\n",
       "      <td>Кира</td>\n",
       "      <td>22</td>\n",
       "      <td>Тюмень</td>\n",
       "      <td>ultra</td>\n",
       "      <td>6</td>\n",
       "      <td>0</td>\n",
       "      <td>199</td>\n",
       "    </tr>\n",
       "    <tr>\n",
       "      <th>...</th>\n",
       "      <td>...</td>\n",
       "      <td>...</td>\n",
       "      <td>...</td>\n",
       "      <td>...</td>\n",
       "      <td>...</td>\n",
       "      <td>...</td>\n",
       "      <td>...</td>\n",
       "      <td>...</td>\n",
       "      <td>...</td>\n",
       "      <td>...</td>\n",
       "      <td>...</td>\n",
       "      <td>...</td>\n",
       "    </tr>\n",
       "    <tr>\n",
       "      <th>6495</th>\n",
       "      <td>699</td>\n",
       "      <td>3973.046497</td>\n",
       "      <td>24.671163</td>\n",
       "      <td>2021-08-29</td>\n",
       "      <td>8</td>\n",
       "      <td>Оксана</td>\n",
       "      <td>22</td>\n",
       "      <td>Москва</td>\n",
       "      <td>ultra</td>\n",
       "      <td>6</td>\n",
       "      <td>0</td>\n",
       "      <td>199</td>\n",
       "    </tr>\n",
       "    <tr>\n",
       "      <th>6496</th>\n",
       "      <td>699</td>\n",
       "      <td>3288.702563</td>\n",
       "      <td>15.892886</td>\n",
       "      <td>2021-09-12</td>\n",
       "      <td>9</td>\n",
       "      <td>Оксана</td>\n",
       "      <td>22</td>\n",
       "      <td>Москва</td>\n",
       "      <td>ultra</td>\n",
       "      <td>6</td>\n",
       "      <td>0</td>\n",
       "      <td>199</td>\n",
       "    </tr>\n",
       "    <tr>\n",
       "      <th>6497</th>\n",
       "      <td>699</td>\n",
       "      <td>3076.159348</td>\n",
       "      <td>14.389525</td>\n",
       "      <td>2021-09-26</td>\n",
       "      <td>9</td>\n",
       "      <td>Оксана</td>\n",
       "      <td>22</td>\n",
       "      <td>Москва</td>\n",
       "      <td>ultra</td>\n",
       "      <td>6</td>\n",
       "      <td>0</td>\n",
       "      <td>199</td>\n",
       "    </tr>\n",
       "    <tr>\n",
       "      <th>6498</th>\n",
       "      <td>699</td>\n",
       "      <td>4707.845501</td>\n",
       "      <td>15.839579</td>\n",
       "      <td>2021-10-17</td>\n",
       "      <td>10</td>\n",
       "      <td>Оксана</td>\n",
       "      <td>22</td>\n",
       "      <td>Москва</td>\n",
       "      <td>ultra</td>\n",
       "      <td>6</td>\n",
       "      <td>0</td>\n",
       "      <td>199</td>\n",
       "    </tr>\n",
       "    <tr>\n",
       "      <th>6499</th>\n",
       "      <td>699</td>\n",
       "      <td>3202.890770</td>\n",
       "      <td>25.217345</td>\n",
       "      <td>2021-12-03</td>\n",
       "      <td>12</td>\n",
       "      <td>Оксана</td>\n",
       "      <td>22</td>\n",
       "      <td>Москва</td>\n",
       "      <td>ultra</td>\n",
       "      <td>6</td>\n",
       "      <td>0</td>\n",
       "      <td>199</td>\n",
       "    </tr>\n",
       "  </tbody>\n",
       "</table>\n",
       "<p>6500 rows × 12 columns</p>\n",
       "</div>"
      ],
      "text/plain": [
       "      user_id     distance   duration       date  month    name  age    city  \\\n",
       "0           1  4409.919140  25.599769 2021-01-01      1    Кира   22  Тюмень   \n",
       "1           1  2617.592153  15.816871 2021-01-18      1    Кира   22  Тюмень   \n",
       "2           1   754.159807   6.232113 2021-04-20      4    Кира   22  Тюмень   \n",
       "3           1  2694.783254  18.511000 2021-08-11      8    Кира   22  Тюмень   \n",
       "4           1  4028.687306  26.265803 2021-08-28      8    Кира   22  Тюмень   \n",
       "...       ...          ...        ...        ...    ...     ...  ...     ...   \n",
       "6495      699  3973.046497  24.671163 2021-08-29      8  Оксана   22  Москва   \n",
       "6496      699  3288.702563  15.892886 2021-09-12      9  Оксана   22  Москва   \n",
       "6497      699  3076.159348  14.389525 2021-09-26      9  Оксана   22  Москва   \n",
       "6498      699  4707.845501  15.839579 2021-10-17     10  Оксана   22  Москва   \n",
       "6499      699  3202.890770  25.217345 2021-12-03     12  Оксана   22  Москва   \n",
       "\n",
       "     subscription_type  minute_price  start_ride_price  subscription_fee  \n",
       "0                ultra             6                 0               199  \n",
       "1                ultra             6                 0               199  \n",
       "2                ultra             6                 0               199  \n",
       "3                ultra             6                 0               199  \n",
       "4                ultra             6                 0               199  \n",
       "...                ...           ...               ...               ...  \n",
       "6495             ultra             6                 0               199  \n",
       "6496             ultra             6                 0               199  \n",
       "6497             ultra             6                 0               199  \n",
       "6498             ultra             6                 0               199  \n",
       "6499             ultra             6                 0               199  \n",
       "\n",
       "[6500 rows x 12 columns]"
      ]
     },
     "execution_count": 29,
     "metadata": {},
     "output_type": "execute_result"
    }
   ],
   "source": [
    "ultra = df.query('subscription_type == \"ultra\"')\n",
    "ultra"
   ]
  },
  {
   "cell_type": "markdown",
   "id": "8af61e2b",
   "metadata": {},
   "source": [
    "**Промежуточный вывод:** датафреймы расзделены по типу подписки."
   ]
  },
  {
   "cell_type": "markdown",
   "id": "8d5da05f",
   "metadata": {},
   "source": [
    "##### Визуализация информации о расстоянии и времени поездок для пользователей обеих категорий"
   ]
  },
  {
   "cell_type": "code",
   "execution_count": 30,
   "id": "0164164f",
   "metadata": {},
   "outputs": [
    {
     "data": {
      "image/png": "[encoded data removed]",
      "text/plain": [
       "<Figure size 1440x504 with 1 Axes>"
      ]
     },
     "metadata": {},
     "output_type": "display_data"
    }
   ],
   "source": [
    "plt.figure(figsize=(20, 7))\n",
    "plt.hist([free['distance'], ultra['distance']], bins=50, range=(1,5600), label=['free', 'ultra'])\n",
    "plt.legend(loc='upper right')\n",
    "plt.title('Количество поездок в зависимости от расстояния поездки')\n",
    "plt.xlabel('Расстояние в метрах')\n",
    "plt.ylabel('Количество поездок')\n",
    "plt.show()"
   ]
  },
  {
   "cell_type": "code",
   "execution_count": 31,
   "id": "e9ee4f5f",
   "metadata": {},
   "outputs": [
    {
     "data": {
      "image/png": "[encoded data removed]",
      "text/plain": [
       "<Figure size 1440x504 with 1 Axes>"
      ]
     },
     "metadata": {},
     "output_type": "display_data"
    }
   ],
   "source": [
    "plt.figure(figsize=(20, 7))\n",
    "plt.hist([free['duration'], ultra['duration']], bins=30, range=(1,30), label=['free', 'ultra'])\n",
    "plt.legend(loc='upper right')\n",
    "plt.title('Количество поездок в зависимости от продолжительности')\n",
    "plt.xlabel('Продолжительность поездки')\n",
    "plt.ylabel('Количество поездок')\n",
    "plt.show()"
   ]
  },
  {
   "cell_type": "markdown",
   "id": "493e092e",
   "metadata": {},
   "source": [
    "Также проверим среднюю скорость на наличие выбросов."
   ]
  },
  {
   "cell_type": "code",
   "execution_count": 32,
   "id": "4238d607",
   "metadata": {},
   "outputs": [
    {
     "name": "stdout",
     "output_type": "stream",
     "text": [
      "count    11568.000000\n",
      "mean       259.965288\n",
      "std        917.427642\n",
      "min          0.085552\n",
      "25%        133.620559\n",
      "50%        172.242392\n",
      "75%        219.252295\n",
      "max      14422.015489\n",
      "dtype: float64\n",
      "count    6500.000000\n",
      "mean      175.988183\n",
      "std        55.677720\n",
      "min        24.762973\n",
      "25%       137.812273\n",
      "50%       168.591790\n",
      "75%       208.781551\n",
      "max       363.093690\n",
      "dtype: float64\n"
     ]
    }
   ],
   "source": [
    "print((free['distance'] / free['duration']).describe())\n",
    "print((ultra['distance'] / ultra['duration']).describe())"
   ]
  },
  {
   "cell_type": "markdown",
   "id": "0987152f",
   "metadata": {},
   "source": [
    "**Промежуточный вывод:** \n",
    "\n",
    "Графики показывают:\n",
    "\n",
    "- Подписчики в среднем используют самокаты на расстояния, совпадающие с общими показателями всех пользователй 3-3.2км.\n",
    "- У подписчиков ярко выраженный пик на 3-3.2км, из чего можем предположить, что их маршрут более стандартизирован, из-за чего они и приобретают подписку для систематических поездок. \n",
    "- Пользователи без подписки не имеют столь ярковыраженный пик. \n",
    "- Второй пик, наблюдаемый в п.3 для подписчиков сместился ориентировочно на 1000м. В то время, как для остальных пользоватлей, наоборот уменишься - 500-600м. \n",
    "- Среднее время поездки для обоих категорий также 17-19 минут, что совпадает с выводами п.3.\n",
    "- Исходя из рассчитанной средне скорости видим явный аутлаер: 14422 метров минуту. Самокаты обычно ограничиаются на 20км/ч = 1000м/мин. Возможно произошла техническая ошибка при выгрузке данных о поездке. \n"
   ]
  },
  {
   "cell_type": "markdown",
   "id": "c68c7b08",
   "metadata": {},
   "source": [
    "#####  Вывод\n",
    "\n",
    "- Объединили датафреймы.\n",
    "- Создали отдельные датафреймы для клиентов с подпиской и без.\n",
    "- Подписчики в среднем используют самокаты на расстояния, совпадающие с общими показателями всех пользователй 3-3.2км.\n",
    "- У подписчиков ярко выраженный пик на 3-3.2км, из чего можем предположить, что их маршрут более стандартизирован, из-за чего они и приобретают подписку для систематических поездок. \n",
    "- Пользователи без подписки не имеют столь ярковыраженный пик. \n",
    "- Второй пик, наблюдаемый в п.3 для подписчиков сместился ориентировочно на 1000м. В то время, как для остальных пользоватлей, наоборот уменишься - 500-600м. \n",
    "- Среднее время поездки для обоих категорий также 17-19 минут, что совпадает с выводами п.3.\n",
    "- Исходя из рассчитанной средне скорости видим явный аутлаер: 14422 метров минуту. Самокаты обычно ограничиаются на 20км/ч = 1000м/мин. Возможно произошла техническая ошибка при выгрузке данных о поездке.\n"
   ]
  },
  {
   "cell_type": "markdown",
   "id": "402d620f",
   "metadata": {},
   "source": [
    "####  Подсчёт выручки"
   ]
  },
  {
   "cell_type": "markdown",
   "id": "2b133fb0",
   "metadata": {},
   "source": [
    "##### Датафрейм с агрегированными данными о поездках на основе датафрейма с объединёнными данными из шага 4."
   ]
  },
  {
   "cell_type": "code",
   "execution_count": 33,
   "id": "515da7a6",
   "metadata": {},
   "outputs": [
    {
     "data": {
      "text/html": [
       "<div>\n",
       "<style scoped>\n",
       "    .dataframe tbody tr th:only-of-type {\n",
       "        vertical-align: middle;\n",
       "    }\n",
       "\n",
       "    .dataframe tbody tr th {\n",
       "        vertical-align: top;\n",
       "    }\n",
       "\n",
       "    .dataframe thead th {\n",
       "        text-align: right;\n",
       "    }\n",
       "</style>\n",
       "<table border=\"1\" class=\"dataframe\">\n",
       "  <thead>\n",
       "    <tr style=\"text-align: right;\">\n",
       "      <th></th>\n",
       "      <th></th>\n",
       "      <th>Количество поездок</th>\n",
       "      <th>Общее расстояние</th>\n",
       "      <th>Совокупная длительность(мин)</th>\n",
       "      <th>Цена за минуту</th>\n",
       "      <th>Стартовая цена поездки</th>\n",
       "      <th>Абонентская плата</th>\n",
       "    </tr>\n",
       "    <tr>\n",
       "      <th>user_id</th>\n",
       "      <th>month</th>\n",
       "      <th></th>\n",
       "      <th></th>\n",
       "      <th></th>\n",
       "      <th></th>\n",
       "      <th></th>\n",
       "      <th></th>\n",
       "    </tr>\n",
       "  </thead>\n",
       "  <tbody>\n",
       "    <tr>\n",
       "      <th rowspan=\"6\" valign=\"top\">1</th>\n",
       "      <th>1</th>\n",
       "      <td>2</td>\n",
       "      <td>7027.511294</td>\n",
       "      <td>42.0</td>\n",
       "      <td>6</td>\n",
       "      <td>0</td>\n",
       "      <td>199</td>\n",
       "    </tr>\n",
       "    <tr>\n",
       "      <th>4</th>\n",
       "      <td>1</td>\n",
       "      <td>754.159807</td>\n",
       "      <td>7.0</td>\n",
       "      <td>6</td>\n",
       "      <td>0</td>\n",
       "      <td>199</td>\n",
       "    </tr>\n",
       "    <tr>\n",
       "      <th>8</th>\n",
       "      <td>2</td>\n",
       "      <td>6723.470560</td>\n",
       "      <td>46.0</td>\n",
       "      <td>6</td>\n",
       "      <td>0</td>\n",
       "      <td>199</td>\n",
       "    </tr>\n",
       "    <tr>\n",
       "      <th>10</th>\n",
       "      <td>2</td>\n",
       "      <td>5809.911100</td>\n",
       "      <td>32.0</td>\n",
       "      <td>6</td>\n",
       "      <td>0</td>\n",
       "      <td>199</td>\n",
       "    </tr>\n",
       "    <tr>\n",
       "      <th>11</th>\n",
       "      <td>3</td>\n",
       "      <td>7003.499363</td>\n",
       "      <td>56.0</td>\n",
       "      <td>6</td>\n",
       "      <td>0</td>\n",
       "      <td>199</td>\n",
       "    </tr>\n",
       "    <tr>\n",
       "      <th>12</th>\n",
       "      <td>2</td>\n",
       "      <td>6751.629942</td>\n",
       "      <td>28.0</td>\n",
       "      <td>6</td>\n",
       "      <td>0</td>\n",
       "      <td>199</td>\n",
       "    </tr>\n",
       "    <tr>\n",
       "      <th rowspan=\"4\" valign=\"top\">2</th>\n",
       "      <th>3</th>\n",
       "      <td>3</td>\n",
       "      <td>10187.723006</td>\n",
       "      <td>63.0</td>\n",
       "      <td>6</td>\n",
       "      <td>0</td>\n",
       "      <td>199</td>\n",
       "    </tr>\n",
       "    <tr>\n",
       "      <th>4</th>\n",
       "      <td>2</td>\n",
       "      <td>6164.381824</td>\n",
       "      <td>40.0</td>\n",
       "      <td>6</td>\n",
       "      <td>0</td>\n",
       "      <td>199</td>\n",
       "    </tr>\n",
       "    <tr>\n",
       "      <th>6</th>\n",
       "      <td>1</td>\n",
       "      <td>3255.338202</td>\n",
       "      <td>14.0</td>\n",
       "      <td>6</td>\n",
       "      <td>0</td>\n",
       "      <td>199</td>\n",
       "    </tr>\n",
       "    <tr>\n",
       "      <th>7</th>\n",
       "      <td>2</td>\n",
       "      <td>6780.722964</td>\n",
       "      <td>48.0</td>\n",
       "      <td>6</td>\n",
       "      <td>0</td>\n",
       "      <td>199</td>\n",
       "    </tr>\n",
       "  </tbody>\n",
       "</table>\n",
       "</div>"
      ],
      "text/plain": [
       "               Количество поездок  Общее расстояние  \\\n",
       "user_id month                                         \n",
       "1       1                       2       7027.511294   \n",
       "        4                       1        754.159807   \n",
       "        8                       2       6723.470560   \n",
       "        10                      2       5809.911100   \n",
       "        11                      3       7003.499363   \n",
       "        12                      2       6751.629942   \n",
       "2       3                       3      10187.723006   \n",
       "        4                       2       6164.381824   \n",
       "        6                       1       3255.338202   \n",
       "        7                       2       6780.722964   \n",
       "\n",
       "               Совокупная длительность(мин)  Цена за минуту  \\\n",
       "user_id month                                                 \n",
       "1       1                              42.0               6   \n",
       "        4                               7.0               6   \n",
       "        8                              46.0               6   \n",
       "        10                             32.0               6   \n",
       "        11                             56.0               6   \n",
       "        12                             28.0               6   \n",
       "2       3                              63.0               6   \n",
       "        4                              40.0               6   \n",
       "        6                              14.0               6   \n",
       "        7                              48.0               6   \n",
       "\n",
       "               Стартовая цена поездки  Абонентская плата  \n",
       "user_id month                                             \n",
       "1       1                           0                199  \n",
       "        4                           0                199  \n",
       "        8                           0                199  \n",
       "        10                          0                199  \n",
       "        11                          0                199  \n",
       "        12                          0                199  \n",
       "2       3                           0                199  \n",
       "        4                           0                199  \n",
       "        6                           0                199  \n",
       "        7                           0                199  "
      ]
     },
     "execution_count": 33,
     "metadata": {},
     "output_type": "execute_result"
    }
   ],
   "source": [
    "df['duration'] = np.ceil(df['duration']) \n",
    "users_per_month = df.pivot_table(\n",
    "    index=('user_id', 'month'), \n",
    "    values=(\n",
    "        'distance', \n",
    "        'duration', \n",
    "        'minute_price', \n",
    "        'start_ride_price', \n",
    "        'subscription_fee'\n",
    "    ), \n",
    "    aggfunc={\n",
    "        'distance':{\n",
    "            'count', \n",
    "            'sum'}, \n",
    "         'duration':'sum',\n",
    "         'minute_price': 'mean',\n",
    "         'start_ride_price':'mean',\n",
    "         'subscription_fee':'mean'\n",
    "    }\n",
    ")\n",
    "\n",
    "columns_names = [\n",
    "    'Количество поездок', 'Общее расстояние', \n",
    "    'Совокупная длительность(мин)', \n",
    "    'Цена за минуту',\n",
    "    'Стартовая цена поездки', \n",
    "    'Абонентская плата'\n",
    "]\n",
    "\n",
    "users_per_month.columns = columns_names\n",
    "\n",
    " \n",
    "\n",
    "users_per_month.head(10)"
   ]
  },
  {
   "cell_type": "code",
   "execution_count": 34,
   "id": "f1d16041",
   "metadata": {},
   "outputs": [
    {
     "name": "stdout",
     "output_type": "stream",
     "text": [
      "<class 'pandas.core.frame.DataFrame'>\n",
      "MultiIndex: 11331 entries, (1, 1) to (1534, 12)\n",
      "Data columns (total 6 columns):\n",
      " #   Column                        Non-Null Count  Dtype  \n",
      "---  ------                        --------------  -----  \n",
      " 0   Количество поездок            11331 non-null  int64  \n",
      " 1   Общее расстояние              11331 non-null  float64\n",
      " 2   Совокупная длительность(мин)  11331 non-null  float64\n",
      " 3   Цена за минуту                11331 non-null  int64  \n",
      " 4   Стартовая цена поездки        11331 non-null  int64  \n",
      " 5   Абонентская плата             11331 non-null  int64  \n",
      "dtypes: float64(2), int64(4)\n",
      "memory usage: 576.5 KB\n"
     ]
    }
   ],
   "source": [
    "users_per_month.info()"
   ]
  },
  {
   "cell_type": "markdown",
   "id": "a42b32c0",
   "metadata": {},
   "source": [
    "**Промежуточный вывод:** создали датафрейм, округлили совокупную длительность в минутах, пропуски не обнаружены."
   ]
  },
  {
   "cell_type": "markdown",
   "id": "034f4fd5",
   "metadata": {},
   "source": [
    "##### Помесячная вырчка по каждому пользователю."
   ]
  },
  {
   "cell_type": "code",
   "execution_count": 35,
   "id": "619a5d54",
   "metadata": {},
   "outputs": [],
   "source": [
    "users_per_month['Месячный заработок'] = (users_per_month['Стартовая цена поездки']*users_per_month['Количество поездок']+\n",
    "                                        users_per_month['Цена за минуту']*users_per_month['Совокупная длительность(мин)']+\n",
    "                                        users_per_month['Абонентская плата'])"
   ]
  },
  {
   "cell_type": "code",
   "execution_count": 36,
   "id": "98a82503",
   "metadata": {},
   "outputs": [
    {
     "data": {
      "text/html": [
       "<div>\n",
       "<style scoped>\n",
       "    .dataframe tbody tr th:only-of-type {\n",
       "        vertical-align: middle;\n",
       "    }\n",
       "\n",
       "    .dataframe tbody tr th {\n",
       "        vertical-align: top;\n",
       "    }\n",
       "\n",
       "    .dataframe thead th {\n",
       "        text-align: right;\n",
       "    }\n",
       "</style>\n",
       "<table border=\"1\" class=\"dataframe\">\n",
       "  <thead>\n",
       "    <tr style=\"text-align: right;\">\n",
       "      <th></th>\n",
       "      <th></th>\n",
       "      <th>Количество поездок</th>\n",
       "      <th>Общее расстояние</th>\n",
       "      <th>Совокупная длительность(мин)</th>\n",
       "      <th>Цена за минуту</th>\n",
       "      <th>Стартовая цена поездки</th>\n",
       "      <th>Абонентская плата</th>\n",
       "      <th>Месячный заработок</th>\n",
       "    </tr>\n",
       "    <tr>\n",
       "      <th>user_id</th>\n",
       "      <th>month</th>\n",
       "      <th></th>\n",
       "      <th></th>\n",
       "      <th></th>\n",
       "      <th></th>\n",
       "      <th></th>\n",
       "      <th></th>\n",
       "      <th></th>\n",
       "    </tr>\n",
       "  </thead>\n",
       "  <tbody>\n",
       "    <tr>\n",
       "      <th rowspan=\"5\" valign=\"top\">1</th>\n",
       "      <th>1</th>\n",
       "      <td>2</td>\n",
       "      <td>7027.511294</td>\n",
       "      <td>42.0</td>\n",
       "      <td>6</td>\n",
       "      <td>0</td>\n",
       "      <td>199</td>\n",
       "      <td>451.0</td>\n",
       "    </tr>\n",
       "    <tr>\n",
       "      <th>4</th>\n",
       "      <td>1</td>\n",
       "      <td>754.159807</td>\n",
       "      <td>7.0</td>\n",
       "      <td>6</td>\n",
       "      <td>0</td>\n",
       "      <td>199</td>\n",
       "      <td>241.0</td>\n",
       "    </tr>\n",
       "    <tr>\n",
       "      <th>8</th>\n",
       "      <td>2</td>\n",
       "      <td>6723.470560</td>\n",
       "      <td>46.0</td>\n",
       "      <td>6</td>\n",
       "      <td>0</td>\n",
       "      <td>199</td>\n",
       "      <td>475.0</td>\n",
       "    </tr>\n",
       "    <tr>\n",
       "      <th>10</th>\n",
       "      <td>2</td>\n",
       "      <td>5809.911100</td>\n",
       "      <td>32.0</td>\n",
       "      <td>6</td>\n",
       "      <td>0</td>\n",
       "      <td>199</td>\n",
       "      <td>391.0</td>\n",
       "    </tr>\n",
       "    <tr>\n",
       "      <th>11</th>\n",
       "      <td>3</td>\n",
       "      <td>7003.499363</td>\n",
       "      <td>56.0</td>\n",
       "      <td>6</td>\n",
       "      <td>0</td>\n",
       "      <td>199</td>\n",
       "      <td>535.0</td>\n",
       "    </tr>\n",
       "    <tr>\n",
       "      <th>...</th>\n",
       "      <th>...</th>\n",
       "      <td>...</td>\n",
       "      <td>...</td>\n",
       "      <td>...</td>\n",
       "      <td>...</td>\n",
       "      <td>...</td>\n",
       "      <td>...</td>\n",
       "      <td>...</td>\n",
       "    </tr>\n",
       "    <tr>\n",
       "      <th rowspan=\"5\" valign=\"top\">1534</th>\n",
       "      <th>6</th>\n",
       "      <td>2</td>\n",
       "      <td>3409.468534</td>\n",
       "      <td>26.0</td>\n",
       "      <td>8</td>\n",
       "      <td>50</td>\n",
       "      <td>0</td>\n",
       "      <td>308.0</td>\n",
       "    </tr>\n",
       "    <tr>\n",
       "      <th>8</th>\n",
       "      <td>2</td>\n",
       "      <td>7622.453034</td>\n",
       "      <td>48.0</td>\n",
       "      <td>8</td>\n",
       "      <td>50</td>\n",
       "      <td>0</td>\n",
       "      <td>484.0</td>\n",
       "    </tr>\n",
       "    <tr>\n",
       "      <th>9</th>\n",
       "      <td>1</td>\n",
       "      <td>4928.173852</td>\n",
       "      <td>23.0</td>\n",
       "      <td>8</td>\n",
       "      <td>50</td>\n",
       "      <td>0</td>\n",
       "      <td>234.0</td>\n",
       "    </tr>\n",
       "    <tr>\n",
       "      <th>11</th>\n",
       "      <td>4</td>\n",
       "      <td>13350.015305</td>\n",
       "      <td>78.0</td>\n",
       "      <td>8</td>\n",
       "      <td>50</td>\n",
       "      <td>0</td>\n",
       "      <td>824.0</td>\n",
       "    </tr>\n",
       "    <tr>\n",
       "      <th>12</th>\n",
       "      <td>1</td>\n",
       "      <td>2371.711192</td>\n",
       "      <td>16.0</td>\n",
       "      <td>8</td>\n",
       "      <td>50</td>\n",
       "      <td>0</td>\n",
       "      <td>178.0</td>\n",
       "    </tr>\n",
       "  </tbody>\n",
       "</table>\n",
       "<p>11331 rows × 7 columns</p>\n",
       "</div>"
      ],
      "text/plain": [
       "               Количество поездок  Общее расстояние  \\\n",
       "user_id month                                         \n",
       "1       1                       2       7027.511294   \n",
       "        4                       1        754.159807   \n",
       "        8                       2       6723.470560   \n",
       "        10                      2       5809.911100   \n",
       "        11                      3       7003.499363   \n",
       "...                           ...               ...   \n",
       "1534    6                       2       3409.468534   \n",
       "        8                       2       7622.453034   \n",
       "        9                       1       4928.173852   \n",
       "        11                      4      13350.015305   \n",
       "        12                      1       2371.711192   \n",
       "\n",
       "               Совокупная длительность(мин)  Цена за минуту  \\\n",
       "user_id month                                                 \n",
       "1       1                              42.0               6   \n",
       "        4                               7.0               6   \n",
       "        8                              46.0               6   \n",
       "        10                             32.0               6   \n",
       "        11                             56.0               6   \n",
       "...                                     ...             ...   \n",
       "1534    6                              26.0               8   \n",
       "        8                              48.0               8   \n",
       "        9                              23.0               8   \n",
       "        11                             78.0               8   \n",
       "        12                             16.0               8   \n",
       "\n",
       "               Стартовая цена поездки  Абонентская плата  Месячный заработок  \n",
       "user_id month                                                                 \n",
       "1       1                           0                199               451.0  \n",
       "        4                           0                199               241.0  \n",
       "        8                           0                199               475.0  \n",
       "        10                          0                199               391.0  \n",
       "        11                          0                199               535.0  \n",
       "...                               ...                ...                 ...  \n",
       "1534    6                          50                  0               308.0  \n",
       "        8                          50                  0               484.0  \n",
       "        9                          50                  0               234.0  \n",
       "        11                         50                  0               824.0  \n",
       "        12                         50                  0               178.0  \n",
       "\n",
       "[11331 rows x 7 columns]"
      ]
     },
     "execution_count": 36,
     "metadata": {},
     "output_type": "execute_result"
    }
   ],
   "source": [
    "users_per_month"
   ]
  },
  {
   "cell_type": "code",
   "execution_count": 37,
   "id": "647fff7d",
   "metadata": {},
   "outputs": [
    {
     "name": "stdout",
     "output_type": "stream",
     "text": [
      "count    11331.000000\n",
      "mean       342.303504\n",
      "std        153.875346\n",
      "min         58.000000\n",
      "25%        234.000000\n",
      "50%        319.000000\n",
      "75%        415.000000\n",
      "max       1444.000000\n",
      "Name: Месячный заработок, dtype: float64\n"
     ]
    }
   ],
   "source": [
    "print(users_per_month['Месячный заработок'].describe())"
   ]
  },
  {
   "cell_type": "code",
   "execution_count": 38,
   "id": "a58c21d5",
   "metadata": {},
   "outputs": [
    {
     "name": "stdout",
     "output_type": "stream",
     "text": [
      "Выручка за год: 3878641.0 руб\n"
     ]
    }
   ],
   "source": [
    "print('Выручка за год:', users_per_month['Месячный заработок'].sum(), 'руб')"
   ]
  },
  {
   "cell_type": "code",
   "execution_count": 39,
   "id": "a74de826",
   "metadata": {},
   "outputs": [
    {
     "name": "stdout",
     "output_type": "stream",
     "text": [
      "Правильное значение суммы выручки 3878641, сумма выручки расчитанная в таблице: 3878641.0\n"
     ]
    }
   ],
   "source": [
    "# Комментарий ревьюера\n",
    "# Контроль суммы выручки\n",
    "tmp, col_rev = users_per_month.copy(), 'Месячный заработок'\n",
    "print(\"Правильное значение суммы выручки 3878641, сумма выручки расчитанная в таблице:\", tmp[col_rev].sum())"
   ]
  },
  {
   "cell_type": "markdown",
   "id": "1edb109c",
   "metadata": {},
   "source": [
    "**Промежуточный вывод:**\n",
    "\n",
    "- В среднем каждый пользователь самоката приносит чуть больше 342 рублей в месяц.\n",
    "- Общая выручка за год составила 3 878 641 руб."
   ]
  },
  {
   "cell_type": "markdown",
   "id": "22d304e1",
   "metadata": {},
   "source": [
    "##### Вывод\n",
    "\n",
    "- Создали датафрейм, округлили совокупную длительность поездок в минутах.\n",
    "- В среднем каждый пользователь самоката приносит чуть больше 342 рублей в месяц.\n",
    "- Общая выручка за год составила 3 878 641 руб."
   ]
  },
  {
   "cell_type": "markdown",
   "id": "41545ac0",
   "metadata": {},
   "source": [
    "#### Проверка гипотез"
   ]
  },
  {
   "cell_type": "markdown",
   "id": "d444a3a4",
   "metadata": {},
   "source": [
    "##### Тратят ли пользователи с подпиской больше времени на поездки?"
   ]
  },
  {
   "cell_type": "markdown",
   "id": "b3e91002",
   "metadata": {},
   "source": [
    "Гипотезы:\n",
    "\n",
    "- Н0: средняя длительность поездок пользователей с подпиской и без равна.\n",
    "- Н1: средняя длительность поездок пользователей с подпиской больше, чем у пользователей без подписки. "
   ]
  },
  {
   "cell_type": "code",
   "execution_count": 40,
   "id": "173e774d",
   "metadata": {},
   "outputs": [
    {
     "name": "stdout",
     "output_type": "stream",
     "text": [
      "p-значение: 5.6757813771289775e-37\n",
      "Отвергаем нулевую гипотезу\n"
     ]
    }
   ],
   "source": [
    "results = st.ttest_ind(ultra['duration'], free['duration'], equal_var=False, alternative='greater')\n",
    "print('p-значение:', results.pvalue)\n",
    "\n",
    "alpha = 0.05\n",
    "if results.pvalue < alpha:\n",
    "    print('Отвергаем нулевую гипотезу')\n",
    "else:\n",
    "    print('Нет оснований отвергнуть нулевую гипотезу')"
   ]
  },
  {
   "cell_type": "markdown",
   "id": "8d9a4500",
   "metadata": {},
   "source": [
    "**Промежуточный вывод:** нулевая гипотеза отвергнута. Можно утверждать, что пользователи с подпиской тратят больше времени на поездки, при пороге значимости p-value=5%."
   ]
  },
  {
   "cell_type": "markdown",
   "id": "ed8e4441",
   "metadata": {},
   "source": [
    "##### Оптимальное расстояние с точки зрения износа самоката."
   ]
  },
  {
   "cell_type": "markdown",
   "id": "1e6f250b",
   "metadata": {},
   "source": [
    "Гипотезы:\n",
    "\n",
    "- Н0: Среднее расстояние поездок подписчиков равно оптимальному расстоянию с точки зрения износа самоката - 3130 м. \n",
    "- Н1: Среднее расстояние поездок подписчиков больше оптимального расстояния с точки зрения износа самоката - 3130 м."
   ]
  },
  {
   "cell_type": "code",
   "execution_count": 41,
   "id": "4fb36671",
   "metadata": {},
   "outputs": [
    {
     "name": "stdout",
     "output_type": "stream",
     "text": [
      "p-значение: 0.9195368847849785\n",
      "Нет оснований отвергнуть нулевую гипотезу\n"
     ]
    }
   ],
   "source": [
    "distance = 3130\n",
    "alpha = 0.05\n",
    "\n",
    "results = st.ttest_1samp(ultra['distance'], distance, alternative='greater')\n",
    "\n",
    "print('p-значение:', results.pvalue)\n",
    "\n",
    "if results.pvalue < alpha:\n",
    "    print('Отвергаем нулевую гипотезу')\n",
    "else:\n",
    "    print('Нет оснований отвергнуть нулевую гипотезу')"
   ]
  },
  {
   "cell_type": "markdown",
   "id": "43bea36d",
   "metadata": {},
   "source": [
    "**Промежуточный вывод:** нулевая гипотеза не отвергнута. Можем утверждать, что среднее расстояние поездок подписчиков равно оптимальному расстоянию с точки зрения износа самоката - 3130 м, при пороге значимости p-value=5%. "
   ]
  },
  {
   "cell_type": "markdown",
   "id": "e7121898",
   "metadata": {},
   "source": [
    "##### Будет ли помесячная выручка от пользователей с подпиской по месяцам выше, чем выручка от пользователей без подписки"
   ]
  },
  {
   "cell_type": "markdown",
   "id": "166721d7",
   "metadata": {},
   "source": [
    "Гипотезы: \n",
    "\n",
    "- Н0: Среднняя выручка в месяц от пользователей с подпиской равна выручке от пользователей без подписки.\n",
    "- Н1: Среднняя выручка в месяц от пользователей с подпиской больше выручки от пользователей без подписки."
   ]
  },
  {
   "cell_type": "code",
   "execution_count": 42,
   "id": "cff43422",
   "metadata": {},
   "outputs": [
    {
     "name": "stdout",
     "output_type": "stream",
     "text": [
      "p-значение: 8.874140893976874e-40\n",
      "Отвергаем нулевую гипотезу\n"
     ]
    }
   ],
   "source": [
    "results = st.ttest_ind(\n",
    "    users_per_month.loc[users_per_month['Абонентская плата'] > 0, 'Месячный заработок'], \n",
    "    users_per_month.loc[users_per_month['Абонентская плата'] == 0, 'Месячный заработок'], \n",
    "    equal_var=False, \n",
    "    alternative='greater')\n",
    "\n",
    "print('p-значение:', results.pvalue)\n",
    "\n",
    "alpha = 0.05\n",
    "if results.pvalue < alpha:\n",
    "    print('Отвергаем нулевую гипотезу')\n",
    "else:\n",
    "    print('Нет оснований отвергнуть нулевую гипотезу')"
   ]
  },
  {
   "cell_type": "markdown",
   "id": "6e63deec",
   "metadata": {},
   "source": [
    "**Промежуточный вывод:** нулевая гипотеза отвергнута. Можно утверждать, что средняя выручка в месяц от пользователей с подпиской выше, чем от пользоватлей без, при пороге значимости p-value=5%."
   ]
  },
  {
   "cell_type": "markdown",
   "id": "429b5b04",
   "metadata": {},
   "source": [
    "##### Представьте такую ситуацию: техническая команда сервиса обновила сервера, с которыми взаимодействует мобильное приложение. Она надеется, что из-за этого количество обращений в техподдержку значимо снизилось. Некоторый файл содержит для каждого пользователя данные о количестве обращений до обновления и после него. Какой тест вам понадобился бы для проверки этой гипотезы?"
   ]
  },
  {
   "cell_type": "markdown",
   "id": "76a40d6a",
   "metadata": {},
   "source": [
    "В данном случае будут сравнивать две зависимые выборки, поэтому подойдет метод: scipy.stats.ttest_rel()"
   ]
  },
  {
   "cell_type": "markdown",
   "id": "df208a5b",
   "metadata": {},
   "source": [
    "##### Вывод\n",
    "\n",
    "- Пользователи с подпиской тратят больше времени на поездки, при пороге значимости p-value=5%.\n",
    "- Среднее расстояние поездок подписчиков равно оптимальному расстоянию с точки зрения износа самоката - 3130 м, при пороге значимости p-value=5%. \n",
    "- Средняя выручка в месяц от пользователей с подпиской выше, чем от пользоватлей без, при пороге значимости p-value=5%.\n",
    "- Для сравнения двух зависимых выборок используем метод: scipy.stats.ttest_rel()"
   ]
  },
  {
   "cell_type": "markdown",
   "id": "61213c5e",
   "metadata": {},
   "source": [
    "####  Распределения"
   ]
  },
  {
   "cell_type": "markdown",
   "id": "dd4954b7",
   "metadata": {},
   "source": [
    "#####  Нужно провести акцию с раздачей промокодов на один бесплатный месяц подписки, в рамках которой как минимум существующих клиентов должны продлить эту подписку. То есть по завершении периода действия подписки пользователь может либо отказаться от неё, либо продлить, совершив соответствующий платёж. Эта акция уже проводилась ранее и по итогу выяснилось, что после бесплатного пробного периода подписку продлевают 10 % пользователей. Выясните, какое минимальное количество промокодов нужно разослать, чтобы вероятность не выполнить план была примерно 5 %. Подберите параметры распределения, описывающего эту ситуацию, постройте график распределения и сформулируйте ответ на вопрос о количестве промокодов."
   ]
  },
  {
   "cell_type": "code",
   "execution_count": 43,
   "id": "d1cba960",
   "metadata": {},
   "outputs": [
    {
     "data": {
      "image/png": "[encoded data removed]",
      "text/plain": [
       "<Figure size 1440x504 with 1 Axes>"
      ]
     },
     "metadata": {},
     "output_type": "display_data"
    }
   ],
   "source": [
    "p = 0.1  \n",
    "alpha = 0.05  \n",
    "target_successes = 100\n",
    "\n",
    "\n",
    "N_values = []\n",
    "cdf_values = []  \n",
    "X = None  \n",
    "\n",
    "for N in range(100, 2000):\n",
    "    cdf_value = binom.cdf(target_successes - 1, N, p)\n",
    "    N_values.append(N)\n",
    "    cdf_values.append(cdf_value)  \n",
    "    if cdf_value < alpha and X is None:  \n",
    "        X = N\n",
    "\n",
    "\n",
    "plt.figure(figsize=(20, 7))\n",
    "plt.plot(N_values, cdf_values, label='CDF', color='blue')\n",
    "plt.axhline(y=alpha, color='red', linestyle='--', label='Уровень значимости (alpha = 0.05)')\n",
    "\n",
    "if X is not None:\n",
    "    plt.axvline(x=X, color='green', linestyle='--', label=f'Минимальное N = {X}')\n",
    "\n",
    "plt.title('Кумулятивная функция распределения (CDF) биномиального распределения')\n",
    "plt.xlabel('Количество промокодов (N)')\n",
    "plt.ylabel('Вероятность P(X < 100)')\n",
    "plt.legend()\n",
    "plt.grid()\n",
    "plt.ylim(0, 1)\n",
    "plt.xlim(0, 2000)\n",
    "plt.show()"
   ]
  },
  {
   "cell_type": "markdown",
   "id": "0b0a38c2",
   "metadata": {},
   "source": [
    "**Промежуточный вывод:** необходимо отправить как минимум 1161 промокод, чтобы выполнить план (100 человек) с возможным процентом сорвать план 5%."
   ]
  },
  {
   "cell_type": "markdown",
   "id": "643ce1a0",
   "metadata": {},
   "source": [
    "##### Отдел маркетинга рассылает клиентам push-уведомления в мобильном приложении. Клиенты могут открыть его или не открывать. Известно, что уведомления открывают около 40 % получивших клиентов. Отдел планирует разослать 1 млн уведомлений. С помощью аппроксимации постройте примерный график распределения и оцените вероятность того, что уведомление откроют не более 399,5 тыс. пользователей."
   ]
  },
  {
   "cell_type": "code",
   "execution_count": 44,
   "id": "68270455",
   "metadata": {},
   "outputs": [
    {
     "name": "stdout",
     "output_type": "stream",
     "text": [
      "Вероятность того, что уведомление откроют не более 399500 пользователей: 0.1537\n"
     ]
    },
    {
     "data": {
      "image/png": "[encoded data removed]",
      "text/plain": [
       "<Figure size 720x432 with 1 Axes>"
      ]
     },
     "metadata": {},
     "output_type": "display_data"
    }
   ],
   "source": [
    "\n",
    "n = 1_000_000  \n",
    "p = 0.4 \n",
    "\n",
    "mu = n * p  \n",
    "sigma = np.sqrt(n * p * (1 - p))  \n",
    "\n",
    "x_value = 399_500\n",
    "\n",
    "probability = norm.cdf(x_value, mu, sigma)\n",
    "\n",
    "print(f\"Вероятность того, что уведомление откроют не более {x_value} пользователей: {probability:.4f}\")\n",
    "\n",
    "x = np.arange(mu - 4*sigma, mu + 4*sigma, 1)\n",
    "y = norm.pdf(x, mu, sigma)\n",
    "\n",
    "plt.figure(figsize=(10, 6))\n",
    "plt.plot(x, y, label='Нормальное распределение', color='blue')\n",
    "plt.fill_between(x, y, where=(x <= x_value), color='lightblue', alpha=0.5, label=f'P(X ≤ {x_value})')\n",
    "plt.axvline(x=x_value, color='red', linestyle='--', label=f'x = {x_value}')\n",
    "plt.title('Нормальное распределение')\n",
    "plt.xlabel('Количество открытых уведомлений')\n",
    "plt.ylabel('Плотность вероятности')\n",
    "plt.legend()\n",
    "plt.grid()\n",
    "plt.show()"
   ]
  },
  {
   "cell_type": "markdown",
   "id": "514a9488",
   "metadata": {},
   "source": [
    "**Промежуточный вывод:** вероятность того, что уведомление откроют не более 399500 пользователей: 15.37%"
   ]
  },
  {
   "cell_type": "markdown",
   "id": "17ee1d2c",
   "metadata": {},
   "source": [
    "##### Вывод:\n",
    "\n",
    "- Необходимо отправить как минимум 1161 промокод, чтобы выполнить план (100 человек) с возможным процентом провала 5%.\n",
    "- Вероятность того, что уведомление откроют не более 399500 пользователей: 15.37%"
   ]
  },
  {
   "cell_type": "markdown",
   "id": "d94a1a41",
   "metadata": {},
   "source": [
    "#### Общий вывод"
   ]
  },
  {
   "cell_type": "markdown",
   "id": "efdc426f",
   "metadata": {},
   "source": [
    "**Загрузга данных:**\n",
    "\n",
    "Были загружены данные трех датасетов: users_go.csv, rides_go.csv и subscriptions_go.csv.\n",
    "\n",
    "**Предобработка данных:**\n",
    "\n",
    "Провели предобработку данных, удалили явные дубликаты и изменили тип данных в параметре даты. \n",
    "\n",
    "**Промежуточные выводы:**\n",
    "\n",
    "- Чаще всего встречался Пятигорск - 219 раз, реже всего Москва - 168 раз. Москва на последнем месте возможно из-за того, что ввиду больших расстояний в городе, чаще бывает более удобно добраться на другом транспорте, напрмер, метро.\n",
    "- Большинство городов находятся на юге страны, где сезон проката может быть дольше.\n",
    "- Платных подписчиков меньше - 46%, чем бесплатных - 54%.\n",
    "- В основном прокатом самокатов пользуются клиенты от 21 до 28 лет. Среднее значение возраста пользователей практически совпадает с медианой - почти 25 лет. \n",
    "- Растояние одной поездки в среднем 3-3.2км. Однако, можем наблюдать небольшой пик на растоянии 600-700м.\n",
    "- В среднем поездка длится 17-19 минут. \n",
    "\n",
    "- Подписчики в среднем используют самокаты на расстояния, совпадающие с общими показателями всех пользователй 3-3.2км.\n",
    "- У подписчиков ярко выраженный пик на 3-3.2км, из чего можем предположить, что их маршрут более стандартизирован, из-за чего они и приобретают подписку для систематических поездок. \n",
    "- Пользователи без подписки не имеют столь ярковыраженный пик. \n",
    "- Второй пик, наблюдаемый в п.3 для подписчиков сместился ориентировочно на 1000м. В то время, как для остальных пользоватлей, наоборот уменишься - 500-600м. \n",
    "- Среднее время поездки для обоих категорий также 17-19 минут, что совпадает с выводами п.3.\n",
    "- Исходя из рассчитанной средне скорости видим явный аутлаер: 14422 метров минуту. Самокаты обычно ограничиаются на 20км/ч = 1000м/мин. Возможно произошла техническая ошибка при выгрузке данных о поездке.\n",
    "\n",
    "- Создали датафрейм, округлили совокупную длительность поездок в минутах.\n",
    "- В среднем каждый пользователь самоката приносит чуть больше 342 рублей в месяц.\n",
    "- Общая выручка за год составила 3 878 641 руб.\n",
    "\n",
    "- Пользователи с подпиской тратят больше времени на поездки, при пороге значимости p-value=5%.\n",
    "- Среднее расстояние поездок подписчиков равно оптимальному расстоянию с точки зрения износа самоката - 3130 м, при пороге значимости p-value=5%. \n",
    "- Средняя выручка в месяц от пользователей с подпиской выше, чем от пользоватлей без, при пороге значимости p-value=5%.\n",
    "- Для сравнения двух зависимых выборок используем метод: scipy.stats.ttest_rel()\n",
    "\n",
    "**Рекомендации для дальнейших исследований:** \n",
    "\n",
    "- Сфокусироваться на ислледовании сезонности в разных городах.\n",
    "- В данных были найдены проблемы при расчете средней скорости, которая слишком велика для самокатов, рекомендуется проверить данные.\n",
    "\n",
    "**Ответы на задачи маркетологов:** \n",
    "\n",
    "- Необходимо отправить как минимум 1161 промокод, чтобы выполнить план (100 человек) с возможным процентом провала 5%.\n",
    "- Вероятность того, что уведомление откроют не более 399500 пользователей: 15.37%\n",
    "\n",
    "\n",
    "**Общий вывод:**\n",
    "\n",
    "Анализ использования самокатов показал, что Пятигорск является наиболее популярным городом для проката, в то время как Москва занимает последнее место, возможно, из-за удобства альтернативного транспорта, такого как метро. Большинство пользователей находятся на юге страны, где сезон проката может быть длиннее.\n",
    "\n",
    "Структура пользователей показывает, что платных подписчиков меньше (46%) по сравнению с бесплатными (54%). Основная возрастная группа пользователей — молодые люди от 21 до 28 лет, со средним возрастом около 25 лет. Средняя длина поездки составляет 3-3.2 км, с продолжительностью 17-19 минут. Подписчики имеют более стандартизированные маршруты, что подтверждается их ярко выраженным пиком в расстоянии поездок.\n",
    "\n",
    "Обнаружены аномалии в данных о скорости, что может указывать на технические ошибки. В среднем каждый пользователь приносит около 342 рублей в месяц, а общая выручка за год составила 3 878 641 рубль. Пользователи с подпиской проводят больше времени в поездках и генерируют более высокую выручку, что статистически значимо.\n",
    "\n",
    "В целом, акцент на развитие платной подписки и улучшение сервиса может повысить прибыль и эффективность проката самокатов.\n"
   ]
  }
 ],
 "metadata": {
  "ExecuteTimeLog": [
   {
    "duration": 1523,
    "start_time": "2025-02-12T09:51:51.335Z"
   },
   {
    "duration": 78,
    "start_time": "2025-02-12T09:51:54.678Z"
   },
   {
    "duration": 4,
    "start_time": "2025-02-12T09:53:26.442Z"
   },
   {
    "duration": 31,
    "start_time": "2025-02-12T09:54:26.184Z"
   },
   {
    "duration": 29,
    "start_time": "2025-02-12T09:54:36.887Z"
   },
   {
    "duration": 17,
    "start_time": "2025-02-12T09:54:57.780Z"
   },
   {
    "duration": 1299,
    "start_time": "2025-02-12T09:55:02.276Z"
   },
   {
    "duration": 76,
    "start_time": "2025-02-12T09:55:03.578Z"
   },
   {
    "duration": 14,
    "start_time": "2025-02-12T09:55:03.657Z"
   },
   {
    "duration": 39,
    "start_time": "2025-02-12T09:55:03.673Z"
   },
   {
    "duration": 43,
    "start_time": "2025-02-12T09:55:03.714Z"
   },
   {
    "duration": 1526,
    "start_time": "2025-02-12T10:26:16.274Z"
   },
   {
    "duration": 6268,
    "start_time": "2025-02-12T10:29:01.458Z"
   },
   {
    "duration": 6348,
    "start_time": "2025-02-12T10:30:02.785Z"
   },
   {
    "duration": 6291,
    "start_time": "2025-02-12T10:31:48.073Z"
   },
   {
    "duration": 6428,
    "start_time": "2025-02-12T10:34:20.788Z"
   },
   {
    "duration": 5,
    "start_time": "2025-02-12T11:20:11.506Z"
   },
   {
    "duration": 251,
    "start_time": "2025-02-12T11:20:32.905Z"
   },
   {
    "duration": 707,
    "start_time": "2025-02-12T11:20:53.994Z"
   },
   {
    "duration": 0,
    "start_time": "2025-02-12T11:20:54.703Z"
   },
   {
    "duration": 0,
    "start_time": "2025-02-12T11:20:54.704Z"
   },
   {
    "duration": 0,
    "start_time": "2025-02-12T11:20:54.705Z"
   },
   {
    "duration": 0,
    "start_time": "2025-02-12T11:20:54.706Z"
   },
   {
    "duration": 0,
    "start_time": "2025-02-12T11:20:54.707Z"
   },
   {
    "duration": 0,
    "start_time": "2025-02-12T11:20:54.708Z"
   },
   {
    "duration": 7,
    "start_time": "2025-02-12T11:21:43.068Z"
   },
   {
    "duration": 1159,
    "start_time": "2025-02-12T11:22:05.904Z"
   },
   {
    "duration": 77,
    "start_time": "2025-02-12T11:22:07.066Z"
   },
   {
    "duration": 12,
    "start_time": "2025-02-12T11:22:07.145Z"
   },
   {
    "duration": 29,
    "start_time": "2025-02-12T11:22:07.158Z"
   },
   {
    "duration": 34,
    "start_time": "2025-02-12T11:22:07.189Z"
   },
   {
    "duration": 5807,
    "start_time": "2025-02-12T11:22:07.224Z"
   },
   {
    "duration": 12,
    "start_time": "2025-02-12T12:28:49.538Z"
   },
   {
    "duration": 12,
    "start_time": "2025-02-12T12:31:10.551Z"
   },
   {
    "duration": 10,
    "start_time": "2025-02-12T12:35:34.634Z"
   },
   {
    "duration": 6,
    "start_time": "2025-02-12T12:37:42.964Z"
   },
   {
    "duration": 8,
    "start_time": "2025-02-12T12:37:52.906Z"
   },
   {
    "duration": 7,
    "start_time": "2025-02-12T12:38:32.868Z"
   },
   {
    "duration": 7,
    "start_time": "2025-02-12T12:40:48.721Z"
   },
   {
    "duration": 80,
    "start_time": "2025-02-12T12:45:04.073Z"
   },
   {
    "duration": 257,
    "start_time": "2025-02-12T12:54:27.820Z"
   },
   {
    "duration": 1298,
    "start_time": "2025-02-12T12:57:41.449Z"
   },
   {
    "duration": 72,
    "start_time": "2025-02-12T12:57:42.749Z"
   },
   {
    "duration": 13,
    "start_time": "2025-02-12T12:57:42.823Z"
   },
   {
    "duration": 13,
    "start_time": "2025-02-12T12:57:42.838Z"
   },
   {
    "duration": 11,
    "start_time": "2025-02-12T12:57:42.853Z"
   },
   {
    "duration": 6172,
    "start_time": "2025-02-12T12:57:42.865Z"
   },
   {
    "duration": 10,
    "start_time": "2025-02-12T12:57:49.039Z"
   },
   {
    "duration": 24,
    "start_time": "2025-02-12T12:57:49.051Z"
   },
   {
    "duration": 6,
    "start_time": "2025-02-12T12:57:49.077Z"
   },
   {
    "duration": 9,
    "start_time": "2025-02-12T12:57:49.084Z"
   },
   {
    "duration": 7,
    "start_time": "2025-02-12T12:57:49.095Z"
   },
   {
    "duration": 231,
    "start_time": "2025-02-12T12:57:49.103Z"
   },
   {
    "duration": 208,
    "start_time": "2025-02-12T12:59:33.922Z"
   },
   {
    "duration": 211,
    "start_time": "2025-02-12T12:59:43.672Z"
   },
   {
    "duration": 388,
    "start_time": "2025-02-12T13:01:08.437Z"
   },
   {
    "duration": 125,
    "start_time": "2025-02-12T13:03:02.433Z"
   },
   {
    "duration": 551,
    "start_time": "2025-02-12T13:04:04.902Z"
   },
   {
    "duration": 224,
    "start_time": "2025-02-12T13:05:27.143Z"
   },
   {
    "duration": 27,
    "start_time": "2025-02-12T13:05:48.194Z"
   },
   {
    "duration": 220,
    "start_time": "2025-02-12T13:06:18.614Z"
   },
   {
    "duration": 231,
    "start_time": "2025-02-12T13:06:54.888Z"
   },
   {
    "duration": 424,
    "start_time": "2025-02-12T13:08:25.509Z"
   },
   {
    "duration": 252,
    "start_time": "2025-02-12T13:08:40.312Z"
   },
   {
    "duration": 11,
    "start_time": "2025-02-12T13:10:44.540Z"
   },
   {
    "duration": 13,
    "start_time": "2025-02-12T13:11:08.642Z"
   },
   {
    "duration": 340,
    "start_time": "2025-02-12T13:12:58.211Z"
   },
   {
    "duration": 343,
    "start_time": "2025-02-12T13:13:06.971Z"
   },
   {
    "duration": 16,
    "start_time": "2025-02-12T13:13:52.011Z"
   },
   {
    "duration": 231,
    "start_time": "2025-02-12T13:14:26.285Z"
   },
   {
    "duration": 165,
    "start_time": "2025-02-12T13:15:15.012Z"
   },
   {
    "duration": 20,
    "start_time": "2025-02-12T13:16:59.664Z"
   },
   {
    "duration": 17,
    "start_time": "2025-02-12T13:17:36.554Z"
   },
   {
    "duration": 166,
    "start_time": "2025-02-12T13:20:38.021Z"
   },
   {
    "duration": 161,
    "start_time": "2025-02-12T13:22:20.558Z"
   },
   {
    "duration": 14,
    "start_time": "2025-02-12T13:36:08.438Z"
   },
   {
    "duration": 474,
    "start_time": "2025-02-12T13:36:16.414Z"
   },
   {
    "duration": 174,
    "start_time": "2025-02-12T13:37:13.252Z"
   },
   {
    "duration": 185,
    "start_time": "2025-02-12T13:38:09.855Z"
   },
   {
    "duration": 177,
    "start_time": "2025-02-12T14:37:28.649Z"
   },
   {
    "duration": 188,
    "start_time": "2025-02-12T14:38:00.899Z"
   },
   {
    "duration": 284,
    "start_time": "2025-02-12T14:38:36.405Z"
   },
   {
    "duration": 168,
    "start_time": "2025-02-12T14:39:44.020Z"
   },
   {
    "duration": 171,
    "start_time": "2025-02-12T14:40:15.736Z"
   },
   {
    "duration": 180,
    "start_time": "2025-02-12T14:41:08.933Z"
   },
   {
    "duration": 227,
    "start_time": "2025-02-12T14:42:17.449Z"
   },
   {
    "duration": 239,
    "start_time": "2025-02-12T14:42:24.909Z"
   },
   {
    "duration": 20,
    "start_time": "2025-02-12T14:42:41.603Z"
   },
   {
    "duration": 407,
    "start_time": "2025-02-12T14:43:06.497Z"
   },
   {
    "duration": 401,
    "start_time": "2025-02-12T14:44:39.557Z"
   },
   {
    "duration": 423,
    "start_time": "2025-02-12T14:45:37.084Z"
   },
   {
    "duration": 425,
    "start_time": "2025-02-12T14:46:49.415Z"
   },
   {
    "duration": 238,
    "start_time": "2025-02-12T14:47:32.183Z"
   },
   {
    "duration": 245,
    "start_time": "2025-02-12T14:48:22.836Z"
   },
   {
    "duration": 256,
    "start_time": "2025-02-12T14:48:37.933Z"
   },
   {
    "duration": 200,
    "start_time": "2025-02-12T14:48:59.063Z"
   },
   {
    "duration": 21,
    "start_time": "2025-02-12T14:49:29.530Z"
   },
   {
    "duration": 17,
    "start_time": "2025-02-12T14:49:38.032Z"
   },
   {
    "duration": 19,
    "start_time": "2025-02-12T14:49:49.334Z"
   },
   {
    "duration": 327,
    "start_time": "2025-02-12T14:52:03.057Z"
   },
   {
    "duration": 22,
    "start_time": "2025-02-12T14:52:39.678Z"
   },
   {
    "duration": 378,
    "start_time": "2025-02-12T14:53:09.412Z"
   },
   {
    "duration": 481,
    "start_time": "2025-02-12T14:54:18.153Z"
   },
   {
    "duration": 404,
    "start_time": "2025-02-12T14:54:58.009Z"
   },
   {
    "duration": 387,
    "start_time": "2025-02-12T14:55:32.160Z"
   },
   {
    "duration": 10,
    "start_time": "2025-02-12T14:57:09.616Z"
   },
   {
    "duration": 9,
    "start_time": "2025-02-12T14:57:45.091Z"
   },
   {
    "duration": 726,
    "start_time": "2025-02-12T14:59:55.141Z"
   },
   {
    "duration": 1251,
    "start_time": "2025-02-12T15:00:24.856Z"
   },
   {
    "duration": 67,
    "start_time": "2025-02-12T15:00:26.109Z"
   },
   {
    "duration": 12,
    "start_time": "2025-02-12T15:00:26.180Z"
   },
   {
    "duration": 15,
    "start_time": "2025-02-12T15:00:26.194Z"
   },
   {
    "duration": 12,
    "start_time": "2025-02-12T15:00:26.211Z"
   },
   {
    "duration": 5967,
    "start_time": "2025-02-12T15:00:26.224Z"
   },
   {
    "duration": 10,
    "start_time": "2025-02-12T15:00:32.193Z"
   },
   {
    "duration": 17,
    "start_time": "2025-02-12T15:00:32.205Z"
   },
   {
    "duration": 4,
    "start_time": "2025-02-12T15:00:32.224Z"
   },
   {
    "duration": 7,
    "start_time": "2025-02-12T15:00:32.230Z"
   },
   {
    "duration": 9,
    "start_time": "2025-02-12T15:00:32.238Z"
   },
   {
    "duration": 248,
    "start_time": "2025-02-12T15:00:32.249Z"
   },
   {
    "duration": 189,
    "start_time": "2025-02-12T15:00:32.500Z"
   },
   {
    "duration": 409,
    "start_time": "2025-02-12T15:00:32.691Z"
   },
   {
    "duration": 8,
    "start_time": "2025-02-12T15:00:33.102Z"
   },
   {
    "duration": 901,
    "start_time": "2025-02-12T15:00:33.112Z"
   },
   {
    "duration": 1206,
    "start_time": "2025-02-12T15:01:22.992Z"
   },
   {
    "duration": 3,
    "start_time": "2025-02-12T15:01:24.200Z"
   },
   {
    "duration": 72,
    "start_time": "2025-02-12T15:01:24.205Z"
   },
   {
    "duration": 11,
    "start_time": "2025-02-12T15:01:24.279Z"
   },
   {
    "duration": 19,
    "start_time": "2025-02-12T15:01:24.292Z"
   },
   {
    "duration": 20,
    "start_time": "2025-02-12T15:01:24.313Z"
   },
   {
    "duration": 14059,
    "start_time": "2025-02-12T15:01:24.334Z"
   },
   {
    "duration": 9,
    "start_time": "2025-02-12T15:01:38.395Z"
   },
   {
    "duration": 16,
    "start_time": "2025-02-12T15:01:38.406Z"
   },
   {
    "duration": 13,
    "start_time": "2025-02-12T15:01:38.424Z"
   },
   {
    "duration": 15,
    "start_time": "2025-02-12T15:01:38.439Z"
   },
   {
    "duration": 16,
    "start_time": "2025-02-12T15:01:38.456Z"
   },
   {
    "duration": 236,
    "start_time": "2025-02-12T15:01:38.474Z"
   },
   {
    "duration": 185,
    "start_time": "2025-02-12T15:01:38.712Z"
   },
   {
    "duration": 416,
    "start_time": "2025-02-12T15:01:38.898Z"
   },
   {
    "duration": 9,
    "start_time": "2025-02-12T15:01:39.317Z"
   },
   {
    "duration": 869,
    "start_time": "2025-02-12T15:01:39.327Z"
   },
   {
    "duration": 222,
    "start_time": "2025-02-12T15:24:35.155Z"
   },
   {
    "duration": 249,
    "start_time": "2025-02-12T15:58:00.621Z"
   },
   {
    "duration": 318,
    "start_time": "2025-02-12T15:58:11.459Z"
   },
   {
    "duration": 264,
    "start_time": "2025-02-12T15:59:51.480Z"
   },
   {
    "duration": 9,
    "start_time": "2025-02-12T16:02:05.031Z"
   },
   {
    "duration": 9,
    "start_time": "2025-02-12T16:02:54.503Z"
   },
   {
    "duration": 581,
    "start_time": "2025-02-12T16:04:07.396Z"
   },
   {
    "duration": 289,
    "start_time": "2025-02-12T16:05:36.055Z"
   },
   {
    "duration": 323,
    "start_time": "2025-02-12T16:05:56.772Z"
   },
   {
    "duration": 102,
    "start_time": "2025-02-12T16:06:51.794Z"
   },
   {
    "duration": 14,
    "start_time": "2025-02-12T16:07:12.834Z"
   },
   {
    "duration": 14,
    "start_time": "2025-02-12T16:07:22.615Z"
   },
   {
    "duration": 13,
    "start_time": "2025-02-12T16:07:58.332Z"
   },
   {
    "duration": 17,
    "start_time": "2025-02-12T16:08:49.986Z"
   },
   {
    "duration": 17,
    "start_time": "2025-02-12T16:09:17.802Z"
   },
   {
    "duration": 3,
    "start_time": "2025-02-12T16:14:32.341Z"
   },
   {
    "duration": 30,
    "start_time": "2025-02-12T16:14:38.178Z"
   },
   {
    "duration": 22,
    "start_time": "2025-02-12T16:15:11.480Z"
   },
   {
    "duration": 21,
    "start_time": "2025-02-12T16:15:28.510Z"
   },
   {
    "duration": 22,
    "start_time": "2025-02-12T16:16:01.360Z"
   },
   {
    "duration": 13,
    "start_time": "2025-02-12T16:18:04.692Z"
   },
   {
    "duration": 323,
    "start_time": "2025-02-12T16:18:19.250Z"
   },
   {
    "duration": 384,
    "start_time": "2025-02-12T16:18:34.194Z"
   },
   {
    "duration": 15,
    "start_time": "2025-02-12T16:19:17.109Z"
   },
   {
    "duration": 330,
    "start_time": "2025-02-12T16:19:23.930Z"
   },
   {
    "duration": 54,
    "start_time": "2025-02-13T09:57:33.519Z"
   },
   {
    "duration": 1434,
    "start_time": "2025-02-13T09:57:52.060Z"
   },
   {
    "duration": 5,
    "start_time": "2025-02-13T09:57:53.504Z"
   },
   {
    "duration": 138,
    "start_time": "2025-02-13T09:57:53.511Z"
   },
   {
    "duration": 13,
    "start_time": "2025-02-13T09:57:53.650Z"
   },
   {
    "duration": 27,
    "start_time": "2025-02-13T09:57:53.665Z"
   },
   {
    "duration": 37,
    "start_time": "2025-02-13T09:57:53.694Z"
   },
   {
    "duration": 920,
    "start_time": "2025-02-13T09:57:53.732Z"
   },
   {
    "duration": 10,
    "start_time": "2025-02-13T09:57:54.654Z"
   },
   {
    "duration": 64,
    "start_time": "2025-02-13T09:57:54.666Z"
   },
   {
    "duration": 31,
    "start_time": "2025-02-13T09:57:54.733Z"
   },
   {
    "duration": 37,
    "start_time": "2025-02-13T09:57:54.766Z"
   },
   {
    "duration": 32,
    "start_time": "2025-02-13T09:57:54.805Z"
   },
   {
    "duration": 270,
    "start_time": "2025-02-13T09:57:54.839Z"
   },
   {
    "duration": 195,
    "start_time": "2025-02-13T09:57:55.112Z"
   },
   {
    "duration": 530,
    "start_time": "2025-02-13T09:57:55.308Z"
   },
   {
    "duration": 9,
    "start_time": "2025-02-13T09:57:55.840Z"
   },
   {
    "duration": 71,
    "start_time": "2025-02-13T09:57:55.850Z"
   },
   {
    "duration": 376,
    "start_time": "2025-02-13T09:57:55.923Z"
   },
   {
    "duration": 9,
    "start_time": "2025-02-13T09:57:56.301Z"
   },
   {
    "duration": 314,
    "start_time": "2025-02-13T09:57:56.311Z"
   },
   {
    "duration": 14,
    "start_time": "2025-02-13T09:57:56.627Z"
   },
   {
    "duration": 16,
    "start_time": "2025-02-13T09:57:56.642Z"
   },
   {
    "duration": 18,
    "start_time": "2025-02-13T09:57:56.659Z"
   },
   {
    "duration": 54,
    "start_time": "2025-02-13T09:57:56.679Z"
   },
   {
    "duration": 22,
    "start_time": "2025-02-13T09:57:56.735Z"
   },
   {
    "duration": 424,
    "start_time": "2025-02-13T09:57:56.759Z"
   },
   {
    "duration": 340,
    "start_time": "2025-02-13T09:57:57.186Z"
   },
   {
    "duration": 331,
    "start_time": "2025-02-13T10:00:50.461Z"
   },
   {
    "duration": 1058,
    "start_time": "2025-02-13T10:01:41.996Z"
   },
   {
    "duration": 5,
    "start_time": "2025-02-13T10:03:26.879Z"
   },
   {
    "duration": 9,
    "start_time": "2025-02-13T10:04:25.908Z"
   },
   {
    "duration": 8,
    "start_time": "2025-02-13T10:05:20.094Z"
   },
   {
    "duration": 292,
    "start_time": "2025-02-13T10:06:12.532Z"
   },
   {
    "duration": 196,
    "start_time": "2025-02-13T10:06:50.511Z"
   },
   {
    "duration": 49,
    "start_time": "2025-02-13T10:11:33.748Z"
   },
   {
    "duration": 47,
    "start_time": "2025-02-13T10:11:49.518Z"
   },
   {
    "duration": 48,
    "start_time": "2025-02-13T10:13:07.201Z"
   },
   {
    "duration": 47,
    "start_time": "2025-02-13T10:13:19.233Z"
   },
   {
    "duration": 50,
    "start_time": "2025-02-13T10:13:55.772Z"
   },
   {
    "duration": 49,
    "start_time": "2025-02-13T10:14:49.349Z"
   },
   {
    "duration": 11,
    "start_time": "2025-02-13T10:16:12.258Z"
   },
   {
    "duration": 50,
    "start_time": "2025-02-13T10:18:22.595Z"
   },
   {
    "duration": 47,
    "start_time": "2025-02-13T10:21:00.898Z"
   },
   {
    "duration": 1004,
    "start_time": "2025-02-13T10:21:54.105Z"
   },
   {
    "duration": 50,
    "start_time": "2025-02-13T10:22:16.558Z"
   },
   {
    "duration": 6,
    "start_time": "2025-02-13T10:25:12.140Z"
   },
   {
    "duration": 18,
    "start_time": "2025-02-13T10:25:20.162Z"
   },
   {
    "duration": 5,
    "start_time": "2025-02-13T10:28:57.038Z"
   },
   {
    "duration": 4,
    "start_time": "2025-02-13T10:29:09.904Z"
   },
   {
    "duration": 4,
    "start_time": "2025-02-13T10:41:28.279Z"
   },
   {
    "duration": 6,
    "start_time": "2025-02-13T10:54:07.601Z"
   },
   {
    "duration": 7,
    "start_time": "2025-02-13T10:55:15.364Z"
   },
   {
    "duration": 6,
    "start_time": "2025-02-13T10:58:50.300Z"
   },
   {
    "duration": 6,
    "start_time": "2025-02-13T10:59:19.894Z"
   },
   {
    "duration": 1395,
    "start_time": "2025-02-13T11:01:20.193Z"
   },
   {
    "duration": 4,
    "start_time": "2025-02-13T11:01:21.590Z"
   },
   {
    "duration": 111,
    "start_time": "2025-02-13T11:01:21.595Z"
   },
   {
    "duration": 11,
    "start_time": "2025-02-13T11:01:21.708Z"
   },
   {
    "duration": 30,
    "start_time": "2025-02-13T11:01:21.721Z"
   },
   {
    "duration": 13,
    "start_time": "2025-02-13T11:01:21.752Z"
   },
   {
    "duration": 922,
    "start_time": "2025-02-13T11:01:21.767Z"
   },
   {
    "duration": 12,
    "start_time": "2025-02-13T11:01:22.691Z"
   },
   {
    "duration": 13,
    "start_time": "2025-02-13T11:01:22.705Z"
   },
   {
    "duration": 5,
    "start_time": "2025-02-13T11:01:22.733Z"
   },
   {
    "duration": 29,
    "start_time": "2025-02-13T11:01:22.740Z"
   },
   {
    "duration": 9,
    "start_time": "2025-02-13T11:01:22.770Z"
   },
   {
    "duration": 266,
    "start_time": "2025-02-13T11:01:22.780Z"
   },
   {
    "duration": 201,
    "start_time": "2025-02-13T11:01:23.049Z"
   },
   {
    "duration": 511,
    "start_time": "2025-02-13T11:01:23.252Z"
   },
   {
    "duration": 9,
    "start_time": "2025-02-13T11:01:23.765Z"
   },
   {
    "duration": 15,
    "start_time": "2025-02-13T11:01:23.775Z"
   },
   {
    "duration": 363,
    "start_time": "2025-02-13T11:01:23.792Z"
   },
   {
    "duration": 9,
    "start_time": "2025-02-13T11:01:24.157Z"
   },
   {
    "duration": 297,
    "start_time": "2025-02-13T11:01:24.168Z"
   },
   {
    "duration": 13,
    "start_time": "2025-02-13T11:01:24.467Z"
   },
   {
    "duration": 25,
    "start_time": "2025-02-13T11:01:24.482Z"
   },
   {
    "duration": 31,
    "start_time": "2025-02-13T11:01:24.509Z"
   },
   {
    "duration": 26,
    "start_time": "2025-02-13T11:01:24.543Z"
   },
   {
    "duration": 23,
    "start_time": "2025-02-13T11:01:24.571Z"
   },
   {
    "duration": 384,
    "start_time": "2025-02-13T11:01:24.596Z"
   },
   {
    "duration": 330,
    "start_time": "2025-02-13T11:01:24.982Z"
   },
   {
    "duration": 20,
    "start_time": "2025-02-13T11:01:25.314Z"
   },
   {
    "duration": 51,
    "start_time": "2025-02-13T11:01:25.336Z"
   },
   {
    "duration": 5,
    "start_time": "2025-02-13T11:01:25.389Z"
   },
   {
    "duration": 62,
    "start_time": "2025-02-13T11:01:25.396Z"
   },
   {
    "duration": 5,
    "start_time": "2025-02-13T11:01:25.459Z"
   },
   {
    "duration": 83,
    "start_time": "2025-02-13T11:01:25.466Z"
   },
   {
    "duration": 129,
    "start_time": "2025-02-13T11:01:25.552Z"
   },
   {
    "duration": 90,
    "start_time": "2025-02-13T11:04:58.315Z"
   },
   {
    "duration": 6,
    "start_time": "2025-02-13T11:05:04.007Z"
   },
   {
    "duration": 5,
    "start_time": "2025-02-13T11:05:22.274Z"
   },
   {
    "duration": 6,
    "start_time": "2025-02-13T11:09:12.605Z"
   },
   {
    "duration": 8,
    "start_time": "2025-02-13T11:11:25.965Z"
   },
   {
    "duration": 9,
    "start_time": "2025-02-13T11:11:49.357Z"
   },
   {
    "duration": 215,
    "start_time": "2025-02-13T12:21:37.624Z"
   },
   {
    "duration": 1259,
    "start_time": "2025-02-13T12:22:49.738Z"
   },
   {
    "duration": 4,
    "start_time": "2025-02-13T12:22:50.999Z"
   },
   {
    "duration": 74,
    "start_time": "2025-02-13T12:22:51.005Z"
   },
   {
    "duration": 12,
    "start_time": "2025-02-13T12:22:51.081Z"
   },
   {
    "duration": 12,
    "start_time": "2025-02-13T12:22:51.094Z"
   },
   {
    "duration": 18,
    "start_time": "2025-02-13T12:22:51.108Z"
   },
   {
    "duration": 941,
    "start_time": "2025-02-13T12:22:51.128Z"
   },
   {
    "duration": 11,
    "start_time": "2025-02-13T12:22:52.071Z"
   },
   {
    "duration": 19,
    "start_time": "2025-02-13T12:22:52.084Z"
   },
   {
    "duration": 13,
    "start_time": "2025-02-13T12:22:52.106Z"
   },
   {
    "duration": 22,
    "start_time": "2025-02-13T12:22:52.121Z"
   },
   {
    "duration": 19,
    "start_time": "2025-02-13T12:22:52.144Z"
   },
   {
    "duration": 305,
    "start_time": "2025-02-13T12:22:52.164Z"
   },
   {
    "duration": 265,
    "start_time": "2025-02-13T12:22:52.470Z"
   },
   {
    "duration": 524,
    "start_time": "2025-02-13T12:22:52.736Z"
   },
   {
    "duration": 9,
    "start_time": "2025-02-13T12:22:53.261Z"
   },
   {
    "duration": 11,
    "start_time": "2025-02-13T12:22:53.272Z"
   },
   {
    "duration": 378,
    "start_time": "2025-02-13T12:22:53.285Z"
   },
   {
    "duration": 9,
    "start_time": "2025-02-13T12:22:53.664Z"
   },
   {
    "duration": 314,
    "start_time": "2025-02-13T12:22:53.675Z"
   },
   {
    "duration": 14,
    "start_time": "2025-02-13T12:22:53.990Z"
   },
   {
    "duration": 37,
    "start_time": "2025-02-13T12:22:54.006Z"
   },
   {
    "duration": 18,
    "start_time": "2025-02-13T12:22:54.045Z"
   },
   {
    "duration": 59,
    "start_time": "2025-02-13T12:22:54.065Z"
   },
   {
    "duration": 24,
    "start_time": "2025-02-13T12:22:54.125Z"
   },
   {
    "duration": 368,
    "start_time": "2025-02-13T12:22:54.151Z"
   },
   {
    "duration": 331,
    "start_time": "2025-02-13T12:22:54.521Z"
   },
   {
    "duration": 12,
    "start_time": "2025-02-13T12:22:54.855Z"
   },
   {
    "duration": 66,
    "start_time": "2025-02-13T12:22:54.869Z"
   },
   {
    "duration": 6,
    "start_time": "2025-02-13T12:22:54.936Z"
   },
   {
    "duration": 21,
    "start_time": "2025-02-13T12:22:54.944Z"
   },
   {
    "duration": 4,
    "start_time": "2025-02-13T12:22:54.966Z"
   },
   {
    "duration": 5,
    "start_time": "2025-02-13T12:22:54.972Z"
   },
   {
    "duration": 10,
    "start_time": "2025-02-13T12:22:54.979Z"
   },
   {
    "duration": 47,
    "start_time": "2025-02-13T12:22:54.990Z"
   },
   {
    "duration": 0,
    "start_time": "2025-02-13T12:24:33.694Z"
   },
   {
    "duration": 33878,
    "start_time": "2025-02-13T12:24:38.886Z"
   },
   {
    "duration": 150396,
    "start_time": "2025-02-13T12:26:15.129Z"
   },
   {
    "duration": 330941,
    "start_time": "2025-02-13T12:30:26.842Z"
   },
   {
    "duration": 177,
    "start_time": "2025-02-13T12:37:07.292Z"
   },
   {
    "duration": 100,
    "start_time": "2025-02-13T12:38:50.162Z"
   },
   {
    "duration": 53713,
    "start_time": "2025-02-13T12:38:58.271Z"
   },
   {
    "duration": 0,
    "start_time": "2025-02-13T12:39:51.986Z"
   },
   {
    "duration": 327,
    "start_time": "2025-02-13T12:39:55.513Z"
   },
   {
    "duration": 1274,
    "start_time": "2025-02-13T12:41:50.822Z"
   },
   {
    "duration": 4,
    "start_time": "2025-02-13T12:41:52.099Z"
   },
   {
    "duration": 79,
    "start_time": "2025-02-13T12:41:52.106Z"
   },
   {
    "duration": 12,
    "start_time": "2025-02-13T12:41:52.187Z"
   },
   {
    "duration": 22,
    "start_time": "2025-02-13T12:41:52.202Z"
   },
   {
    "duration": 20,
    "start_time": "2025-02-13T12:41:52.226Z"
   },
   {
    "duration": 931,
    "start_time": "2025-02-13T12:41:52.248Z"
   },
   {
    "duration": 10,
    "start_time": "2025-02-13T12:41:53.181Z"
   },
   {
    "duration": 15,
    "start_time": "2025-02-13T12:41:53.193Z"
   },
   {
    "duration": 23,
    "start_time": "2025-02-13T12:41:53.210Z"
   },
   {
    "duration": 6,
    "start_time": "2025-02-13T12:41:53.234Z"
   },
   {
    "duration": 8,
    "start_time": "2025-02-13T12:41:53.242Z"
   },
   {
    "duration": 284,
    "start_time": "2025-02-13T12:41:53.252Z"
   },
   {
    "duration": 195,
    "start_time": "2025-02-13T12:41:53.539Z"
   },
   {
    "duration": 529,
    "start_time": "2025-02-13T12:41:53.736Z"
   },
   {
    "duration": 8,
    "start_time": "2025-02-13T12:41:54.267Z"
   },
   {
    "duration": 10,
    "start_time": "2025-02-13T12:41:54.277Z"
   },
   {
    "duration": 371,
    "start_time": "2025-02-13T12:41:54.289Z"
   },
   {
    "duration": 10,
    "start_time": "2025-02-13T12:41:54.662Z"
   },
   {
    "duration": 307,
    "start_time": "2025-02-13T12:41:54.673Z"
   },
   {
    "duration": 15,
    "start_time": "2025-02-13T12:41:54.982Z"
   },
   {
    "duration": 34,
    "start_time": "2025-02-13T12:41:54.998Z"
   },
   {
    "duration": 18,
    "start_time": "2025-02-13T12:41:55.034Z"
   },
   {
    "duration": 33,
    "start_time": "2025-02-13T12:41:55.053Z"
   },
   {
    "duration": 24,
    "start_time": "2025-02-13T12:41:55.087Z"
   },
   {
    "duration": 357,
    "start_time": "2025-02-13T12:41:55.133Z"
   },
   {
    "duration": 344,
    "start_time": "2025-02-13T12:41:55.493Z"
   },
   {
    "duration": 12,
    "start_time": "2025-02-13T12:41:55.839Z"
   },
   {
    "duration": 100,
    "start_time": "2025-02-13T12:41:55.853Z"
   },
   {
    "duration": 6,
    "start_time": "2025-02-13T12:41:55.955Z"
   },
   {
    "duration": 26,
    "start_time": "2025-02-13T12:41:55.962Z"
   },
   {
    "duration": 4,
    "start_time": "2025-02-13T12:41:55.990Z"
   },
   {
    "duration": 6,
    "start_time": "2025-02-13T12:41:55.996Z"
   },
   {
    "duration": 32,
    "start_time": "2025-02-13T12:41:56.003Z"
   },
   {
    "duration": 9,
    "start_time": "2025-02-13T12:41:56.036Z"
   },
   {
    "duration": 10271,
    "start_time": "2025-02-13T12:41:56.047Z"
   },
   {
    "duration": 0,
    "start_time": "2025-02-13T12:42:06.320Z"
   },
   {
    "duration": 8208,
    "start_time": "2025-02-13T12:42:52.879Z"
   },
   {
    "duration": 175,
    "start_time": "2025-02-13T12:43:59.830Z"
   },
   {
    "duration": 179,
    "start_time": "2025-02-13T12:51:16.264Z"
   },
   {
    "duration": 171,
    "start_time": "2025-02-13T12:52:23.599Z"
   },
   {
    "duration": 278,
    "start_time": "2025-02-13T12:53:13.697Z"
   },
   {
    "duration": 182,
    "start_time": "2025-02-13T12:54:44.272Z"
   },
   {
    "duration": 196,
    "start_time": "2025-02-13T12:57:18.308Z"
   },
   {
    "duration": 1216,
    "start_time": "2025-02-13T12:58:25.961Z"
   },
   {
    "duration": 4,
    "start_time": "2025-02-13T12:58:27.179Z"
   },
   {
    "duration": 83,
    "start_time": "2025-02-13T12:58:27.185Z"
   },
   {
    "duration": 12,
    "start_time": "2025-02-13T12:58:27.271Z"
   },
   {
    "duration": 18,
    "start_time": "2025-02-13T12:58:27.286Z"
   },
   {
    "duration": 12,
    "start_time": "2025-02-13T12:58:27.306Z"
   },
   {
    "duration": 983,
    "start_time": "2025-02-13T12:58:27.320Z"
   },
   {
    "duration": 12,
    "start_time": "2025-02-13T12:58:28.305Z"
   },
   {
    "duration": 23,
    "start_time": "2025-02-13T12:58:28.319Z"
   },
   {
    "duration": 7,
    "start_time": "2025-02-13T12:58:28.344Z"
   },
   {
    "duration": 5,
    "start_time": "2025-02-13T12:58:28.353Z"
   },
   {
    "duration": 8,
    "start_time": "2025-02-13T12:58:28.360Z"
   },
   {
    "duration": 294,
    "start_time": "2025-02-13T12:58:28.370Z"
   },
   {
    "duration": 203,
    "start_time": "2025-02-13T12:58:28.667Z"
   },
   {
    "duration": 528,
    "start_time": "2025-02-13T12:58:28.872Z"
   },
   {
    "duration": 8,
    "start_time": "2025-02-13T12:58:29.402Z"
   },
   {
    "duration": 24,
    "start_time": "2025-02-13T12:58:29.412Z"
   },
   {
    "duration": 360,
    "start_time": "2025-02-13T12:58:29.437Z"
   },
   {
    "duration": 10,
    "start_time": "2025-02-13T12:58:29.799Z"
   },
   {
    "duration": 308,
    "start_time": "2025-02-13T12:58:29.810Z"
   },
   {
    "duration": 22,
    "start_time": "2025-02-13T12:58:30.120Z"
   },
   {
    "duration": 41,
    "start_time": "2025-02-13T12:58:30.144Z"
   },
   {
    "duration": 44,
    "start_time": "2025-02-13T12:58:30.187Z"
   },
   {
    "duration": 74,
    "start_time": "2025-02-13T12:58:30.233Z"
   },
   {
    "duration": 75,
    "start_time": "2025-02-13T12:58:30.309Z"
   },
   {
    "duration": 393,
    "start_time": "2025-02-13T12:58:30.386Z"
   },
   {
    "duration": 331,
    "start_time": "2025-02-13T12:58:30.781Z"
   },
   {
    "duration": 20,
    "start_time": "2025-02-13T12:58:31.113Z"
   },
   {
    "duration": 49,
    "start_time": "2025-02-13T12:58:31.134Z"
   },
   {
    "duration": 5,
    "start_time": "2025-02-13T12:58:31.185Z"
   },
   {
    "duration": 43,
    "start_time": "2025-02-13T12:58:31.192Z"
   },
   {
    "duration": 17,
    "start_time": "2025-02-13T12:58:31.237Z"
   },
   {
    "duration": 115,
    "start_time": "2025-02-13T12:58:31.255Z"
   },
   {
    "duration": 0,
    "start_time": "2025-02-13T12:58:31.372Z"
   },
   {
    "duration": 0,
    "start_time": "2025-02-13T12:58:31.373Z"
   },
   {
    "duration": 0,
    "start_time": "2025-02-13T12:58:31.374Z"
   },
   {
    "duration": 0,
    "start_time": "2025-02-13T12:58:31.375Z"
   },
   {
    "duration": 1254,
    "start_time": "2025-02-13T12:59:10.930Z"
   },
   {
    "duration": 4,
    "start_time": "2025-02-13T12:59:12.186Z"
   },
   {
    "duration": 100,
    "start_time": "2025-02-13T12:59:12.195Z"
   },
   {
    "duration": 12,
    "start_time": "2025-02-13T12:59:12.298Z"
   },
   {
    "duration": 18,
    "start_time": "2025-02-13T12:59:12.312Z"
   },
   {
    "duration": 11,
    "start_time": "2025-02-13T12:59:12.332Z"
   },
   {
    "duration": 939,
    "start_time": "2025-02-13T12:59:12.345Z"
   },
   {
    "duration": 10,
    "start_time": "2025-02-13T12:59:13.286Z"
   },
   {
    "duration": 20,
    "start_time": "2025-02-13T12:59:13.298Z"
   },
   {
    "duration": 16,
    "start_time": "2025-02-13T12:59:13.320Z"
   },
   {
    "duration": 7,
    "start_time": "2025-02-13T12:59:13.337Z"
   },
   {
    "duration": 7,
    "start_time": "2025-02-13T12:59:13.346Z"
   },
   {
    "duration": 285,
    "start_time": "2025-02-13T12:59:13.356Z"
   },
   {
    "duration": 198,
    "start_time": "2025-02-13T12:59:13.643Z"
   },
   {
    "duration": 511,
    "start_time": "2025-02-13T12:59:13.843Z"
   },
   {
    "duration": 8,
    "start_time": "2025-02-13T12:59:14.356Z"
   },
   {
    "duration": 11,
    "start_time": "2025-02-13T12:59:14.366Z"
   },
   {
    "duration": 367,
    "start_time": "2025-02-13T12:59:14.379Z"
   },
   {
    "duration": 10,
    "start_time": "2025-02-13T12:59:14.747Z"
   },
   {
    "duration": 301,
    "start_time": "2025-02-13T12:59:14.759Z"
   },
   {
    "duration": 14,
    "start_time": "2025-02-13T12:59:15.062Z"
   },
   {
    "duration": 45,
    "start_time": "2025-02-13T12:59:15.078Z"
   },
   {
    "duration": 19,
    "start_time": "2025-02-13T12:59:15.125Z"
   },
   {
    "duration": 51,
    "start_time": "2025-02-13T12:59:15.146Z"
   },
   {
    "duration": 33,
    "start_time": "2025-02-13T12:59:15.199Z"
   },
   {
    "duration": 369,
    "start_time": "2025-02-13T12:59:15.234Z"
   },
   {
    "duration": 328,
    "start_time": "2025-02-13T12:59:15.605Z"
   },
   {
    "duration": 12,
    "start_time": "2025-02-13T12:59:15.934Z"
   },
   {
    "duration": 92,
    "start_time": "2025-02-13T12:59:15.948Z"
   },
   {
    "duration": 5,
    "start_time": "2025-02-13T12:59:16.042Z"
   },
   {
    "duration": 24,
    "start_time": "2025-02-13T12:59:16.049Z"
   },
   {
    "duration": 6,
    "start_time": "2025-02-13T12:59:16.075Z"
   },
   {
    "duration": 23,
    "start_time": "2025-02-13T12:59:16.083Z"
   },
   {
    "duration": 38,
    "start_time": "2025-02-13T12:59:16.108Z"
   },
   {
    "duration": 27,
    "start_time": "2025-02-13T12:59:16.148Z"
   },
   {
    "duration": 211,
    "start_time": "2025-02-13T12:59:16.177Z"
   },
   {
    "duration": 224,
    "start_time": "2025-02-13T12:59:16.390Z"
   },
   {
    "duration": 213,
    "start_time": "2025-02-13T13:01:12.210Z"
   },
   {
    "duration": 194,
    "start_time": "2025-02-13T13:07:00.031Z"
   },
   {
    "duration": 41,
    "start_time": "2025-02-13T13:11:19.575Z"
   },
   {
    "duration": 524,
    "start_time": "2025-02-13T13:11:26.738Z"
   },
   {
    "duration": 328,
    "start_time": "2025-02-13T13:13:31.459Z"
   },
   {
    "duration": 1282,
    "start_time": "2025-02-13T14:27:54.118Z"
   },
   {
    "duration": 4,
    "start_time": "2025-02-13T14:27:55.402Z"
   },
   {
    "duration": 89,
    "start_time": "2025-02-13T14:27:55.408Z"
   },
   {
    "duration": 12,
    "start_time": "2025-02-13T14:27:55.499Z"
   },
   {
    "duration": 22,
    "start_time": "2025-02-13T14:27:55.513Z"
   },
   {
    "duration": 10,
    "start_time": "2025-02-13T14:27:55.537Z"
   },
   {
    "duration": 926,
    "start_time": "2025-02-13T14:27:55.549Z"
   },
   {
    "duration": 11,
    "start_time": "2025-02-13T14:27:56.477Z"
   },
   {
    "duration": 24,
    "start_time": "2025-02-13T14:27:56.490Z"
   },
   {
    "duration": 17,
    "start_time": "2025-02-13T14:27:56.516Z"
   },
   {
    "duration": 7,
    "start_time": "2025-02-13T14:27:56.534Z"
   },
   {
    "duration": 8,
    "start_time": "2025-02-13T14:27:56.542Z"
   },
   {
    "duration": 282,
    "start_time": "2025-02-13T14:27:56.552Z"
   },
   {
    "duration": 192,
    "start_time": "2025-02-13T14:27:56.837Z"
   },
   {
    "duration": 512,
    "start_time": "2025-02-13T14:27:57.033Z"
   },
   {
    "duration": 13,
    "start_time": "2025-02-13T14:27:57.547Z"
   },
   {
    "duration": 22,
    "start_time": "2025-02-13T14:27:57.562Z"
   },
   {
    "duration": 418,
    "start_time": "2025-02-13T14:27:57.587Z"
   },
   {
    "duration": 9,
    "start_time": "2025-02-13T14:27:58.006Z"
   },
   {
    "duration": 299,
    "start_time": "2025-02-13T14:27:58.033Z"
   },
   {
    "duration": 14,
    "start_time": "2025-02-13T14:27:58.334Z"
   },
   {
    "duration": 15,
    "start_time": "2025-02-13T14:27:58.350Z"
   },
   {
    "duration": 18,
    "start_time": "2025-02-13T14:27:58.366Z"
   },
   {
    "duration": 53,
    "start_time": "2025-02-13T14:27:58.386Z"
   },
   {
    "duration": 23,
    "start_time": "2025-02-13T14:27:58.441Z"
   },
   {
    "duration": 374,
    "start_time": "2025-02-13T14:27:58.466Z"
   },
   {
    "duration": 346,
    "start_time": "2025-02-13T14:27:58.841Z"
   },
   {
    "duration": 13,
    "start_time": "2025-02-13T14:27:59.189Z"
   },
   {
    "duration": 65,
    "start_time": "2025-02-13T14:27:59.203Z"
   },
   {
    "duration": 5,
    "start_time": "2025-02-13T14:27:59.270Z"
   },
   {
    "duration": 35,
    "start_time": "2025-02-13T14:27:59.277Z"
   },
   {
    "duration": 4,
    "start_time": "2025-02-13T14:27:59.314Z"
   },
   {
    "duration": 123,
    "start_time": "2025-02-13T14:27:59.320Z"
   },
   {
    "duration": 0,
    "start_time": "2025-02-13T14:27:59.445Z"
   },
   {
    "duration": 0,
    "start_time": "2025-02-13T14:27:59.446Z"
   },
   {
    "duration": 0,
    "start_time": "2025-02-13T14:27:59.447Z"
   },
   {
    "duration": 1258,
    "start_time": "2025-02-13T14:28:23.115Z"
   },
   {
    "duration": 4,
    "start_time": "2025-02-13T14:28:24.375Z"
   },
   {
    "duration": 82,
    "start_time": "2025-02-13T14:28:24.380Z"
   },
   {
    "duration": 12,
    "start_time": "2025-02-13T14:28:24.464Z"
   },
   {
    "duration": 15,
    "start_time": "2025-02-13T14:28:24.478Z"
   },
   {
    "duration": 22,
    "start_time": "2025-02-13T14:28:24.494Z"
   },
   {
    "duration": 940,
    "start_time": "2025-02-13T14:28:24.518Z"
   },
   {
    "duration": 10,
    "start_time": "2025-02-13T14:28:25.460Z"
   },
   {
    "duration": 17,
    "start_time": "2025-02-13T14:28:25.472Z"
   },
   {
    "duration": 5,
    "start_time": "2025-02-13T14:28:25.491Z"
   },
   {
    "duration": 10,
    "start_time": "2025-02-13T14:28:25.498Z"
   },
   {
    "duration": 26,
    "start_time": "2025-02-13T14:28:25.510Z"
   },
   {
    "duration": 295,
    "start_time": "2025-02-13T14:28:25.538Z"
   },
   {
    "duration": 196,
    "start_time": "2025-02-13T14:28:25.836Z"
   },
   {
    "duration": 532,
    "start_time": "2025-02-13T14:28:26.034Z"
   },
   {
    "duration": 9,
    "start_time": "2025-02-13T14:28:26.567Z"
   },
   {
    "duration": 11,
    "start_time": "2025-02-13T14:28:26.577Z"
   },
   {
    "duration": 379,
    "start_time": "2025-02-13T14:28:26.590Z"
   },
   {
    "duration": 10,
    "start_time": "2025-02-13T14:28:26.971Z"
   },
   {
    "duration": 307,
    "start_time": "2025-02-13T14:28:26.983Z"
   },
   {
    "duration": 14,
    "start_time": "2025-02-13T14:28:27.292Z"
   },
   {
    "duration": 28,
    "start_time": "2025-02-13T14:28:27.308Z"
   },
   {
    "duration": 18,
    "start_time": "2025-02-13T14:28:27.338Z"
   },
   {
    "duration": 26,
    "start_time": "2025-02-13T14:28:27.358Z"
   },
   {
    "duration": 48,
    "start_time": "2025-02-13T14:28:27.386Z"
   },
   {
    "duration": 432,
    "start_time": "2025-02-13T14:28:27.436Z"
   },
   {
    "duration": 349,
    "start_time": "2025-02-13T14:28:27.870Z"
   },
   {
    "duration": 22,
    "start_time": "2025-02-13T14:28:28.221Z"
   },
   {
    "duration": 51,
    "start_time": "2025-02-13T14:28:28.245Z"
   },
   {
    "duration": 6,
    "start_time": "2025-02-13T14:28:28.298Z"
   },
   {
    "duration": 45,
    "start_time": "2025-02-13T14:28:28.306Z"
   },
   {
    "duration": 19,
    "start_time": "2025-02-13T14:28:28.353Z"
   },
   {
    "duration": 20,
    "start_time": "2025-02-13T14:28:28.373Z"
   },
   {
    "duration": 12,
    "start_time": "2025-02-13T14:28:28.395Z"
   },
   {
    "duration": 9,
    "start_time": "2025-02-13T14:28:28.409Z"
   },
   {
    "duration": 4,
    "start_time": "2025-02-13T14:28:28.420Z"
   },
   {
    "duration": 142,
    "start_time": "2025-02-13T15:03:46.779Z"
   },
   {
    "duration": 22,
    "start_time": "2025-02-13T15:04:02.427Z"
   },
   {
    "duration": 23,
    "start_time": "2025-02-13T15:04:43.675Z"
   },
   {
    "duration": 989,
    "start_time": "2025-02-13T15:05:06.348Z"
   },
   {
    "duration": 122,
    "start_time": "2025-02-13T15:05:29.453Z"
   },
   {
    "duration": 108,
    "start_time": "2025-02-13T15:05:49.619Z"
   },
   {
    "duration": 111,
    "start_time": "2025-02-13T15:07:13.910Z"
   },
   {
    "duration": 257,
    "start_time": "2025-02-13T15:08:13.224Z"
   },
   {
    "duration": 106,
    "start_time": "2025-02-13T15:08:27.086Z"
   },
   {
    "duration": 23,
    "start_time": "2025-02-13T15:10:17.645Z"
   },
   {
    "duration": 1073,
    "start_time": "2025-02-13T15:10:23.319Z"
   },
   {
    "duration": 109,
    "start_time": "2025-02-13T15:10:44.465Z"
   },
   {
    "duration": 101,
    "start_time": "2025-02-13T15:11:47.339Z"
   },
   {
    "duration": 230,
    "start_time": "2025-02-13T15:11:59.208Z"
   },
   {
    "duration": 125,
    "start_time": "2025-02-13T15:12:08.714Z"
   },
   {
    "duration": 6,
    "start_time": "2025-02-13T15:17:34.542Z"
   },
   {
    "duration": 288,
    "start_time": "2025-02-13T15:18:46.629Z"
   },
   {
    "duration": 514,
    "start_time": "2025-02-13T15:40:53.449Z"
   },
   {
    "duration": 127,
    "start_time": "2025-02-13T15:43:39.920Z"
   },
   {
    "duration": 122,
    "start_time": "2025-02-13T15:44:02.493Z"
   },
   {
    "duration": 118,
    "start_time": "2025-02-13T15:46:14.779Z"
   },
   {
    "duration": 113,
    "start_time": "2025-02-13T15:47:55.750Z"
   },
   {
    "duration": 117,
    "start_time": "2025-02-13T15:48:00.295Z"
   },
   {
    "duration": 2339,
    "start_time": "2025-02-13T15:49:14.286Z"
   },
   {
    "duration": 601,
    "start_time": "2025-02-13T15:50:52.394Z"
   },
   {
    "duration": 134,
    "start_time": "2025-02-13T15:58:11.974Z"
   },
   {
    "duration": 137,
    "start_time": "2025-02-13T16:01:45.116Z"
   },
   {
    "duration": 332,
    "start_time": "2025-02-13T16:01:55.868Z"
   },
   {
    "duration": 18,
    "start_time": "2025-02-13T16:02:48.348Z"
   },
   {
    "duration": 312,
    "start_time": "2025-02-13T16:03:03.444Z"
   },
   {
    "duration": 283,
    "start_time": "2025-02-13T16:03:28.903Z"
   },
   {
    "duration": 306,
    "start_time": "2025-02-13T16:04:10.809Z"
   },
   {
    "duration": 352,
    "start_time": "2025-02-13T16:04:28.014Z"
   },
   {
    "duration": 261,
    "start_time": "2025-02-13T16:05:50.563Z"
   },
   {
    "duration": 167,
    "start_time": "2025-02-13T16:05:55.748Z"
   },
   {
    "duration": 132,
    "start_time": "2025-02-13T16:07:19.021Z"
   },
   {
    "duration": 136,
    "start_time": "2025-02-13T16:07:23.218Z"
   },
   {
    "duration": 16,
    "start_time": "2025-02-13T16:07:57.707Z"
   },
   {
    "duration": 175,
    "start_time": "2025-02-13T16:08:07.560Z"
   },
   {
    "duration": 614,
    "start_time": "2025-02-13T16:09:07.391Z"
   },
   {
    "duration": 623,
    "start_time": "2025-02-13T16:09:37.261Z"
   },
   {
    "duration": 379,
    "start_time": "2025-02-13T16:13:26.633Z"
   },
   {
    "duration": 614,
    "start_time": "2025-02-13T16:16:04.898Z"
   },
   {
    "duration": 625,
    "start_time": "2025-02-13T16:16:17.506Z"
   },
   {
    "duration": 322,
    "start_time": "2025-02-13T16:32:54.577Z"
   },
   {
    "duration": 379,
    "start_time": "2025-02-13T16:33:22.429Z"
   },
   {
    "duration": 293,
    "start_time": "2025-02-13T18:30:10.824Z"
   },
   {
    "duration": 391,
    "start_time": "2025-02-13T18:30:19.296Z"
   },
   {
    "duration": 8,
    "start_time": "2025-02-13T18:53:18.339Z"
   },
   {
    "duration": 9,
    "start_time": "2025-02-13T18:53:30.765Z"
   },
   {
    "duration": 7,
    "start_time": "2025-02-13T18:53:54.474Z"
   },
   {
    "duration": 4,
    "start_time": "2025-02-13T19:04:05.010Z"
   },
   {
    "duration": 9,
    "start_time": "2025-02-13T19:21:10.378Z"
   },
   {
    "duration": 1277,
    "start_time": "2025-02-13T19:41:30.899Z"
   },
   {
    "duration": 4,
    "start_time": "2025-02-13T19:41:32.178Z"
   },
   {
    "duration": 109,
    "start_time": "2025-02-13T19:41:32.184Z"
   },
   {
    "duration": 12,
    "start_time": "2025-02-13T19:41:32.294Z"
   },
   {
    "duration": 17,
    "start_time": "2025-02-13T19:41:32.309Z"
   },
   {
    "duration": 31,
    "start_time": "2025-02-13T19:41:32.328Z"
   },
   {
    "duration": 921,
    "start_time": "2025-02-13T19:41:32.361Z"
   },
   {
    "duration": 11,
    "start_time": "2025-02-13T19:41:33.284Z"
   },
   {
    "duration": 14,
    "start_time": "2025-02-13T19:41:33.297Z"
   },
   {
    "duration": 23,
    "start_time": "2025-02-13T19:41:33.313Z"
   },
   {
    "duration": 13,
    "start_time": "2025-02-13T19:41:33.338Z"
   },
   {
    "duration": 26,
    "start_time": "2025-02-13T19:41:33.353Z"
   },
   {
    "duration": 282,
    "start_time": "2025-02-13T19:41:33.381Z"
   },
   {
    "duration": 144,
    "start_time": "2025-02-13T19:41:33.666Z"
   },
   {
    "duration": 523,
    "start_time": "2025-02-13T19:41:33.812Z"
   },
   {
    "duration": 8,
    "start_time": "2025-02-13T19:41:34.337Z"
   },
   {
    "duration": 20,
    "start_time": "2025-02-13T19:41:34.347Z"
   },
   {
    "duration": 366,
    "start_time": "2025-02-13T19:41:34.369Z"
   },
   {
    "duration": 9,
    "start_time": "2025-02-13T19:41:34.737Z"
   },
   {
    "duration": 315,
    "start_time": "2025-02-13T19:41:34.748Z"
   },
   {
    "duration": 15,
    "start_time": "2025-02-13T19:41:35.065Z"
   },
   {
    "duration": 19,
    "start_time": "2025-02-13T19:41:35.082Z"
   },
   {
    "duration": 39,
    "start_time": "2025-02-13T19:41:35.103Z"
   },
   {
    "duration": 36,
    "start_time": "2025-02-13T19:41:35.143Z"
   },
   {
    "duration": 25,
    "start_time": "2025-02-13T19:41:35.181Z"
   },
   {
    "duration": 375,
    "start_time": "2025-02-13T19:41:35.208Z"
   },
   {
    "duration": 336,
    "start_time": "2025-02-13T19:41:35.584Z"
   },
   {
    "duration": 21,
    "start_time": "2025-02-13T19:41:35.922Z"
   },
   {
    "duration": 88,
    "start_time": "2025-02-13T19:41:35.945Z"
   },
   {
    "duration": 70,
    "start_time": "2025-02-13T19:41:36.035Z"
   },
   {
    "duration": 98,
    "start_time": "2025-02-13T19:41:36.106Z"
   },
   {
    "duration": 115,
    "start_time": "2025-02-13T19:41:36.205Z"
   },
   {
    "duration": 30,
    "start_time": "2025-02-13T19:41:36.322Z"
   },
   {
    "duration": 13,
    "start_time": "2025-02-13T19:41:36.354Z"
   },
   {
    "duration": 20,
    "start_time": "2025-02-13T19:41:36.369Z"
   },
   {
    "duration": 51,
    "start_time": "2025-02-13T19:41:36.391Z"
   },
   {
    "duration": 609,
    "start_time": "2025-02-13T19:41:36.444Z"
   },
   {
    "duration": 377,
    "start_time": "2025-02-13T19:41:37.055Z"
   },
   {
    "duration": 1238,
    "start_time": "2025-02-13T19:50:13.139Z"
   },
   {
    "duration": 4,
    "start_time": "2025-02-13T19:50:14.379Z"
   },
   {
    "duration": 72,
    "start_time": "2025-02-13T19:50:14.385Z"
   },
   {
    "duration": 12,
    "start_time": "2025-02-13T19:50:14.459Z"
   },
   {
    "duration": 14,
    "start_time": "2025-02-13T19:50:14.473Z"
   },
   {
    "duration": 10,
    "start_time": "2025-02-13T19:50:14.489Z"
   },
   {
    "duration": 932,
    "start_time": "2025-02-13T19:50:14.501Z"
   },
   {
    "duration": 11,
    "start_time": "2025-02-13T19:50:15.434Z"
   },
   {
    "duration": 64,
    "start_time": "2025-02-13T19:50:15.447Z"
   },
   {
    "duration": 19,
    "start_time": "2025-02-13T19:50:15.512Z"
   },
   {
    "duration": 11,
    "start_time": "2025-02-13T19:50:15.533Z"
   },
   {
    "duration": 7,
    "start_time": "2025-02-13T19:50:15.546Z"
   },
   {
    "duration": 303,
    "start_time": "2025-02-13T19:50:15.555Z"
   },
   {
    "duration": 149,
    "start_time": "2025-02-13T19:50:15.861Z"
   },
   {
    "duration": 523,
    "start_time": "2025-02-13T19:50:16.012Z"
   },
   {
    "duration": 9,
    "start_time": "2025-02-13T19:50:16.537Z"
   },
   {
    "duration": 22,
    "start_time": "2025-02-13T19:50:16.548Z"
   },
   {
    "duration": 384,
    "start_time": "2025-02-13T19:50:16.571Z"
   },
   {
    "duration": 9,
    "start_time": "2025-02-13T19:50:16.957Z"
   },
   {
    "duration": 319,
    "start_time": "2025-02-13T19:50:16.968Z"
   },
   {
    "duration": 15,
    "start_time": "2025-02-13T19:50:17.289Z"
   },
   {
    "duration": 29,
    "start_time": "2025-02-13T19:50:17.305Z"
   },
   {
    "duration": 18,
    "start_time": "2025-02-13T19:50:17.336Z"
   },
   {
    "duration": 29,
    "start_time": "2025-02-13T19:50:17.356Z"
   },
   {
    "duration": 49,
    "start_time": "2025-02-13T19:50:17.386Z"
   },
   {
    "duration": 439,
    "start_time": "2025-02-13T19:50:17.437Z"
   },
   {
    "duration": 347,
    "start_time": "2025-02-13T19:50:17.877Z"
   },
   {
    "duration": 16,
    "start_time": "2025-02-13T19:50:18.225Z"
   },
   {
    "duration": 49,
    "start_time": "2025-02-13T19:50:18.243Z"
   },
   {
    "duration": 6,
    "start_time": "2025-02-13T19:50:18.294Z"
   },
   {
    "duration": 41,
    "start_time": "2025-02-13T19:50:18.302Z"
   },
   {
    "duration": 13,
    "start_time": "2025-02-13T19:50:18.345Z"
   },
   {
    "duration": 4,
    "start_time": "2025-02-13T19:50:18.360Z"
   },
   {
    "duration": 6,
    "start_time": "2025-02-13T19:50:18.366Z"
   },
   {
    "duration": 19,
    "start_time": "2025-02-13T19:50:18.374Z"
   },
   {
    "duration": 10,
    "start_time": "2025-02-13T19:50:18.395Z"
   },
   {
    "duration": 628,
    "start_time": "2025-02-13T19:50:18.406Z"
   },
   {
    "duration": 376,
    "start_time": "2025-02-13T19:50:19.036Z"
   },
   {
    "duration": 1236,
    "start_time": "2025-02-13T20:04:20.214Z"
   },
   {
    "duration": 3,
    "start_time": "2025-02-13T20:04:21.452Z"
   },
   {
    "duration": 84,
    "start_time": "2025-02-13T20:04:21.457Z"
   },
   {
    "duration": 12,
    "start_time": "2025-02-13T20:04:21.543Z"
   },
   {
    "duration": 13,
    "start_time": "2025-02-13T20:04:21.558Z"
   },
   {
    "duration": 12,
    "start_time": "2025-02-13T20:04:21.573Z"
   },
   {
    "duration": 928,
    "start_time": "2025-02-13T20:04:21.588Z"
   },
   {
    "duration": 12,
    "start_time": "2025-02-13T20:04:22.518Z"
   },
   {
    "duration": 11,
    "start_time": "2025-02-13T20:04:22.532Z"
   },
   {
    "duration": 31,
    "start_time": "2025-02-13T20:04:22.546Z"
   },
   {
    "duration": 12,
    "start_time": "2025-02-13T20:04:22.579Z"
   },
   {
    "duration": 7,
    "start_time": "2025-02-13T20:04:22.593Z"
   },
   {
    "duration": 289,
    "start_time": "2025-02-13T20:04:22.602Z"
   },
   {
    "duration": 146,
    "start_time": "2025-02-13T20:04:22.894Z"
   },
   {
    "duration": 517,
    "start_time": "2025-02-13T20:04:23.042Z"
   },
   {
    "duration": 15,
    "start_time": "2025-02-13T20:04:23.561Z"
   },
   {
    "duration": 10,
    "start_time": "2025-02-13T20:04:23.578Z"
   },
   {
    "duration": 385,
    "start_time": "2025-02-13T20:04:23.590Z"
   },
   {
    "duration": 10,
    "start_time": "2025-02-13T20:04:23.978Z"
   },
   {
    "duration": 327,
    "start_time": "2025-02-13T20:04:23.991Z"
   },
   {
    "duration": 14,
    "start_time": "2025-02-13T20:04:24.319Z"
   },
   {
    "duration": 15,
    "start_time": "2025-02-13T20:04:24.335Z"
   },
   {
    "duration": 19,
    "start_time": "2025-02-13T20:04:24.371Z"
   },
   {
    "duration": 25,
    "start_time": "2025-02-13T20:04:24.392Z"
   },
   {
    "duration": 23,
    "start_time": "2025-02-13T20:04:24.419Z"
   },
   {
    "duration": 393,
    "start_time": "2025-02-13T20:04:24.444Z"
   },
   {
    "duration": 341,
    "start_time": "2025-02-13T20:04:24.839Z"
   },
   {
    "duration": 12,
    "start_time": "2025-02-13T20:04:25.182Z"
   },
   {
    "duration": 51,
    "start_time": "2025-02-13T20:04:25.196Z"
   },
   {
    "duration": 27,
    "start_time": "2025-02-13T20:04:25.248Z"
   },
   {
    "duration": 20,
    "start_time": "2025-02-13T20:04:25.277Z"
   },
   {
    "duration": 7,
    "start_time": "2025-02-13T20:04:25.299Z"
   },
   {
    "duration": 5,
    "start_time": "2025-02-13T20:04:25.308Z"
   },
   {
    "duration": 6,
    "start_time": "2025-02-13T20:04:25.314Z"
   },
   {
    "duration": 50,
    "start_time": "2025-02-13T20:04:25.322Z"
   },
   {
    "duration": 9,
    "start_time": "2025-02-13T20:04:25.374Z"
   },
   {
    "duration": 673,
    "start_time": "2025-02-13T20:04:25.387Z"
   },
   {
    "duration": 393,
    "start_time": "2025-02-13T20:04:26.063Z"
   },
   {
    "duration": 18,
    "start_time": "2025-02-13T20:38:41.858Z"
   },
   {
    "duration": 11,
    "start_time": "2025-02-13T20:41:34.084Z"
   },
   {
    "duration": 242,
    "start_time": "2025-02-13T20:43:25.182Z"
   },
   {
    "duration": 5,
    "start_time": "2025-02-13T21:02:18.439Z"
   },
   {
    "duration": 1359,
    "start_time": "2025-02-13T22:19:23.678Z"
   },
   {
    "duration": 4,
    "start_time": "2025-02-13T22:19:25.039Z"
   },
   {
    "duration": 87,
    "start_time": "2025-02-13T22:19:25.044Z"
   },
   {
    "duration": 16,
    "start_time": "2025-02-13T22:19:25.133Z"
   },
   {
    "duration": 11,
    "start_time": "2025-02-13T22:19:25.151Z"
   },
   {
    "duration": 11,
    "start_time": "2025-02-13T22:19:25.164Z"
   },
   {
    "duration": 10,
    "start_time": "2025-02-13T22:19:25.176Z"
   },
   {
    "duration": 849,
    "start_time": "2025-02-13T22:19:25.188Z"
   },
   {
    "duration": 11,
    "start_time": "2025-02-13T22:19:26.039Z"
   },
   {
    "duration": 10,
    "start_time": "2025-02-13T22:19:26.052Z"
   },
   {
    "duration": 5,
    "start_time": "2025-02-13T22:19:26.063Z"
   },
   {
    "duration": 6,
    "start_time": "2025-02-13T22:19:26.069Z"
   },
   {
    "duration": 37,
    "start_time": "2025-02-13T22:19:26.076Z"
   },
   {
    "duration": 8,
    "start_time": "2025-02-13T22:19:26.117Z"
   },
   {
    "duration": 264,
    "start_time": "2025-02-13T22:19:26.127Z"
   },
   {
    "duration": 264,
    "start_time": "2025-02-13T22:19:26.392Z"
   },
   {
    "duration": 134,
    "start_time": "2025-02-13T22:19:26.658Z"
   },
   {
    "duration": 454,
    "start_time": "2025-02-13T22:19:26.794Z"
   },
   {
    "duration": 8,
    "start_time": "2025-02-13T22:19:27.249Z"
   },
   {
    "duration": 7,
    "start_time": "2025-02-13T22:19:27.259Z"
   },
   {
    "duration": 346,
    "start_time": "2025-02-13T22:19:27.267Z"
   },
   {
    "duration": 8,
    "start_time": "2025-02-13T22:19:27.615Z"
   },
   {
    "duration": 288,
    "start_time": "2025-02-13T22:19:27.625Z"
   },
   {
    "duration": 12,
    "start_time": "2025-02-13T22:19:27.915Z"
   },
   {
    "duration": 13,
    "start_time": "2025-02-13T22:19:27.929Z"
   },
   {
    "duration": 15,
    "start_time": "2025-02-13T22:19:27.943Z"
   },
   {
    "duration": 24,
    "start_time": "2025-02-13T22:19:27.960Z"
   },
   {
    "duration": 45,
    "start_time": "2025-02-13T22:19:27.986Z"
   },
   {
    "duration": 362,
    "start_time": "2025-02-13T22:19:28.033Z"
   },
   {
    "duration": 328,
    "start_time": "2025-02-13T22:19:28.397Z"
   },
   {
    "duration": 11,
    "start_time": "2025-02-13T22:19:28.726Z"
   },
   {
    "duration": 45,
    "start_time": "2025-02-13T22:19:28.739Z"
   },
   {
    "duration": 5,
    "start_time": "2025-02-13T22:19:28.785Z"
   },
   {
    "duration": 18,
    "start_time": "2025-02-13T22:19:28.814Z"
   },
   {
    "duration": 7,
    "start_time": "2025-02-13T22:19:28.834Z"
   },
   {
    "duration": 4,
    "start_time": "2025-02-13T22:19:28.842Z"
   },
   {
    "duration": 4,
    "start_time": "2025-02-13T22:19:28.848Z"
   },
   {
    "duration": 5,
    "start_time": "2025-02-13T22:19:28.854Z"
   },
   {
    "duration": 4,
    "start_time": "2025-02-13T22:19:28.861Z"
   },
   {
    "duration": 52,
    "start_time": "2025-02-13T22:19:28.867Z"
   },
   {
    "duration": 658,
    "start_time": "2025-02-13T22:19:28.923Z"
   },
   {
    "duration": 383,
    "start_time": "2025-02-13T22:19:29.582Z"
   },
   {
    "duration": 12,
    "start_time": "2025-02-13T23:43:43.609Z"
   },
   {
    "duration": 10,
    "start_time": "2025-02-13T23:44:05.360Z"
   },
   {
    "duration": 15,
    "start_time": "2025-02-13T23:50:51.470Z"
   },
   {
    "duration": 46,
    "start_time": "2025-02-13T23:52:38.245Z"
   },
   {
    "duration": 7,
    "start_time": "2025-02-13T23:52:45.219Z"
   },
   {
    "duration": 21,
    "start_time": "2025-02-13T23:52:46.046Z"
   },
   {
    "duration": 9,
    "start_time": "2025-02-13T23:52:50.352Z"
   },
   {
    "duration": 4,
    "start_time": "2025-02-13T23:52:51.194Z"
   },
   {
    "duration": 1260,
    "start_time": "2025-02-14T00:16:46.101Z"
   },
   {
    "duration": 4,
    "start_time": "2025-02-14T00:16:47.363Z"
   },
   {
    "duration": 71,
    "start_time": "2025-02-14T00:16:47.368Z"
   },
   {
    "duration": 16,
    "start_time": "2025-02-14T00:16:47.440Z"
   },
   {
    "duration": 11,
    "start_time": "2025-02-14T00:16:47.458Z"
   },
   {
    "duration": 10,
    "start_time": "2025-02-14T00:16:47.470Z"
   },
   {
    "duration": 9,
    "start_time": "2025-02-14T00:16:47.482Z"
   },
   {
    "duration": 855,
    "start_time": "2025-02-14T00:16:47.492Z"
   },
   {
    "duration": 10,
    "start_time": "2025-02-14T00:16:48.349Z"
   },
   {
    "duration": 11,
    "start_time": "2025-02-14T00:16:48.360Z"
   },
   {
    "duration": 6,
    "start_time": "2025-02-14T00:16:48.372Z"
   },
   {
    "duration": 34,
    "start_time": "2025-02-14T00:16:48.380Z"
   },
   {
    "duration": 7,
    "start_time": "2025-02-14T00:16:48.415Z"
   },
   {
    "duration": 9,
    "start_time": "2025-02-14T00:16:48.426Z"
   },
   {
    "duration": 260,
    "start_time": "2025-02-14T00:16:48.436Z"
   },
   {
    "duration": 213,
    "start_time": "2025-02-14T00:16:48.698Z"
   },
   {
    "duration": 124,
    "start_time": "2025-02-14T00:16:48.912Z"
   },
   {
    "duration": 471,
    "start_time": "2025-02-14T00:16:49.038Z"
   },
   {
    "duration": 8,
    "start_time": "2025-02-14T00:16:49.514Z"
   },
   {
    "duration": 60,
    "start_time": "2025-02-14T00:16:49.523Z"
   },
   {
    "duration": 332,
    "start_time": "2025-02-14T00:16:49.585Z"
   },
   {
    "duration": 9,
    "start_time": "2025-02-14T00:16:49.918Z"
   },
   {
    "duration": 285,
    "start_time": "2025-02-14T00:16:49.928Z"
   },
   {
    "duration": 12,
    "start_time": "2025-02-14T00:16:50.215Z"
   },
   {
    "duration": 13,
    "start_time": "2025-02-14T00:16:50.229Z"
   },
   {
    "duration": 15,
    "start_time": "2025-02-14T00:16:50.243Z"
   },
   {
    "duration": 15,
    "start_time": "2025-02-14T00:16:50.260Z"
   },
   {
    "duration": 51,
    "start_time": "2025-02-14T00:16:50.276Z"
   },
   {
    "duration": 19,
    "start_time": "2025-02-14T00:16:50.329Z"
   },
   {
    "duration": 357,
    "start_time": "2025-02-14T00:16:50.350Z"
   },
   {
    "duration": 323,
    "start_time": "2025-02-14T00:16:50.708Z"
   },
   {
    "duration": 10,
    "start_time": "2025-02-14T00:16:51.033Z"
   },
   {
    "duration": 93,
    "start_time": "2025-02-14T00:16:51.044Z"
   },
   {
    "duration": 10,
    "start_time": "2025-02-14T00:16:51.138Z"
   },
   {
    "duration": 4,
    "start_time": "2025-02-14T00:16:51.150Z"
   },
   {
    "duration": 18,
    "start_time": "2025-02-14T00:16:51.156Z"
   },
   {
    "duration": 7,
    "start_time": "2025-02-14T00:16:51.175Z"
   },
   {
    "duration": 32,
    "start_time": "2025-02-14T00:16:51.183Z"
   },
   {
    "duration": 9,
    "start_time": "2025-02-14T00:16:51.216Z"
   },
   {
    "duration": 5,
    "start_time": "2025-02-14T00:16:51.226Z"
   },
   {
    "duration": 4,
    "start_time": "2025-02-14T00:16:51.235Z"
   },
   {
    "duration": 8,
    "start_time": "2025-02-14T00:16:51.240Z"
   },
   {
    "duration": 638,
    "start_time": "2025-02-14T00:16:51.250Z"
   },
   {
    "duration": 383,
    "start_time": "2025-02-14T00:16:51.889Z"
   },
   {
    "duration": 1258,
    "start_time": "2025-02-14T17:52:47.791Z"
   },
   {
    "duration": 4,
    "start_time": "2025-02-14T17:52:49.052Z"
   },
   {
    "duration": 78,
    "start_time": "2025-02-14T17:52:49.058Z"
   },
   {
    "duration": 19,
    "start_time": "2025-02-14T17:52:49.138Z"
   },
   {
    "duration": 12,
    "start_time": "2025-02-14T17:52:49.159Z"
   },
   {
    "duration": 40,
    "start_time": "2025-02-14T17:52:49.173Z"
   },
   {
    "duration": 19,
    "start_time": "2025-02-14T17:52:49.215Z"
   },
   {
    "duration": 929,
    "start_time": "2025-02-14T17:52:49.236Z"
   },
   {
    "duration": 11,
    "start_time": "2025-02-14T17:52:50.166Z"
   },
   {
    "duration": 28,
    "start_time": "2025-02-14T17:52:50.179Z"
   },
   {
    "duration": 8,
    "start_time": "2025-02-14T17:52:50.209Z"
   },
   {
    "duration": 10,
    "start_time": "2025-02-14T17:52:50.219Z"
   },
   {
    "duration": 24,
    "start_time": "2025-02-14T17:52:50.231Z"
   },
   {
    "duration": 146,
    "start_time": "2025-02-14T17:52:50.258Z"
   },
   {
    "duration": 303,
    "start_time": "2025-02-14T17:52:50.405Z"
   },
   {
    "duration": 252,
    "start_time": "2025-02-14T17:52:50.710Z"
   },
   {
    "duration": 142,
    "start_time": "2025-02-14T17:52:50.964Z"
   },
   {
    "duration": 529,
    "start_time": "2025-02-14T17:52:51.108Z"
   },
   {
    "duration": 9,
    "start_time": "2025-02-14T17:52:51.639Z"
   },
   {
    "duration": 39,
    "start_time": "2025-02-14T17:52:51.650Z"
   },
   {
    "duration": 384,
    "start_time": "2025-02-14T17:52:51.691Z"
   },
   {
    "duration": 9,
    "start_time": "2025-02-14T17:52:52.077Z"
   },
   {
    "duration": 306,
    "start_time": "2025-02-14T17:52:52.099Z"
   },
   {
    "duration": 14,
    "start_time": "2025-02-14T17:52:52.407Z"
   },
   {
    "duration": 21,
    "start_time": "2025-02-14T17:52:52.423Z"
   },
   {
    "duration": 18,
    "start_time": "2025-02-14T17:52:52.446Z"
   },
   {
    "duration": 43,
    "start_time": "2025-02-14T17:52:52.466Z"
   },
   {
    "duration": 24,
    "start_time": "2025-02-14T17:52:52.511Z"
   },
   {
    "duration": 23,
    "start_time": "2025-02-14T17:52:52.536Z"
   },
   {
    "duration": 426,
    "start_time": "2025-02-14T17:52:52.560Z"
   },
   {
    "duration": 350,
    "start_time": "2025-02-14T17:52:52.987Z"
   },
   {
    "duration": 12,
    "start_time": "2025-02-14T17:52:53.339Z"
   },
   {
    "duration": 71,
    "start_time": "2025-02-14T17:52:53.353Z"
   },
   {
    "duration": 12,
    "start_time": "2025-02-14T17:52:53.426Z"
   },
   {
    "duration": 19,
    "start_time": "2025-02-14T17:52:53.440Z"
   },
   {
    "duration": 21,
    "start_time": "2025-02-14T17:52:53.461Z"
   },
   {
    "duration": 20,
    "start_time": "2025-02-14T17:52:53.484Z"
   },
   {
    "duration": 12,
    "start_time": "2025-02-14T17:52:53.506Z"
   },
   {
    "duration": 97,
    "start_time": "2025-02-14T17:52:53.520Z"
   },
   {
    "duration": 12,
    "start_time": "2025-02-14T17:52:53.619Z"
   },
   {
    "duration": 5,
    "start_time": "2025-02-14T17:52:53.636Z"
   },
   {
    "duration": 10,
    "start_time": "2025-02-14T17:52:53.643Z"
   },
   {
    "duration": 653,
    "start_time": "2025-02-14T17:52:53.656Z"
   },
   {
    "duration": 391,
    "start_time": "2025-02-14T17:52:54.311Z"
   }
  ],
  "kernelspec": {
   "display_name": "Python 3 (ipykernel)",
   "language": "python",
   "name": "python3"
  },
  "language_info": {
   "codemirror_mode": {
    "name": "ipython",
    "version": 3
   },
   "file_extension": ".py",
   "mimetype": "text/x-python",
   "name": "python",
   "nbconvert_exporter": "python",
   "pygments_lexer": "ipython3",
   "version": "3.9.5"
  },
  "toc": {
   "base_numbering": 1,
   "nav_menu": {},
   "number_sections": true,
   "sideBar": true,
   "skip_h1_title": true,
   "title_cell": "Table of Contents",
   "title_sidebar": "Contents",
   "toc_cell": false,
   "toc_position": {
    "height": "calc(100% - 180px)",
    "left": "10px",
    "top": "150px",
    "width": "210.938px"
   },
   "toc_section_display": true,
   "toc_window_display": true
  }
 },
 "nbformat": 4,
 "nbformat_minor": 5
}
